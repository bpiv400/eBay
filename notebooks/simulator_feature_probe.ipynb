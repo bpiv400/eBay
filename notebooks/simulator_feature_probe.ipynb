{
 "cells": [
  {
   "cell_type": "code",
   "execution_count": 3,
   "metadata": {},
   "outputs": [],
   "source": [
    "import importlib\n",
    "import os\n",
    "import numpy as np\n",
    "import pandas as pd\n",
    "from utils import unpickle\n",
    "import utils\n",
    "from rlenv.env_consts import *"
   ]
  },
  {
   "cell_type": "code",
   "execution_count": 2,
   "metadata": {},
   "outputs": [],
   "source": [
    "os.chdir('A:/dropbox/ebay/') # BARRY'S Working directory"
   ]
  },
  {
   "cell_type": "code",
   "execution_count": 4,
   "metadata": {},
   "outputs": [],
   "source": [
    "from rlenv.Composer import Composer\n",
    "from rlenv import model_names"
   ]
  },
  {
   "cell_type": "code",
   "execution_count": 5,
   "metadata": {},
   "outputs": [],
   "source": [
    "path = 'models'\n",
    "comp = Composer(rebuild=False, params={'composer': 1})"
   ]
  },
  {
   "cell_type": "code",
   "execution_count": 17,
   "metadata": {},
   "outputs": [],
   "source": [
    "def load_featnames(model_type, model_name):\n",
    "    dir_path = '{}/{}/{}/'.format(path, model_type, model_name)\n",
    "    featnames_path = '{}featnames.pkl'.format(dir_path)\n",
    "    featnames_dict = utils.unpickle(featnames_path)\n",
    "    return featnames_dict\n",
    "def fixed_comparison(model_type, model_name, fixed):\n",
    "    match = True\n",
    "    curr_fixed = load_featnames(model_type, model_name)\n",
    "    curr_fixed = curr_fixed['x_fixed']\n",
    "    print(len(curr_fixed))\n",
    "    print(len(fixed.index))\n",
    "    if model_name == 'delay':\n",
    "        print('start of delay: {}, {}, {}'.format(curr_fixed[0], curr_fixed[1], curr_fixed[2]))\n",
    "    elif model_name in model_names.OFFER_NO_PREFIXES:\n",
    "        print('start of {}: {} and {}'.format(model_name, curr_fixed[0], curr_fixed[1]))\n",
    "    start_index = curr_fixed.to_list().index(fixed.index[0])\n",
    "    print('start index of lstg feats: {}'.format(start_index))\n",
    "    for i, j in zip(curr_fixed[start_index:], fixed.index):\n",
    "        #print('{} : {}'.format(i, j))\n",
    "        if i != j:\n",
    "            match=False\n",
    "            print(\"WOAH\")\n",
    "            print(i)\n",
    "            print(j)\n",
    "    if match:\n",
    "\n",
    "        print('fixed match for {}'.format(model_name))\n",
    "    \n",
    "def load_sizes(model_type, model_name):\n",
    "    dir_path = '{}/{}/{}/'.format(path, model_type, model_name)\n",
    "    featnames_path = '{}sizes.pkl'.format(dir_path)\n",
    "    featnames_dict = utils.unpickle(featnames_path)\n",
    "    return featnames_dict\n"
   ]
  },
  {
   "cell_type": "code",
   "execution_count": 22,
   "metadata": {},
   "outputs": [],
   "source": [
    "fixed = pd.DataFrame.from_dict(LSTG_COLS, orient='index')\n",
    "fixed.rename(columns={0: 'from'}, inplace=True)"
   ]
  },
  {
   "cell_type": "code",
   "execution_count": 10,
   "metadata": {},
   "outputs": [],
   "source": [
    "featnames = load_featnames('arrival', 'bin')"
   ]
  },
  {
   "cell_type": "code",
   "execution_count": 14,
   "metadata": {},
   "outputs": [],
   "source": [
    "featnames = pd.DataFrame(index=featnames['x_fixed'], data={'to': np.arange(len(featnames['x_fixed']))})"
   ]
  },
  {
   "cell_type": "code",
   "execution_count": 21,
   "metadata": {},
   "outputs": [
    {
     "data": {
      "text/plain": [
       "Index(['focal_days', 'focal_holiday', 'focal_dow0', 'focal_dow1', 'focal_dow2',\n",
       "       'focal_dow3', 'focal_dow4', 'focal_dow5'],\n",
       "      dtype='object')"
      ]
     },
     "execution_count": 21,
     "metadata": {},
     "output_type": "execute_result"
    }
   ],
   "source": [
    "featnames['to'].isin([132, 133])\n",
    "featnames.index[featnames['to'].isin(list(range(124, 132)))]"
   ]
  },
  {
   "cell_type": "code",
   "execution_count": 19,
   "metadata": {},
   "outputs": [
    {
     "name": "stdout",
     "output_type": "stream",
     "text": [
      "{'fixed': 134, 'out': 1}\n"
     ]
    }
   ],
   "source": [
    "sizes = load_sizes('arrival', 'bin')\n",
    "print(sizes)"
   ]
  },
  {
   "cell_type": "code",
   "execution_count": 16,
   "metadata": {},
   "outputs": [
    {
     "data": {
      "text/plain": [
       "134"
      ]
     },
     "execution_count": 16,
     "metadata": {},
     "output_type": "execute_result"
    }
   ],
   "source": [
    "len(featnames['to'])"
   ]
  },
  {
   "cell_type": "code",
   "execution_count": null,
   "metadata": {},
   "outputs": [],
   "source": []
  },
  {
   "cell_type": "code",
   "execution_count": 56,
   "metadata": {},
   "outputs": [
    {
     "name": "stdout",
     "output_type": "stream",
     "text": [
      "124\n",
      "124\n",
      "start index of lstg feats: 0\n",
      "fixed match for days\n",
      "132\n",
      "124\n",
      "start index of lstg feats: 0\n",
      "fixed match for loc\n",
      "133\n",
      "124\n",
      "start index of lstg feats: 0\n",
      "fixed match for hist\n",
      "134\n",
      "124\n",
      "start index of lstg feats: 0\n",
      "fixed match for sec\n",
      "134\n",
      "124\n",
      "start index of lstg feats: 0\n",
      "fixed match for bin\n"
     ]
    }
   ],
   "source": [
    "# arrival fixed comparison\n",
    "fixed_comparison('arrival', 'days', fixed)\n",
    "fixed_comparison('arrival', 'loc', fixed)\n",
    "fixed_comparison('arrival', 'hist', fixed)\n",
    "fixed_comparison('arrival', 'sec', fixed)\n",
    "fixed_comparison('arrival', 'bin', fixed)"
   ]
  },
  {
   "cell_type": "code",
   "execution_count": 69,
   "metadata": {},
   "outputs": [
    {
     "name": "stdout",
     "output_type": "stream",
     "text": [
      "126\n",
      "124\n",
      "start of accept: byr_us and byr_hist\n",
      "start index of lstg feats: 2\n",
      "fixed match for accept\n",
      "126\n",
      "124\n",
      "start of reject: byr_us and byr_hist\n",
      "start index of lstg feats: 2\n",
      "fixed match for reject\n",
      "126\n",
      "124\n",
      "start of nines: byr_us and byr_hist\n",
      "start index of lstg feats: 2\n",
      "fixed match for nines\n",
      "126\n",
      "124\n",
      "start of round: byr_us and byr_hist\n",
      "start index of lstg feats: 2\n",
      "fixed match for round\n",
      "126\n",
      "124\n",
      "start of msg: byr_us and byr_hist\n",
      "start index of lstg feats: 2\n",
      "fixed match for msg\n",
      "126\n",
      "124\n",
      "start of cn: byr_us and byr_hist\n",
      "start index of lstg feats: 2\n",
      "fixed match for cn\n"
     ]
    }
   ],
   "source": [
    "# byr fixed comparison\n",
    "fixed_comparison('byr', 'accept', fixed)\n",
    "fixed_comparison('byr', 'reject', fixed)\n",
    "fixed_comparison('byr', 'nines', fixed)\n",
    "fixed_comparison('byr', 'round', fixed)\n",
    "fixed_comparison('byr', 'msg', fixed)\n",
    "fixed_comparison('byr', 'cn', fixed)"
   ]
  },
  {
   "cell_type": "code",
   "execution_count": 60,
   "metadata": {},
   "outputs": [
    {
     "name": "stdout",
     "output_type": "stream",
     "text": [
      "126\n",
      "124\n",
      "start index of lstg feats: 2\n",
      "fixed match for accept\n",
      "126\n",
      "124\n",
      "start index of lstg feats: 2\n",
      "fixed match for reject\n",
      "126\n",
      "124\n",
      "start index of lstg feats: 2\n",
      "fixed match for nines\n",
      "126\n",
      "124\n",
      "start index of lstg feats: 2\n",
      "fixed match for round\n",
      "126\n",
      "124\n",
      "start index of lstg feats: 2\n",
      "fixed match for msg\n",
      "126\n",
      "124\n",
      "start index of lstg feats: 2\n",
      "fixed match for cn\n"
     ]
    }
   ],
   "source": [
    "# slr fixed comparison\n",
    "fixed_comparison('slr', 'accept', fixed)\n",
    "fixed_comparison('slr', 'reject', fixed)\n",
    "fixed_comparison('slr', 'nines', fixed)\n",
    "fixed_comparison('slr', 'round', fixed)\n",
    "fixed_comparison('slr', 'msg', fixed)\n",
    "fixed_comparison('slr', 'cn', fixed)"
   ]
  },
  {
   "cell_type": "code",
   "execution_count": 64,
   "metadata": {},
   "outputs": [
    {
     "name": "stdout",
     "output_type": "stream",
     "text": [
      "179\n",
      "124\n",
      "start of delay: t1, t2, start_days\n",
      "start index of lstg feats: 2\n",
      "fixed match for delay\n",
      "180\n",
      "124\n",
      "start of delay: t1, t2, t3\n",
      "start index of lstg feats: 3\n",
      "fixed match for delay\n"
     ]
    }
   ],
   "source": [
    "fixed_comparison('slr', 'delay', fixed)\n",
    "fixed_comparison('byr', 'delay', fixed)"
   ]
  },
  {
   "cell_type": "code",
   "execution_count": null,
   "metadata": {},
   "outputs": [],
   "source": [
    "\n",
    "for col in fixed.index:\n",
    "    print(col)"
   ]
  },
  {
   "cell_type": "code",
   "execution_count": 40,
   "metadata": {},
   "outputs": [
    {
     "data": {
      "text/plain": [
       "tensor([132])"
      ]
     },
     "execution_count": 40,
     "metadata": {},
     "output_type": "execute_result"
    }
   ],
   "source": [
    "comp.maps['hist']['fixed']['byr_us']"
   ]
  },
  {
   "cell_type": "code",
   "execution_count": 15,
   "metadata": {},
   "outputs": [
    {
     "data": {
      "text/plain": [
       "tensor([0, 1])"
      ]
     },
     "execution_count": 15,
     "metadata": {},
     "output_type": "execute_result"
    }
   ],
   "source": [
    "comp.maps['slr_accept']['fixed']['byr_attr']\n"
   ]
  },
  {
   "cell_type": "code",
   "execution_count": 23,
   "metadata": {},
   "outputs": [
    {
     "data": {
      "text/plain": [
       "['focal_days',\n",
       " 'focal_holiday',\n",
       " 'focal_dow0',\n",
       " 'focal_dow1',\n",
       " 'focal_dow2',\n",
       " 'focal_dow3',\n",
       " 'focal_dow4',\n",
       " 'focal_dow5']"
      ]
     },
     "execution_count": 23,
     "metadata": {},
     "output_type": "execute_result"
    }
   ],
   "source": [
    "FF_CLOCK_FEATS"
   ]
  },
  {
   "cell_type": "code",
   "execution_count": null,
   "metadata": {},
   "outputs": [],
   "source": []
  }
 ],
 "metadata": {
  "kernelspec": {
   "display_name": "Python 3",
   "language": "python",
   "name": "python3"
  },
  "language_info": {
   "codemirror_mode": {
    "name": "ipython",
    "version": 3
   },
   "file_extension": ".py",
   "mimetype": "text/x-python",
   "name": "python",
   "nbconvert_exporter": "python",
   "pygments_lexer": "ipython3",
   "version": "3.7.4"
  }
 },
 "nbformat": 4,
 "nbformat_minor": 4
}
