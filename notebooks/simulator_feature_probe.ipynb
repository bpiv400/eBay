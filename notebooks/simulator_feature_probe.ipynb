{
 "cells": [
  {
   "cell_type": "code",
   "execution_count": 15,
   "metadata": {},
   "outputs": [
    {
     "data": {
      "text/plain": [
       "<module 'rlenv.env_utils' from 'A:\\\\ebay\\\\repo\\\\rlenv\\\\env_utils.py'>"
      ]
     },
     "execution_count": 15,
     "metadata": {},
     "output_type": "execute_result"
    }
   ],
   "source": [
    "import importlib\n",
    "import os\n",
    "import numpy as np\n",
    "import pandas as pd\n",
    "from utils import unpickle\n",
    "import utils\n",
    "from compress_pickle import load\n",
    "from rlenv.env_consts import *\n",
    "from rlenv.composer.Composer import Composer\n",
    "from rlenv.interface import model_names\n",
    "import rlenv.env_utils\n",
    "import constants\n",
    "importlib.reload(constants)\n",
    "importlib.reload(rlenv.env_utils)"
   ]
  },
  {
   "cell_type": "code",
   "execution_count": 3,
   "metadata": {},
   "outputs": [],
   "source": [
    "os.chdir('A:/ebay/') # BARRY'S Working directory"
   ]
  },
  {
   "cell_type": "code",
   "execution_count": 7,
   "metadata": {},
   "outputs": [],
   "source": []
  },
  {
   "cell_type": "code",
   "execution_count": 6,
   "metadata": {},
   "outputs": [],
   "source": [
    "path = 'models'\n",
    "comp = Composer(rebuild=False, params={'composer': 1})"
   ]
  },
  {
   "cell_type": "code",
   "execution_count": 4,
   "metadata": {},
   "outputs": [],
   "source": [
    "def fixed_comparison(model_type, model_name, fixed):\n",
    "    match = True\n",
    "    curr_fixed = load_featnames(model_type, model_name)\n",
    "    curr_fixed = curr_fixed['x_fixed']\n",
    "    print(len(curr_fixed))\n",
    "    print(len(fixed.index))\n",
    "    if model_name == 'delay':\n",
    "        print('start of delay: {}, {}, {}'.format(curr_fixed[0], curr_fixed[1], curr_fixed[2]))\n",
    "    elif model_name in model_names.OFFER_NO_PREFIXES:\n",
    "        print('start of {}: {} and {}'.format(model_name, curr_fixed[0], curr_fixed[1]))\n",
    "    start_index = curr_fixed.to_list().index(fixed.index[0])\n",
    "    print('start index of lstg feats: {}'.format(start_index))\n",
    "    for i, j in zip(curr_fixed[start_index:], fixed.index):\n",
    "        #print('{} : {}'.format(i, j))\n",
    "        if i != j:\n",
    "            match=False\n",
    "            print(\"WOAH\")\n",
    "            print(i)\n",
    "            print(j)\n",
    "    if match:\n",
    "\n",
    "        print('fixed match for {}'.format(model_name))\n",
    "    \n",
    "def load_sizes(model_type, model_name):\n",
    "    dir_path = '{}/{}/{}/'.format(path, model_type, model_name)\n",
    "    featnames_path = '{}sizes.pkl'.format(dir_path)\n",
    "    featnames_dict = utils.unpickle(featnames_path)\n",
    "    return featnames_dict\n",
    "\n",
    "def load_rewards():\n",
    "    return load('data/rewards/train_rl/1.gz')"
   ]
  },
  {
   "cell_type": "code",
   "execution_count": 8,
   "metadata": {},
   "outputs": [],
   "source": [
    "# num_offers fixed features only contain x_lstg\n",
    "arr_fixed_feats = rlenv.env_utils.load_featnames('arrival', 'arrival')['x_fixed']\n",
    "rewards = load_rewards()['x_lstg'].columns\n",
    "# hist fixed feats include time and clock features\n",
    "hist_fixed_feats = rlenv.env_utils.load_featnames('arrival', 'hist')['x_fixed']"
   ]
  },
  {
   "cell_type": "code",
   "execution_count": 21,
   "metadata": {},
   "outputs": [
    {
     "name": "stdout",
     "output_type": "stream",
     "text": [
      "True\n"
     ]
    }
   ],
   "source": [
    "print((arr_fixed_feats == rewards).all())"
   ]
  },
  {
   "cell_type": "code",
   "execution_count": 12,
   "metadata": {},
   "outputs": [
    {
     "data": {
      "text/plain": [
       "{'byr_best',\n",
       " 'byr_best_open',\n",
       " 'byr_best_recent',\n",
       " 'byr_offers',\n",
       " 'byr_offers_open',\n",
       " 'byr_offers_recent',\n",
       " 'dow0',\n",
       " 'dow1',\n",
       " 'dow2',\n",
       " 'dow3',\n",
       " 'dow4',\n",
       " 'dow5',\n",
       " 'holiday',\n",
       " 'minute_of_day',\n",
       " 'months_since_lstg',\n",
       " 'slr_best',\n",
       " 'slr_best_open',\n",
       " 'slr_best_recent',\n",
       " 'slr_offers',\n",
       " 'slr_offers_open',\n",
       " 'slr_offers_recent',\n",
       " 'thread_count'}"
      ]
     },
     "execution_count": 12,
     "metadata": {},
     "output_type": "execute_result"
    }
   ],
   "source": [
    "set(hist_fixed_feats).difference(set(rewards))"
   ]
  },
  {
   "cell_type": "code",
   "execution_count": 13,
   "metadata": {},
   "outputs": [
    {
     "data": {
      "text/plain": [
       "['store',\n",
       " 'slr_us',\n",
       " 'fast',\n",
       " 'slr_bos',\n",
       " 'slr_lstgs',\n",
       " 'fdbk_score',\n",
       " 'fdbk_pstv',\n",
       " 'start_price_pctile',\n",
       " 'start_date',\n",
       " 'photos',\n",
       " 'has_photos',\n",
       " 'fdbk_100',\n",
       " 'decline',\n",
       " 'accept',\n",
       " 'is_round',\n",
       " 'is_nines',\n",
       " 'has_decline',\n",
       " 'has_accept',\n",
       " 'auto_dist',\n",
       " 'new',\n",
       " 'used',\n",
       " 'refurb',\n",
       " 'wear',\n",
       " 'w2v0',\n",
       " 'w2v1',\n",
       " 'w2v2',\n",
       " 'w2v3',\n",
       " 'w2v4',\n",
       " 'w2v5',\n",
       " 'w2v6',\n",
       " 'w2v7',\n",
       " 'w2v8',\n",
       " 'w2v9',\n",
       " 'w2v10',\n",
       " 'w2v11',\n",
       " 'w2v12',\n",
       " 'w2v13',\n",
       " 'w2v14',\n",
       " 'w2v15',\n",
       " 'w2v16',\n",
       " 'w2v17',\n",
       " 'w2v18',\n",
       " 'w2v19',\n",
       " 'w2v20',\n",
       " 'w2v21',\n",
       " 'w2v22',\n",
       " 'w2v23',\n",
       " 'w2v24',\n",
       " 'w2v25',\n",
       " 'w2v26',\n",
       " 'w2v27',\n",
       " 'w2v28',\n",
       " 'w2v29',\n",
       " 'w2v30',\n",
       " 'w2v31',\n",
       " 'w2v32',\n",
       " 'w2v33',\n",
       " 'w2v34',\n",
       " 'w2v35',\n",
       " 'w2v36',\n",
       " 'w2v37',\n",
       " 'w2v38',\n",
       " 'w2v39',\n",
       " 'w2v40',\n",
       " 'w2v41',\n",
       " 'w2v42',\n",
       " 'w2v43',\n",
       " 'w2v44',\n",
       " 'w2v45',\n",
       " 'w2v46',\n",
       " 'w2v47',\n",
       " 'w2v48',\n",
       " 'w2v49',\n",
       " 'w2v50',\n",
       " 'w2v51',\n",
       " 'w2v52',\n",
       " 'w2v53',\n",
       " 'w2v54',\n",
       " 'w2v55',\n",
       " 'w2v56',\n",
       " 'w2v57',\n",
       " 'w2v58',\n",
       " 'w2v59',\n",
       " 'w2v60',\n",
       " 'w2v61',\n",
       " 'w2v62',\n",
       " 'w2v63',\n",
       " 'slr0',\n",
       " 'slr1',\n",
       " 'slr2',\n",
       " 'slr3',\n",
       " 'slr4',\n",
       " 'slr5',\n",
       " 'slr6',\n",
       " 'slr7',\n",
       " 'slr8',\n",
       " 'slr9',\n",
       " 'slr10',\n",
       " 'slr11',\n",
       " 'slr12',\n",
       " 'slr13',\n",
       " 'slr14',\n",
       " 'slr15',\n",
       " 'slr16',\n",
       " 'slr17',\n",
       " 'slr18',\n",
       " 'slr19',\n",
       " 'slr20',\n",
       " 'slr21',\n",
       " 'slr22',\n",
       " 'slr23',\n",
       " 'slr24',\n",
       " 'slr25',\n",
       " 'slr26',\n",
       " 'slr27',\n",
       " 'slr28',\n",
       " 'slr29',\n",
       " 'slr30',\n",
       " 'slr31',\n",
       " 'slr32',\n",
       " 'slr33',\n",
       " 'slr34',\n",
       " 'slr35',\n",
       " 'cat0',\n",
       " 'cat1',\n",
       " 'cat2',\n",
       " 'cat3',\n",
       " 'cat4',\n",
       " 'cat5',\n",
       " 'cat6',\n",
       " 'cat7',\n",
       " 'cat8',\n",
       " 'cat9',\n",
       " 'cat10',\n",
       " 'cat11',\n",
       " 'cat12',\n",
       " 'cat13',\n",
       " 'cat14',\n",
       " 'cat15',\n",
       " 'cat16',\n",
       " 'cat17',\n",
       " 'cat18',\n",
       " 'cat19',\n",
       " 'cat20',\n",
       " 'cat21',\n",
       " 'cat22',\n",
       " 'cat23',\n",
       " 'cat24',\n",
       " 'cat25',\n",
       " 'cat26',\n",
       " 'cat27',\n",
       " 'cat28',\n",
       " 'cat29',\n",
       " 'cat30',\n",
       " 'cat31',\n",
       " 'cat32',\n",
       " 'cat33',\n",
       " 'cat34',\n",
       " 'cat35',\n",
       " 'cat36',\n",
       " 'cat37',\n",
       " 'cat38',\n",
       " 'cat39',\n",
       " 'cat40',\n",
       " 'cat41',\n",
       " 'cat42',\n",
       " 'cat43',\n",
       " 'cat44',\n",
       " 'cat45',\n",
       " 'cat46',\n",
       " 'cat47',\n",
       " 'cat48',\n",
       " 'cat49',\n",
       " 'cat50',\n",
       " 'cat51',\n",
       " 'cat52',\n",
       " 'cat53',\n",
       " 'cat54',\n",
       " 'cat55',\n",
       " 'cat56',\n",
       " 'cat57',\n",
       " 'cat58',\n",
       " 'cat59',\n",
       " 'cat60',\n",
       " 'cat61',\n",
       " 'cat62',\n",
       " 'cat63',\n",
       " 'cat64',\n",
       " 'cat65',\n",
       " 'cat66',\n",
       " 'cat67',\n",
       " 'cat68',\n",
       " 'cat69',\n",
       " 'cat70',\n",
       " 'cat71',\n",
       " 'holiday',\n",
       " 'dow0',\n",
       " 'dow1',\n",
       " 'dow2',\n",
       " 'dow3',\n",
       " 'dow4',\n",
       " 'dow5',\n",
       " 'minute_of_day',\n",
       " 'months_since_lstg',\n",
       " 'slr_offers',\n",
       " 'slr_best',\n",
       " 'slr_offers_open',\n",
       " 'slr_best_open',\n",
       " 'slr_offers_recent',\n",
       " 'slr_best_recent',\n",
       " 'byr_offers',\n",
       " 'byr_best',\n",
       " 'byr_offers_open',\n",
       " 'byr_best_open',\n",
       " 'byr_offers_recent',\n",
       " 'byr_best_recent',\n",
       " 'thread_count']"
      ]
     },
     "execution_count": 13,
     "metadata": {},
     "output_type": "execute_result"
    }
   ],
   "source": [
    "hist_fixed_feats"
   ]
  },
  {
   "cell_type": "code",
   "execution_count": 7,
   "metadata": {},
   "outputs": [
    {
     "data": {
      "text/plain": [
       "['holiday',\n",
       " 'dow0',\n",
       " 'dow1',\n",
       " 'dow2',\n",
       " 'dow3',\n",
       " 'dow4',\n",
       " 'dow5',\n",
       " 'minute_of_day',\n",
       " 'slr_offers',\n",
       " 'slr_best',\n",
       " 'slr_offers_open',\n",
       " 'slr_best_open',\n",
       " 'slr_offers_recent',\n",
       " 'slr_best_recent',\n",
       " 'byr_offers',\n",
       " 'byr_best',\n",
       " 'byr_offers_open',\n",
       " 'byr_best_open',\n",
       " 'byr_offers_recent',\n",
       " 'byr_best_recent',\n",
       " 'thread_count',\n",
       " 'duration']"
      ]
     },
     "execution_count": 7,
     "metadata": {},
     "output_type": "execute_result"
    }
   ],
   "source": [
    "arr_time_feats = rlenv.env_utils.load_featnames('arrival', 'arrival')['x_time']"
   ]
  },
  {
   "cell_type": "code",
   "execution_count": 25,
   "metadata": {},
   "outputs": [
    {
     "data": {
      "text/plain": [
       "['store',\n",
       " 'slr_us',\n",
       " 'fast',\n",
       " 'slr_bos',\n",
       " 'slr_lstgs',\n",
       " 'fdbk_score',\n",
       " 'fdbk_pstv',\n",
       " 'start_price_pctile',\n",
       " 'start_date',\n",
       " 'photos',\n",
       " 'has_photos',\n",
       " 'fdbk_100',\n",
       " 'decline',\n",
       " 'accept',\n",
       " 'is_round',\n",
       " 'is_nines',\n",
       " 'has_decline',\n",
       " 'has_accept',\n",
       " 'auto_dist',\n",
       " 'new',\n",
       " 'used',\n",
       " 'refurb',\n",
       " 'wear',\n",
       " 'w2v0',\n",
       " 'w2v1',\n",
       " 'w2v2',\n",
       " 'w2v3',\n",
       " 'w2v4',\n",
       " 'w2v5',\n",
       " 'w2v6',\n",
       " 'w2v7',\n",
       " 'w2v8',\n",
       " 'w2v9',\n",
       " 'w2v10',\n",
       " 'w2v11',\n",
       " 'w2v12',\n",
       " 'w2v13',\n",
       " 'w2v14',\n",
       " 'w2v15',\n",
       " 'w2v16',\n",
       " 'w2v17',\n",
       " 'w2v18',\n",
       " 'w2v19',\n",
       " 'w2v20',\n",
       " 'w2v21',\n",
       " 'w2v22',\n",
       " 'w2v23',\n",
       " 'w2v24',\n",
       " 'w2v25',\n",
       " 'w2v26',\n",
       " 'w2v27',\n",
       " 'w2v28',\n",
       " 'w2v29',\n",
       " 'w2v30',\n",
       " 'w2v31',\n",
       " 'w2v32',\n",
       " 'w2v33',\n",
       " 'w2v34',\n",
       " 'w2v35',\n",
       " 'w2v36',\n",
       " 'w2v37',\n",
       " 'w2v38',\n",
       " 'w2v39',\n",
       " 'w2v40',\n",
       " 'w2v41',\n",
       " 'w2v42',\n",
       " 'w2v43',\n",
       " 'w2v44',\n",
       " 'w2v45',\n",
       " 'w2v46',\n",
       " 'w2v47',\n",
       " 'w2v48',\n",
       " 'w2v49',\n",
       " 'w2v50',\n",
       " 'w2v51',\n",
       " 'w2v52',\n",
       " 'w2v53',\n",
       " 'w2v54',\n",
       " 'w2v55',\n",
       " 'w2v56',\n",
       " 'w2v57',\n",
       " 'w2v58',\n",
       " 'w2v59',\n",
       " 'w2v60',\n",
       " 'w2v61',\n",
       " 'w2v62',\n",
       " 'w2v63',\n",
       " 'slr0',\n",
       " 'slr1',\n",
       " 'slr2',\n",
       " 'slr3',\n",
       " 'slr4',\n",
       " 'slr5',\n",
       " 'slr6',\n",
       " 'slr7',\n",
       " 'slr8',\n",
       " 'slr9',\n",
       " 'slr10',\n",
       " 'slr11',\n",
       " 'slr12',\n",
       " 'slr13',\n",
       " 'slr14',\n",
       " 'slr15',\n",
       " 'slr16',\n",
       " 'slr17',\n",
       " 'slr18',\n",
       " 'slr19',\n",
       " 'slr20',\n",
       " 'slr21',\n",
       " 'slr22',\n",
       " 'slr23',\n",
       " 'slr24',\n",
       " 'slr25',\n",
       " 'slr26',\n",
       " 'slr27',\n",
       " 'slr28',\n",
       " 'slr29',\n",
       " 'slr30',\n",
       " 'slr31',\n",
       " 'slr32',\n",
       " 'slr33',\n",
       " 'slr34',\n",
       " 'slr35',\n",
       " 'cat0',\n",
       " 'cat1',\n",
       " 'cat2',\n",
       " 'cat3',\n",
       " 'cat4',\n",
       " 'cat5',\n",
       " 'cat6',\n",
       " 'cat7',\n",
       " 'cat8',\n",
       " 'cat9',\n",
       " 'cat10',\n",
       " 'cat11',\n",
       " 'cat12',\n",
       " 'cat13',\n",
       " 'cat14',\n",
       " 'cat15',\n",
       " 'cat16',\n",
       " 'cat17',\n",
       " 'cat18',\n",
       " 'cat19',\n",
       " 'cat20',\n",
       " 'cat21',\n",
       " 'cat22',\n",
       " 'cat23',\n",
       " 'cat24',\n",
       " 'cat25',\n",
       " 'cat26',\n",
       " 'cat27',\n",
       " 'cat28',\n",
       " 'cat29',\n",
       " 'cat30',\n",
       " 'cat31',\n",
       " 'cat32',\n",
       " 'cat33',\n",
       " 'cat34',\n",
       " 'cat35',\n",
       " 'cat36',\n",
       " 'cat37',\n",
       " 'cat38',\n",
       " 'cat39',\n",
       " 'cat40',\n",
       " 'cat41',\n",
       " 'cat42',\n",
       " 'cat43',\n",
       " 'cat44',\n",
       " 'cat45',\n",
       " 'cat46',\n",
       " 'cat47',\n",
       " 'cat48',\n",
       " 'cat49',\n",
       " 'cat50',\n",
       " 'cat51',\n",
       " 'cat52',\n",
       " 'cat53',\n",
       " 'cat54',\n",
       " 'cat55',\n",
       " 'cat56',\n",
       " 'cat57',\n",
       " 'cat58',\n",
       " 'cat59',\n",
       " 'cat60',\n",
       " 'cat61',\n",
       " 'cat62',\n",
       " 'cat63',\n",
       " 'cat64',\n",
       " 'cat65',\n",
       " 'cat66',\n",
       " 'cat67',\n",
       " 'cat68',\n",
       " 'cat69',\n",
       " 'cat70',\n",
       " 'cat71',\n",
       " 'holiday',\n",
       " 'dow0',\n",
       " 'dow1',\n",
       " 'dow2',\n",
       " 'dow3',\n",
       " 'dow4',\n",
       " 'dow5',\n",
       " 'minute_of_day',\n",
       " 'months_since_lstg',\n",
       " 'byr_hist',\n",
       " 't1',\n",
       " 't2',\n",
       " 'days_since_thread',\n",
       " 'con_other',\n",
       " 'split_other',\n",
       " 'norm_other',\n",
       " 'msg_other',\n",
       " 'delay_other',\n",
       " 'holiday_other',\n",
       " 'dow0_other',\n",
       " 'dow1_other',\n",
       " 'dow2_other',\n",
       " 'dow3_other',\n",
       " 'dow4_other',\n",
       " 'dow5_other',\n",
       " 'minute_of_day_other',\n",
       " 'slr_offers_other',\n",
       " 'slr_best_other',\n",
       " 'slr_offers_open_other',\n",
       " 'slr_best_open_other',\n",
       " 'slr_offers_recent_other',\n",
       " 'slr_best_recent_other',\n",
       " 'byr_offers_other',\n",
       " 'byr_best_other',\n",
       " 'byr_offers_open_other',\n",
       " 'byr_best_open_other',\n",
       " 'byr_offers_recent_other',\n",
       " 'byr_best_recent_other',\n",
       " 'thread_count_other',\n",
       " 'con_last',\n",
       " 'reject_last',\n",
       " 'split_last',\n",
       " 'norm_last',\n",
       " 'msg_last',\n",
       " 'delay_last',\n",
       " 'auto_last',\n",
       " 'exp_last',\n",
       " 'holiday_last',\n",
       " 'dow0_last',\n",
       " 'dow1_last',\n",
       " 'dow2_last',\n",
       " 'dow3_last',\n",
       " 'dow4_last',\n",
       " 'dow5_last',\n",
       " 'minute_of_day_last',\n",
       " 'slr_offers_last',\n",
       " 'slr_best_last',\n",
       " 'slr_offers_open_last',\n",
       " 'slr_best_open_last',\n",
       " 'slr_offers_recent_last',\n",
       " 'slr_best_recent_last',\n",
       " 'byr_offers_last',\n",
       " 'byr_best_last',\n",
       " 'byr_offers_open_last',\n",
       " 'byr_best_open_last',\n",
       " 'byr_offers_recent_last',\n",
       " 'byr_best_recent_last',\n",
       " 'thread_count_last']"
      ]
     },
     "execution_count": 25,
     "metadata": {},
     "output_type": "execute_result"
    }
   ],
   "source": [
    "# offer fixed feats\n",
    "byr_time = rlenv.env_utils.load_featnames('slr', 'delay')['x_fixed']\n",
    "byr_time"
   ]
  },
  {
   "cell_type": "code",
   "execution_count": 22,
   "metadata": {},
   "outputs": [],
   "source": [
    "fixed = pd.DataFrame.from_dict(LSTG_COLS, orient='index')\n",
    "fixed.rename(columns={0: 'from'}, inplace=True)"
   ]
  },
  {
   "cell_type": "code",
   "execution_count": 10,
   "metadata": {},
   "outputs": [],
   "source": [
    "featnames = load_featnames('arrival', 'bin')"
   ]
  },
  {
   "cell_type": "code",
   "execution_count": 14,
   "metadata": {},
   "outputs": [],
   "source": [
    "featnames = pd.DataFrame(index=featnames['x_fixed'], data={'to': np.arange(len(featnames['x_fixed']))})"
   ]
  },
  {
   "cell_type": "code",
   "execution_count": 21,
   "metadata": {},
   "outputs": [
    {
     "data": {
      "text/plain": [
       "Index(['focal_days', 'focal_holiday', 'focal_dow0', 'focal_dow1', 'focal_dow2',\n",
       "       'focal_dow3', 'focal_dow4', 'focal_dow5'],\n",
       "      dtype='object')"
      ]
     },
     "execution_count": 21,
     "metadata": {},
     "output_type": "execute_result"
    }
   ],
   "source": [
    "featnames['to'].isin([132, 133])\n",
    "featnames.index[featnames['to'].isin(list(range(124, 132)))]"
   ]
  },
  {
   "cell_type": "code",
   "execution_count": 19,
   "metadata": {},
   "outputs": [
    {
     "name": "stdout",
     "output_type": "stream",
     "text": [
      "{'fixed': 134, 'out': 1}\n"
     ]
    }
   ],
   "source": [
    "sizes = load_sizes('arrival', 'bin')\n",
    "print(sizes)"
   ]
  },
  {
   "cell_type": "code",
   "execution_count": 16,
   "metadata": {},
   "outputs": [
    {
     "data": {
      "text/plain": [
       "134"
      ]
     },
     "execution_count": 16,
     "metadata": {},
     "output_type": "execute_result"
    }
   ],
   "source": [
    "len(featnames['to'])"
   ]
  },
  {
   "cell_type": "code",
   "execution_count": null,
   "metadata": {},
   "outputs": [],
   "source": []
  },
  {
   "cell_type": "code",
   "execution_count": 56,
   "metadata": {},
   "outputs": [
    {
     "name": "stdout",
     "output_type": "stream",
     "text": [
      "124\n",
      "124\n",
      "start index of lstg feats: 0\n",
      "fixed match for days\n",
      "132\n",
      "124\n",
      "start index of lstg feats: 0\n",
      "fixed match for loc\n",
      "133\n",
      "124\n",
      "start index of lstg feats: 0\n",
      "fixed match for hist\n",
      "134\n",
      "124\n",
      "start index of lstg feats: 0\n",
      "fixed match for sec\n",
      "134\n",
      "124\n",
      "start index of lstg feats: 0\n",
      "fixed match for bin\n"
     ]
    }
   ],
   "source": [
    "# arrival fixed comparison\n",
    "fixed_comparison('arrival', 'days', fixed)\n",
    "fixed_comparison('arrival', 'loc', fixed)\n",
    "fixed_comparison('arrival', 'hist', fixed)\n",
    "fixed_comparison('arrival', 'sec', fixed)\n",
    "fixed_comparison('arrival', 'bin', fixed)"
   ]
  },
  {
   "cell_type": "code",
   "execution_count": 69,
   "metadata": {},
   "outputs": [
    {
     "name": "stdout",
     "output_type": "stream",
     "text": [
      "126\n",
      "124\n",
      "start of accept: byr_us and byr_hist\n",
      "start index of lstg feats: 2\n",
      "fixed match for accept\n",
      "126\n",
      "124\n",
      "start of reject: byr_us and byr_hist\n",
      "start index of lstg feats: 2\n",
      "fixed match for reject\n",
      "126\n",
      "124\n",
      "start of nines: byr_us and byr_hist\n",
      "start index of lstg feats: 2\n",
      "fixed match for nines\n",
      "126\n",
      "124\n",
      "start of round: byr_us and byr_hist\n",
      "start index of lstg feats: 2\n",
      "fixed match for round\n",
      "126\n",
      "124\n",
      "start of msg: byr_us and byr_hist\n",
      "start index of lstg feats: 2\n",
      "fixed match for msg\n",
      "126\n",
      "124\n",
      "start of cn: byr_us and byr_hist\n",
      "start index of lstg feats: 2\n",
      "fixed match for cn\n"
     ]
    }
   ],
   "source": [
    "# byr fixed comparison\n",
    "fixed_comparison('byr', 'accept', fixed)\n",
    "fixed_comparison('byr', 'reject', fixed)\n",
    "fixed_comparison('byr', 'nines', fixed)\n",
    "fixed_comparison('byr', 'round', fixed)\n",
    "fixed_comparison('byr', 'msg', fixed)\n",
    "fixed_comparison('byr', 'cn', fixed)"
   ]
  },
  {
   "cell_type": "code",
   "execution_count": 60,
   "metadata": {},
   "outputs": [
    {
     "name": "stdout",
     "output_type": "stream",
     "text": [
      "126\n",
      "124\n",
      "start index of lstg feats: 2\n",
      "fixed match for accept\n",
      "126\n",
      "124\n",
      "start index of lstg feats: 2\n",
      "fixed match for reject\n",
      "126\n",
      "124\n",
      "start index of lstg feats: 2\n",
      "fixed match for nines\n",
      "126\n",
      "124\n",
      "start index of lstg feats: 2\n",
      "fixed match for round\n",
      "126\n",
      "124\n",
      "start index of lstg feats: 2\n",
      "fixed match for msg\n",
      "126\n",
      "124\n",
      "start index of lstg feats: 2\n",
      "fixed match for cn\n"
     ]
    }
   ],
   "source": [
    "# slr fixed comparison\n",
    "fixed_comparison('slr', 'accept', fixed)\n",
    "fixed_comparison('slr', 'reject', fixed)\n",
    "fixed_comparison('slr', 'nines', fixed)\n",
    "fixed_comparison('slr', 'round', fixed)\n",
    "fixed_comparison('slr', 'msg', fixed)\n",
    "fixed_comparison('slr', 'cn', fixed)"
   ]
  },
  {
   "cell_type": "code",
   "execution_count": 64,
   "metadata": {},
   "outputs": [
    {
     "name": "stdout",
     "output_type": "stream",
     "text": [
      "179\n",
      "124\n",
      "start of delay: t1, t2, start_days\n",
      "start index of lstg feats: 2\n",
      "fixed match for delay\n",
      "180\n",
      "124\n",
      "start of delay: t1, t2, t3\n",
      "start index of lstg feats: 3\n",
      "fixed match for delay\n"
     ]
    }
   ],
   "source": [
    "fixed_comparison('slr', 'delay', fixed)\n",
    "fixed_comparison('byr', 'delay', fixed)"
   ]
  },
  {
   "cell_type": "code",
   "execution_count": null,
   "metadata": {},
   "outputs": [],
   "source": [
    "\n",
    "for col in fixed.index:\n",
    "    print(col)"
   ]
  },
  {
   "cell_type": "code",
   "execution_count": 40,
   "metadata": {},
   "outputs": [
    {
     "data": {
      "text/plain": [
       "tensor([132])"
      ]
     },
     "execution_count": 40,
     "metadata": {},
     "output_type": "execute_result"
    }
   ],
   "source": [
    "comp.maps['hist']['fixed']['byr_us']"
   ]
  },
  {
   "cell_type": "code",
   "execution_count": 15,
   "metadata": {},
   "outputs": [
    {
     "data": {
      "text/plain": [
       "tensor([0, 1])"
      ]
     },
     "execution_count": 15,
     "metadata": {},
     "output_type": "execute_result"
    }
   ],
   "source": [
    "comp.maps['slr_accept']['fixed']['byr_attr']\n"
   ]
  },
  {
   "cell_type": "code",
   "execution_count": 23,
   "metadata": {},
   "outputs": [
    {
     "data": {
      "text/plain": [
       "['focal_days',\n",
       " 'focal_holiday',\n",
       " 'focal_dow0',\n",
       " 'focal_dow1',\n",
       " 'focal_dow2',\n",
       " 'focal_dow3',\n",
       " 'focal_dow4',\n",
       " 'focal_dow5']"
      ]
     },
     "execution_count": 23,
     "metadata": {},
     "output_type": "execute_result"
    }
   ],
   "source": [
    "FF_CLOCK_FEATS"
   ]
  },
  {
   "cell_type": "code",
   "execution_count": 9,
   "metadata": {},
   "outputs": [],
   "source": [
    "byr_delay = load_featnames('byr', 'delay')\n",
    "slr_delay = load_featnames('slr', 'delay')"
   ]
  },
  {
   "cell_type": "code",
   "execution_count": 10,
   "metadata": {},
   "outputs": [
    {
     "data": {
      "text/plain": [
       "Index(['period', 'holiday', 'dow0', 'dow1', 'dow2', 'dow3', 'dow4', 'dow5',\n",
       "       'minutes', 'slr_offers', 'slr_best', 'slr_offers_open', 'slr_best_open',\n",
       "       'byr_offers', 'byr_best', 'byr_offers_open', 'byr_best_open'],\n",
       "      dtype='object')"
      ]
     },
     "execution_count": 10,
     "metadata": {},
     "output_type": "execute_result"
    }
   ],
   "source": [
    "byr_delay['x_time']"
   ]
  },
  {
   "cell_type": "code",
   "execution_count": null,
   "metadata": {},
   "outputs": [],
   "source": []
  }
 ],
 "metadata": {
  "kernelspec": {
   "display_name": "Python 3",
   "language": "python",
   "name": "python3"
  },
  "language_info": {
   "codemirror_mode": {
    "name": "ipython",
    "version": 3
   },
   "file_extension": ".py",
   "mimetype": "text/x-python",
   "name": "python",
   "nbconvert_exporter": "python",
   "pygments_lexer": "ipython3",
   "version": "3.7.4"
  }
 },
 "nbformat": 4,
 "nbformat_minor": 4
}
