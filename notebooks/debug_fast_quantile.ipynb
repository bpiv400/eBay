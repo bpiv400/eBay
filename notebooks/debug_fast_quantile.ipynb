{
 "cells": [
  {
   "cell_type": "code",
   "execution_count": 1,
   "metadata": {},
   "outputs": [],
   "source": [
    "import pandas as pd\n",
    "import numpy as np"
   ]
  },
  {
   "cell_type": "code",
   "execution_count": 2,
   "metadata": {},
   "outputs": [],
   "source": [
    "b = pd.MultiIndex.from_tuples([(0, 4), (0, 3), (1, 5), (1, 3), (1, 2), (0, 2)], names=['a', 'b'])\n",
    "t = pd.DataFrame(data={'dat':[15, 2, 3, 4, 5, 6]}, index=b)"
   ]
  },
  {
   "cell_type": "code",
   "execution_count": 3,
   "metadata": {},
   "outputs": [
    {
     "data": {
      "text/html": [
       "<div>\n",
       "<style scoped>\n",
       "    .dataframe tbody tr th:only-of-type {\n",
       "        vertical-align: middle;\n",
       "    }\n",
       "\n",
       "    .dataframe tbody tr th {\n",
       "        vertical-align: top;\n",
       "    }\n",
       "\n",
       "    .dataframe thead th {\n",
       "        text-align: right;\n",
       "    }\n",
       "</style>\n",
       "<table border=\"1\" class=\"dataframe\">\n",
       "  <thead>\n",
       "    <tr style=\"text-align: right;\">\n",
       "      <th></th>\n",
       "      <th></th>\n",
       "      <th>dat</th>\n",
       "    </tr>\n",
       "    <tr>\n",
       "      <th>a</th>\n",
       "      <th>b</th>\n",
       "      <th></th>\n",
       "    </tr>\n",
       "  </thead>\n",
       "  <tbody>\n",
       "    <tr>\n",
       "      <td rowspan=\"2\" valign=\"top\">0</td>\n",
       "      <td>4</td>\n",
       "      <td>15</td>\n",
       "    </tr>\n",
       "    <tr>\n",
       "      <td>3</td>\n",
       "      <td>2</td>\n",
       "    </tr>\n",
       "    <tr>\n",
       "      <td rowspan=\"3\" valign=\"top\">1</td>\n",
       "      <td>5</td>\n",
       "      <td>3</td>\n",
       "    </tr>\n",
       "    <tr>\n",
       "      <td>3</td>\n",
       "      <td>4</td>\n",
       "    </tr>\n",
       "    <tr>\n",
       "      <td>2</td>\n",
       "      <td>5</td>\n",
       "    </tr>\n",
       "    <tr>\n",
       "      <td>0</td>\n",
       "      <td>2</td>\n",
       "      <td>6</td>\n",
       "    </tr>\n",
       "  </tbody>\n",
       "</table>\n",
       "</div>"
      ],
      "text/plain": [
       "     dat\n",
       "a b     \n",
       "0 4   15\n",
       "  3    2\n",
       "1 5    3\n",
       "  3    4\n",
       "  2    5\n",
       "0 2    6"
      ]
     },
     "execution_count": 3,
     "metadata": {},
     "output_type": "execute_result"
    }
   ],
   "source": [
    "t"
   ]
  },
  {
   "cell_type": "code",
   "execution_count": 9,
   "metadata": {},
   "outputs": [
    {
     "name": "stdout",
     "output_type": "stream",
     "text": [
      "curr index\n",
      "MultiIndex([(0, 4),\n",
      "            (0, 3),\n",
      "            (0, 2)],\n",
      "           names=['a', 'b'])\n",
      "levels\n",
      "Int64Index([2, 3, 4, 5], dtype='int64', name='b')\n",
      "subset\n",
      "     dat\n",
      "a b     \n",
      "0 4   15\n",
      "  3    2\n",
      "  2    6\n",
      "curr index\n",
      "MultiIndex([(1, 5),\n",
      "            (1, 3),\n",
      "            (1, 2)],\n",
      "           names=['a', 'b'])\n",
      "levels\n",
      "Int64Index([2, 3, 4, 5], dtype='int64', name='b')\n",
      "subset\n",
      "     dat\n",
      "a b     \n",
      "1 5    3\n",
      "  3    4\n",
      "  2    5\n"
     ]
    }
   ],
   "source": [
    "gr = t.groupby('a')\n",
    "for _, curr_index in gr.groups.items():\n",
    "    print('curr index')\n",
    "    print(curr_index)\n",
    "    print('levels')\n",
    "    print(curr_index.levels[1])\n",
    "    print('subset')\n",
    "    subset = t.loc[curr_index]\n",
    "    print(subset)\n",
    "    "
   ]
  },
  {
   "cell_type": "code",
   "execution_count": null,
   "metadata": {},
   "outputs": [],
   "source": []
  }
 ],
 "metadata": {
  "kernelspec": {
   "display_name": "Python 3",
   "language": "python",
   "name": "python3"
  },
  "language_info": {
   "codemirror_mode": {
    "name": "ipython",
    "version": 3
   },
   "file_extension": ".py",
   "mimetype": "text/x-python",
   "name": "python",
   "nbconvert_exporter": "python",
   "pygments_lexer": "ipython3",
   "version": "3.7.4"
  }
 },
 "nbformat": 4,
 "nbformat_minor": 4
}
