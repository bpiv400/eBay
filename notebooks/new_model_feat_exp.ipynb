{
 "cells": [
  {
   "cell_type": "code",
   "execution_count": 2,
   "metadata": {},
   "outputs": [],
   "source": [
    "import pickle\n",
    "from rlenv.env_utils import load_sizes, load_featnames"
   ]
  },
  {
   "cell_type": "code",
   "execution_count": 20,
   "metadata": {},
   "outputs": [],
   "source": [
    "def slr_byr_diff(name, dict_name):\n",
    "    print('Getting difference between slr and byr {} models for {} feats'.format(name, dict_name))\n",
    "    byr_feats_list = load_featnames('{}_byr'.format(name))[dict_name]\n",
    "    byr_feats = set(byr_feats_list)\n",
    "    slr_feats = set(load_featnames('{}_slr'.format(name))[dict_name])\n",
    "    byr_not_slr = byr_feats.difference(slr_feats)\n",
    "    slr_not_byr = slr_feats.difference(byr_feats)\n",
    "    print('In buyer model only: {}'.format(byr_not_slr))\n",
    "    print('IN seller model only: {}'.format(slr_not_byr))\n",
    "    print('byr_feats: {}'.format(byr_feats_list))\n",
    "    print('')\n",
    "    print('')\n",
    "\n",
    "def compare_sizes(name):\n",
    "    byr_sizes = load_sizes('{}_byr'.format(name))['x']\n",
    "    slr_sizes = load_sizes('{}_slr'.format(name))['x']\n",
    "    dicts_byr = set(list(byr_sizes.keys()))\n",
    "    dicts_slr = set(list(slr_sizes.keys()))\n",
    "    dicts_byr_not_slr = dicts_byr.difference()\n",
    "    "
   ]
  },
  {
   "cell_type": "markdown",
   "metadata": {},
   "source": [
    "## Con Comparison"
   ]
  },
  {
   "cell_type": "code",
   "execution_count": 22,
   "metadata": {},
   "outputs": [
    {
     "name": "stdout",
     "output_type": "stream",
     "text": [
      "Getting difference between slr and byr con models for msg feats\n",
      "In buyer model only: {'msg_6', 't3'}\n",
      "IN seller model only: set()\n",
      "byr_feats: ['msg_1', 'msg_2', 'msg_3', 'msg_4', 'msg_5', 'msg_6', 't1', 't2', 't3']\n",
      "\n",
      "\n",
      "Getting difference between slr and byr con models for price feats\n",
      "In buyer model only: {'norm_6', 't3', 'reject_6', 'con_6', 'split_6'}\n",
      "IN seller model only: set()\n",
      "byr_feats: ['start_price_pctile', 'auto_decline', 'auto_accept', 'con_1', 'con_2', 'con_3', 'con_4', 'con_5', 'con_6', 'norm_1', 'norm_2', 'norm_3', 'norm_4', 'norm_5', 'norm_6', 'split_1', 'split_2', 'split_3', 'split_4', 'split_5', 'split_6', 'reject_2', 'reject_4', 'reject_6', 't1', 't2', 't3']\n",
      "\n",
      "\n",
      "Getting difference between slr and byr con models for clock feats\n",
      "In buyer model only: {'auto_6', 'dow5_7', 't3', 'days_7', 'dow4_7', 'minute_of_day_7', 'delay_7', 'dow2_7', 'exp_6', 'dow1_7', 'dow3_7', 'holiday_7', 'dow0_7'}\n",
      "IN seller model only: set()\n",
      "byr_feats: ['days_2', 'days_3', 'days_4', 'days_5', 'days_6', 'days_7', 'delay_2', 'delay_3', 'delay_4', 'delay_5', 'delay_6', 'delay_7', 'holiday_1', 'holiday_2', 'holiday_3', 'holiday_4', 'holiday_5', 'holiday_6', 'holiday_7', 'dow0_1', 'dow0_2', 'dow0_3', 'dow0_4', 'dow0_5', 'dow0_6', 'dow0_7', 'dow1_1', 'dow1_2', 'dow1_3', 'dow1_4', 'dow1_5', 'dow1_6', 'dow1_7', 'dow2_1', 'dow2_2', 'dow2_3', 'dow2_4', 'dow2_5', 'dow2_6', 'dow2_7', 'dow3_1', 'dow3_2', 'dow3_3', 'dow3_4', 'dow3_5', 'dow3_6', 'dow3_7', 'dow4_1', 'dow4_2', 'dow4_3', 'dow4_4', 'dow4_5', 'dow4_6', 'dow4_7', 'dow5_1', 'dow5_2', 'dow5_3', 'dow5_4', 'dow5_5', 'dow5_6', 'dow5_7', 'minute_of_day_1', 'minute_of_day_2', 'minute_of_day_3', 'minute_of_day_4', 'minute_of_day_5', 'minute_of_day_6', 'minute_of_day_7', 'auto_2', 'auto_4', 'auto_6', 'exp_2', 'exp_4', 'exp_6', 't1', 't2', 't3']\n",
      "\n",
      "\n"
     ]
    }
   ],
   "source": [
    "slr_byr_diff('con', 'msg')\n",
    "slr_byr_diff('con', 'price')\n",
    "slr_byr_diff('con', 'clock')"
   ]
  },
  {
   "cell_type": "code",
   "execution_count": 25,
   "metadata": {},
   "outputs": [
    {
     "name": "stdout",
     "output_type": "stream",
     "text": [
      "Getting difference between slr and byr con models for slr_best feats\n",
      "In buyer model only: {'slr_best_open_7', 't3', 'slr_best_7', 'slr_best_recent_7'}\n",
      "IN seller model only: set()\n",
      "byr_feats: ['slr_best_1', 'slr_best_2', 'slr_best_3', 'slr_best_4', 'slr_best_5', 'slr_best_6', 'slr_best_7', 'slr_best_open_1', 'slr_best_open_2', 'slr_best_open_3', 'slr_best_open_4', 'slr_best_open_5', 'slr_best_open_6', 'slr_best_open_7', 'slr_best_recent_1', 'slr_best_recent_2', 'slr_best_recent_3', 'slr_best_recent_4', 'slr_best_recent_5', 'slr_best_recent_6', 'slr_best_recent_7', 't1', 't2', 't3']\n",
      "\n",
      "\n",
      "Getting difference between slr and byr con models for byr_best feats\n",
      "In buyer model only: {'t3', 'byr_best_7', 'byr_best_recent_7', 'byr_best_open_7'}\n",
      "IN seller model only: set()\n",
      "byr_feats: ['byr_best_1', 'byr_best_2', 'byr_best_3', 'byr_best_4', 'byr_best_5', 'byr_best_6', 'byr_best_7', 'byr_best_open_1', 'byr_best_open_2', 'byr_best_open_3', 'byr_best_open_4', 'byr_best_open_5', 'byr_best_open_6', 'byr_best_open_7', 'byr_best_recent_1', 'byr_best_recent_2', 'byr_best_recent_3', 'byr_best_recent_4', 'byr_best_recent_5', 'byr_best_recent_6', 'byr_best_recent_7', 't1', 't2', 't3']\n",
      "\n",
      "\n",
      "Getting difference between slr and byr con models for counts feats\n",
      "In buyer model only: {'slr_offers_7', 'slr_offers_open_7', 'slr_offers_recent_7', 't3', 'byr_offers_recent_7', 'byr_offers_open_7', 'byr_offers_7', 'thread_count_7'}\n",
      "IN seller model only: set()\n",
      "byr_feats: ['slr_offers_1', 'slr_offers_2', 'slr_offers_3', 'slr_offers_4', 'slr_offers_5', 'slr_offers_6', 'slr_offers_7', 'slr_offers_open_1', 'slr_offers_open_2', 'slr_offers_open_3', 'slr_offers_open_4', 'slr_offers_open_5', 'slr_offers_open_6', 'slr_offers_open_7', 'slr_offers_recent_1', 'slr_offers_recent_2', 'slr_offers_recent_3', 'slr_offers_recent_4', 'slr_offers_recent_5', 'slr_offers_recent_6', 'slr_offers_recent_7', 'byr_offers_1', 'byr_offers_2', 'byr_offers_3', 'byr_offers_4', 'byr_offers_5', 'byr_offers_6', 'byr_offers_7', 'byr_offers_open_1', 'byr_offers_open_2', 'byr_offers_open_3', 'byr_offers_open_4', 'byr_offers_open_5', 'byr_offers_open_6', 'byr_offers_open_7', 'byr_offers_recent_1', 'byr_offers_recent_2', 'byr_offers_recent_3', 'byr_offers_recent_4', 'byr_offers_recent_5', 'byr_offers_recent_6', 'byr_offers_recent_7', 'thread_count_1', 'thread_count_2', 'thread_count_3', 'thread_count_4', 'thread_count_5', 'thread_count_6', 'thread_count_7', 't1', 't2', 't3']\n",
      "\n",
      "\n"
     ]
    }
   ],
   "source": [
    "slr_byr_diff('con', 'slr_best')\n",
    "slr_byr_diff('con', 'byr_best')\n",
    "slr_byr_diff('con', 'counts')"
   ]
  },
  {
   "cell_type": "code",
   "execution_count": 3,
   "metadata": {},
   "outputs": [
    {
     "data": {
      "text/plain": [
       "{'N': 4697507,\n",
       " 'x': OrderedDict([('w2v', 64),\n",
       "              ('slr', 36),\n",
       "              ('cat', 72),\n",
       "              ('lstg', 31),\n",
       "              ('offer1', 28),\n",
       "              ('offer2', 33),\n",
       "              ('offer3', 30),\n",
       "              ('offer4', 33),\n",
       "              ('offer5', 30),\n",
       "              ('offer6', 33),\n",
       "              ('offer7', 26),\n",
       "              ('clock', 77),\n",
       "              ('price', 27),\n",
       "              ('msg', 9),\n",
       "              ('slr_best', 24),\n",
       "              ('byr_best', 24),\n",
       "              ('counts', 52)]),\n",
       " 'out': 101}"
      ]
     },
     "execution_count": 3,
     "metadata": {},
     "output_type": "execute_result"
    }
   ],
   "source": [
    "load_sizes('con_byr')"
   ]
  },
  {
   "cell_type": "code",
   "execution_count": 4,
   "metadata": {},
   "outputs": [
    {
     "data": {
      "text/plain": [
       "{'N': 2442596,\n",
       " 'x': OrderedDict([('w2v', 64),\n",
       "              ('slr', 36),\n",
       "              ('cat', 72),\n",
       "              ('lstg', 30),\n",
       "              ('offer1', 28),\n",
       "              ('offer2', 33),\n",
       "              ('offer3', 30),\n",
       "              ('offer4', 33),\n",
       "              ('offer5', 30),\n",
       "              ('offer6', 26),\n",
       "              ('clock', 64),\n",
       "              ('price', 22),\n",
       "              ('msg', 7),\n",
       "              ('slr_best', 20),\n",
       "              ('byr_best', 20),\n",
       "              ('counts', 44)]),\n",
       " 'out': 101}"
      ]
     },
     "execution_count": 4,
     "metadata": {},
     "output_type": "execute_result"
    }
   ],
   "source": [
    "load_sizes('con_slr')"
   ]
  },
  {
   "cell_type": "markdown",
   "metadata": {},
   "source": [
    "## Msg comparison"
   ]
  },
  {
   "cell_type": "code",
   "execution_count": null,
   "metadata": {},
   "outputs": [],
   "source": []
  }
 ],
 "metadata": {
  "kernelspec": {
   "display_name": "bargain",
   "language": "python",
   "name": "bargain"
  },
  "language_info": {
   "codemirror_mode": {
    "name": "ipython",
    "version": 3
   },
   "file_extension": ".py",
   "mimetype": "text/x-python",
   "name": "python",
   "nbconvert_exporter": "python",
   "pygments_lexer": "ipython3",
   "version": "3.7.4"
  }
 },
 "nbformat": 4,
 "nbformat_minor": 2
}
