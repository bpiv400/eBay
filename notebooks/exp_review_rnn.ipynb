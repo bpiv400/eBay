{
 "cells": [
  {
   "cell_type": "code",
   "execution_count": 1,
   "metadata": {},
   "outputs": [],
   "source": [
    "import os\n",
    "import sys\n",
    "sys.path.append(os.path.abspath('repo/rnn/'))\n"
   ]
  },
  {
   "cell_type": "code",
   "execution_count": 2,
   "metadata": {},
   "outputs": [],
   "source": [
    "import matplotlib.pyplot as plt\n",
    "import numpy as np\n",
    "import pandas as pd\n",
    "import pickle\n",
    "import math\n",
    "import torch\n",
    "import torch.autograd as autograd\n",
    "import torch.nn as nn\n",
    "import torch.nn.functional as F\n",
    "import torch.optim as optim\n",
    "from scipy.interpolate import BSpline\n",
    "from IPython.display import display, Markdown, Latex\n",
    "import re\n",
    "import copy\n",
    "import inspect"
   ]
  },
  {
   "cell_type": "code",
   "execution_count": 3,
   "metadata": {},
   "outputs": [],
   "source": [
    "p = torch.tensor([[1, 2, 3, 4, 5], [10, 20, 30, 40, 50]]).float()\n",
    "lin = nn.Linear(5, 3)\n",
    "p = lin(p)\n",
    "p = p.sum(0).sum(0)"
   ]
  },
  {
   "cell_type": "code",
   "execution_count": 4,
   "metadata": {},
   "outputs": [],
   "source": [
    "def all_offr_codes(offr_code):\n",
    "    '''\n",
    "    Description: Generates a list of offer codes for all offers\n",
    "    preceeding the offer given by 'offr_code', including that\n",
    "    offer itself\n",
    "    Input: String denoting last offer code to be generated\n",
    "    Returns: list of strings\n",
    "    '''\n",
    "    out = []\n",
    "    # check correct format of offr_code\n",
    "    if len(offr_code) != 2:\n",
    "        raise ValueError('offr code should have length 2')\n",
    "    #  extract turn type and num\n",
    "    turn_num = int(offr_code[1])\n",
    "    turn_type = offr_code[0]\n",
    "    # iterate to (inclusive) turn_num\n",
    "    for i in range(turn_num + 1):\n",
    "        # add all buyer turns up to and including the current turn\n",
    "        # to the list\n",
    "        out.append('b%d' % i)\n",
    "        # do not add the seller turn for the last round if\n",
    "        # the last turn is a buyer turn\n",
    "        if i < turn_num or turn_type == 's':\n",
    "            out.append('s%d' % i)\n",
    "    return out\n"
   ]
  },
  {
   "cell_type": "code",
   "execution_count": 5,
   "metadata": {},
   "outputs": [],
   "source": [
    "from models import *"
   ]
  },
  {
   "cell_type": "code",
   "execution_count": 41,
   "metadata": {},
   "outputs": [
    {
     "name": "stdout",
     "output_type": "stream",
     "text": [
      "def increase_num_layers(const_vals, num_layers, zeros=True):\n",
      "    # this gives the total number of layers of rnns\n",
      "    # adjust to give layers of starting values that must be added\n",
      "    # since the constant features ( or 0's, should already occupy first layer)\n",
      "    num_add = num_layers - 1\n",
      "    # grab sizes of other dimensions\n",
      "    batch = const_vals.shape[1]\n",
      "    hidden_size = const_vals.shape[2]\n",
      "    # iterate over values through num, add a layer of 0's for each\n",
      "    for _ in range(num_add):\n",
      "        if zeros:\n",
      "            # initialize empty array to add\n",
      "            empty_arr = np.zeros((1, batch, hidden_size))\n",
      "            # append along the first axis\n",
      "        else:\n",
      "            empty_arr = np.expand_dims(const_vals[0, :, :], axis=0)\n",
      "        const_vals = np.append(const_vals, empty_arr, axis=0)\n",
      "    return const_vals\n",
      "\n"
     ]
    }
   ],
   "source": [
    "print(inspect.getsource(increase_num_layers))"
   ]
  },
  {
   "cell_type": "code",
   "execution_count": 6,
   "metadata": {},
   "outputs": [],
   "source": [
    "def get_all_exps(base_str):\n",
    "    layers = ['_layr3', '_layr2', '']\n",
    "    hiddens = ['_hidn75', '_hidn100', '']\n",
    "    init = ['_init', '']\n",
    "    val = ['_val', '']\n",
    "    arch = ['_cat', '_simp']\n",
    "    zeros = ['_zeros', '']\n",
    "    exps = []\n",
    "    for curr_arch in arch:\n",
    "        for curr_layer in layers:\n",
    "            for curr_hidden in hiddens:\n",
    "                for curr_init in init:\n",
    "                    for curr_zero in zeros:\n",
    "                        for curr_val in val:\n",
    "                            curr_exp = '%s%s%s%s%s%s%s' % (base_str, curr_arch, curr_layer,\n",
    "                                                           curr_hidden, curr_init, curr_zero, curr_val)\n",
    "                            exps.append(curr_exp)\n",
    "    return exps\n"
   ]
  },
  {
   "cell_type": "code",
   "execution_count": 7,
   "metadata": {},
   "outputs": [],
   "source": [
    "# parameters for experiments displayed\n",
    "# data types\n",
    "# to be changed later\n",
    "experiments = get_all_exps('rnn2')\n"
   ]
  },
  {
   "cell_type": "code",
   "execution_count": 8,
   "metadata": {},
   "outputs": [],
   "source": [
    "def get_data_name(exp_name):\n",
    "    if 'lstm' in exp_name:\n",
    "        data_name = exp_name.replace('lstm', 'rnn')\n",
    "    else:\n",
    "        data_name = exp_name\n",
    "    arch_type_str = r'_(simp|cat|sep)'\n",
    "    type_match = re.search(arch_type_str, exp_name)\n",
    "    if type_match is None:\n",
    "        raise ValueError('Invalid experiment name')\n",
    "    type_match_end = type_match.span(0)[1]\n",
    "    data_name = data_name[:type_match_end]\n",
    "    return data_name\n"
   ]
  },
  {
   "cell_type": "code",
   "execution_count": 9,
   "metadata": {},
   "outputs": [],
   "source": [
    "def get_resp_offr(turn):\n",
    "    '''\n",
    "    Description: Determines the name of the response column given the name of the last observed turn\n",
    "    '''\n",
    "    turn_num = turn[1]\n",
    "    turn_type = turn[0]\n",
    "    if turn != 'start_price_usd':\n",
    "        turn_num = int(turn_num)\n",
    "    if turn_type == 'b':\n",
    "        resp_turn = 's' + str(turn_num)\n",
    "    elif turn == 'start_price_usd':\n",
    "        resp_turn = 'b0'\n",
    "    elif turn_type == 's':\n",
    "        resp_turn = 'b' + str(turn_num + 1)\n",
    "    resp_col = 'offr_' + resp_turn\n",
    "    return resp_col"
   ]
  },
  {
   "cell_type": "code",
   "execution_count": 10,
   "metadata": {},
   "outputs": [],
   "source": [
    "def get_resp_time(turn):\n",
    "    '''\n",
    "    Description: Determines the name of the response column given the \n",
    "    name of the last observed turn\n",
    "    for time models\n",
    "    '''\n",
    "    turn_num = turn[1]\n",
    "    turn_type = turn[0]\n",
    "    turn_num = int(turn_num)\n",
    "    if turn_type == 'b':\n",
    "        resp_turn = 's' + str(turn_num)\n",
    "    elif turn == 'start_price_usd':\n",
    "        resp_turn = None\n",
    "    elif turn_type == 's':\n",
    "        resp_turn = 'b' + str(turn_num + 1)\n",
    "    resp_col = 'time_%s' % resp_turn\n",
    "    return resp_col"
   ]
  },
  {
   "cell_type": "code",
   "execution_count": 11,
   "metadata": {},
   "outputs": [],
   "source": [
    "def get_prev_code(turn):\n",
    "    '''\n",
    "    Description: get the column name of the previous turn made \n",
    "    by the player for whom we're predicting the next\n",
    "    turn. If the current turn we're predicting is the seller's\n",
    "    first turn, return 'start_price_usd'. If the current \n",
    "    turn we're predicting is the buyer's first turn,  \n",
    "    '''\n",
    "    if turn == 'start_price_usd':\n",
    "        prev_turn = ''\n",
    "        return prev_turn\n",
    "    turn_num = int(turn[1])\n",
    "    turn_type = turn[0]\n",
    "    if turn_type == 's':\n",
    "        prev_turn = 'b' + str(turn_num)\n",
    "    elif turn_type == 'b':\n",
    "        if turn_num == 0:\n",
    "            prev_turn = 'start_price_usd'\n",
    "        else:\n",
    "            prev_turn = 's' + str(turn_num - 1)\n",
    "    return prev_turn"
   ]
  },
  {
   "cell_type": "code",
   "execution_count": 12,
   "metadata": {},
   "outputs": [],
   "source": [
    "def get_feat_desc(exp_name):\n",
    "    '''\n",
    "    Description: Parses the name of the experiment to extract information about the features used in the model\n",
    "    '''\n",
    "    data_type = re.findall(r'\\d+', exp_name)[0]\n",
    "    data_type = int(data_type)\n",
    "    if 'norm' not in exp_name:\n",
    "        if data_type % 2 == 0:\n",
    "            return 'Only offer history and starting price included as features. Training stopped after drawing' + \\\n",
    "            'minibatches (with replacement) equivalent to 20 times the size of the data.'\n",
    "        else:\n",
    "            return 'Offer history, buyer feedback scores, fraction of auction remaining at time of offer,' + \\\n",
    "            ' time (in hours) each player took to make hitherto observed offers, number of previous threads ' + \\\n",
    "            'buyer and seller have engaged in, indicators for item category, and quality. Training stopped after' + \\\n",
    "            'drawing minibatches (with replacement) equivalent to 5 times the size of the data'\n",
    "    else:\n",
    "        if data_type == 1:\n",
    "            return 'Offer history normalized by difference between two most recent offers; no date or time features;' + \\\n",
    "            'number of previous threads and other experience features, rounding and slack features for 1, 5, 10, 25;' + \\\n",
    "            'indicators for item category and quality'\n",
    "        elif data_type == 2:\n",
    "            return 'Offer history normalized by difference between two most recent offers; fraction of time remaining,' + \\\n",
    "            'time to make offer for each offer, indicators for whether each offer was made in the morning, evening, night,' + \\\n",
    "            'or afternoon (1 excluded), and the time of day in hours for each observed offer,' + \\\n",
    "            'number of previous threads and other experience features, rounding and slack features for 1, 5, 10, 25;' + \\\n",
    "            'indicators for item category and quality'\n",
    "def get_bin_desc(exp_name):\n",
    "    if 'norm' not in exp_name:\n",
    "        data_type = int(exp_name[len(exp_name) - 1])\n",
    "        if data_type <= 2:\n",
    "            return 'Offer values rounded to every even 50 cent [3, 1000] in symmetric 25 cent window around each ' + \\\n",
    "            'rounding target'\n",
    "        else:\n",
    "            return 'Offer values rounded to 1% of most common values observed for offer being predicted provided ' + \\\n",
    "            'that the center of each bin is at least 50 cents from the center of adjacent bins -- this requirement ' + \\\n",
    "            'reduces the number of bins to approximately 170 from about 500'\n",
    "    else:\n",
    "        data_type = int(re.findall(r'\\d+', exp_name)[0])\n",
    "        if data_type == 1 or data_type == 2:\n",
    "            return 'Normalized offer values binned at every hundredth between 0 and 1'\n",
    "def get_arc_desc(exp_name):\n",
    "    if 'cross' in exp_name:\n",
    "        return 'Standard multi-class prediction arcitecture, outputting scores over all possible bins, trained ' + \\\n",
    "        'using cross entropy loss, predicts the center of the bin with the highest score'\n",
    "    else:\n",
    "        return 'Hidden softmax layer after final non-linear activation layer constructs a distribution over bins ' + \\\n",
    "        'then output layer predicts the expectation of this distribution. Trained using squared loss.'\n",
    "def get_comp_desc(exp_name):\n",
    "    if 'simp' in exp_name:\n",
    "        return '1 non-linear activation layer containing 30 units'\n",
    "    else:\n",
    "        return '2 non-linear activation layers containing 100 units'"
   ]
  },
  {
   "cell_type": "code",
   "execution_count": 13,
   "metadata": {},
   "outputs": [],
   "source": [
    "def check_done(exp_name):\n",
    "    '''\n",
    "    Description: Checks whether an experiment is complete\n",
    "    '''\n",
    "    return os.path.isfile('data/exps/%s/model.pth.tar' % (exp_name))"
   ]
  },
  {
   "cell_type": "code",
   "execution_count": 14,
   "metadata": {},
   "outputs": [],
   "source": [
    "def pandas_df_to_markdown_table(df):\n",
    "    '''\n",
    "    Description: converts pandas data frame to markdown table\n",
    "    '''\n",
    "    fmt = ['---' for i in range(len(df.columns))]\n",
    "    df_fmt = pd.DataFrame([fmt], columns=df.columns)\n",
    "    df_formatted = pd.concat([df_fmt, df])\n",
    "    display(Markdown(df_formatted.to_csv(sep=\"|\", index=False)))"
   ]
  },
  {
   "cell_type": "code",
   "execution_count": 15,
   "metadata": {},
   "outputs": [],
   "source": [
    "def get_prep_type(data_name):\n",
    "    arch_type = r'_(simp|cat|sep)'\n",
    "    arch_match = re.search(arch_type, data_name)\n",
    "    start_arch = arch_match.span(0)[0]\n",
    "    prep_type = data_name[:start_arch]\n",
    "    return prep_type"
   ]
  },
  {
   "cell_type": "code",
   "execution_count": 16,
   "metadata": {},
   "outputs": [],
   "source": [
    "def unpickle(path):\n",
    "    '''\n",
    "    Extracts an abritrary object from the pickle located at path and returns\n",
    "    that object\n",
    "\n",
    "    Args:\n",
    "        path: string denoting path to pickle\n",
    "\n",
    "    Returns:\n",
    "        arbitrary object contained in pickle\n",
    "    '''\n",
    "    f = open(path, \"rb\")\n",
    "    obj = pickle.load(f)\n",
    "    f.close()\n",
    "    return obj"
   ]
  },
  {
   "cell_type": "code",
   "execution_count": 17,
   "metadata": {},
   "outputs": [],
   "source": [
    "def get_resp_list(data_name):\n",
    "    '''\n",
    "    Parses the name of the data used to train the model to extract an ordered list of the columns represented by the output of each step\n",
    "    '''\n",
    "    resp = []\n",
    "    resp = all_offr_codes('s2')\n",
    "    resp.remove('b0')\n",
    "    if 'simp' in data_name:\n",
    "        if 'b3' in data_name:\n",
    "            resp.append('b3')\n",
    "    elif 'sep' in data_name or 'cat' in data_name:\n",
    "        resp = [code for code in resp if 's' in code]\n",
    "    else:\n",
    "        raise ValueError('Cannot parse response list from experiment name')\n",
    "    # print('resp list')\n",
    "    # print(resp)\n",
    "    return resp\n",
    "        \n",
    "        "
   ]
  },
  {
   "cell_type": "code",
   "execution_count": 18,
   "metadata": {},
   "outputs": [],
   "source": [
    "def add_start_price(test_ref, norm_df, const_feats, const_vals):\n",
    "    curr_mean = norm_df.at['start_price_usd', 'mean']\n",
    "    curr_std = norm_df.at['start_price_usd', 'std']\n",
    "    ind = const_feats.index('start_price_usd')\n",
    "    ref_start_price = const_vals[:, :, ind] * curr_std + curr_mean\n",
    "    ref_start_price = np.squeeze(ref_start_price)\n",
    "    if len(ref_start_price.shape)!= 1:\n",
    "        raise ValueError('Unrolling problem')\n",
    "    if ref_start_price.size != len(test_ref.index):\n",
    "        raise ValueError('Unrolling problem')\n",
    "    test_ref['ref_start_price_usd'] = pd.Series(ref_start_price, index=test_ref.index)\n",
    "    return test_ref\n",
    "    "
   ]
  },
  {
   "cell_type": "code",
   "execution_count": 19,
   "metadata": {},
   "outputs": [],
   "source": [
    "def make_loss_wrapper(criterion=None):\n",
    "    def loss_funct(pred, truth):\n",
    "        if criterion is not None:\n",
    "            curr_loss = criterion(pred.double(), truth.double())\n",
    "            curr_loss = curr_loss.detach().numpy()\n",
    "            curr_loss = np.nanmean(curr_loss, axis = 1)\n",
    "            return curr_loss\n",
    "        else:\n",
    "            pred = pred.numpy()\n",
    "            truth = truth.numpy()\n",
    "            curr_loss = np.square(pred - truth)\n",
    "            curr_loss = np.nanmean(curr_loss, axis = 1)\n",
    "            return curr_loss\n",
    "    return loss_funct"
   ]
  },
  {
   "cell_type": "code",
   "execution_count": 20,
   "metadata": {},
   "outputs": [],
   "source": [
    "def get_exp_data(exp_name, offr_mod):\n",
    "    '''\n",
    "    Description: Loads all necessary test data and model specification files (bins, loss history, \n",
    "    feature dictionary, class series) and computes model predictions...Stores all data and predictions used later\n",
    "    in an output dictionary\n",
    "    '''\n",
    "    # data type\n",
    "    data_name = get_data_name(exp_name)\n",
    "    # print('data name: %s' % data_name)\n",
    "    prep_type = get_prep_type(data_name)\n",
    "    \n",
    "    response_list = get_resp_list(data_name)\n",
    "    # loss history\n",
    "    loss_dict = unpickle('data/exps/%s/loss.pickle' % exp_name)\n",
    "    train_loss = loss_dict['train_loss']\n",
    "\n",
    "    # if a validation set was used, grab the validation set loss too\n",
    "    if 'val' in exp_name:\n",
    "        valid_loss = loss_dict['valid_loss']\n",
    "\n",
    "    if len(train_loss) > 0:\n",
    "        if not isinstance(train_loss[0], torch.FloatTensor):\n",
    "            train_loss = train_loss[1:]\n",
    "    \n",
    "    # feature dictionary\n",
    "    feat_dict = unpickle('data/exps/%s/feats.pickle' % data_name)\n",
    "\n",
    "    # NOTE: deprecate?\n",
    "    # reverse = {}\n",
    "    # for col, ind in feat_dict.items():\n",
    "    #    reverse[ind] = col\n",
    "\n",
    "    # column list...no idea why I used a dictionary for this tbh\n",
    "    # col_list = []\n",
    "    # for i in range(len(reverse)):\n",
    "    #     next_col = reverse[i]\n",
    "    #     col_list.append(next_col)\n",
    "\n",
    "    # normalization attributes\n",
    "    norm_df = pd.read_csv('data/exps/%s/norm.csv' % prep_type)\n",
    "    \n",
    "    norm_df.set_index('cols', drop=True, inplace=True)                      \n",
    "    # load bins and midpoints\n",
    "    if offr_mod:\n",
    "        with open('data/exps/%s/bins.pickle' % prep_type, 'rb') as f:\n",
    "            bin_dict = pickle.load(f)\n",
    "        f.close()\n",
    "        midpoints = bin_dict['midpoints']\n",
    "        bins = bin_dict['bins']\n",
    "    else:\n",
    "        with open('data/exps/%s/time_bins.pickle' % prep_type, 'rb') as f:\n",
    "            bin_dict = pickle.load(f)\n",
    "        f.close()\n",
    "        midpoints = bin_dict['time_midpoints']\n",
    "        bins = bin_dict['time_bins']\n",
    "    \n",
    "    # load model parameters\n",
    "    model_dict = torch.load('data/exps/%s/model.pth.tar' % exp_name)\n",
    "                          \n",
    "    \n",
    "    # normalized test data for use in model\n",
    "    # load test data\n",
    "    test_data = unpickle('data/exps/%s/test_data.pickle' % data_name)\n",
    "                          \n",
    "    #############\n",
    "    # TEMPORARY FIX WHILE THIS PROBLEM REMAINS WITH THIS SUBSET OF DATA\n",
    "    ##############\n",
    "    \n",
    "    test_ref = test_data['ref_vals']\n",
    "    #################################################################\n",
    "    # TEMPORARY FIX WHILE THIS PROBLEM REMAINS WITH THIS SUBSET OF DATA\n",
    "    # add start price usd to ref_df\n",
    "    # test_ref = add_start_price(test_ref, norm_df, feat_dict['const_feats'], test_data['const_vals'])\n",
    "    # print(test_ref['ref_start_price_usd'].mean())\n",
    "    # extract elements from data_dict\n",
    "    \n",
    "    test_offr_vals = test_data['offr_vals']\n",
    "    test_const_vals = test_data['const_vals']\n",
    "    test_targ_vals = test_data['target_vals']\n",
    "    test_midpoint_ser = test_data['midpoint_ser']\n",
    "    test_length_vals = test_data['length_vals']\n",
    "    \n",
    "    # get hidden state parameters and update state\n",
    "    test_const_vals, num_layers, targ_hidden_size = transform_hidden_state(\n",
    "        test_const_vals, exp_name)\n",
    "    print(type(test_const_vals))\n",
    "    print(type(num_layers))\n",
    "    print(type(targ_hidden_size))\n",
    "    \n",
    "    \n",
    " \n",
    "    if offr_mod:\n",
    "        base_pred = np.zeros((len(response_list), len(test_ref.index)))\n",
    "        # create a new numpy array to contain the normalized true response vals\n",
    "        true_targs = np.ones(test_targ_vals.shape)\n",
    "        oracle_pred = np.zeros((len(response_list), len(test_ref.index)))\n",
    "        # create numpy arrays to store previous and old offer for each turn \n",
    "        first_offr_mat = np.zeros(true_targs.shape)\n",
    "        sec_offr_mat = np.zeros(true_targs.shape)\n",
    "    \n",
    "        resp_counter = 0\n",
    "        # iterate over resopnse list\n",
    "        for resp_code in response_list:\n",
    "            # print('response code: %s' % resp_code)\n",
    "            \n",
    "            resp_col = test_ref['ref_offr_%s' % resp_code].copy()\n",
    "            rec_code = get_prev_code(resp_code)\n",
    "            # print('rec_code: %s' % rec_code)\n",
    "            old_code = get_prev_code(rec_code)\n",
    "            # print('old code: %s' % old_code)\n",
    "            # extract indices where no current response is recoreded\n",
    "            nan_inds = resp_col[resp_col.isna()].index\n",
    "            # grabbing most recent offer from the player for whom we're predicting the next offer (ref_old)\n",
    "            # and the most recent offer from the opposing player (ref_rec)\n",
    "            if old_code != 'start_price_usd':\n",
    "                first_off = test_ref['ref_offr_%s' % old_code].copy()\n",
    "            else:\n",
    "                first_off = test_ref['ref_%s' % old_code].copy()\n",
    "            sec_off = test_ref['ref_offr_%s' % rec_code].copy()\n",
    "            \n",
    "            # ensure first and second offer have np.NaN  where necessary\n",
    "            first_off.loc[nan_inds] = np.NaN\n",
    "            sec_off.loc[nan_inds] = np.NaN\n",
    "            \n",
    "            # print('Resp mean: %.3f' % resp_col.mean())\n",
    "            # print('Resp max: %.3f' % resp_col.max())\n",
    "            # print('Resp min: %.3f' % resp_col.min())\n",
    "            \n",
    "            #update first and second offer numpy arrays\n",
    "            first_offr_mat[resp_counter, :] = first_off.values\n",
    "            sec_offr_mat[resp_counter, :] = sec_off.values\n",
    "            \n",
    "            # initializing oracle and computing rough midpoint baseline\n",
    "            base_ser = (first_off + sec_off) / 2\n",
    "            # reset inds where no response is recorded to nan\n",
    "            base_ser.loc[nan_inds] = np.NaN\n",
    "            # initialize oracle\n",
    "            oracle_ser = base_ser.copy()\n",
    "            base_pred[resp_counter, :] = base_ser.values\n",
    "        \n",
    "            rejects = oracle_ser[resp_col == first_off].index\n",
    "            accepts = oracle_ser[resp_col == sec_off].index\n",
    "            # print(accepts)\n",
    "            # print(rejects)\n",
    "            # update accordingly\n",
    "            \n",
    "            # reset oracle values to match accept offers\n",
    "            oracle_ser.loc[accepts] = sec_off.loc[accepts].values\n",
    "\n",
    "            # reset oracle values to match declined offers\n",
    "            oracle_ser.loc[rejects] = first_off.loc[rejects].values\n",
    "            \n",
    "            oracle_pred[resp_counter, :] = oracle_ser.values\n",
    "            \n",
    "            # fill current true targ column with current reference column\n",
    "            true_targs[resp_counter, :] = resp_col.values\n",
    "            resp_counter = resp_counter + 1\n",
    "            \n",
    "        # print('base mean')\n",
    "        # print(np.nanmean(base_pred, axis=1))\n",
    "        # print('oracle mean')\n",
    "        # print(np.nanmean(oracle_pred, axis=1))\n",
    "        # print('first off mean')\n",
    "        # print(np.nanmean(first_offr_mat, axis=1))\n",
    "        # print('sec off mean')\n",
    "        # print(np.nanmean(sec_offr_mat, axis=1))\n",
    "        # print('true_targs mean')\n",
    "        # print(np.nanmean(true_targs, axis=1))\n",
    "        \n",
    "        # counting nas first and second offer\n",
    "        # print('base nan')\n",
    "        # print(np.sum(np.isnan(base_pred), axis=1))\n",
    "        # print('oracle nan')\n",
    "        # print(np.sum(np.isnan(oracle_pred), axis=1))\n",
    "        # print('true targs nan')\n",
    "        # print(np.sum(np.isnan(true_targs), axis=1))\n",
    "        \n",
    "        # convert outputs to tensors\n",
    "        base_pred = torch.from_numpy(base_pred).float()\n",
    "        true_targs = torch.from_numpy(true_targs).float()\n",
    "        oracle_pred = torch.from_numpy(oracle_pred).float()\n",
    "        first_offr_mat = torch.from_numpy(first_offr_mat).float()\n",
    "        sec_offr_mat = torch.from_numpy(sec_offr_mat).float()\n",
    "    \n",
    "        \n",
    "        # create baseline for model where we're predicting b0\n",
    "    # DEPRECATED FOR NOW\n",
    "    else:\n",
    "        # prep baseline for time model\n",
    "        # baseline predicts all offer response take 24 hours\n",
    "        # oracle makes the same prediction except it predicts 0 when \n",
    "        # the offer is automatically rejected/accepted \n",
    "        # and 48 * 60 when the offer expires\n",
    "        base_pred = np.ones(len(test_df.index))\n",
    "        base_pred = base_pred * 24 * 60\n",
    "        base_pred = pd.Series(base_pred, index=test_df.index)\n",
    "        # establishing oracle\n",
    "        oracle = base_pred.copy()\n",
    "        # convert base pred back to simple numpy\n",
    "        base_pred = base_pred.values\n",
    "        base_pred = torch.from_numpy(base_pred).float()\n",
    "        \n",
    "        \n",
    "    # get model class using experiment name\n",
    "    Net = get_model_class(exp_name)\n",
    "\n",
    "    # grab the number of units in an activation layer and other model features\n",
    "    if 'rnn1' not in exp_name:\n",
    "        num_classes = len(test_midpoint_ser.index) - 1  # subtract the filler class\n",
    "    else:\n",
    "        num_classes = len(test_midpoint_ser.index)\n",
    "    \n",
    "    num_offr_feats = test_offr_vals.shape[2]\n",
    "    lstm = 'lstm' in exp_name\n",
    "    init = 'init' in exp_name\n",
    "    # load parameters into net\n",
    "    model = Net(num_offr_feats, num_classes, lstm=lstm, targ_hidden_size=targ_hidden_size,\n",
    "              org_hidden_size=test_const_vals.shape[2], bet_hidden_size=None,\n",
    "              layers=num_layers, init_processing=init)\n",
    "\n",
    "    # load model weights\n",
    "    model.load_state_dict(model_dict)\n",
    "\n",
    "\n",
    "    # convert inputs to tensors\n",
    "    test_length_vals = torch.from_numpy(test_length_vals).long()\n",
    "    test_offr_vals = torch.from_numpy(test_offr_vals).float()\n",
    "    test_const_vals = torch.from_numpy(test_const_vals).float()\n",
    "    \n",
    "    # conduct necessary length sorting and packing\n",
    "    test_length_vals, sorted_inds = torch.sort(test_length_vals, dim=0, descending=True)\n",
    "    test_offr_vals = test_offr_vals[:, sorted_inds, :]\n",
    "    test_const_vals = test_const_vals[:, sorted_inds, :]\n",
    "    first_offr_mat = first_offr_mat[:, sorted_inds]\n",
    "    sec_offr_mat = sec_offr_mat[:, sorted_inds]\n",
    "    true_targs = true_targs[:, sorted_inds]\n",
    "    oracle_pred = oracle_pred[:, sorted_inds]\n",
    "    base_pred = base_pred[:, sorted_inds]\n",
    "    \n",
    "    # print('test vals shape')\n",
    "    # print(test_offr_vals.shape)\n",
    "    # pack sequence\n",
    "    test_offr_vals = torch.nn.utils.rnn.pack_padded_sequence(test_offr_vals,\n",
    "                                                                  test_length_vals)\n",
    "    model.set_init_state(test_const_vals)\n",
    "    # print('making predictions')\n",
    "    mod_pred = model(test_offr_vals)\n",
    "    # print('predictions done')\n",
    "    criterion = nn.MSELoss(size_average=False, reduce=False)\n",
    "    loss = make_loss_wrapper(criterion)\n",
    "    \n",
    "    if offr_mod:\n",
    "        # print(mod_pred.size())\n",
    "        # print(sec_off.size())\n",
    "        # print(first_off.size())\n",
    "        # print('converting predictions to indices')\n",
    "        class_series = pd.Series(test_midpoint_ser.index.values)\n",
    "        mod_pred = get_rnn_pred(mod_pred, class_series)\n",
    "        # print('Unique Predictions')\n",
    "        # print(np.unique(mod_pred.numpy()))\n",
    "        mod_pred = mod_pred * sec_offr_mat + (1-mod_pred) * first_offr_mat\n",
    "        model_loss = loss(mod_pred, true_targs)\n",
    "    \n",
    "    #oracle loss\n",
    "    print(model_loss)\n",
    "    oracle_loss = loss(oracle_pred, true_targs)\n",
    "    print(oracle_loss)\n",
    "    base_loss = loss(base_pred, true_targs)\n",
    "    print(base_loss)\n",
    "    \n",
    "    data_dict = {}\n",
    "    data_dict['train_loss'] = train_loss\n",
    "    data_dict['model_loss'] = model_loss\n",
    "    data_dict['oracle_loss'] = oracle_loss\n",
    "    data_dict['base_loss'] = base_loss\n",
    "    data_dict['response_list'] = response_list\n",
    "    \n",
    "    # for reconstructing true predictionf from\n",
    "    # diff-norm prediction        \n",
    "    if 'val' in exp_name:\n",
    "        data_dict['valid_loss'] = valid_loss\n",
    "\n",
    "    return data_dict"
   ]
  },
  {
   "cell_type": "code",
   "execution_count": 21,
   "metadata": {},
   "outputs": [],
   "source": [
    "def show_loss_plots(loss, valid):\n",
    "    if not valid:\n",
    "        display(Markdown('##### Raw Training Loss Curve'))\n",
    "    else:\n",
    "        display(Markdown('##### Raw Validation Set Loss Curve'))\n",
    "        \n",
    "    x = np.array(list(range(len(loss))))\n",
    "    loss = [float(curr_loss) for curr_loss in loss]\n",
    "    loss = np.array(loss)\n",
    "    plt.plot(x, loss)\n",
    "    plt.show()\n",
    "    \n",
    "    if not valid:\n",
    "        display(Markdown('##### Smoothed Training Loss Curve'))\n",
    "    else:\n",
    "        display(Markdown('##### Smoothed Validation Set Loss Curve'))\n",
    "        \n",
    "    xnew = np.linspace(x.min(), x.max(), 150)\n",
    "    avg = []\n",
    "    prev = 0\n",
    "    for currx in xnew:\n",
    "        portion = loss[int(prev):(int(currx) + 1)]\n",
    "        avg.append(portion.mean())\n",
    "        prev = int(currx)\n",
    "    avg = np.array(avg)\n",
    "    # final error is around 3k\n",
    "    plt.plot(xnew, avg)\n",
    "    plt.show()\n",
    "    \n",
    "    if not valid:\n",
    "        display(Markdown('##### Smoothed and Zoomed Training Loss Curve'))\n",
    "    else:\n",
    "        display(Markdown('##### Smoothed and Zoomed Validation Set Loss Curve'))\n",
    "    xnew = np.linspace(x.min(), x.max(), 150)\n",
    "    avg = []\n",
    "    prev = 0\n",
    "    for currx in xnew:\n",
    "        portion = loss[int(prev):(int(currx) + 1)]\n",
    "        avg.append(portion.mean())\n",
    "        prev = int(currx)\n",
    "    avg = np.array(avg)\n",
    "    xnew = xnew[20:]\n",
    "    avg = avg[20:]\n",
    "    # final error is around 3k\n",
    "    plt.plot(xnew, avg)\n",
    "    plt.show()\n",
    "    "
   ]
  },
  {
   "cell_type": "code",
   "execution_count": 22,
   "metadata": {},
   "outputs": [],
   "source": [
    "def get_rnn_pred(mod_pred, class_series):\n",
    "    '''\n",
    "    Grab class associated with class index from cross entropy model or expecation model with last layer \n",
    "    stripped, for use in squared loss calculation rather than cross ent\n",
    "    '''\n",
    "    _, class_ind = mod_pred.max(1)\n",
    "    class_ind = class_ind.numpy().astype(np.int64)\n",
    "    mod_pred = mod_pred.detach().numpy() \n",
    "    \n",
    "    # print('mod pred shape')\n",
    "    # print('class ind shpae')\n",
    "    # print(class_ind.shape)\n",
    "    # print(np.unique(class_ind))\n",
    "    # print('class series vals')\n",
    "    # print(class_series.values)\n",
    "    # print('class series index')\n",
    "    # print(class_series.index)\n",
    "    \n",
    "    mod_pred = np.zeros(class_ind.shape)\n",
    "    for i in range(mod_pred.shape[0]):\n",
    "        curr_subset = class_series.loc[class_ind[i, :]]\n",
    "        # print(np.unique(curr_subset))\n",
    "        mod_pred[i, :] = curr_subset\n",
    "    # na_flag = np.any(np.isnan(mod_pred))\n",
    "    # if na_flag:\n",
    "    #     raise ValueError('Discovered NA prediction in crossentropy model')\n",
    "    # print(np.unique(mod_pred))\n",
    "    mod_pred = torch.from_numpy(mod_pred).float()\n",
    "    return mod_pred"
   ]
  },
  {
   "cell_type": "code",
   "execution_count": 23,
   "metadata": {},
   "outputs": [],
   "source": [
    "def main():\n",
    "    all_resps = ['s0', 's1', 's2']\n",
    "    summary_test_df = pd.DataFrame(0.0, index=all_resps, columns=['oracle', 'baseline'])\n",
    "    base_col = 'baseline'\n",
    "    oracle_col = 'oracle'\n",
    "    for exp in experiments:\n",
    "        exp_name = exp\n",
    "        offr_mod = 'time' not in exp_name\n",
    "        results_series = pd.Series(0, index=all_resps)\n",
    "        if check_done(exp_name):\n",
    "            # experiment header\n",
    "            display(Markdown('## Experiment Summary: %s' % exp_name))\n",
    "            # display(Markdown('### Characteristics'))\n",
    "            # display(Markdown('* Bins: %s' % get_bin_desc(exp_name)))\n",
    "            # display(Markdown('* Complexity: %s' % get_comp_desc(exp_name)))\n",
    "            # display(Markdown('* Architecture: %s' % get_arc_desc(exp_name)))\n",
    "            # display(Markdown('* Features: %s' % get_feat_desc(exp_name)))\n",
    "            if check_done(exp_name):\n",
    "                data_dict = get_exp_data(exp_name, offr_mod)\n",
    "                display(Markdown('#### Training Curves'))\n",
    "                if len(data_dict['train_loss']) > 0:\n",
    "                    show_loss_plots(data_dict['train_loss'], False)\n",
    "                else:\n",
    "                    display(Markdown('##### Problem with Loss Object'))\n",
    "                if 'val' in exp_name:\n",
    "                    display(Markdown('#### Validation Loss Curve'))\n",
    "                    show_loss_plots(data_dict['valid_loss'], True)\n",
    "\n",
    "                display(Markdown('#### Test Error'))\n",
    "                model_loss = data_dict['model_loss']\n",
    "                base_loss = data_dict['base_loss']\n",
    "                oracle_loss = data_dict['oracle_loss']\n",
    "                resp_list = data_dict['response_list']\n",
    "\n",
    "                # iterate over all measured responses\n",
    "                for resp in all_resps:\n",
    "                    # get the index of the current turn in the response matrix\n",
    "                    seq_num = resp_list.index(resp)\n",
    "                    # extract loss for the current turn\n",
    "                    curr_model_loss = model_loss[seq_num]\n",
    "                    curr_base_loss = base_loss[seq_num]\n",
    "                    curr_oracle_loss = oracle_loss[seq_num]\n",
    "                    # update results series\n",
    "                    results_series.loc[resp] = curr_model_loss\n",
    "                    # update baseline and oracle as necessary\n",
    "                    curr_base_val = summary_test_df.at[resp, base_col]\n",
    "                    curr_oracle_val = summary_test_df.at[resp, base_col]\n",
    "                    if curr_base_val == 0:\n",
    "                        summary_test_df.at[resp, base_col] = curr_base_loss\n",
    "                    if curr_oracle_val == 0:\n",
    "                        summary_test_df.at[resp, oracle_col] = curr_oracle_loss\n",
    "\n",
    "                    # heads up display as well\n",
    "                    display(Markdown('* %s Baseline Loss: %.2f' % (resp, curr_base_loss)))\n",
    "                    display(Markdown('* %s Oracle Loss: %.2f' % (resp, curr_oracle_loss)))\n",
    "                    display(Markdown('* %s Model Loss: %.2f' % (resp, curr_model_loss)))\n",
    "                summary_test_df[exp_name] = results_series\n",
    "            # else:\n",
    "                # display(Markdown('### Model incomplete'))\n",
    "            # TEMP -- FIX WHEN MOVED MASS IMPLEMENTED\n",
    "            ##########################################################################\n",
    "            # if 'cross' in exp_name:\n",
    "                # summary_test_df['mm_' + exp_name] = mm_results_series\n",
    "            ############################################################################\n",
    "    summary_test_df = summary_test_df.transpose()\n",
    "    model_series = pd.Series(summary_test_df.index.values, summary_test_df.index)\n",
    "    summary_test_df.insert(0, 'model', model_series)\n",
    "    pandas_df_to_markdown_table(summary_test_df)"
   ]
  },
  {
   "cell_type": "code",
   "execution_count": 61,
   "metadata": {},
   "outputs": [
    {
     "data": {
      "text/markdown": [
       "## Experiment Summary: rnn2_cat_layr3_zeros"
      ],
      "text/plain": [
       "<IPython.core.display.Markdown object>"
      ]
     },
     "metadata": {},
     "output_type": "display_data"
    },
    {
     "name": "stdout",
     "output_type": "stream",
     "text": [
      "<class 'numpy.ndarray'>\n",
      "<class 'int'>\n",
      "<class 'int'>\n",
      "[698.21597841 360.65571566 242.09429486]\n",
      "[163.91688661  67.3719056   36.5273668 ]\n",
      "[1776.58367751 1538.30880254 1399.44951528]\n"
     ]
    },
    {
     "data": {
      "text/markdown": [
       "#### Training Curves"
      ],
      "text/plain": [
       "<IPython.core.display.Markdown object>"
      ]
     },
     "metadata": {},
     "output_type": "display_data"
    },
    {
     "data": {
      "text/markdown": [
       "##### Raw Training Loss Curve"
      ],
      "text/plain": [
       "<IPython.core.display.Markdown object>"
      ]
     },
     "metadata": {},
     "output_type": "display_data"
    },
    {
     "data": {
      "image/png": "[encoded data removed]",
      "text/plain": [
       "<Figure size 432x288 with 1 Axes>"
      ]
     },
     "metadata": {},
     "output_type": "display_data"
    },
    {
     "data": {
      "text/markdown": [
       "##### Smoothed Training Loss Curve"
      ],
      "text/plain": [
       "<IPython.core.display.Markdown object>"
      ]
     },
     "metadata": {},
     "output_type": "display_data"
    },
    {
     "data": {
      "image/png": "[encoded data removed]",
      "text/plain": [
       "<Figure size 432x288 with 1 Axes>"
      ]
     },
     "metadata": {},
     "output_type": "display_data"
    },
    {
     "data": {
      "text/markdown": [
       "##### Smoothed and Zoomed Training Loss Curve"
      ],
      "text/plain": [
       "<IPython.core.display.Markdown object>"
      ]
     },
     "metadata": {},
     "output_type": "display_data"
    },
    {
     "data": {
      "image/png": "[encoded data removed]",
      "text/plain": [
       "<Figure size 432x288 with 1 Axes>"
      ]
     },
     "metadata": {},
     "output_type": "display_data"
    },
    {
     "data": {
      "text/markdown": [
       "#### Test Error"
      ],
      "text/plain": [
       "<IPython.core.display.Markdown object>"
      ]
     },
     "metadata": {},
     "output_type": "display_data"
    },
    {
     "data": {
      "text/markdown": [
       "* s0 Baseline Loss: 1776.58"
      ],
      "text/plain": [
       "<IPython.core.display.Markdown object>"
      ]
     },
     "metadata": {},
     "output_type": "display_data"
    },
    {
     "data": {
      "text/markdown": [
       "* s0 Oracle Loss: 163.92"
      ],
      "text/plain": [
       "<IPython.core.display.Markdown object>"
      ]
     },
     "metadata": {},
     "output_type": "display_data"
    },
    {
     "data": {
      "text/markdown": [
       "* s0 Model Loss: 698.22"
      ],
      "text/plain": [
       "<IPython.core.display.Markdown object>"
      ]
     },
     "metadata": {},
     "output_type": "display_data"
    },
    {
     "data": {
      "text/markdown": [
       "* s1 Baseline Loss: 1538.31"
      ],
      "text/plain": [
       "<IPython.core.display.Markdown object>"
      ]
     },
     "metadata": {},
     "output_type": "display_data"
    },
    {
     "data": {
      "text/markdown": [
       "* s1 Oracle Loss: 67.37"
      ],
      "text/plain": [
       "<IPython.core.display.Markdown object>"
      ]
     },
     "metadata": {},
     "output_type": "display_data"
    },
    {
     "data": {
      "text/markdown": [
       "* s1 Model Loss: 360.66"
      ],
      "text/plain": [
       "<IPython.core.display.Markdown object>"
      ]
     },
     "metadata": {},
     "output_type": "display_data"
    },
    {
     "data": {
      "text/markdown": [
       "* s2 Baseline Loss: 1399.45"
      ],
      "text/plain": [
       "<IPython.core.display.Markdown object>"
      ]
     },
     "metadata": {},
     "output_type": "display_data"
    },
    {
     "data": {
      "text/markdown": [
       "* s2 Oracle Loss: 36.53"
      ],
      "text/plain": [
       "<IPython.core.display.Markdown object>"
      ]
     },
     "metadata": {},
     "output_type": "display_data"
    },
    {
     "data": {
      "text/markdown": [
       "* s2 Model Loss: 242.09"
      ],
      "text/plain": [
       "<IPython.core.display.Markdown object>"
      ]
     },
     "metadata": {},
     "output_type": "display_data"
    },
    {
     "data": {
      "text/markdown": [
       "## Experiment Summary: rnn2_cat_layr3"
      ],
      "text/plain": [
       "<IPython.core.display.Markdown object>"
      ]
     },
     "metadata": {},
     "output_type": "display_data"
    },
    {
     "name": "stdout",
     "output_type": "stream",
     "text": [
      "<class 'numpy.ndarray'>\n",
      "<class 'int'>\n",
      "<class 'int'>\n",
      "[605.19866895 327.35503763 252.12924658]\n",
      "[163.91688661  67.3719056   36.5273668 ]\n",
      "[1776.58367751 1538.30880254 1399.44951528]\n"
     ]
    },
    {
     "data": {
      "text/markdown": [
       "#### Training Curves"
      ],
      "text/plain": [
       "<IPython.core.display.Markdown object>"
      ]
     },
     "metadata": {},
     "output_type": "display_data"
    },
    {
     "data": {
      "text/markdown": [
       "##### Raw Training Loss Curve"
      ],
      "text/plain": [
       "<IPython.core.display.Markdown object>"
      ]
     },
     "metadata": {},
     "output_type": "display_data"
    },
    {
     "data": {
      "image/png": "[encoded data removed]",
      "text/plain": [
       "<Figure size 432x288 with 1 Axes>"
      ]
     },
     "metadata": {},
     "output_type": "display_data"
    },
    {
     "data": {
      "text/markdown": [
       "##### Smoothed Training Loss Curve"
      ],
      "text/plain": [
       "<IPython.core.display.Markdown object>"
      ]
     },
     "metadata": {},
     "output_type": "display_data"
    },
    {
     "data": {
      "image/png": "[encoded data removed]",
      "text/plain": [
       "<Figure size 432x288 with 1 Axes>"
      ]
     },
     "metadata": {},
     "output_type": "display_data"
    },
    {
     "data": {
      "text/markdown": [
       "##### Smoothed and Zoomed Training Loss Curve"
      ],
      "text/plain": [
       "<IPython.core.display.Markdown object>"
      ]
     },
     "metadata": {},
     "output_type": "display_data"
    },
    {
     "data": {
      "image/png": "[encoded data removed]",
      "text/plain": [
       "<Figure size 432x288 with 1 Axes>"
      ]
     },
     "metadata": {},
     "output_type": "display_data"
    },
    {
     "data": {
      "text/markdown": [
       "#### Test Error"
      ],
      "text/plain": [
       "<IPython.core.display.Markdown object>"
      ]
     },
     "metadata": {},
     "output_type": "display_data"
    },
    {
     "data": {
      "text/markdown": [
       "* s0 Baseline Loss: 1776.58"
      ],
      "text/plain": [
       "<IPython.core.display.Markdown object>"
      ]
     },
     "metadata": {},
     "output_type": "display_data"
    },
    {
     "data": {
      "text/markdown": [
       "* s0 Oracle Loss: 163.92"
      ],
      "text/plain": [
       "<IPython.core.display.Markdown object>"
      ]
     },
     "metadata": {},
     "output_type": "display_data"
    },
    {
     "data": {
      "text/markdown": [
       "* s0 Model Loss: 605.20"
      ],
      "text/plain": [
       "<IPython.core.display.Markdown object>"
      ]
     },
     "metadata": {},
     "output_type": "display_data"
    },
    {
     "data": {
      "text/markdown": [
       "* s1 Baseline Loss: 1538.31"
      ],
      "text/plain": [
       "<IPython.core.display.Markdown object>"
      ]
     },
     "metadata": {},
     "output_type": "display_data"
    },
    {
     "data": {
      "text/markdown": [
       "* s1 Oracle Loss: 67.37"
      ],
      "text/plain": [
       "<IPython.core.display.Markdown object>"
      ]
     },
     "metadata": {},
     "output_type": "display_data"
    },
    {
     "data": {
      "text/markdown": [
       "* s1 Model Loss: 327.36"
      ],
      "text/plain": [
       "<IPython.core.display.Markdown object>"
      ]
     },
     "metadata": {},
     "output_type": "display_data"
    },
    {
     "data": {
      "text/markdown": [
       "* s2 Baseline Loss: 1399.45"
      ],
      "text/plain": [
       "<IPython.core.display.Markdown object>"
      ]
     },
     "metadata": {},
     "output_type": "display_data"
    },
    {
     "data": {
      "text/markdown": [
       "* s2 Oracle Loss: 36.53"
      ],
      "text/plain": [
       "<IPython.core.display.Markdown object>"
      ]
     },
     "metadata": {},
     "output_type": "display_data"
    },
    {
     "data": {
      "text/markdown": [
       "* s2 Model Loss: 252.13"
      ],
      "text/plain": [
       "<IPython.core.display.Markdown object>"
      ]
     },
     "metadata": {},
     "output_type": "display_data"
    },
    {
     "data": {
      "text/markdown": [
       "## Experiment Summary: rnn2_cat_layr2_hidn75"
      ],
      "text/plain": [
       "<IPython.core.display.Markdown object>"
      ]
     },
     "metadata": {},
     "output_type": "display_data"
    },
    {
     "name": "stdout",
     "output_type": "stream",
     "text": [
      "<class 'numpy.ndarray'>\n",
      "<class 'int'>\n",
      "<class 'int'>\n",
      "[606.64145924 307.78042572 217.73448512]\n",
      "[163.91688661  67.3719056   36.5273668 ]\n",
      "[1776.58367751 1538.30880254 1399.44951528]\n"
     ]
    },
    {
     "data": {
      "text/markdown": [
       "#### Training Curves"
      ],
      "text/plain": [
       "<IPython.core.display.Markdown object>"
      ]
     },
     "metadata": {},
     "output_type": "display_data"
    },
    {
     "data": {
      "text/markdown": [
       "##### Raw Training Loss Curve"
      ],
      "text/plain": [
       "<IPython.core.display.Markdown object>"
      ]
     },
     "metadata": {},
     "output_type": "display_data"
    },
    {
     "data": {
      "image/png": "[encoded data removed]",
      "text/plain": [
       "<Figure size 432x288 with 1 Axes>"
      ]
     },
     "metadata": {},
     "output_type": "display_data"
    },
    {
     "data": {
      "text/markdown": [
       "##### Smoothed Training Loss Curve"
      ],
      "text/plain": [
       "<IPython.core.display.Markdown object>"
      ]
     },
     "metadata": {},
     "output_type": "display_data"
    },
    {
     "data": {
      "image/png": "[encoded data removed]",
      "text/plain": [
       "<Figure size 432x288 with 1 Axes>"
      ]
     },
     "metadata": {},
     "output_type": "display_data"
    },
    {
     "data": {
      "text/markdown": [
       "##### Smoothed and Zoomed Training Loss Curve"
      ],
      "text/plain": [
       "<IPython.core.display.Markdown object>"
      ]
     },
     "metadata": {},
     "output_type": "display_data"
    },
    {
     "data": {
      "image/png": "[encoded data removed]",
      "text/plain": [
       "<Figure size 432x288 with 1 Axes>"
      ]
     },
     "metadata": {},
     "output_type": "display_data"
    },
    {
     "data": {
      "text/markdown": [
       "#### Test Error"
      ],
      "text/plain": [
       "<IPython.core.display.Markdown object>"
      ]
     },
     "metadata": {},
     "output_type": "display_data"
    },
    {
     "data": {
      "text/markdown": [
       "* s0 Baseline Loss: 1776.58"
      ],
      "text/plain": [
       "<IPython.core.display.Markdown object>"
      ]
     },
     "metadata": {},
     "output_type": "display_data"
    },
    {
     "data": {
      "text/markdown": [
       "* s0 Oracle Loss: 163.92"
      ],
      "text/plain": [
       "<IPython.core.display.Markdown object>"
      ]
     },
     "metadata": {},
     "output_type": "display_data"
    },
    {
     "data": {
      "text/markdown": [
       "* s0 Model Loss: 606.64"
      ],
      "text/plain": [
       "<IPython.core.display.Markdown object>"
      ]
     },
     "metadata": {},
     "output_type": "display_data"
    },
    {
     "data": {
      "text/markdown": [
       "* s1 Baseline Loss: 1538.31"
      ],
      "text/plain": [
       "<IPython.core.display.Markdown object>"
      ]
     },
     "metadata": {},
     "output_type": "display_data"
    },
    {
     "data": {
      "text/markdown": [
       "* s1 Oracle Loss: 67.37"
      ],
      "text/plain": [
       "<IPython.core.display.Markdown object>"
      ]
     },
     "metadata": {},
     "output_type": "display_data"
    },
    {
     "data": {
      "text/markdown": [
       "* s1 Model Loss: 307.78"
      ],
      "text/plain": [
       "<IPython.core.display.Markdown object>"
      ]
     },
     "metadata": {},
     "output_type": "display_data"
    },
    {
     "data": {
      "text/markdown": [
       "* s2 Baseline Loss: 1399.45"
      ],
      "text/plain": [
       "<IPython.core.display.Markdown object>"
      ]
     },
     "metadata": {},
     "output_type": "display_data"
    },
    {
     "data": {
      "text/markdown": [
       "* s2 Oracle Loss: 36.53"
      ],
      "text/plain": [
       "<IPython.core.display.Markdown object>"
      ]
     },
     "metadata": {},
     "output_type": "display_data"
    },
    {
     "data": {
      "text/markdown": [
       "* s2 Model Loss: 217.73"
      ],
      "text/plain": [
       "<IPython.core.display.Markdown object>"
      ]
     },
     "metadata": {},
     "output_type": "display_data"
    },
    {
     "data": {
      "text/markdown": [
       "## Experiment Summary: rnn2_cat_layr2_zeros"
      ],
      "text/plain": [
       "<IPython.core.display.Markdown object>"
      ]
     },
     "metadata": {},
     "output_type": "display_data"
    },
    {
     "name": "stdout",
     "output_type": "stream",
     "text": [
      "<class 'numpy.ndarray'>\n",
      "<class 'int'>\n",
      "<class 'int'>\n",
      "[568.07579856 297.17937768 226.79211772]\n",
      "[163.91688661  67.3719056   36.5273668 ]\n",
      "[1776.58367751 1538.30880254 1399.44951528]\n"
     ]
    },
    {
     "data": {
      "text/markdown": [
       "#### Training Curves"
      ],
      "text/plain": [
       "<IPython.core.display.Markdown object>"
      ]
     },
     "metadata": {},
     "output_type": "display_data"
    },
    {
     "data": {
      "text/markdown": [
       "##### Raw Training Loss Curve"
      ],
      "text/plain": [
       "<IPython.core.display.Markdown object>"
      ]
     },
     "metadata": {},
     "output_type": "display_data"
    },
    {
     "data": {
      "image/png": "[encoded data removed]",
      "text/plain": [
       "<Figure size 432x288 with 1 Axes>"
      ]
     },
     "metadata": {},
     "output_type": "display_data"
    },
    {
     "data": {
      "text/markdown": [
       "##### Smoothed Training Loss Curve"
      ],
      "text/plain": [
       "<IPython.core.display.Markdown object>"
      ]
     },
     "metadata": {},
     "output_type": "display_data"
    },
    {
     "data": {
      "image/png": "[encoded data removed]",
      "text/plain": [
       "<Figure size 432x288 with 1 Axes>"
      ]
     },
     "metadata": {},
     "output_type": "display_data"
    },
    {
     "data": {
      "text/markdown": [
       "##### Smoothed and Zoomed Training Loss Curve"
      ],
      "text/plain": [
       "<IPython.core.display.Markdown object>"
      ]
     },
     "metadata": {},
     "output_type": "display_data"
    },
    {
     "data": {
      "image/png": "[encoded data removed]",
      "text/plain": [
       "<Figure size 432x288 with 1 Axes>"
      ]
     },
     "metadata": {},
     "output_type": "display_data"
    },
    {
     "data": {
      "text/markdown": [
       "#### Test Error"
      ],
      "text/plain": [
       "<IPython.core.display.Markdown object>"
      ]
     },
     "metadata": {},
     "output_type": "display_data"
    },
    {
     "data": {
      "text/markdown": [
       "* s0 Baseline Loss: 1776.58"
      ],
      "text/plain": [
       "<IPython.core.display.Markdown object>"
      ]
     },
     "metadata": {},
     "output_type": "display_data"
    },
    {
     "data": {
      "text/markdown": [
       "* s0 Oracle Loss: 163.92"
      ],
      "text/plain": [
       "<IPython.core.display.Markdown object>"
      ]
     },
     "metadata": {},
     "output_type": "display_data"
    },
    {
     "data": {
      "text/markdown": [
       "* s0 Model Loss: 568.08"
      ],
      "text/plain": [
       "<IPython.core.display.Markdown object>"
      ]
     },
     "metadata": {},
     "output_type": "display_data"
    },
    {
     "data": {
      "text/markdown": [
       "* s1 Baseline Loss: 1538.31"
      ],
      "text/plain": [
       "<IPython.core.display.Markdown object>"
      ]
     },
     "metadata": {},
     "output_type": "display_data"
    },
    {
     "data": {
      "text/markdown": [
       "* s1 Oracle Loss: 67.37"
      ],
      "text/plain": [
       "<IPython.core.display.Markdown object>"
      ]
     },
     "metadata": {},
     "output_type": "display_data"
    },
    {
     "data": {
      "text/markdown": [
       "* s1 Model Loss: 297.18"
      ],
      "text/plain": [
       "<IPython.core.display.Markdown object>"
      ]
     },
     "metadata": {},
     "output_type": "display_data"
    },
    {
     "data": {
      "text/markdown": [
       "* s2 Baseline Loss: 1399.45"
      ],
      "text/plain": [
       "<IPython.core.display.Markdown object>"
      ]
     },
     "metadata": {},
     "output_type": "display_data"
    },
    {
     "data": {
      "text/markdown": [
       "* s2 Oracle Loss: 36.53"
      ],
      "text/plain": [
       "<IPython.core.display.Markdown object>"
      ]
     },
     "metadata": {},
     "output_type": "display_data"
    },
    {
     "data": {
      "text/markdown": [
       "* s2 Model Loss: 226.79"
      ],
      "text/plain": [
       "<IPython.core.display.Markdown object>"
      ]
     },
     "metadata": {},
     "output_type": "display_data"
    },
    {
     "data": {
      "text/markdown": [
       "## Experiment Summary: rnn2_cat_layr2"
      ],
      "text/plain": [
       "<IPython.core.display.Markdown object>"
      ]
     },
     "metadata": {},
     "output_type": "display_data"
    },
    {
     "name": "stdout",
     "output_type": "stream",
     "text": [
      "<class 'numpy.ndarray'>\n",
      "<class 'int'>\n",
      "<class 'int'>\n",
      "[572.5316441  304.19018478 212.21120976]\n",
      "[163.91688661  67.3719056   36.5273668 ]\n",
      "[1776.58367751 1538.30880254 1399.44951528]\n"
     ]
    },
    {
     "data": {
      "text/markdown": [
       "#### Training Curves"
      ],
      "text/plain": [
       "<IPython.core.display.Markdown object>"
      ]
     },
     "metadata": {},
     "output_type": "display_data"
    },
    {
     "data": {
      "text/markdown": [
       "##### Raw Training Loss Curve"
      ],
      "text/plain": [
       "<IPython.core.display.Markdown object>"
      ]
     },
     "metadata": {},
     "output_type": "display_data"
    },
    {
     "data": {
      "image/png": "[encoded data removed]",
      "text/plain": [
       "<Figure size 432x288 with 1 Axes>"
      ]
     },
     "metadata": {},
     "output_type": "display_data"
    },
    {
     "data": {
      "text/markdown": [
       "##### Smoothed Training Loss Curve"
      ],
      "text/plain": [
       "<IPython.core.display.Markdown object>"
      ]
     },
     "metadata": {},
     "output_type": "display_data"
    },
    {
     "data": {
      "image/png": "[encoded data removed]",
      "text/plain": [
       "<Figure size 432x288 with 1 Axes>"
      ]
     },
     "metadata": {},
     "output_type": "display_data"
    },
    {
     "data": {
      "text/markdown": [
       "##### Smoothed and Zoomed Training Loss Curve"
      ],
      "text/plain": [
       "<IPython.core.display.Markdown object>"
      ]
     },
     "metadata": {},
     "output_type": "display_data"
    },
    {
     "data": {
      "image/png": "[encoded data removed]",
      "text/plain": [
       "<Figure size 432x288 with 1 Axes>"
      ]
     },
     "metadata": {},
     "output_type": "display_data"
    },
    {
     "data": {
      "text/markdown": [
       "#### Test Error"
      ],
      "text/plain": [
       "<IPython.core.display.Markdown object>"
      ]
     },
     "metadata": {},
     "output_type": "display_data"
    },
    {
     "data": {
      "text/markdown": [
       "* s0 Baseline Loss: 1776.58"
      ],
      "text/plain": [
       "<IPython.core.display.Markdown object>"
      ]
     },
     "metadata": {},
     "output_type": "display_data"
    },
    {
     "data": {
      "text/markdown": [
       "* s0 Oracle Loss: 163.92"
      ],
      "text/plain": [
       "<IPython.core.display.Markdown object>"
      ]
     },
     "metadata": {},
     "output_type": "display_data"
    },
    {
     "data": {
      "text/markdown": [
       "* s0 Model Loss: 572.53"
      ],
      "text/plain": [
       "<IPython.core.display.Markdown object>"
      ]
     },
     "metadata": {},
     "output_type": "display_data"
    },
    {
     "data": {
      "text/markdown": [
       "* s1 Baseline Loss: 1538.31"
      ],
      "text/plain": [
       "<IPython.core.display.Markdown object>"
      ]
     },
     "metadata": {},
     "output_type": "display_data"
    },
    {
     "data": {
      "text/markdown": [
       "* s1 Oracle Loss: 67.37"
      ],
      "text/plain": [
       "<IPython.core.display.Markdown object>"
      ]
     },
     "metadata": {},
     "output_type": "display_data"
    },
    {
     "data": {
      "text/markdown": [
       "* s1 Model Loss: 304.19"
      ],
      "text/plain": [
       "<IPython.core.display.Markdown object>"
      ]
     },
     "metadata": {},
     "output_type": "display_data"
    },
    {
     "data": {
      "text/markdown": [
       "* s2 Baseline Loss: 1399.45"
      ],
      "text/plain": [
       "<IPython.core.display.Markdown object>"
      ]
     },
     "metadata": {},
     "output_type": "display_data"
    },
    {
     "data": {
      "text/markdown": [
       "* s2 Oracle Loss: 36.53"
      ],
      "text/plain": [
       "<IPython.core.display.Markdown object>"
      ]
     },
     "metadata": {},
     "output_type": "display_data"
    },
    {
     "data": {
      "text/markdown": [
       "* s2 Model Loss: 212.21"
      ],
      "text/plain": [
       "<IPython.core.display.Markdown object>"
      ]
     },
     "metadata": {},
     "output_type": "display_data"
    },
    {
     "data": {
      "text/markdown": [
       "## Experiment Summary: rnn2_cat"
      ],
      "text/plain": [
       "<IPython.core.display.Markdown object>"
      ]
     },
     "metadata": {},
     "output_type": "display_data"
    },
    {
     "name": "stdout",
     "output_type": "stream",
     "text": [
      "<class 'numpy.ndarray'>\n",
      "<class 'int'>\n",
      "<class 'int'>\n",
      "[658.79956832 346.06397555 283.30560874]\n",
      "[163.91688661  67.3719056   36.5273668 ]\n",
      "[1776.58367751 1538.30880254 1399.44951528]\n"
     ]
    },
    {
     "data": {
      "text/markdown": [
       "#### Training Curves"
      ],
      "text/plain": [
       "<IPython.core.display.Markdown object>"
      ]
     },
     "metadata": {},
     "output_type": "display_data"
    },
    {
     "data": {
      "text/markdown": [
       "##### Raw Training Loss Curve"
      ],
      "text/plain": [
       "<IPython.core.display.Markdown object>"
      ]
     },
     "metadata": {},
     "output_type": "display_data"
    },
    {
     "data": {
      "image/png": "[encoded data removed]",
      "text/plain": [
       "<Figure size 432x288 with 1 Axes>"
      ]
     },
     "metadata": {},
     "output_type": "display_data"
    },
    {
     "data": {
      "text/markdown": [
       "##### Smoothed Training Loss Curve"
      ],
      "text/plain": [
       "<IPython.core.display.Markdown object>"
      ]
     },
     "metadata": {},
     "output_type": "display_data"
    },
    {
     "data": {
      "image/png": "[encoded data removed]",
      "text/plain": [
       "<Figure size 432x288 with 1 Axes>"
      ]
     },
     "metadata": {},
     "output_type": "display_data"
    },
    {
     "data": {
      "text/markdown": [
       "##### Smoothed and Zoomed Training Loss Curve"
      ],
      "text/plain": [
       "<IPython.core.display.Markdown object>"
      ]
     },
     "metadata": {},
     "output_type": "display_data"
    },
    {
     "data": {
      "image/png": "[encoded data removed]",
      "text/plain": [
       "<Figure size 432x288 with 1 Axes>"
      ]
     },
     "metadata": {},
     "output_type": "display_data"
    },
    {
     "data": {
      "text/markdown": [
       "#### Test Error"
      ],
      "text/plain": [
       "<IPython.core.display.Markdown object>"
      ]
     },
     "metadata": {},
     "output_type": "display_data"
    },
    {
     "data": {
      "text/markdown": [
       "* s0 Baseline Loss: 1776.58"
      ],
      "text/plain": [
       "<IPython.core.display.Markdown object>"
      ]
     },
     "metadata": {},
     "output_type": "display_data"
    },
    {
     "data": {
      "text/markdown": [
       "* s0 Oracle Loss: 163.92"
      ],
      "text/plain": [
       "<IPython.core.display.Markdown object>"
      ]
     },
     "metadata": {},
     "output_type": "display_data"
    },
    {
     "data": {
      "text/markdown": [
       "* s0 Model Loss: 658.80"
      ],
      "text/plain": [
       "<IPython.core.display.Markdown object>"
      ]
     },
     "metadata": {},
     "output_type": "display_data"
    },
    {
     "data": {
      "text/markdown": [
       "* s1 Baseline Loss: 1538.31"
      ],
      "text/plain": [
       "<IPython.core.display.Markdown object>"
      ]
     },
     "metadata": {},
     "output_type": "display_data"
    },
    {
     "data": {
      "text/markdown": [
       "* s1 Oracle Loss: 67.37"
      ],
      "text/plain": [
       "<IPython.core.display.Markdown object>"
      ]
     },
     "metadata": {},
     "output_type": "display_data"
    },
    {
     "data": {
      "text/markdown": [
       "* s1 Model Loss: 346.06"
      ],
      "text/plain": [
       "<IPython.core.display.Markdown object>"
      ]
     },
     "metadata": {},
     "output_type": "display_data"
    },
    {
     "data": {
      "text/markdown": [
       "* s2 Baseline Loss: 1399.45"
      ],
      "text/plain": [
       "<IPython.core.display.Markdown object>"
      ]
     },
     "metadata": {},
     "output_type": "display_data"
    },
    {
     "data": {
      "text/markdown": [
       "* s2 Oracle Loss: 36.53"
      ],
      "text/plain": [
       "<IPython.core.display.Markdown object>"
      ]
     },
     "metadata": {},
     "output_type": "display_data"
    },
    {
     "data": {
      "text/markdown": [
       "* s2 Model Loss: 283.31"
      ],
      "text/plain": [
       "<IPython.core.display.Markdown object>"
      ]
     },
     "metadata": {},
     "output_type": "display_data"
    },
    {
     "data": {
      "text/markdown": [
       "## Experiment Summary: rnn2_simp_layr3_zeros"
      ],
      "text/plain": [
       "<IPython.core.display.Markdown object>"
      ]
     },
     "metadata": {},
     "output_type": "display_data"
    },
    {
     "name": "stdout",
     "output_type": "stream",
     "text": [
      "<class 'numpy.ndarray'>\n",
      "<class 'int'>\n",
      "<class 'int'>\n",
      "[579.5715956  213.90340175 265.91328362 171.11096214 202.28764122]\n",
      "[163.91688661 584.05827986  67.3719056  708.30332667  36.5273668 ]\n",
      "[1776.58367751 1110.81048358 1538.30880254  908.02709715 1399.44951528]\n"
     ]
    },
    {
     "data": {
      "text/markdown": [
       "#### Training Curves"
      ],
      "text/plain": [
       "<IPython.core.display.Markdown object>"
      ]
     },
     "metadata": {},
     "output_type": "display_data"
    },
    {
     "data": {
      "text/markdown": [
       "##### Raw Training Loss Curve"
      ],
      "text/plain": [
       "<IPython.core.display.Markdown object>"
      ]
     },
     "metadata": {},
     "output_type": "display_data"
    },
    {
     "data": {
      "image/png": "[encoded data removed]",
      "text/plain": [
       "<Figure size 432x288 with 1 Axes>"
      ]
     },
     "metadata": {},
     "output_type": "display_data"
    },
    {
     "data": {
      "text/markdown": [
       "##### Smoothed Training Loss Curve"
      ],
      "text/plain": [
       "<IPython.core.display.Markdown object>"
      ]
     },
     "metadata": {},
     "output_type": "display_data"
    },
    {
     "data": {
      "image/png": "[encoded data removed]",
      "text/plain": [
       "<Figure size 432x288 with 1 Axes>"
      ]
     },
     "metadata": {},
     "output_type": "display_data"
    },
    {
     "data": {
      "text/markdown": [
       "##### Smoothed and Zoomed Training Loss Curve"
      ],
      "text/plain": [
       "<IPython.core.display.Markdown object>"
      ]
     },
     "metadata": {},
     "output_type": "display_data"
    },
    {
     "data": {
      "image/png": "[encoded data removed]",
      "text/plain": [
       "<Figure size 432x288 with 1 Axes>"
      ]
     },
     "metadata": {},
     "output_type": "display_data"
    },
    {
     "data": {
      "text/markdown": [
       "#### Test Error"
      ],
      "text/plain": [
       "<IPython.core.display.Markdown object>"
      ]
     },
     "metadata": {},
     "output_type": "display_data"
    },
    {
     "data": {
      "text/markdown": [
       "* s0 Baseline Loss: 1776.58"
      ],
      "text/plain": [
       "<IPython.core.display.Markdown object>"
      ]
     },
     "metadata": {},
     "output_type": "display_data"
    },
    {
     "data": {
      "text/markdown": [
       "* s0 Oracle Loss: 163.92"
      ],
      "text/plain": [
       "<IPython.core.display.Markdown object>"
      ]
     },
     "metadata": {},
     "output_type": "display_data"
    },
    {
     "data": {
      "text/markdown": [
       "* s0 Model Loss: 579.57"
      ],
      "text/plain": [
       "<IPython.core.display.Markdown object>"
      ]
     },
     "metadata": {},
     "output_type": "display_data"
    },
    {
     "data": {
      "text/markdown": [
       "* s1 Baseline Loss: 1538.31"
      ],
      "text/plain": [
       "<IPython.core.display.Markdown object>"
      ]
     },
     "metadata": {},
     "output_type": "display_data"
    },
    {
     "data": {
      "text/markdown": [
       "* s1 Oracle Loss: 67.37"
      ],
      "text/plain": [
       "<IPython.core.display.Markdown object>"
      ]
     },
     "metadata": {},
     "output_type": "display_data"
    },
    {
     "data": {
      "text/markdown": [
       "* s1 Model Loss: 265.91"
      ],
      "text/plain": [
       "<IPython.core.display.Markdown object>"
      ]
     },
     "metadata": {},
     "output_type": "display_data"
    },
    {
     "data": {
      "text/markdown": [
       "* s2 Baseline Loss: 1399.45"
      ],
      "text/plain": [
       "<IPython.core.display.Markdown object>"
      ]
     },
     "metadata": {},
     "output_type": "display_data"
    },
    {
     "data": {
      "text/markdown": [
       "* s2 Oracle Loss: 36.53"
      ],
      "text/plain": [
       "<IPython.core.display.Markdown object>"
      ]
     },
     "metadata": {},
     "output_type": "display_data"
    },
    {
     "data": {
      "text/markdown": [
       "* s2 Model Loss: 202.29"
      ],
      "text/plain": [
       "<IPython.core.display.Markdown object>"
      ]
     },
     "metadata": {},
     "output_type": "display_data"
    },
    {
     "data": {
      "text/markdown": [
       "## Experiment Summary: rnn2_simp_layr3"
      ],
      "text/plain": [
       "<IPython.core.display.Markdown object>"
      ]
     },
     "metadata": {},
     "output_type": "display_data"
    },
    {
     "name": "stdout",
     "output_type": "stream",
     "text": [
      "<class 'numpy.ndarray'>\n",
      "<class 'int'>\n",
      "<class 'int'>\n",
      "[852.67683482 200.79579292 352.95878537 155.73514983 295.8656556 ]\n",
      "[163.91688661 584.05827986  67.3719056  708.30332667  36.5273668 ]\n",
      "[1776.58367751 1110.81048358 1538.30880254  908.02709715 1399.44951528]\n"
     ]
    },
    {
     "data": {
      "text/markdown": [
       "#### Training Curves"
      ],
      "text/plain": [
       "<IPython.core.display.Markdown object>"
      ]
     },
     "metadata": {},
     "output_type": "display_data"
    },
    {
     "data": {
      "text/markdown": [
       "##### Raw Training Loss Curve"
      ],
      "text/plain": [
       "<IPython.core.display.Markdown object>"
      ]
     },
     "metadata": {},
     "output_type": "display_data"
    },
    {
     "data": {
      "image/png": "[encoded data removed]",
      "text/plain": [
       "<Figure size 432x288 with 1 Axes>"
      ]
     },
     "metadata": {},
     "output_type": "display_data"
    },
    {
     "data": {
      "text/markdown": [
       "##### Smoothed Training Loss Curve"
      ],
      "text/plain": [
       "<IPython.core.display.Markdown object>"
      ]
     },
     "metadata": {},
     "output_type": "display_data"
    },
    {
     "data": {
      "image/png": "[encoded data removed]",
      "text/plain": [
       "<Figure size 432x288 with 1 Axes>"
      ]
     },
     "metadata": {},
     "output_type": "display_data"
    },
    {
     "data": {
      "text/markdown": [
       "##### Smoothed and Zoomed Training Loss Curve"
      ],
      "text/plain": [
       "<IPython.core.display.Markdown object>"
      ]
     },
     "metadata": {},
     "output_type": "display_data"
    },
    {
     "data": {
      "image/png": "[encoded data removed]",
      "text/plain": [
       "<Figure size 432x288 with 1 Axes>"
      ]
     },
     "metadata": {},
     "output_type": "display_data"
    },
    {
     "data": {
      "text/markdown": [
       "#### Test Error"
      ],
      "text/plain": [
       "<IPython.core.display.Markdown object>"
      ]
     },
     "metadata": {},
     "output_type": "display_data"
    },
    {
     "data": {
      "text/markdown": [
       "* s0 Baseline Loss: 1776.58"
      ],
      "text/plain": [
       "<IPython.core.display.Markdown object>"
      ]
     },
     "metadata": {},
     "output_type": "display_data"
    },
    {
     "data": {
      "text/markdown": [
       "* s0 Oracle Loss: 163.92"
      ],
      "text/plain": [
       "<IPython.core.display.Markdown object>"
      ]
     },
     "metadata": {},
     "output_type": "display_data"
    },
    {
     "data": {
      "text/markdown": [
       "* s0 Model Loss: 852.68"
      ],
      "text/plain": [
       "<IPython.core.display.Markdown object>"
      ]
     },
     "metadata": {},
     "output_type": "display_data"
    },
    {
     "data": {
      "text/markdown": [
       "* s1 Baseline Loss: 1538.31"
      ],
      "text/plain": [
       "<IPython.core.display.Markdown object>"
      ]
     },
     "metadata": {},
     "output_type": "display_data"
    },
    {
     "data": {
      "text/markdown": [
       "* s1 Oracle Loss: 67.37"
      ],
      "text/plain": [
       "<IPython.core.display.Markdown object>"
      ]
     },
     "metadata": {},
     "output_type": "display_data"
    },
    {
     "data": {
      "text/markdown": [
       "* s1 Model Loss: 352.96"
      ],
      "text/plain": [
       "<IPython.core.display.Markdown object>"
      ]
     },
     "metadata": {},
     "output_type": "display_data"
    },
    {
     "data": {
      "text/markdown": [
       "* s2 Baseline Loss: 1399.45"
      ],
      "text/plain": [
       "<IPython.core.display.Markdown object>"
      ]
     },
     "metadata": {},
     "output_type": "display_data"
    },
    {
     "data": {
      "text/markdown": [
       "* s2 Oracle Loss: 36.53"
      ],
      "text/plain": [
       "<IPython.core.display.Markdown object>"
      ]
     },
     "metadata": {},
     "output_type": "display_data"
    },
    {
     "data": {
      "text/markdown": [
       "* s2 Model Loss: 295.87"
      ],
      "text/plain": [
       "<IPython.core.display.Markdown object>"
      ]
     },
     "metadata": {},
     "output_type": "display_data"
    },
    {
     "data": {
      "text/markdown": [
       "model|s0|s1|s2\n",
       "---|---|---|---\n",
       "oracle|163.9168866141811|67.37190560137539|36.527366796446515\n",
       "baseline|1776.583677509689|1538.3088025431973|1399.4495152775526\n",
       "rnn2_cat_layr3_zeros|698.2159784063552|360.65571565618484|242.0942948632374\n",
       "rnn2_cat_layr3|605.1986689493692|327.3550376330427|252.12924657733248\n",
       "rnn2_cat_layr2_hidn75|606.6414592419686|307.7804257164259|217.73448512084732\n",
       "rnn2_cat_layr2_zeros|568.0757985593118|297.1793776771402|226.79211771542094\n",
       "rnn2_cat_layr2|572.5316440966358|304.1901847841224|212.21120975906837\n",
       "rnn2_cat|658.7995683190929|346.06397555161317|283.3056087407039\n",
       "rnn2_simp_layr3_zeros|579.5715955963132|265.91328361608396|202.28764121886707\n",
       "rnn2_simp_layr3|852.6768348246923|352.9587853746175|295.86565560252825\n"
      ],
      "text/plain": [
       "<IPython.core.display.Markdown object>"
      ]
     },
     "metadata": {},
     "output_type": "display_data"
    }
   ],
   "source": [
    "main()"
   ]
  },
  {
   "cell_type": "code",
   "execution_count": null,
   "metadata": {},
   "outputs": [],
   "source": []
  }
 ],
 "metadata": {
  "kernelspec": {
   "display_name": "Python 3",
   "language": "python",
   "name": "python3"
  },
  "language_info": {
   "codemirror_mode": {
    "name": "ipython",
    "version": 3
   },
   "file_extension": ".py",
   "mimetype": "text/x-python",
   "name": "python",
   "nbconvert_exporter": "python",
   "pygments_lexer": "ipython3",
   "version": "3.6.3"
  }
 },
 "nbformat": 4,
 "nbformat_minor": 2
}
