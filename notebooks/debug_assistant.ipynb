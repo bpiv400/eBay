{
 "cells": [
  {
   "cell_type": "code",
   "execution_count": 138,
   "metadata": {},
   "outputs": [
    {
     "name": "stdout",
     "output_type": "stream",
     "text": [
      "                                  accept    byr censored clock   flag price  \\\n",
      "meta leaf cndtn lstg thread index                                             \n",
      "1    1    1     9    0      0      False  False    False   265  False     0   \n",
      "                     1      1      False   True    False   267  False    30   \n",
      "                            2      False  False    False   268  False    85   \n",
      "                10   0      0      False  False    False   270  False     0   \n",
      "                9    1      3       True   True    False   275  False    85   \n",
      "\n",
      "                                  reject start_price  \n",
      "meta leaf cndtn lstg thread index                     \n",
      "1    1    1     9    0      0      False         100  \n",
      "                     1      1      False         100  \n",
      "                            2      False         100  \n",
      "                10   0      0      False         100  \n",
      "                9    1      3      False         100  \n",
      "                                   accept    byr  censored  clock   flag  \\\n",
      "meta leaf cndtn lstg thread index                                          \n",
      "2    1    1     20   0      0       False  False     False    265  False   \n",
      "                     1      1       False   True     False    267  False   \n",
      "                            2       False  False     False    268  False   \n",
      "                21   0      0       False  False     False    270  False   \n",
      "                20   1      3        True   True     False    275  False   \n",
      "\n",
      "                                   price  reject start_price  \n",
      "meta leaf cndtn lstg thread index                             \n",
      "2    1    1     20   0      0          0   False         100  \n",
      "                     1      1         30   False         100  \n",
      "                            2         85   False         100  \n",
      "                21   0      0          0   False         100  \n",
      "                20   1      3         85   False         100  \n"
     ]
    }
   ],
   "source": [
    "import pandas as pd\n",
    "import numpy as np\n",
    "import processing.b_feats.util\n",
    "import processing.processing_utils\n",
    "import importlib\n",
    "from constants import LEVELS, START\n",
    "from compress_pickle import dump, load\n",
    "import sys\n",
    "sys.path.append('repo/processing/b_feats/test/')\n",
    "import meta_time_feats_test  \n",
    "importlib.reload(meta_time_feats_test)\n",
    "importlib.reload(processing.b_feats.util)\n",
    "setup_complex_lstg = meta_time_feats_test.setup_complex_lstg\n",
    "events = setup_complex_lstg(None, meta=1, leaf=1)\n",
    "events = setup_complex_lstg(events, meta=2, leaf=1, starter=11)"
   ]
  },
  {
   "cell_type": "code",
   "execution_count": 139,
   "metadata": {},
   "outputs": [
    {
     "data": {
      "text/plain": [
       "Index(['accept', 'byr', 'censored', 'clock', 'flag', 'price', 'reject',\n",
       "       'start_price'],\n",
       "      dtype='object')"
      ]
     },
     "execution_count": 139,
     "metadata": {},
     "output_type": "execute_result"
    }
   ],
   "source": [
    "events.columns"
   ]
  },
  {
   "cell_type": "code",
   "execution_count": 140,
   "metadata": {},
   "outputs": [
    {
     "data": {
      "text/plain": [
       "meta  leaf  cndtn  thread  index\n",
       "1     1     1      0       0         NaN\n",
       "                   1       1         NaN\n",
       "                           2         NaN\n",
       "                           3        0.85\n",
       "dtype: object"
      ]
     },
     "execution_count": 140,
     "metadata": {},
     "output_type": "execute_result"
    }
   ],
   "source": [
    "(events.price[events.accept & ~events.flag] / events.start_price).xs(9, level='lstg')"
   ]
  },
  {
   "cell_type": "code",
   "execution_count": 137,
   "metadata": {},
   "outputs": [
    {
     "name": "stdout",
     "output_type": "stream",
     "text": [
      "fart\n",
      "meta\n",
      "metas\n",
      "ctfeats\n",
      "           meta_lstg_inds  meta_threads  meta_slr_offers  meta_byr_offers  \\\n",
      "meta lstg                                                                   \n",
      "1    1                 10            14               10               13   \n",
      "     2                 10            16               12               15   \n",
      "     3                 10            17               12               16   \n",
      "     4                 10            17               14               17   \n",
      "     5                 10            16               14               16   \n",
      "     6                 10            16               13               16   \n",
      "     7                 10            16               14               17   \n",
      "     8                 10            17               12               17   \n",
      "     9                 10            17               13               17   \n",
      "     10                10            17               13               18   \n",
      "     11                10            17               13               18   \n",
      "2    12                10            14               10               13   \n",
      "     13                10            16               12               15   \n",
      "     14                10            17               12               16   \n",
      "     15                10            17               14               17   \n",
      "     16                10            16               14               16   \n",
      "     17                10            16               13               16   \n",
      "     18                10            16               14               17   \n",
      "     19                10            17               12               17   \n",
      "     20                10            17               13               17   \n",
      "     21                10            17               13               18   \n",
      "     22                10            17               13               18   \n",
      "\n",
      "           meta_accepts  \n",
      "meta lstg                \n",
      "1    1                7  \n",
      "     2                6  \n",
      "     3                7  \n",
      "     4                6  \n",
      "     5                6  \n",
      "     6                6  \n",
      "     7                6  \n",
      "     8                6  \n",
      "     9                6  \n",
      "     10               7  \n",
      "     11               7  \n",
      "2    12               7  \n",
      "     13               6  \n",
      "     14               7  \n",
      "     15               6  \n",
      "     16               6  \n",
      "     17               6  \n",
      "     18               6  \n",
      "     19               6  \n",
      "     20               6  \n",
      "     21               7  \n",
      "     22               7  \n",
      "featname: accept_norm\n",
      "converter\n",
      "meta  lstg_counter\n",
      "1     0                1\n",
      "      1                2\n",
      "      2                3\n",
      "      3                4\n",
      "      4                5\n",
      "      5                6\n",
      "      6                7\n",
      "      7                8\n",
      "      8                9\n",
      "      9               10\n",
      "      10              11\n",
      "2     0               12\n",
      "      1               13\n",
      "      2               14\n",
      "      3               15\n",
      "      4               16\n",
      "      5               17\n",
      "      6               18\n",
      "      7               19\n",
      "      8               20\n",
      "      9               21\n",
      "      10              22\n",
      "Name: lstg, dtype: int64\n",
      "unsold count: 6\n",
      "accepts na: meta  lstg_counter\n",
      "1     0                NaN\n",
      "      1               0.80\n",
      "      2                NaN\n",
      "      3               0.50\n",
      "      4               0.60\n",
      "      5               0.25\n",
      "      6               1.00\n",
      "      7               0.95\n",
      "      8               0.85\n",
      "      9                NaN\n",
      "      10               NaN\n",
      "2     0                NaN\n",
      "      1               0.80\n",
      "      2                NaN\n",
      "      3               0.50\n",
      "      4               0.60\n",
      "      5               0.25\n",
      "      6               1.00\n",
      "      7               0.95\n",
      "      8               0.85\n",
      "      9                NaN\n",
      "      10               NaN\n",
      "Name: accept_norm, dtype: float64\n"
     ]
    },
    {
     "ename": "AssertionError",
     "evalue": "",
     "output_type": "error",
     "traceback": [
      "\u001b[1;31m---------------------------------------------------------------------------\u001b[0m",
      "\u001b[1;31mAssertionError\u001b[0m                            Traceback (most recent call last)",
      "\u001b[1;32m<ipython-input-137-12f277297694>\u001b[0m in \u001b[0;36m<module>\u001b[1;34m\u001b[0m\n\u001b[1;32m----> 1\u001b[1;33m \u001b[0mprocessing\u001b[0m\u001b[1;33m.\u001b[0m\u001b[0mb_feats\u001b[0m\u001b[1;33m.\u001b[0m\u001b[0mutil\u001b[0m\u001b[1;33m.\u001b[0m\u001b[0mget_cat_time_feats\u001b[0m\u001b[1;33m(\u001b[0m\u001b[0mevents\u001b[0m\u001b[1;33m,\u001b[0m \u001b[0mlevels\u001b[0m\u001b[1;33m=\u001b[0m\u001b[1;33m[\u001b[0m\u001b[1;34m'meta'\u001b[0m\u001b[1;33m]\u001b[0m\u001b[1;33m)\u001b[0m\u001b[1;33m\u001b[0m\u001b[1;33m\u001b[0m\u001b[0m\n\u001b[0m",
      "\u001b[1;32mA:\\ebay\\repo\\processing\\b_feats\\util.py\u001b[0m in \u001b[0;36mget_cat_time_feats\u001b[1;34m(events, levels)\u001b[0m\n\u001b[0;32m    112\u001b[0m \u001b[1;33m\u001b[0m\u001b[0m\n\u001b[0;32m    113\u001b[0m         \u001b[1;31m# quantiles of (normalized) accept price over 30-day window\u001b[0m\u001b[1;33m\u001b[0m\u001b[1;33m\u001b[0m\u001b[1;33m\u001b[0m\u001b[0m\n\u001b[1;32m--> 114\u001b[1;33m         \u001b[0mquants\u001b[0m \u001b[1;33m=\u001b[0m \u001b[0mtf\u001b[0m\u001b[1;33m.\u001b[0m\u001b[0mjoin\u001b[0m\u001b[1;33m(\u001b[0m\u001b[0mget_quantiles\u001b[0m\u001b[1;33m(\u001b[0m\u001b[0mdf\u001b[0m\u001b[1;33m,\u001b[0m \u001b[0ml\u001b[0m\u001b[1;33m,\u001b[0m \u001b[1;34m'accept_norm'\u001b[0m\u001b[1;33m)\u001b[0m\u001b[1;33m)\u001b[0m\u001b[1;33m\u001b[0m\u001b[1;33m\u001b[0m\u001b[0m\n\u001b[0m\u001b[0;32m    115\u001b[0m         \u001b[1;31m# for identical timestamps\u001b[0m\u001b[1;33m\u001b[0m\u001b[1;33m\u001b[0m\u001b[1;33m\u001b[0m\u001b[0m\n\u001b[0;32m    116\u001b[0m         \u001b[0mcols\u001b[0m \u001b[1;33m=\u001b[0m \u001b[1;33m[\u001b[0m\u001b[0mc\u001b[0m \u001b[1;32mfor\u001b[0m \u001b[0mc\u001b[0m \u001b[1;32min\u001b[0m \u001b[0mtf\u001b[0m\u001b[1;33m.\u001b[0m\u001b[0mcolumns\u001b[0m \u001b[1;32mif\u001b[0m \u001b[0mc\u001b[0m\u001b[1;33m.\u001b[0m\u001b[0mstartswith\u001b[0m\u001b[1;33m(\u001b[0m\u001b[0mlevels\u001b[0m\u001b[1;33m[\u001b[0m\u001b[1;33m-\u001b[0m\u001b[1;36m1\u001b[0m\u001b[1;33m]\u001b[0m\u001b[1;33m)\u001b[0m\u001b[1;33m]\u001b[0m\u001b[1;33m\u001b[0m\u001b[1;33m\u001b[0m\u001b[0m\n",
      "\u001b[1;32mA:\\ebay\\repo\\processing\\b_feats\\util.py\u001b[0m in \u001b[0;36mget_quantiles\u001b[1;34m(df, l, featname)\u001b[0m\n\u001b[0;32m     43\u001b[0m             \u001b[0mprint\u001b[0m\u001b[1;33m(\u001b[0m\u001b[1;34m'unsold count: {}'\u001b[0m\u001b[1;33m.\u001b[0m\u001b[0mformat\u001b[0m\u001b[1;33m(\u001b[0m\u001b[0munsold_count\u001b[0m\u001b[1;33m)\u001b[0m\u001b[1;33m)\u001b[0m\u001b[1;33m\u001b[0m\u001b[1;33m\u001b[0m\u001b[0m\n\u001b[0;32m     44\u001b[0m             \u001b[0mprint\u001b[0m\u001b[1;33m(\u001b[0m\u001b[1;34m'accepts na: {}'\u001b[0m\u001b[1;33m.\u001b[0m\u001b[0mformat\u001b[0m\u001b[1;33m(\u001b[0m\u001b[0maccepts\u001b[0m\u001b[1;33m)\u001b[0m\u001b[1;33m)\u001b[0m\u001b[1;33m\u001b[0m\u001b[1;33m\u001b[0m\u001b[0m\n\u001b[1;32m---> 45\u001b[1;33m             \u001b[1;32massert\u001b[0m \u001b[0munsold_count\u001b[0m \u001b[1;33m==\u001b[0m \u001b[0maccepts\u001b[0m\u001b[1;33m.\u001b[0m\u001b[0misna\u001b[0m\u001b[1;33m(\u001b[0m\u001b[1;33m)\u001b[0m\u001b[1;33m.\u001b[0m\u001b[0msum\u001b[0m\u001b[1;33m(\u001b[0m\u001b[1;33m)\u001b[0m\u001b[1;33m\u001b[0m\u001b[1;33m\u001b[0m\u001b[0m\n\u001b[0m\u001b[0;32m     46\u001b[0m \u001b[1;33m\u001b[0m\u001b[0m\n\u001b[0;32m     47\u001b[0m     \u001b[1;31m# total lstgs\u001b[0m\u001b[1;33m\u001b[0m\u001b[1;33m\u001b[0m\u001b[1;33m\u001b[0m\u001b[0m\n",
      "\u001b[1;31mAssertionError\u001b[0m: "
     ]
    }
   ],
   "source": [
    "processing.b_feats.util.get_cat_time_feats(events, levels=['meta'])"
   ]
  },
  {
   "cell_type": "code",
   "execution_count": 98,
   "metadata": {},
   "outputs": [
    {
     "name": "stdout",
     "output_type": "stream",
     "text": [
      "levels : ['meta', 'leaf', 'cndtn']\n"
     ]
    }
   ],
   "source": [
    "# pre processing\n",
    "num = 1\n",
    "d = load('data/chunks/' + 'm%d' % num + '.gz')\n",
    "L, T, O = [d[k] for k in ['listings', 'threads', 'offers']]\n",
    "L = putil.categories_to_string(L)\n",
    "# set levels for hierarchical time feats\n",
    "levels = LEVELS[1:4]\n",
    "print('levels : {}'.format(levels))\n",
    " # create events dataframe"
   ]
  },
  {
   "cell_type": "code",
   "execution_count": 11,
   "metadata": {},
   "outputs": [
    {
     "name": "stdout",
     "output_type": "stream",
     "text": [
      "cols: Index(['accept', 'censored', 'clock', 'price', 'reject', 'byr', 'flag',\n",
      "       'start_price'],\n",
      "      dtype='object')\n",
      "index: ['meta', 'leaf', 'product', 'lstg', 'thread', 'index']\n",
      "index unique: True\n"
     ]
    }
   ],
   "source": [
    "print('cols: {}'.format(events.columns))\n",
    "print('index: {}'.format(events.index.names))\n",
    "print('index unique: {}'.format(events.index.is_unique))"
   ]
  },
  {
   "cell_type": "code",
   "execution_count": 4,
   "metadata": {},
   "outputs": [
    {
     "name": "stdout",
     "output_type": "stream",
     "text": [
      "Creating offer events.\n"
     ]
    },
    {
     "ename": "KeyError",
     "evalue": "\"['cndtn'] not in index\"",
     "output_type": "error",
     "traceback": [
      "\u001b[1;31m---------------------------------------------------------------------------\u001b[0m",
      "\u001b[1;31mKeyError\u001b[0m                                  Traceback (most recent call last)",
      "\u001b[1;32m<ipython-input-4-a64ec0fadda9>\u001b[0m in \u001b[0;36m<module>\u001b[1;34m\u001b[0m\n\u001b[0;32m      1\u001b[0m \u001b[0mprint\u001b[0m\u001b[1;33m(\u001b[0m\u001b[1;34m'Creating offer events.'\u001b[0m\u001b[1;33m)\u001b[0m\u001b[1;33m\u001b[0m\u001b[1;33m\u001b[0m\u001b[0m\n\u001b[1;32m----> 2\u001b[1;33m \u001b[0mevents\u001b[0m \u001b[1;33m=\u001b[0m \u001b[0mutil\u001b[0m\u001b[1;33m.\u001b[0m\u001b[0mcreate_events\u001b[0m\u001b[1;33m(\u001b[0m\u001b[0mL\u001b[0m\u001b[1;33m,\u001b[0m \u001b[0mT\u001b[0m\u001b[1;33m,\u001b[0m \u001b[0mO\u001b[0m\u001b[1;33m,\u001b[0m \u001b[0mlevels\u001b[0m\u001b[1;33m)\u001b[0m\u001b[1;33m\u001b[0m\u001b[1;33m\u001b[0m\u001b[0m\n\u001b[0m",
      "\u001b[1;32mA:\\ebay\\repo\\processing\\b_feats\\util.py\u001b[0m in \u001b[0;36mcreate_events\u001b[1;34m(L, T, O, levels)\u001b[0m\n\u001b[0;32m    125\u001b[0m \u001b[1;32mdef\u001b[0m \u001b[0mcreate_events\u001b[0m\u001b[1;33m(\u001b[0m\u001b[0mL\u001b[0m\u001b[1;33m,\u001b[0m \u001b[0mT\u001b[0m\u001b[1;33m,\u001b[0m \u001b[0mO\u001b[0m\u001b[1;33m,\u001b[0m \u001b[0mlevels\u001b[0m\u001b[1;33m)\u001b[0m\u001b[1;33m:\u001b[0m\u001b[1;33m\u001b[0m\u001b[1;33m\u001b[0m\u001b[0m\n\u001b[0;32m    126\u001b[0m     \u001b[1;31m# initial offers data frame\u001b[0m\u001b[1;33m\u001b[0m\u001b[1;33m\u001b[0m\u001b[1;33m\u001b[0m\u001b[0m\n\u001b[1;32m--> 127\u001b[1;33m     \u001b[0moffers\u001b[0m \u001b[1;33m=\u001b[0m \u001b[0minit_offers\u001b[0m\u001b[1;33m(\u001b[0m\u001b[0mL\u001b[0m\u001b[1;33m,\u001b[0m \u001b[0mT\u001b[0m\u001b[1;33m,\u001b[0m \u001b[0mO\u001b[0m\u001b[1;33m,\u001b[0m \u001b[0mlevels\u001b[0m\u001b[1;33m)\u001b[0m\u001b[1;33m\u001b[0m\u001b[1;33m\u001b[0m\u001b[0m\n\u001b[0m\u001b[0;32m    128\u001b[0m     \u001b[1;31m# add start times and expirations for unsold listings\u001b[0m\u001b[1;33m\u001b[0m\u001b[1;33m\u001b[0m\u001b[1;33m\u001b[0m\u001b[0m\n\u001b[0;32m    129\u001b[0m     \u001b[0mevents\u001b[0m \u001b[1;33m=\u001b[0m \u001b[0madd_start_end\u001b[0m\u001b[1;33m(\u001b[0m\u001b[0moffers\u001b[0m\u001b[1;33m,\u001b[0m \u001b[0mL\u001b[0m\u001b[1;33m,\u001b[0m \u001b[0mlevels\u001b[0m\u001b[1;33m)\u001b[0m\u001b[1;33m\u001b[0m\u001b[1;33m\u001b[0m\u001b[0m\n",
      "\u001b[1;32mA:\\ebay\\repo\\processing\\b_feats\\util.py\u001b[0m in \u001b[0;36minit_offers\u001b[1;34m(L, T, O, levels)\u001b[0m\n\u001b[0;32m    118\u001b[0m     \u001b[0moffers\u001b[0m\u001b[1;33m[\u001b[0m\u001b[1;34m'clock'\u001b[0m\u001b[1;33m]\u001b[0m \u001b[1;33m+=\u001b[0m \u001b[0moffers\u001b[0m\u001b[1;33m[\u001b[0m\u001b[1;34m'start_time'\u001b[0m\u001b[1;33m]\u001b[0m\u001b[1;33m\u001b[0m\u001b[1;33m\u001b[0m\u001b[0m\n\u001b[0;32m    119\u001b[0m     \u001b[0moffers\u001b[0m\u001b[1;33m.\u001b[0m\u001b[0mdrop\u001b[0m\u001b[1;33m(\u001b[0m\u001b[1;34m'start_time'\u001b[0m\u001b[1;33m,\u001b[0m \u001b[0maxis\u001b[0m\u001b[1;33m=\u001b[0m\u001b[1;36m1\u001b[0m\u001b[1;33m,\u001b[0m \u001b[0minplace\u001b[0m\u001b[1;33m=\u001b[0m\u001b[1;32mTrue\u001b[0m\u001b[1;33m)\u001b[0m\u001b[1;33m\u001b[0m\u001b[1;33m\u001b[0m\u001b[0m\n\u001b[1;32m--> 120\u001b[1;33m     \u001b[0moffers\u001b[0m \u001b[1;33m=\u001b[0m \u001b[0moffers\u001b[0m\u001b[1;33m.\u001b[0m\u001b[0mjoin\u001b[0m\u001b[1;33m(\u001b[0m\u001b[0mL\u001b[0m\u001b[1;33m[\u001b[0m\u001b[0mlevels\u001b[0m\u001b[1;33m]\u001b[0m\u001b[1;33m)\u001b[0m\u001b[1;33m\u001b[0m\u001b[1;33m\u001b[0m\u001b[0m\n\u001b[0m\u001b[0;32m    121\u001b[0m     \u001b[0moffers\u001b[0m \u001b[1;33m=\u001b[0m \u001b[0mexpand_index\u001b[0m\u001b[1;33m(\u001b[0m\u001b[0moffers\u001b[0m\u001b[1;33m,\u001b[0m \u001b[0mlevels\u001b[0m\u001b[1;33m)\u001b[0m\u001b[1;33m\u001b[0m\u001b[1;33m\u001b[0m\u001b[0m\n\u001b[0;32m    122\u001b[0m     \u001b[1;32mreturn\u001b[0m \u001b[0moffers\u001b[0m\u001b[1;33m\u001b[0m\u001b[1;33m\u001b[0m\u001b[0m\n",
      "\u001b[1;32m~\\Anaconda3\\envs\\ebay\\lib\\site-packages\\pandas\\core\\frame.py\u001b[0m in \u001b[0;36m__getitem__\u001b[1;34m(self, key)\u001b[0m\n\u001b[0;32m   2984\u001b[0m             \u001b[1;32mif\u001b[0m \u001b[0mis_iterator\u001b[0m\u001b[1;33m(\u001b[0m\u001b[0mkey\u001b[0m\u001b[1;33m)\u001b[0m\u001b[1;33m:\u001b[0m\u001b[1;33m\u001b[0m\u001b[1;33m\u001b[0m\u001b[0m\n\u001b[0;32m   2985\u001b[0m                 \u001b[0mkey\u001b[0m \u001b[1;33m=\u001b[0m \u001b[0mlist\u001b[0m\u001b[1;33m(\u001b[0m\u001b[0mkey\u001b[0m\u001b[1;33m)\u001b[0m\u001b[1;33m\u001b[0m\u001b[1;33m\u001b[0m\u001b[0m\n\u001b[1;32m-> 2986\u001b[1;33m             \u001b[0mindexer\u001b[0m \u001b[1;33m=\u001b[0m \u001b[0mself\u001b[0m\u001b[1;33m.\u001b[0m\u001b[0mloc\u001b[0m\u001b[1;33m.\u001b[0m\u001b[0m_convert_to_indexer\u001b[0m\u001b[1;33m(\u001b[0m\u001b[0mkey\u001b[0m\u001b[1;33m,\u001b[0m \u001b[0maxis\u001b[0m\u001b[1;33m=\u001b[0m\u001b[1;36m1\u001b[0m\u001b[1;33m,\u001b[0m \u001b[0mraise_missing\u001b[0m\u001b[1;33m=\u001b[0m\u001b[1;32mTrue\u001b[0m\u001b[1;33m)\u001b[0m\u001b[1;33m\u001b[0m\u001b[1;33m\u001b[0m\u001b[0m\n\u001b[0m\u001b[0;32m   2987\u001b[0m \u001b[1;33m\u001b[0m\u001b[0m\n\u001b[0;32m   2988\u001b[0m         \u001b[1;31m# take() does not accept boolean indexers\u001b[0m\u001b[1;33m\u001b[0m\u001b[1;33m\u001b[0m\u001b[1;33m\u001b[0m\u001b[0m\n",
      "\u001b[1;32m~\\Anaconda3\\envs\\ebay\\lib\\site-packages\\pandas\\core\\indexing.py\u001b[0m in \u001b[0;36m_convert_to_indexer\u001b[1;34m(self, obj, axis, is_setter, raise_missing)\u001b[0m\n\u001b[0;32m   1283\u001b[0m                 \u001b[1;31m# When setting, missing keys are not allowed, even with .loc:\u001b[0m\u001b[1;33m\u001b[0m\u001b[1;33m\u001b[0m\u001b[1;33m\u001b[0m\u001b[0m\n\u001b[0;32m   1284\u001b[0m                 \u001b[0mkwargs\u001b[0m \u001b[1;33m=\u001b[0m \u001b[1;33m{\u001b[0m\u001b[1;34m\"raise_missing\"\u001b[0m\u001b[1;33m:\u001b[0m \u001b[1;32mTrue\u001b[0m \u001b[1;32mif\u001b[0m \u001b[0mis_setter\u001b[0m \u001b[1;32melse\u001b[0m \u001b[0mraise_missing\u001b[0m\u001b[1;33m}\u001b[0m\u001b[1;33m\u001b[0m\u001b[1;33m\u001b[0m\u001b[0m\n\u001b[1;32m-> 1285\u001b[1;33m                 \u001b[1;32mreturn\u001b[0m \u001b[0mself\u001b[0m\u001b[1;33m.\u001b[0m\u001b[0m_get_listlike_indexer\u001b[0m\u001b[1;33m(\u001b[0m\u001b[0mobj\u001b[0m\u001b[1;33m,\u001b[0m \u001b[0maxis\u001b[0m\u001b[1;33m,\u001b[0m \u001b[1;33m**\u001b[0m\u001b[0mkwargs\u001b[0m\u001b[1;33m)\u001b[0m\u001b[1;33m[\u001b[0m\u001b[1;36m1\u001b[0m\u001b[1;33m]\u001b[0m\u001b[1;33m\u001b[0m\u001b[1;33m\u001b[0m\u001b[0m\n\u001b[0m\u001b[0;32m   1286\u001b[0m         \u001b[1;32melse\u001b[0m\u001b[1;33m:\u001b[0m\u001b[1;33m\u001b[0m\u001b[1;33m\u001b[0m\u001b[0m\n\u001b[0;32m   1287\u001b[0m             \u001b[1;32mtry\u001b[0m\u001b[1;33m:\u001b[0m\u001b[1;33m\u001b[0m\u001b[1;33m\u001b[0m\u001b[0m\n",
      "\u001b[1;32m~\\Anaconda3\\envs\\ebay\\lib\\site-packages\\pandas\\core\\indexing.py\u001b[0m in \u001b[0;36m_get_listlike_indexer\u001b[1;34m(self, key, axis, raise_missing)\u001b[0m\n\u001b[0;32m   1090\u001b[0m \u001b[1;33m\u001b[0m\u001b[0m\n\u001b[0;32m   1091\u001b[0m         self._validate_read_indexer(\n\u001b[1;32m-> 1092\u001b[1;33m             \u001b[0mkeyarr\u001b[0m\u001b[1;33m,\u001b[0m \u001b[0mindexer\u001b[0m\u001b[1;33m,\u001b[0m \u001b[0mo\u001b[0m\u001b[1;33m.\u001b[0m\u001b[0m_get_axis_number\u001b[0m\u001b[1;33m(\u001b[0m\u001b[0maxis\u001b[0m\u001b[1;33m)\u001b[0m\u001b[1;33m,\u001b[0m \u001b[0mraise_missing\u001b[0m\u001b[1;33m=\u001b[0m\u001b[0mraise_missing\u001b[0m\u001b[1;33m\u001b[0m\u001b[1;33m\u001b[0m\u001b[0m\n\u001b[0m\u001b[0;32m   1093\u001b[0m         )\n\u001b[0;32m   1094\u001b[0m         \u001b[1;32mreturn\u001b[0m \u001b[0mkeyarr\u001b[0m\u001b[1;33m,\u001b[0m \u001b[0mindexer\u001b[0m\u001b[1;33m\u001b[0m\u001b[1;33m\u001b[0m\u001b[0m\n",
      "\u001b[1;32m~\\Anaconda3\\envs\\ebay\\lib\\site-packages\\pandas\\core\\indexing.py\u001b[0m in \u001b[0;36m_validate_read_indexer\u001b[1;34m(self, key, indexer, axis, raise_missing)\u001b[0m\n\u001b[0;32m   1183\u001b[0m             \u001b[1;32mif\u001b[0m \u001b[1;32mnot\u001b[0m \u001b[1;33m(\u001b[0m\u001b[0mself\u001b[0m\u001b[1;33m.\u001b[0m\u001b[0mname\u001b[0m \u001b[1;33m==\u001b[0m \u001b[1;34m\"loc\"\u001b[0m \u001b[1;32mand\u001b[0m \u001b[1;32mnot\u001b[0m \u001b[0mraise_missing\u001b[0m\u001b[1;33m)\u001b[0m\u001b[1;33m:\u001b[0m\u001b[1;33m\u001b[0m\u001b[1;33m\u001b[0m\u001b[0m\n\u001b[0;32m   1184\u001b[0m                 \u001b[0mnot_found\u001b[0m \u001b[1;33m=\u001b[0m \u001b[0mlist\u001b[0m\u001b[1;33m(\u001b[0m\u001b[0mset\u001b[0m\u001b[1;33m(\u001b[0m\u001b[0mkey\u001b[0m\u001b[1;33m)\u001b[0m \u001b[1;33m-\u001b[0m \u001b[0mset\u001b[0m\u001b[1;33m(\u001b[0m\u001b[0max\u001b[0m\u001b[1;33m)\u001b[0m\u001b[1;33m)\u001b[0m\u001b[1;33m\u001b[0m\u001b[1;33m\u001b[0m\u001b[0m\n\u001b[1;32m-> 1185\u001b[1;33m                 \u001b[1;32mraise\u001b[0m \u001b[0mKeyError\u001b[0m\u001b[1;33m(\u001b[0m\u001b[1;34m\"{} not in index\"\u001b[0m\u001b[1;33m.\u001b[0m\u001b[0mformat\u001b[0m\u001b[1;33m(\u001b[0m\u001b[0mnot_found\u001b[0m\u001b[1;33m)\u001b[0m\u001b[1;33m)\u001b[0m\u001b[1;33m\u001b[0m\u001b[1;33m\u001b[0m\u001b[0m\n\u001b[0m\u001b[0;32m   1186\u001b[0m \u001b[1;33m\u001b[0m\u001b[0m\n\u001b[0;32m   1187\u001b[0m             \u001b[1;31m# we skip the warning on Categorical/Interval\u001b[0m\u001b[1;33m\u001b[0m\u001b[1;33m\u001b[0m\u001b[1;33m\u001b[0m\u001b[0m\n",
      "\u001b[1;31mKeyError\u001b[0m: \"['cndtn'] not in index\""
     ]
    }
   ],
   "source": [
    "print('Creating offer events.')\n",
    "events = util.create_events(L, T, O, levels)"
   ]
  },
  {
   "cell_type": "code",
   "execution_count": 10,
   "metadata": {},
   "outputs": [
    {
     "name": "stdout",
     "output_type": "stream",
     "text": [
      "Index(['meta', 'leaf', 'product', 'start_date', 'end_time', 'start_price',\n",
      "       'flag'],\n",
      "      dtype='object')\n"
     ]
    },
    {
     "data": {
      "text/plain": [
       "FrozenList(['lstg'])"
      ]
     },
     "execution_count": 10,
     "metadata": {},
     "output_type": "execute_result"
    }
   ],
   "source": [
    "print(L.columns)\n",
    "L.index.names"
   ]
  },
  {
   "cell_type": "code",
   "execution_count": 12,
   "metadata": {},
   "outputs": [
    {
     "name": "stdout",
     "output_type": "stream",
     "text": [
      "                                          accept  censored      clock   price  \\\n",
      "meta leaf  product lstg     thread index                                        \n",
      "m1   l1000 l1000   2640825  0      0       False     False   12441600   17.50   \n",
      "                                   1       False      True  134351999     NaN   \n",
      "                   4590795  0      0       False     False   11923200    7.99   \n",
      "                                   1       False      True   13737599     NaN   \n",
      "                   4816076  0      0       False     False   30585600   29.75   \n",
      "...                                          ...       ...        ...     ...   \n",
      "     l9999 l9999   97557652 0      1       False      True   29375999     NaN   \n",
      "                   97619178 0      0       False     False   23328000  197.50   \n",
      "                                   1       False      True   26006399     NaN   \n",
      "                   97784920 0      0       False     False   20908800  160.00   \n",
      "                                   1       False      True   21599999     NaN   \n",
      "\n",
      "                                          reject    byr  flag  start_price  \n",
      "meta leaf  product lstg     thread index                                    \n",
      "m1   l1000 l1000   2640825  0      0       False  False     1        17.50  \n",
      "                                   1        True   True     1        17.50  \n",
      "                   4590795  0      0       False  False     0         7.99  \n",
      "                                   1        True   True     0         7.99  \n",
      "                   4816076  0      0       False  False     1        29.75  \n",
      "...                                          ...    ...   ...          ...  \n",
      "     l9999 l9999   97557652 0      1        True   True     0       375.00  \n",
      "                   97619178 0      0       False  False     1       197.50  \n",
      "                                   1        True   True     1       197.50  \n",
      "                   97784920 0      0       False  False     0       160.00  \n",
      "                                   1        True   True     0       160.00  \n",
      "\n",
      "[34330179 rows x 8 columns]\n"
     ]
    }
   ],
   "source": [
    "print(events)"
   ]
  },
  {
   "cell_type": "code",
   "execution_count": 14,
   "metadata": {},
   "outputs": [
    {
     "ename": "NameError",
     "evalue": "name 'l' is not defined",
     "output_type": "error",
     "traceback": [
      "\u001b[1;31m---------------------------------------------------------------------------\u001b[0m",
      "\u001b[1;31mNameError\u001b[0m                                 Traceback (most recent call last)",
      "\u001b[1;32m<ipython-input-14-6eef2db4a785>\u001b[0m in \u001b[0;36m<module>\u001b[1;34m\u001b[0m\n\u001b[1;32m----> 1\u001b[1;33m \u001b[0mprint\u001b[0m\u001b[1;33m(\u001b[0m\u001b[0ml\u001b[0m\u001b[1;33m[\u001b[0m\u001b[1;33m-\u001b[0m\u001b[1;36m1\u001b[0m\u001b[1;33m]\u001b[0m\u001b[1;33m)\u001b[0m\u001b[1;33m\u001b[0m\u001b[1;33m\u001b[0m\u001b[0m\n\u001b[0m",
      "\u001b[1;31mNameError\u001b[0m: name 'l' is not defined"
     ]
    }
   ],
   "source": [
    "print(l[-1])\n"
   ]
  },
  {
   "cell_type": "code",
   "execution_count": 17,
   "metadata": {},
   "outputs": [],
   "source": [
    "# setup inside function\n",
    "tf = events[['clock']]\n",
    "# dataframe for variable calculations\n",
    "df = events.copy()\n",
    "df['clock'] = pd.to_datetime(df.clock, unit='s', origin=START)\n",
    "df['lstg'] = df.index.get_level_values('index') == 0\n",
    "df['thread'] = df.index.get_level_values('index') == 1\n",
    "df['slr_offer'] = ~df.byr & ~df.reject & ~df.lstg\n",
    "df['byr_offer'] = df.byr & ~df.reject\n",
    "df['accept_price'] = df.price[df.accept]\n",
    "df['accept_norm'] = df.price[df.accept & ~df.flag] / df.start_price"
   ]
  },
  {
   "cell_type": "code",
   "execution_count": 24,
   "metadata": {},
   "outputs": [
    {
     "name": "stdout",
     "output_type": "stream",
     "text": [
      "meta\n",
      "['meta']\n"
     ]
    }
   ],
   "source": [
    "l = levels[: 0+1]\n",
    "print(l[-1])\n",
    "print(l)"
   ]
  },
  {
   "cell_type": "code",
   "execution_count": 21,
   "metadata": {},
   "outputs": [],
   "source": [
    "test = pd.DataFrame(index=['a', 'b', 'c'], data={\n",
    "    'data':[1, 2, 3]\n",
    "})\n",
    "t2 = pd.DataFrame(index=['b', 'a', 'c'], data={\n",
    "    'data':[1, 2, 3]\n",
    "})\n",
    "t2 = t2.reindex(test.index)"
   ]
  },
  {
   "cell_type": "code",
   "execution_count": null,
   "metadata": {},
   "outputs": [],
   "source": []
  }
 ],
 "metadata": {
  "kernelspec": {
   "display_name": "Python 3",
   "language": "python",
   "name": "python3"
  },
  "language_info": {
   "codemirror_mode": {
    "name": "ipython",
    "version": 3
   },
   "file_extension": ".py",
   "mimetype": "text/x-python",
   "name": "python",
   "nbconvert_exporter": "python",
   "pygments_lexer": "ipython3",
   "version": "3.7.4"
  }
 },
 "nbformat": 4,
 "nbformat_minor": 4
}
