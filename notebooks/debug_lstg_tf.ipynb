{
 "cells": [
  {
   "cell_type": "code",
   "execution_count": 4,
   "metadata": {},
   "outputs": [],
   "source": [
    "import pandas as pd\n",
    "import numpy as np\n",
    "import processing.b_feats.tf_lstg\n",
    "import importlib\n",
    "from constants import LEVELS, START, MAX_DELAY, FEATS_DIR\n",
    "from rlenv.time_triggers import *\n",
    "from compress_pickle import dump, load\n",
    "import sys\n",
    "import os\n",
    "os.chdir('A:/ebay/')\n",
    "sys.path.append('repo/processing/b_feats/test/')\n",
    "importlib.reload(processing.b_feats.tf_lstg)\n",
    "delay_time_feats = processing.b_feats.tf_lstg.delay_time_feats\n",
    "add_deltas_index = processing.b_feats.tf_lstg.add_deltas_index\n",
    "subset_to_turns = processing.b_feats.tf_lstg.subset_to_turns\n",
    "get_diffs = processing.b_feats.tf_lstg.get_diffs\n",
    "deltas = processing.b_feats.tf_lstg.drop_zeros\n",
    "prepare_index_join = processing.b_feats.tf_lstg.prepare_index_join"
   ]
  },
  {
   "cell_type": "code",
   "execution_count": 10,
   "metadata": {},
   "outputs": [],
   "source": [
    "input_list = load('data/temp/delay.gz')\n",
    "tf_lstg, org_events = input_list[0],  input_list[1]"
   ]
  },
  {
   "cell_type": "code",
   "execution_count": 3,
   "metadata": {},
   "outputs": [
    {
     "data": {
      "text/html": [
       "<div>\n",
       "<style scoped>\n",
       "    .dataframe tbody tr th:only-of-type {\n",
       "        vertical-align: middle;\n",
       "    }\n",
       "\n",
       "    .dataframe tbody tr th {\n",
       "        vertical-align: top;\n",
       "    }\n",
       "\n",
       "    .dataframe thead th {\n",
       "        text-align: right;\n",
       "    }\n",
       "</style>\n",
       "<table border=\"1\" class=\"dataframe\">\n",
       "  <thead>\n",
       "    <tr style=\"text-align: right;\">\n",
       "      <th></th>\n",
       "      <th></th>\n",
       "      <th></th>\n",
       "      <th>slr_offers</th>\n",
       "      <th>slr_best</th>\n",
       "      <th>slr_offers_open</th>\n",
       "      <th>slr_best_open</th>\n",
       "      <th>slr_offers_recent</th>\n",
       "      <th>slr_best_recent</th>\n",
       "      <th>byr_offers</th>\n",
       "      <th>byr_best</th>\n",
       "      <th>byr_offers_open</th>\n",
       "      <th>byr_best_open</th>\n",
       "      <th>byr_offers_recent</th>\n",
       "      <th>byr_best_recent</th>\n",
       "      <th>thread_count</th>\n",
       "    </tr>\n",
       "    <tr>\n",
       "      <th>lstg</th>\n",
       "      <th>thread</th>\n",
       "      <th>clock</th>\n",
       "      <th></th>\n",
       "      <th></th>\n",
       "      <th></th>\n",
       "      <th></th>\n",
       "      <th></th>\n",
       "      <th></th>\n",
       "      <th></th>\n",
       "      <th></th>\n",
       "      <th></th>\n",
       "      <th></th>\n",
       "      <th></th>\n",
       "      <th></th>\n",
       "      <th></th>\n",
       "    </tr>\n",
       "  </thead>\n",
       "  <tbody>\n",
       "    <tr>\n",
       "      <td rowspan=\"5\" valign=\"top\">28299</td>\n",
       "      <td rowspan=\"5\" valign=\"top\">1</td>\n",
       "      <td>26235421</td>\n",
       "      <td>0.0</td>\n",
       "      <td>0.0</td>\n",
       "      <td>0.0</td>\n",
       "      <td>0.0</td>\n",
       "      <td>0.0</td>\n",
       "      <td>0.0</td>\n",
       "      <td>0.0</td>\n",
       "      <td>0.000000</td>\n",
       "      <td>0</td>\n",
       "      <td>0.000000</td>\n",
       "      <td>0.0</td>\n",
       "      <td>0.000000</td>\n",
       "      <td>0.0</td>\n",
       "    </tr>\n",
       "    <tr>\n",
       "      <td>26236675</td>\n",
       "      <td>0.0</td>\n",
       "      <td>0.0</td>\n",
       "      <td>0.0</td>\n",
       "      <td>0.0</td>\n",
       "      <td>0.0</td>\n",
       "      <td>0.0</td>\n",
       "      <td>0.0</td>\n",
       "      <td>0.000000</td>\n",
       "      <td>0</td>\n",
       "      <td>0.000000</td>\n",
       "      <td>0.0</td>\n",
       "      <td>0.000000</td>\n",
       "      <td>0.0</td>\n",
       "    </tr>\n",
       "    <tr>\n",
       "      <td>26804305</td>\n",
       "      <td>0.0</td>\n",
       "      <td>0.0</td>\n",
       "      <td>0.0</td>\n",
       "      <td>0.0</td>\n",
       "      <td>0.0</td>\n",
       "      <td>0.0</td>\n",
       "      <td>1.0</td>\n",
       "      <td>0.454545</td>\n",
       "      <td>1</td>\n",
       "      <td>0.454545</td>\n",
       "      <td>1.0</td>\n",
       "      <td>0.454545</td>\n",
       "      <td>1.0</td>\n",
       "    </tr>\n",
       "    <tr>\n",
       "      <td>26804393</td>\n",
       "      <td>0.0</td>\n",
       "      <td>0.0</td>\n",
       "      <td>1.0</td>\n",
       "      <td>0.0</td>\n",
       "      <td>0.0</td>\n",
       "      <td>0.0</td>\n",
       "      <td>1.0</td>\n",
       "      <td>0.454545</td>\n",
       "      <td>0</td>\n",
       "      <td>0.000000</td>\n",
       "      <td>1.0</td>\n",
       "      <td>0.454545</td>\n",
       "      <td>1.0</td>\n",
       "    </tr>\n",
       "    <tr>\n",
       "      <td>26870399</td>\n",
       "      <td>0.0</td>\n",
       "      <td>0.0</td>\n",
       "      <td>0.0</td>\n",
       "      <td>0.0</td>\n",
       "      <td>0.0</td>\n",
       "      <td>0.0</td>\n",
       "      <td>1.0</td>\n",
       "      <td>0.454545</td>\n",
       "      <td>0</td>\n",
       "      <td>0.000000</td>\n",
       "      <td>1.0</td>\n",
       "      <td>0.454545</td>\n",
       "      <td>1.0</td>\n",
       "    </tr>\n",
       "    <tr>\n",
       "      <td>...</td>\n",
       "      <td>...</td>\n",
       "      <td>...</td>\n",
       "      <td>...</td>\n",
       "      <td>...</td>\n",
       "      <td>...</td>\n",
       "      <td>...</td>\n",
       "      <td>...</td>\n",
       "      <td>...</td>\n",
       "      <td>...</td>\n",
       "      <td>...</td>\n",
       "      <td>...</td>\n",
       "      <td>...</td>\n",
       "      <td>...</td>\n",
       "      <td>...</td>\n",
       "      <td>...</td>\n",
       "    </tr>\n",
       "    <tr>\n",
       "      <td rowspan=\"5\" valign=\"top\">98225672</td>\n",
       "      <td rowspan=\"5\" valign=\"top\">5</td>\n",
       "      <td>30372250</td>\n",
       "      <td>0.0</td>\n",
       "      <td>0.0</td>\n",
       "      <td>0.0</td>\n",
       "      <td>0.0</td>\n",
       "      <td>0.0</td>\n",
       "      <td>0.0</td>\n",
       "      <td>4.0</td>\n",
       "      <td>0.811606</td>\n",
       "      <td>0</td>\n",
       "      <td>0.000000</td>\n",
       "      <td>0.0</td>\n",
       "      <td>0.000000</td>\n",
       "      <td>4.0</td>\n",
       "    </tr>\n",
       "    <tr>\n",
       "      <td>30545050</td>\n",
       "      <td>0.0</td>\n",
       "      <td>0.0</td>\n",
       "      <td>0.0</td>\n",
       "      <td>0.0</td>\n",
       "      <td>0.0</td>\n",
       "      <td>0.0</td>\n",
       "      <td>4.0</td>\n",
       "      <td>0.811606</td>\n",
       "      <td>0</td>\n",
       "      <td>0.000000</td>\n",
       "      <td>0.0</td>\n",
       "      <td>0.000000</td>\n",
       "      <td>4.0</td>\n",
       "    </tr>\n",
       "    <tr>\n",
       "      <td>31418054</td>\n",
       "      <td>0.0</td>\n",
       "      <td>0.0</td>\n",
       "      <td>0.0</td>\n",
       "      <td>0.0</td>\n",
       "      <td>0.0</td>\n",
       "      <td>0.0</td>\n",
       "      <td>4.0</td>\n",
       "      <td>0.811606</td>\n",
       "      <td>0</td>\n",
       "      <td>0.000000</td>\n",
       "      <td>0.0</td>\n",
       "      <td>0.000000</td>\n",
       "      <td>4.0</td>\n",
       "    </tr>\n",
       "    <tr>\n",
       "      <td>31590854</td>\n",
       "      <td>0.0</td>\n",
       "      <td>0.0</td>\n",
       "      <td>0.0</td>\n",
       "      <td>0.0</td>\n",
       "      <td>0.0</td>\n",
       "      <td>0.0</td>\n",
       "      <td>4.0</td>\n",
       "      <td>0.811606</td>\n",
       "      <td>0</td>\n",
       "      <td>0.000000</td>\n",
       "      <td>0.0</td>\n",
       "      <td>0.000000</td>\n",
       "      <td>4.0</td>\n",
       "    </tr>\n",
       "    <tr>\n",
       "      <td>32800454</td>\n",
       "      <td>0.0</td>\n",
       "      <td>0.0</td>\n",
       "      <td>0.0</td>\n",
       "      <td>0.0</td>\n",
       "      <td>0.0</td>\n",
       "      <td>0.0</td>\n",
       "      <td>4.0</td>\n",
       "      <td>0.811606</td>\n",
       "      <td>0</td>\n",
       "      <td>0.000000</td>\n",
       "      <td>0.0</td>\n",
       "      <td>0.000000</td>\n",
       "      <td>4.0</td>\n",
       "    </tr>\n",
       "  </tbody>\n",
       "</table>\n",
       "<p>35334 rows × 13 columns</p>\n",
       "</div>"
      ],
      "text/plain": [
       "                          slr_offers  slr_best  slr_offers_open  \\\n",
       "lstg     thread clock                                             \n",
       "28299    1      26235421         0.0       0.0              0.0   \n",
       "                26236675         0.0       0.0              0.0   \n",
       "                26804305         0.0       0.0              0.0   \n",
       "                26804393         0.0       0.0              1.0   \n",
       "                26870399         0.0       0.0              0.0   \n",
       "...                              ...       ...              ...   \n",
       "98225672 5      30372250         0.0       0.0              0.0   \n",
       "                30545050         0.0       0.0              0.0   \n",
       "                31418054         0.0       0.0              0.0   \n",
       "                31590854         0.0       0.0              0.0   \n",
       "                32800454         0.0       0.0              0.0   \n",
       "\n",
       "                          slr_best_open  slr_offers_recent  slr_best_recent  \\\n",
       "lstg     thread clock                                                         \n",
       "28299    1      26235421            0.0                0.0              0.0   \n",
       "                26236675            0.0                0.0              0.0   \n",
       "                26804305            0.0                0.0              0.0   \n",
       "                26804393            0.0                0.0              0.0   \n",
       "                26870399            0.0                0.0              0.0   \n",
       "...                                 ...                ...              ...   \n",
       "98225672 5      30372250            0.0                0.0              0.0   \n",
       "                30545050            0.0                0.0              0.0   \n",
       "                31418054            0.0                0.0              0.0   \n",
       "                31590854            0.0                0.0              0.0   \n",
       "                32800454            0.0                0.0              0.0   \n",
       "\n",
       "                          byr_offers  byr_best  byr_offers_open  \\\n",
       "lstg     thread clock                                             \n",
       "28299    1      26235421         0.0  0.000000                0   \n",
       "                26236675         0.0  0.000000                0   \n",
       "                26804305         1.0  0.454545                1   \n",
       "                26804393         1.0  0.454545                0   \n",
       "                26870399         1.0  0.454545                0   \n",
       "...                              ...       ...              ...   \n",
       "98225672 5      30372250         4.0  0.811606                0   \n",
       "                30545050         4.0  0.811606                0   \n",
       "                31418054         4.0  0.811606                0   \n",
       "                31590854         4.0  0.811606                0   \n",
       "                32800454         4.0  0.811606                0   \n",
       "\n",
       "                          byr_best_open  byr_offers_recent  byr_best_recent  \\\n",
       "lstg     thread clock                                                         \n",
       "28299    1      26235421       0.000000                0.0         0.000000   \n",
       "                26236675       0.000000                0.0         0.000000   \n",
       "                26804305       0.454545                1.0         0.454545   \n",
       "                26804393       0.000000                1.0         0.454545   \n",
       "                26870399       0.000000                1.0         0.454545   \n",
       "...                                 ...                ...              ...   \n",
       "98225672 5      30372250       0.000000                0.0         0.000000   \n",
       "                30545050       0.000000                0.0         0.000000   \n",
       "                31418054       0.000000                0.0         0.000000   \n",
       "                31590854       0.000000                0.0         0.000000   \n",
       "                32800454       0.000000                0.0         0.000000   \n",
       "\n",
       "                          thread_count  \n",
       "lstg     thread clock                   \n",
       "28299    1      26235421           0.0  \n",
       "                26236675           0.0  \n",
       "                26804305           1.0  \n",
       "                26804393           1.0  \n",
       "                26870399           1.0  \n",
       "...                                ...  \n",
       "98225672 5      30372250           4.0  \n",
       "                30545050           4.0  \n",
       "                31418054           4.0  \n",
       "                31590854           4.0  \n",
       "                32800454           4.0  \n",
       "\n",
       "[35334 rows x 13 columns]"
      ]
     },
     "execution_count": 3,
     "metadata": {},
     "output_type": "execute_result"
    }
   ],
   "source": [
    "tf_lstg"
   ]
  },
  {
   "cell_type": "code",
   "execution_count": 5,
   "metadata": {},
   "outputs": [],
   "source": [
    "raw = subset_to_turns(tf_lstg, events.copy())"
   ]
  },
  {
   "cell_type": "code",
   "execution_count": 6,
   "metadata": {},
   "outputs": [
    {
     "data": {
      "text/html": [
       "<div>\n",
       "<style scoped>\n",
       "    .dataframe tbody tr th:only-of-type {\n",
       "        vertical-align: middle;\n",
       "    }\n",
       "\n",
       "    .dataframe tbody tr th {\n",
       "        vertical-align: top;\n",
       "    }\n",
       "\n",
       "    .dataframe thead th {\n",
       "        text-align: right;\n",
       "    }\n",
       "</style>\n",
       "<table border=\"1\" class=\"dataframe\">\n",
       "  <thead>\n",
       "    <tr style=\"text-align: right;\">\n",
       "      <th></th>\n",
       "      <th></th>\n",
       "      <th></th>\n",
       "      <th>slr_offers</th>\n",
       "      <th>slr_best</th>\n",
       "      <th>slr_offers_open</th>\n",
       "      <th>slr_best_open</th>\n",
       "      <th>slr_offers_recent</th>\n",
       "      <th>slr_best_recent</th>\n",
       "      <th>byr_offers</th>\n",
       "      <th>byr_best</th>\n",
       "      <th>byr_offers_open</th>\n",
       "      <th>byr_best_open</th>\n",
       "      <th>byr_offers_recent</th>\n",
       "      <th>byr_best_recent</th>\n",
       "      <th>thread_count</th>\n",
       "    </tr>\n",
       "    <tr>\n",
       "      <th>lstg</th>\n",
       "      <th>thread</th>\n",
       "      <th>index</th>\n",
       "      <th></th>\n",
       "      <th></th>\n",
       "      <th></th>\n",
       "      <th></th>\n",
       "      <th></th>\n",
       "      <th></th>\n",
       "      <th></th>\n",
       "      <th></th>\n",
       "      <th></th>\n",
       "      <th></th>\n",
       "      <th></th>\n",
       "      <th></th>\n",
       "      <th></th>\n",
       "    </tr>\n",
       "  </thead>\n",
       "  <tbody>\n",
       "    <tr>\n",
       "      <td rowspan=\"5\" valign=\"top\">28299</td>\n",
       "      <td rowspan=\"3\" valign=\"top\">1</td>\n",
       "      <td>1</td>\n",
       "      <td>0.0</td>\n",
       "      <td>0.0</td>\n",
       "      <td>0.0</td>\n",
       "      <td>0.0</td>\n",
       "      <td>0.0</td>\n",
       "      <td>0.0</td>\n",
       "      <td>0.0</td>\n",
       "      <td>0.000000</td>\n",
       "      <td>0</td>\n",
       "      <td>0.0</td>\n",
       "      <td>0.0</td>\n",
       "      <td>0.000000</td>\n",
       "      <td>0.0</td>\n",
       "    </tr>\n",
       "    <tr>\n",
       "      <td>2</td>\n",
       "      <td>0.0</td>\n",
       "      <td>0.0</td>\n",
       "      <td>0.0</td>\n",
       "      <td>0.0</td>\n",
       "      <td>0.0</td>\n",
       "      <td>0.0</td>\n",
       "      <td>0.0</td>\n",
       "      <td>0.000000</td>\n",
       "      <td>0</td>\n",
       "      <td>0.0</td>\n",
       "      <td>0.0</td>\n",
       "      <td>0.000000</td>\n",
       "      <td>0.0</td>\n",
       "    </tr>\n",
       "    <tr>\n",
       "      <td>3</td>\n",
       "      <td>0.0</td>\n",
       "      <td>0.0</td>\n",
       "      <td>0.0</td>\n",
       "      <td>0.0</td>\n",
       "      <td>0.0</td>\n",
       "      <td>0.0</td>\n",
       "      <td>1.0</td>\n",
       "      <td>0.454545</td>\n",
       "      <td>0</td>\n",
       "      <td>0.0</td>\n",
       "      <td>1.0</td>\n",
       "      <td>0.454545</td>\n",
       "      <td>1.0</td>\n",
       "    </tr>\n",
       "    <tr>\n",
       "      <td rowspan=\"2\" valign=\"top\">2</td>\n",
       "      <td>1</td>\n",
       "      <td>0.0</td>\n",
       "      <td>0.0</td>\n",
       "      <td>1.0</td>\n",
       "      <td>0.0</td>\n",
       "      <td>0.0</td>\n",
       "      <td>0.0</td>\n",
       "      <td>1.0</td>\n",
       "      <td>0.527273</td>\n",
       "      <td>0</td>\n",
       "      <td>0.0</td>\n",
       "      <td>0.0</td>\n",
       "      <td>0.000000</td>\n",
       "      <td>1.0</td>\n",
       "    </tr>\n",
       "    <tr>\n",
       "      <td>2</td>\n",
       "      <td>0.0</td>\n",
       "      <td>0.0</td>\n",
       "      <td>1.0</td>\n",
       "      <td>0.0</td>\n",
       "      <td>0.0</td>\n",
       "      <td>0.0</td>\n",
       "      <td>1.0</td>\n",
       "      <td>0.527273</td>\n",
       "      <td>0</td>\n",
       "      <td>0.0</td>\n",
       "      <td>0.0</td>\n",
       "      <td>0.000000</td>\n",
       "      <td>1.0</td>\n",
       "    </tr>\n",
       "    <tr>\n",
       "      <td>...</td>\n",
       "      <td>...</td>\n",
       "      <td>...</td>\n",
       "      <td>...</td>\n",
       "      <td>...</td>\n",
       "      <td>...</td>\n",
       "      <td>...</td>\n",
       "      <td>...</td>\n",
       "      <td>...</td>\n",
       "      <td>...</td>\n",
       "      <td>...</td>\n",
       "      <td>...</td>\n",
       "      <td>...</td>\n",
       "      <td>...</td>\n",
       "      <td>...</td>\n",
       "      <td>...</td>\n",
       "    </tr>\n",
       "    <tr>\n",
       "      <td rowspan=\"5\" valign=\"top\">98225672</td>\n",
       "      <td rowspan=\"5\" valign=\"top\">5</td>\n",
       "      <td>1</td>\n",
       "      <td>0.0</td>\n",
       "      <td>0.0</td>\n",
       "      <td>0.0</td>\n",
       "      <td>0.0</td>\n",
       "      <td>0.0</td>\n",
       "      <td>0.0</td>\n",
       "      <td>4.0</td>\n",
       "      <td>0.811606</td>\n",
       "      <td>0</td>\n",
       "      <td>0.0</td>\n",
       "      <td>0.0</td>\n",
       "      <td>0.000000</td>\n",
       "      <td>4.0</td>\n",
       "    </tr>\n",
       "    <tr>\n",
       "      <td>2</td>\n",
       "      <td>0.0</td>\n",
       "      <td>0.0</td>\n",
       "      <td>0.0</td>\n",
       "      <td>0.0</td>\n",
       "      <td>0.0</td>\n",
       "      <td>0.0</td>\n",
       "      <td>4.0</td>\n",
       "      <td>0.811606</td>\n",
       "      <td>0</td>\n",
       "      <td>0.0</td>\n",
       "      <td>0.0</td>\n",
       "      <td>0.000000</td>\n",
       "      <td>4.0</td>\n",
       "    </tr>\n",
       "    <tr>\n",
       "      <td>3</td>\n",
       "      <td>0.0</td>\n",
       "      <td>0.0</td>\n",
       "      <td>0.0</td>\n",
       "      <td>0.0</td>\n",
       "      <td>0.0</td>\n",
       "      <td>0.0</td>\n",
       "      <td>4.0</td>\n",
       "      <td>0.811606</td>\n",
       "      <td>0</td>\n",
       "      <td>0.0</td>\n",
       "      <td>0.0</td>\n",
       "      <td>0.000000</td>\n",
       "      <td>4.0</td>\n",
       "    </tr>\n",
       "    <tr>\n",
       "      <td>4</td>\n",
       "      <td>0.0</td>\n",
       "      <td>0.0</td>\n",
       "      <td>0.0</td>\n",
       "      <td>0.0</td>\n",
       "      <td>0.0</td>\n",
       "      <td>0.0</td>\n",
       "      <td>4.0</td>\n",
       "      <td>0.811606</td>\n",
       "      <td>0</td>\n",
       "      <td>0.0</td>\n",
       "      <td>0.0</td>\n",
       "      <td>0.000000</td>\n",
       "      <td>4.0</td>\n",
       "    </tr>\n",
       "    <tr>\n",
       "      <td>5</td>\n",
       "      <td>0.0</td>\n",
       "      <td>0.0</td>\n",
       "      <td>0.0</td>\n",
       "      <td>0.0</td>\n",
       "      <td>0.0</td>\n",
       "      <td>0.0</td>\n",
       "      <td>4.0</td>\n",
       "      <td>0.811606</td>\n",
       "      <td>0</td>\n",
       "      <td>0.0</td>\n",
       "      <td>0.0</td>\n",
       "      <td>0.000000</td>\n",
       "      <td>4.0</td>\n",
       "    </tr>\n",
       "  </tbody>\n",
       "</table>\n",
       "<p>14023 rows × 13 columns</p>\n",
       "</div>"
      ],
      "text/plain": [
       "                       slr_offers  slr_best  slr_offers_open  slr_best_open  \\\n",
       "lstg     thread index                                                         \n",
       "28299    1      1             0.0       0.0              0.0            0.0   \n",
       "                2             0.0       0.0              0.0            0.0   \n",
       "                3             0.0       0.0              0.0            0.0   \n",
       "         2      1             0.0       0.0              1.0            0.0   \n",
       "                2             0.0       0.0              1.0            0.0   \n",
       "...                           ...       ...              ...            ...   \n",
       "98225672 5      1             0.0       0.0              0.0            0.0   \n",
       "                2             0.0       0.0              0.0            0.0   \n",
       "                3             0.0       0.0              0.0            0.0   \n",
       "                4             0.0       0.0              0.0            0.0   \n",
       "                5             0.0       0.0              0.0            0.0   \n",
       "\n",
       "                       slr_offers_recent  slr_best_recent  byr_offers  \\\n",
       "lstg     thread index                                                   \n",
       "28299    1      1                    0.0              0.0         0.0   \n",
       "                2                    0.0              0.0         0.0   \n",
       "                3                    0.0              0.0         1.0   \n",
       "         2      1                    0.0              0.0         1.0   \n",
       "                2                    0.0              0.0         1.0   \n",
       "...                                  ...              ...         ...   \n",
       "98225672 5      1                    0.0              0.0         4.0   \n",
       "                2                    0.0              0.0         4.0   \n",
       "                3                    0.0              0.0         4.0   \n",
       "                4                    0.0              0.0         4.0   \n",
       "                5                    0.0              0.0         4.0   \n",
       "\n",
       "                       byr_best  byr_offers_open  byr_best_open  \\\n",
       "lstg     thread index                                             \n",
       "28299    1      1      0.000000                0            0.0   \n",
       "                2      0.000000                0            0.0   \n",
       "                3      0.454545                0            0.0   \n",
       "         2      1      0.527273                0            0.0   \n",
       "                2      0.527273                0            0.0   \n",
       "...                         ...              ...            ...   \n",
       "98225672 5      1      0.811606                0            0.0   \n",
       "                2      0.811606                0            0.0   \n",
       "                3      0.811606                0            0.0   \n",
       "                4      0.811606                0            0.0   \n",
       "                5      0.811606                0            0.0   \n",
       "\n",
       "                       byr_offers_recent  byr_best_recent  thread_count  \n",
       "lstg     thread index                                                    \n",
       "28299    1      1                    0.0         0.000000           0.0  \n",
       "                2                    0.0         0.000000           0.0  \n",
       "                3                    1.0         0.454545           1.0  \n",
       "         2      1                    0.0         0.000000           1.0  \n",
       "                2                    0.0         0.000000           1.0  \n",
       "...                                  ...              ...           ...  \n",
       "98225672 5      1                    0.0         0.000000           4.0  \n",
       "                2                    0.0         0.000000           4.0  \n",
       "                3                    0.0         0.000000           4.0  \n",
       "                4                    0.0         0.000000           4.0  \n",
       "                5                    0.0         0.000000           4.0  \n",
       "\n",
       "[14023 rows x 13 columns]"
      ]
     },
     "execution_count": 6,
     "metadata": {},
     "output_type": "execute_result"
    }
   ],
   "source": [
    "raw"
   ]
  },
  {
   "cell_type": "code",
   "execution_count": 7,
   "metadata": {},
   "outputs": [
    {
     "data": {
      "text/plain": [
       "False"
      ]
     },
     "execution_count": 7,
     "metadata": {},
     "output_type": "execute_result"
    }
   ],
   "source": [
    "raw.index.get_level_values('index').isna().any()"
   ]
  },
  {
   "cell_type": "code",
   "execution_count": 12,
   "metadata": {},
   "outputs": [
    {
     "name": "stdout",
     "output_type": "stream",
     "text": [
      "['lstg', 'thread', 'clock']\n"
     ]
    }
   ],
   "source": [
    "deltas = get_diffs(tf_lstg.groupby(['lstg', 'thread']), tf_lstg, remove_zeros=False)"
   ]
  },
  {
   "cell_type": "code",
   "execution_count": 9,
   "metadata": {},
   "outputs": [
    {
     "data": {
      "text/plain": [
       "FrozenList(['lstg', 'thread', 'clock'])"
      ]
     },
     "execution_count": 9,
     "metadata": {},
     "output_type": "execute_result"
    }
   ],
   "source": [
    "deltas.index.names"
   ]
  },
  {
   "cell_type": "code",
   "execution_count": 19,
   "metadata": {},
   "outputs": [
    {
     "data": {
      "text/plain": [
       "True"
      ]
     },
     "execution_count": 19,
     "metadata": {},
     "output_type": "execute_result"
    }
   ],
   "source": [
    "deltas.index.is_unique"
   ]
  },
  {
   "cell_type": "code",
   "execution_count": 25,
   "metadata": {},
   "outputs": [],
   "source": [
    "events = org_events.copy()\n",
    "events = prepare_index_join(deltas, events)\n",
    "events = events.rename(columns={'index': 'ind'})\n",
    "events = events.sort_values(by='ind')\n",
    "events = events.groupby(by=['lstg', 'thread', 'clock']).first()"
   ]
  },
  {
   "cell_type": "code",
   "execution_count": 26,
   "metadata": {},
   "outputs": [
    {
     "data": {
      "text/plain": [
       "True"
      ]
     },
     "execution_count": 26,
     "metadata": {},
     "output_type": "execute_result"
    }
   ],
   "source": [
    "events.index.is_unique"
   ]
  },
  {
   "cell_type": "code",
   "execution_count": 18,
   "metadata": {},
   "outputs": [
    {
     "data": {
      "text/plain": [
       "True"
      ]
     },
     "execution_count": 18,
     "metadata": {},
     "output_type": "execute_result"
    }
   ],
   "source": [
    "all_turns = events.index.unique()\n",
    "all_turns.isin(deltas.index).all()"
   ]
  },
  {
   "cell_type": "code",
   "execution_count": 59,
   "metadata": {},
   "outputs": [],
   "source": [
    "jdeltas = deltas.join(events, how='left')\n",
    "jdeltas = jdeltas.reset_index(drop=False)\n",
    "jdeltas = jdeltas.sort_values(['lstg', 'thread', 'clock', 'ind'])\n",
    "jdeltas = jdeltas.reset_index(drop=False)\n",
    "jdeltas = jdeltas.set_index(['lstg', 'thread'], drop=True, append=False)\n",
    "jdeltas = jdeltas.groupby(level=['lstg', 'thread']).bfill()\n",
    "jdeltas = jdeltas.set_index(['ind', 'clock'], drop=True, append=True)"
   ]
  },
  {
   "cell_type": "code",
   "execution_count": 61,
   "metadata": {},
   "outputs": [
    {
     "name": "stdout",
     "output_type": "stream",
     "text": [
      "at least 1 nan: True\n",
      "all nan threads have at least 1 non-nan value: True\n",
      "all nan after reg: True\n"
     ]
    }
   ],
   "source": [
    "# check whether all nans have clock values after the last offer in each thread ## CONTINUE\n",
    "nans = jdeltas.index.get_level_values('ind').isna()\n",
    "nonnans = ~jdeltas.index.get_level_values('ind').isna()\n",
    "nan_clocks = jdeltas.loc[nans].reset_index(drop=False)[['lstg', 'thread', 'clock']].groupby(by=['lstg', 'thread']).min().squeeze()\n",
    "nonnan_clocks = jdeltas.loc[nonnans].reset_index(drop=False)[['lstg', 'thread', 'clock']].groupby(by=['lstg', 'thread']).max().squeeze()\n",
    "\n",
    "# ASIDE: Check whether any threads are all nan\n",
    "nan_threads = nan_clocks.index.drop_duplicates()\n",
    "nonnan_threads = nonnan_clocks.index.drop_duplicates()\n",
    "print('at least 1 nan: {}'.format(len(nan_threads) > 0))\n",
    "print('all nan threads have at least 1 non-nan value: {}'.format(nan_threads.isin(nonnan_threads).all()))\n",
    "\n",
    "# CONTINUE main check\n",
    "nan_clocks.name = 'nan_clock'\n",
    "nonnan_clocks.name = 'reg_clock'\n",
    "all_clocks = nan_clocks.to_frame().join(nonnan_clocks)\n",
    "print('all nan after reg: {}'.format((all_clocks.nan_clock >= all_clocks.reg_clock).all()))"
   ]
  },
  {
   "cell_type": "code",
   "execution_count": 58,
   "metadata": {},
   "outputs": [
    {
     "data": {
      "text/html": [
       "<div>\n",
       "<style scoped>\n",
       "    .dataframe tbody tr th:only-of-type {\n",
       "        vertical-align: middle;\n",
       "    }\n",
       "\n",
       "    .dataframe tbody tr th {\n",
       "        vertical-align: top;\n",
       "    }\n",
       "\n",
       "    .dataframe thead th {\n",
       "        text-align: right;\n",
       "    }\n",
       "</style>\n",
       "<table border=\"1\" class=\"dataframe\">\n",
       "  <thead>\n",
       "    <tr style=\"text-align: right;\">\n",
       "      <th></th>\n",
       "      <th></th>\n",
       "      <th>nan_clock</th>\n",
       "      <th>reg_clock</th>\n",
       "    </tr>\n",
       "    <tr>\n",
       "      <th>lstg</th>\n",
       "      <th>thread</th>\n",
       "      <th></th>\n",
       "      <th></th>\n",
       "    </tr>\n",
       "  </thead>\n",
       "  <tbody>\n",
       "    <tr>\n",
       "      <td rowspan=\"2\" valign=\"top\">28299</td>\n",
       "      <td>1</td>\n",
       "      <td>26804305</td>\n",
       "      <td>26870399</td>\n",
       "    </tr>\n",
       "    <tr>\n",
       "      <td>2</td>\n",
       "      <td>26235421</td>\n",
       "      <td>26870399</td>\n",
       "    </tr>\n",
       "    <tr>\n",
       "      <td rowspan=\"3\" valign=\"top\">97643</td>\n",
       "      <td>1</td>\n",
       "      <td>15843015</td>\n",
       "      <td>16329599</td>\n",
       "    </tr>\n",
       "    <tr>\n",
       "      <td>2</td>\n",
       "      <td>15833682</td>\n",
       "      <td>16329599</td>\n",
       "    </tr>\n",
       "    <tr>\n",
       "      <td>3</td>\n",
       "      <td>15833682</td>\n",
       "      <td>16329599</td>\n",
       "    </tr>\n",
       "    <tr>\n",
       "      <td>...</td>\n",
       "      <td>...</td>\n",
       "      <td>...</td>\n",
       "      <td>...</td>\n",
       "    </tr>\n",
       "    <tr>\n",
       "      <td rowspan=\"5\" valign=\"top\">98225672</td>\n",
       "      <td>1</td>\n",
       "      <td>24473984</td>\n",
       "      <td>16884425</td>\n",
       "    </tr>\n",
       "    <tr>\n",
       "      <td>2</td>\n",
       "      <td>15502025</td>\n",
       "      <td>25856384</td>\n",
       "    </tr>\n",
       "    <tr>\n",
       "      <td>3</td>\n",
       "      <td>15502025</td>\n",
       "      <td>25863865</td>\n",
       "    </tr>\n",
       "    <tr>\n",
       "      <td>4</td>\n",
       "      <td>15502025</td>\n",
       "      <td>26769314</td>\n",
       "    </tr>\n",
       "    <tr>\n",
       "      <td>5</td>\n",
       "      <td>15502025</td>\n",
       "      <td>32800454</td>\n",
       "    </tr>\n",
       "  </tbody>\n",
       "</table>\n",
       "<p>4404 rows × 2 columns</p>\n",
       "</div>"
      ],
      "text/plain": [
       "                 nan_clock  reg_clock\n",
       "lstg     thread                      \n",
       "28299    1        26804305   26870399\n",
       "         2        26235421   26870399\n",
       "97643    1        15843015   16329599\n",
       "         2        15833682   16329599\n",
       "         3        15833682   16329599\n",
       "...                    ...        ...\n",
       "98225672 1        24473984   16884425\n",
       "         2        15502025   25856384\n",
       "         3        15502025   25863865\n",
       "         4        15502025   26769314\n",
       "         5        15502025   32800454\n",
       "\n",
       "[4404 rows x 2 columns]"
      ]
     },
     "execution_count": 58,
     "metadata": {},
     "output_type": "execute_result"
    }
   ],
   "source": [
    "all_clocks"
   ]
  },
  {
   "cell_type": "code",
   "execution_count": 37,
   "metadata": {},
   "outputs": [
    {
     "name": "stdout",
     "output_type": "stream",
     "text": [
      "nan ind: True\n",
      "nan thread: False\n"
     ]
    }
   ],
   "source": [
    "print('nan ind: {}'.format(jdeltas.index.get_level_values('ind').isna().any()))\n",
    "print('nan thread: {}'.format(jdeltas.index.get_level_values('thread').isna().any()))"
   ]
  },
  {
   "cell_type": "code",
   "execution_count": 39,
   "metadata": {},
   "outputs": [
    {
     "data": {
      "text/plain": [
       "True"
      ]
     },
     "execution_count": 39,
     "metadata": {},
     "output_type": "execute_result"
    }
   ],
   "source": [
    "# check whether any original events end with a seller turn\n",
    "cevents = org_events.copy()\n",
    "cevents = prepare_index_join(deltas, cevents)\n",
    "(cevents.groupby(level=['lstg', 'thread']).max()['index'].mod(2) == 0).any()"
   ]
  },
  {
   "cell_type": "code",
   "execution_count": null,
   "metadata": {},
   "outputs": [],
   "source": [
    "first_turn = jdeltas.index.get_level_values('ind') != 1\n",
    "jdeltas = jdeltas.loc[first_turn, :]\n",
    "jdeltas.index = jdeltas.index.rename(names='index', level='ind')"
   ]
  },
  {
   "cell_type": "code",
   "execution_count": 23,
   "metadata": {},
   "outputs": [
    {
     "data": {
      "text/plain": [
       "True"
      ]
     },
     "execution_count": 23,
     "metadata": {},
     "output_type": "execute_result"
    }
   ],
   "source": [
    "deltas.index.is_unique"
   ]
  },
  {
   "cell_type": "code",
   "execution_count": null,
   "metadata": {},
   "outputs": [],
   "source": [
    "\n",
    "deltas = deltas.join(events, how='left')\n",
    "deltas = deltas.reset_index(drop=False)\n",
    "deltas = deltas.sort_values(['lstg', 'thread', 'ind'])\n",
    "deltas = deltas.groupby(by=['lstg', 'thread', 'clock']).first()\n",
    "deltas = deltas.reset_index(drop=False)\n",
    "deltas = deltas.set_index(['lstg', 'thread'], drop=True, append=False)\n",
    "deltas = deltas.groupby(level=['lstg', 'thread']).bfill()\n",
    "deltas = deltas.set_index(['ind', 'clock'], drop=True, append=True)\n",
    "first_turn = deltas.index.get_level_values('ind') != 1\n",
    "deltas = deltas.loc[first_turn, :]\n",
    "deltas.index = deltas.index.rename(names='index', level='ind')"
   ]
  },
  {
   "cell_type": "code",
   "execution_count": 34,
   "metadata": {},
   "outputs": [
    {
     "name": "stdout",
     "output_type": "stream",
     "text": [
      "all events in diffs: True\n",
      "all diffs in events: True\n"
     ]
    }
   ],
   "source": [
    "e_lstg_thread = events.reset_index(drop=False)[['lstg', 'thread']].drop_duplicates()\n",
    "d_lstg_thread = deltas.reset_index(drop=False)[['lstg', 'thread']].drop_duplicates()\n",
    "e_index = pd.MultiIndex.from_frame(e_lstg_thread)\n",
    "d_index = pd.MultiIndex.from_frame(d_lstg_thread)\n",
    "print('all events in diffs: {}'.format(e_index.isin(d_index).all()))\n",
    "print('all diffs in events: {}'.format(d_index.isin(e_index).all()))"
   ]
  },
  {
   "cell_type": "code",
   "execution_count": 40,
   "metadata": {},
   "outputs": [],
   "source": [
    "def check_na(df):\n",
    "    print(df.isna().any().any())"
   ]
  },
  {
   "cell_type": "code",
   "execution_count": 27,
   "metadata": {},
   "outputs": [],
   "source": [
    "num = 1\n",
    "arrival = False"
   ]
  },
  {
   "cell_type": "code",
   "execution_count": 16,
   "metadata": {},
   "outputs": [],
   "source": [
    "events = load(FEATS_DIR + '%d_events.gz' % num)"
   ]
  },
  {
   "cell_type": "code",
   "execution_count": 6,
   "metadata": {},
   "outputs": [],
   "source": [
    "events['norm'] = events.price / events.start_price\n",
    "events.loc[~events['byr'], 'norm'] = 1 - events['norm']"
   ]
  },
  {
   "cell_type": "code",
   "execution_count": 8,
   "metadata": {},
   "outputs": [],
   "source": [
    "tf_lstg_focal = processing.b_feats.tf_lstg.get_lstg_time_feats(events, full=False)"
   ]
  },
  {
   "cell_type": "code",
   "execution_count": 36,
   "metadata": {},
   "outputs": [
    {
     "name": "stdout",
     "output_type": "stream",
     "text": [
      "['lstg', 'thread', 'clock']\n",
      "events cols: Index(['index'], dtype='object')\n"
     ]
    }
   ],
   "source": [
    "raw_delay_feats, diff_delay_feats = processing.b_feats.tf_lstg.delay_time_feats(tf_lstg_focal, events)"
   ]
  },
  {
   "cell_type": "code",
   "execution_count": 37,
   "metadata": {},
   "outputs": [
    {
     "data": {
      "text/plain": [
       "True"
      ]
     },
     "execution_count": 37,
     "metadata": {},
     "output_type": "execute_result"
    }
   ],
   "source": [
    "raw_delay_feats.index.is_unique"
   ]
  },
  {
   "cell_type": "code",
   "execution_count": 38,
   "metadata": {},
   "outputs": [
    {
     "data": {
      "text/plain": [
       "True"
      ]
     },
     "execution_count": 38,
     "metadata": {},
     "output_type": "execute_result"
    }
   ],
   "source": [
    "diff_delay_feats.index.is_unique"
   ]
  },
  {
   "cell_type": "code",
   "execution_count": 41,
   "metadata": {},
   "outputs": [
    {
     "name": "stdout",
     "output_type": "stream",
     "text": [
      "False\n"
     ]
    }
   ],
   "source": [
    "check_na(diff_delay_feats)"
   ]
  },
  {
   "cell_type": "code",
   "execution_count": 42,
   "metadata": {},
   "outputs": [
    {
     "name": "stdout",
     "output_type": "stream",
     "text": [
      "False\n"
     ]
    }
   ],
   "source": [
    "check_na(raw_delay_feats)"
   ]
  },
  {
   "cell_type": "code",
   "execution_count": null,
   "metadata": {},
   "outputs": [],
   "source": []
  }
 ],
 "metadata": {
  "kernelspec": {
   "display_name": "Python 3",
   "language": "python",
   "name": "python3"
  },
  "language_info": {
   "codemirror_mode": {
    "name": "ipython",
    "version": 3
   },
   "file_extension": ".py",
   "mimetype": "text/x-python",
   "name": "python",
   "nbconvert_exporter": "python",
   "pygments_lexer": "ipython3",
   "version": "3.7.4"
  }
 },
 "nbformat": 4,
 "nbformat_minor": 4
}
