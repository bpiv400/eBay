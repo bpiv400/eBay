{
 "cells": [
  {
   "cell_type": "code",
   "execution_count": null,
   "metadata": {},
   "outputs": [],
   "source": [
    "import pandas as pd\n",
    "import numpy as np\n",
    "import processing.b_feats.util\n",
    "import processing.processing_utils\n",
    "import importlib\n",
    "from constants import LEVELS, START, MAX_DELAY\n",
    "from rlenv.time_triggers import *\n",
    "from compress_pickle import dump, load\n",
    "import sys\n",
    "import os\n",
    "os.chdir('A:/ebay/')\n",
    "sys.path.append('repo/processing/b_feats/test/')\n",
    "import meta_time_feats_test  \n",
    "importlib.reload(meta_time_feats_test)\n",
    "importlib.reload(processing.b_feats.time_funcs)\n",
    "importlib.reload(processing.b_feats.util)\n",
    "setup_complex_lstg = meta_time_feats_test.setup_complex_lstg\n",
    "delay_appendix_1 =  meta_time_feats_test.delay_appendix_1\n",
    "delay_appendix_2 = meta_time_feats_test.delay_appendix_2\n",
    "add_event = meta_time_feats_test.add_event\n",
    "NEW_LSTG = 'new_lstg'\n",
    "ACCEPTANCE = 'accept'\n",
    "EXPIRE_LSTG = 'expire_lstg'\n",
    "CENSORED = 'censored'"
   ]
  }
 ],
 "metadata": {
  "kernelspec": {
   "display_name": "Python 3",
   "language": "python",
   "name": "python3"
  },
  "language_info": {
   "codemirror_mode": {
    "name": "ipython",
    "version": 3
   },
   "file_extension": ".py",
   "mimetype": "text/x-python",
   "name": "python",
   "nbconvert_exporter": "python",
   "pygments_lexer": "ipython3",
   "version": "3.7.4"
  }
 },
 "nbformat": 4,
 "nbformat_minor": 4
}
