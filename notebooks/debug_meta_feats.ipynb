{
 "cells": [
  {
   "cell_type": "code",
   "execution_count": 22,
   "metadata": {},
   "outputs": [],
   "source": [
    "import pandas as pd\n",
    "import numpy as np\n",
    "import processing.b_feats.util\n",
    "import processing.processing_utils\n",
    "import importlib\n",
    "from constants import LEVELS, START, MAX_DELAY\n",
    "from rlenv.time_triggers import *\n",
    "from compress_pickle import dump, load\n",
    "import sys\n",
    "import os\n",
    "os.chdir('A:/ebay/')\n",
    "sys.path.append('repo/processing/b_feats/test/')\n",
    "import meta_time_feats_test  \n",
    "importlib.reload(meta_time_feats_test)\n",
    "importlib.reload(processing.b_feats.time_funcs)\n",
    "importlib.reload(processing.b_feats.util)\n",
    "setup_complex_lstg = meta_time_feats_test.setup_complex_lstg\n",
    "delay_appendix_1 =  meta_time_feats_test.delay_appendix_1\n",
    "delay_appendix_2 = meta_time_feats_test.delay_appendix_2\n",
    "add_event = meta_time_feats_test.add_event\n",
    "NEW_LSTG = 'new_lstg'\n",
    "ACCEPTANCE = 'accept'\n",
    "EXPIRE_LSTG = 'expire_lstg'\n",
    "CENSORED = 'censored'"
   ]
  },
  {
   "cell_type": "code",
   "execution_count": null,
   "metadata": {},
   "outputs": [],
   "source": [
    "events = setup_complex_lstg(None, meta=1, leaf=1)\n",
    "\n",
    "events.index = events.index.droplevel(['cndtn'])\n",
    "feats = processing.b_feats.util.get_cat_feats(events, levels=['meta'], feat_ind=4)"
   ]
  },
  {
   "cell_type": "code",
   "execution_count": 3,
   "metadata": {},
   "outputs": [
    {
     "name": "stderr",
     "output_type": "stream",
     "text": [
      "C:\\Users\\navba\\Anaconda3\\envs\\ebay\\lib\\site-packages\\pandas\\core\\frame.py:7123: FutureWarning: Sorting because non-concatenation axis is not aligned. A future version\n",
      "of pandas will change to not sort by default.\n",
      "\n",
      "To accept the future behavior, pass 'sort=False'.\n",
      "\n",
      "To retain the current behavior and silence the warning, pass 'sort=True'.\n",
      "\n",
      "  sort=sort,\n"
     ]
    }
   ],
   "source": [
    "events = setup_complex_lstg(None, meta=1, leaf=1)\n",
    "\n",
    "# add a group where there are 2 lstgs and no threads\n",
    "offer = {\n",
    "    'lstg': 23,\n",
    "    'clock': 300\n",
    "}\n",
    "events = add_event(events, offer, trigger_type=NEW_LSTG, meta=1, leaf=2)\n",
    "offer['clock'] = 325\n",
    "events = add_event(events, offer, trigger_type=EXPIRE_LSTG, meta=1, leaf=2)\n",
    "\n",
    "offer = {\n",
    "    'lstg': 24,\n",
    "    'clock': 350\n",
    "}\n",
    "events = add_event(events, offer, trigger_type=NEW_LSTG, meta=1, leaf=2)\n",
    "offer['clock'] = 355\n",
    "events = add_event(events, offer, trigger_type=EXPIRE_LSTG, meta=1, leaf=2)\n",
    "\n",
    "# add a group where there are 2 lstgs, several threads, and 1 bin\n",
    "offer = {\n",
    "    'lstg': 25,\n",
    "    'clock': 360\n",
    "}\n",
    "events = add_event(events, offer, trigger_type=NEW_LSTG, meta=1, leaf=3)\n",
    "offer['clock'] = 365\n",
    "offer['byr'] = True\n",
    "offer['price'] = 35\n",
    "offer['thread'] = 1\n",
    "events = add_event(events, offer, trigger_type=OFFER, meta=1, leaf=3)\n",
    "\n",
    "offer['price'] = 45\n",
    "offer['clock'] = 370\n",
    "offer['thread'] = 2\n",
    "events = add_event(events, offer, trigger_type=OFFER, meta=1, leaf=3)\n",
    "\n",
    "offer['price'] = 55\n",
    "offer['clock'] = 375\n",
    "offer['thread'] = 3\n",
    "events = add_event(events, offer, trigger_type=OFFER, meta=1, leaf=3)\n",
    "\n",
    "offer['price'] = 60\n",
    "offer['clock'] = 380\n",
    "offer['thread'] = 4\n",
    "events = add_event(events, offer, trigger_type=OFFER, meta=1, leaf=3)\n",
    "\n",
    "offer['clock'] = 385\n",
    "offer['lstg'] = 26\n",
    "events = add_event(events, offer, trigger_type=NEW_LSTG, meta=1, leaf=3)\n",
    "\n",
    "offer['thread'] = 1\n",
    "offer['price'] = 50\n",
    "offer['clock'] = 387\n",
    "offer['byr'] = True\n",
    "events = add_event(events, offer, trigger_type=OFFER, meta=1, leaf=3)\n",
    "\n",
    "offer['thread'] = 2\n",
    "offer['price'] = 100\n",
    "offer['clock'] = 389\n",
    "events = add_event(events, offer, trigger_type=ACCEPTANCE,  meta=1, leaf=3)\n",
    "offer['thread'] = 1\n",
    "offer['byr'] = False\n",
    "events = add_event(events, offer, trigger_type=CENSORED,  meta=1, leaf=3)\n",
    "\n",
    "offer['clock'] = 400\n",
    "offer['byr'] = False\n",
    "offer['lstg'] = 25\n",
    "offer['price'] = 60\n",
    "offer['thread'] = 4\n",
    "events = add_event(events, offer, trigger_type=ACCEPTANCE,  meta=1, leaf=3)\n",
    "offer['thread'] = 3\n",
    "events = add_event(events, offer, trigger_type=CENSORED,  meta=1, leaf=3)\n",
    "offer['thread'] = 2\n",
    "events = add_event(events, offer, trigger_type=CENSORED,  meta=1, leaf=3)\n",
    "offer['thread'] = 1\n",
    "events = add_event(events, offer, trigger_type=CENSORED,  meta=1, leaf=3)\n",
    "\n",
    "events.byr = events.byr.astype(bool)\n",
    "events.reject = events.reject.astype(bool)\n",
    "events.accept = events.accept.astype(bool)\n",
    "events.censored = events.censored.astype(bool)\n",
    "events.flag = events.flag.astype(bool)\n",
    "events.price = events.price.astype(np.int64)\n",
    "events.clock = events.clock.astype(np.int64)\n",
    "\n",
    "events.index = events.index.droplevel(['cndtn'])\n",
    "feats = processing.b_feats.util.get_cat_feats(events, levels=['meta'], feat_ind=4)"
   ]
  },
  {
   "cell_type": "code",
   "execution_count": 4,
   "metadata": {},
   "outputs": [
    {
     "data": {
      "text/html": [
       "<div>\n",
       "<style scoped>\n",
       "    .dataframe tbody tr th:only-of-type {\n",
       "        vertical-align: middle;\n",
       "    }\n",
       "\n",
       "    .dataframe tbody tr th {\n",
       "        vertical-align: top;\n",
       "    }\n",
       "\n",
       "    .dataframe thead th {\n",
       "        text-align: right;\n",
       "    }\n",
       "</style>\n",
       "<table border=\"1\" class=\"dataframe\">\n",
       "  <thead>\n",
       "    <tr style=\"text-align: right;\">\n",
       "      <th></th>\n",
       "      <th>meta_slr_delay_25</th>\n",
       "      <th>meta_slr_delay_50</th>\n",
       "      <th>meta_slr_delay_75</th>\n",
       "      <th>meta_slr_delay_100</th>\n",
       "      <th>meta_byr_delay_25</th>\n",
       "      <th>meta_byr_delay_50</th>\n",
       "      <th>meta_byr_delay_75</th>\n",
       "      <th>meta_byr_delay_100</th>\n",
       "      <th>meta_slr_expire</th>\n",
       "      <th>meta_byr_expire</th>\n",
       "    </tr>\n",
       "    <tr>\n",
       "      <th>lstg</th>\n",
       "      <th></th>\n",
       "      <th></th>\n",
       "      <th></th>\n",
       "      <th></th>\n",
       "      <th></th>\n",
       "      <th></th>\n",
       "      <th></th>\n",
       "      <th></th>\n",
       "      <th></th>\n",
       "      <th></th>\n",
       "    </tr>\n",
       "  </thead>\n",
       "  <tbody>\n",
       "    <tr>\n",
       "      <td>1</td>\n",
       "      <td>0.000058</td>\n",
       "      <td>0.000116</td>\n",
       "      <td>0.000116</td>\n",
       "      <td>0.000174</td>\n",
       "      <td>0.000004</td>\n",
       "      <td>0.000004</td>\n",
       "      <td>0.000006</td>\n",
       "      <td>0.000017</td>\n",
       "      <td>0.0</td>\n",
       "      <td>0.0</td>\n",
       "    </tr>\n",
       "    <tr>\n",
       "      <td>2</td>\n",
       "      <td>0.000058</td>\n",
       "      <td>0.000058</td>\n",
       "      <td>0.000116</td>\n",
       "      <td>0.000174</td>\n",
       "      <td>0.000004</td>\n",
       "      <td>0.000008</td>\n",
       "      <td>0.000017</td>\n",
       "      <td>0.000025</td>\n",
       "      <td>0.0</td>\n",
       "      <td>0.0</td>\n",
       "    </tr>\n",
       "    <tr>\n",
       "      <td>3</td>\n",
       "      <td>0.000058</td>\n",
       "      <td>0.000087</td>\n",
       "      <td>0.000116</td>\n",
       "      <td>0.000174</td>\n",
       "      <td>0.000004</td>\n",
       "      <td>0.000004</td>\n",
       "      <td>0.000008</td>\n",
       "      <td>0.000025</td>\n",
       "      <td>0.0</td>\n",
       "      <td>0.0</td>\n",
       "    </tr>\n",
       "    <tr>\n",
       "      <td>4</td>\n",
       "      <td>0.000058</td>\n",
       "      <td>0.000116</td>\n",
       "      <td>0.000116</td>\n",
       "      <td>0.000174</td>\n",
       "      <td>0.000004</td>\n",
       "      <td>0.000006</td>\n",
       "      <td>0.000012</td>\n",
       "      <td>0.000025</td>\n",
       "      <td>0.0</td>\n",
       "      <td>0.0</td>\n",
       "    </tr>\n",
       "    <tr>\n",
       "      <td>5</td>\n",
       "      <td>0.000058</td>\n",
       "      <td>0.000087</td>\n",
       "      <td>0.000116</td>\n",
       "      <td>0.000174</td>\n",
       "      <td>0.000004</td>\n",
       "      <td>0.000006</td>\n",
       "      <td>0.000012</td>\n",
       "      <td>0.000025</td>\n",
       "      <td>0.0</td>\n",
       "      <td>0.0</td>\n",
       "    </tr>\n",
       "    <tr>\n",
       "      <td>6</td>\n",
       "      <td>0.000058</td>\n",
       "      <td>0.000116</td>\n",
       "      <td>0.000116</td>\n",
       "      <td>0.000174</td>\n",
       "      <td>0.000004</td>\n",
       "      <td>0.000004</td>\n",
       "      <td>0.000008</td>\n",
       "      <td>0.000025</td>\n",
       "      <td>0.0</td>\n",
       "      <td>0.0</td>\n",
       "    </tr>\n",
       "    <tr>\n",
       "      <td>7</td>\n",
       "      <td>0.000058</td>\n",
       "      <td>0.000116</td>\n",
       "      <td>0.000116</td>\n",
       "      <td>0.000174</td>\n",
       "      <td>0.000004</td>\n",
       "      <td>0.000006</td>\n",
       "      <td>0.000012</td>\n",
       "      <td>0.000025</td>\n",
       "      <td>0.0</td>\n",
       "      <td>0.0</td>\n",
       "    </tr>\n",
       "    <tr>\n",
       "      <td>8</td>\n",
       "      <td>0.000058</td>\n",
       "      <td>0.000087</td>\n",
       "      <td>0.000116</td>\n",
       "      <td>0.000174</td>\n",
       "      <td>0.000004</td>\n",
       "      <td>0.000006</td>\n",
       "      <td>0.000012</td>\n",
       "      <td>0.000025</td>\n",
       "      <td>0.0</td>\n",
       "      <td>0.0</td>\n",
       "    </tr>\n",
       "    <tr>\n",
       "      <td>9</td>\n",
       "      <td>0.000058</td>\n",
       "      <td>0.000116</td>\n",
       "      <td>0.000116</td>\n",
       "      <td>0.000174</td>\n",
       "      <td>0.000004</td>\n",
       "      <td>0.000004</td>\n",
       "      <td>0.000012</td>\n",
       "      <td>0.000025</td>\n",
       "      <td>0.0</td>\n",
       "      <td>0.0</td>\n",
       "    </tr>\n",
       "    <tr>\n",
       "      <td>10</td>\n",
       "      <td>0.000058</td>\n",
       "      <td>0.000087</td>\n",
       "      <td>0.000116</td>\n",
       "      <td>0.000174</td>\n",
       "      <td>0.000004</td>\n",
       "      <td>0.000006</td>\n",
       "      <td>0.000012</td>\n",
       "      <td>0.000025</td>\n",
       "      <td>0.0</td>\n",
       "      <td>0.0</td>\n",
       "    </tr>\n",
       "    <tr>\n",
       "      <td>11</td>\n",
       "      <td>0.000058</td>\n",
       "      <td>0.000087</td>\n",
       "      <td>0.000116</td>\n",
       "      <td>0.000174</td>\n",
       "      <td>0.000004</td>\n",
       "      <td>0.000006</td>\n",
       "      <td>0.000012</td>\n",
       "      <td>0.000025</td>\n",
       "      <td>0.0</td>\n",
       "      <td>0.0</td>\n",
       "    </tr>\n",
       "    <tr>\n",
       "      <td>23</td>\n",
       "      <td>0.000058</td>\n",
       "      <td>0.000087</td>\n",
       "      <td>0.000116</td>\n",
       "      <td>0.000174</td>\n",
       "      <td>0.000004</td>\n",
       "      <td>0.000006</td>\n",
       "      <td>0.000012</td>\n",
       "      <td>0.000025</td>\n",
       "      <td>0.0</td>\n",
       "      <td>0.0</td>\n",
       "    </tr>\n",
       "    <tr>\n",
       "      <td>24</td>\n",
       "      <td>0.000058</td>\n",
       "      <td>0.000087</td>\n",
       "      <td>0.000116</td>\n",
       "      <td>0.000174</td>\n",
       "      <td>0.000004</td>\n",
       "      <td>0.000006</td>\n",
       "      <td>0.000012</td>\n",
       "      <td>0.000025</td>\n",
       "      <td>0.0</td>\n",
       "      <td>0.0</td>\n",
       "    </tr>\n",
       "    <tr>\n",
       "      <td>25</td>\n",
       "      <td>0.000058</td>\n",
       "      <td>0.000087</td>\n",
       "      <td>0.000116</td>\n",
       "      <td>0.000174</td>\n",
       "      <td>0.000004</td>\n",
       "      <td>0.000006</td>\n",
       "      <td>0.000012</td>\n",
       "      <td>0.000025</td>\n",
       "      <td>0.0</td>\n",
       "      <td>0.0</td>\n",
       "    </tr>\n",
       "    <tr>\n",
       "      <td>26</td>\n",
       "      <td>0.000058</td>\n",
       "      <td>0.000087</td>\n",
       "      <td>0.000116</td>\n",
       "      <td>0.000174</td>\n",
       "      <td>0.000004</td>\n",
       "      <td>0.000006</td>\n",
       "      <td>0.000012</td>\n",
       "      <td>0.000025</td>\n",
       "      <td>0.0</td>\n",
       "      <td>0.0</td>\n",
       "    </tr>\n",
       "  </tbody>\n",
       "</table>\n",
       "</div>"
      ],
      "text/plain": [
       "      meta_slr_delay_25  meta_slr_delay_50  meta_slr_delay_75  \\\n",
       "lstg                                                            \n",
       "1              0.000058           0.000116           0.000116   \n",
       "2              0.000058           0.000058           0.000116   \n",
       "3              0.000058           0.000087           0.000116   \n",
       "4              0.000058           0.000116           0.000116   \n",
       "5              0.000058           0.000087           0.000116   \n",
       "6              0.000058           0.000116           0.000116   \n",
       "7              0.000058           0.000116           0.000116   \n",
       "8              0.000058           0.000087           0.000116   \n",
       "9              0.000058           0.000116           0.000116   \n",
       "10             0.000058           0.000087           0.000116   \n",
       "11             0.000058           0.000087           0.000116   \n",
       "23             0.000058           0.000087           0.000116   \n",
       "24             0.000058           0.000087           0.000116   \n",
       "25             0.000058           0.000087           0.000116   \n",
       "26             0.000058           0.000087           0.000116   \n",
       "\n",
       "      meta_slr_delay_100  meta_byr_delay_25  meta_byr_delay_50  \\\n",
       "lstg                                                             \n",
       "1               0.000174           0.000004           0.000004   \n",
       "2               0.000174           0.000004           0.000008   \n",
       "3               0.000174           0.000004           0.000004   \n",
       "4               0.000174           0.000004           0.000006   \n",
       "5               0.000174           0.000004           0.000006   \n",
       "6               0.000174           0.000004           0.000004   \n",
       "7               0.000174           0.000004           0.000006   \n",
       "8               0.000174           0.000004           0.000006   \n",
       "9               0.000174           0.000004           0.000004   \n",
       "10              0.000174           0.000004           0.000006   \n",
       "11              0.000174           0.000004           0.000006   \n",
       "23              0.000174           0.000004           0.000006   \n",
       "24              0.000174           0.000004           0.000006   \n",
       "25              0.000174           0.000004           0.000006   \n",
       "26              0.000174           0.000004           0.000006   \n",
       "\n",
       "      meta_byr_delay_75  meta_byr_delay_100  meta_slr_expire  meta_byr_expire  \n",
       "lstg                                                                           \n",
       "1              0.000006            0.000017              0.0              0.0  \n",
       "2              0.000017            0.000025              0.0              0.0  \n",
       "3              0.000008            0.000025              0.0              0.0  \n",
       "4              0.000012            0.000025              0.0              0.0  \n",
       "5              0.000012            0.000025              0.0              0.0  \n",
       "6              0.000008            0.000025              0.0              0.0  \n",
       "7              0.000012            0.000025              0.0              0.0  \n",
       "8              0.000012            0.000025              0.0              0.0  \n",
       "9              0.000012            0.000025              0.0              0.0  \n",
       "10             0.000012            0.000025              0.0              0.0  \n",
       "11             0.000012            0.000025              0.0              0.0  \n",
       "23             0.000012            0.000025              0.0              0.0  \n",
       "24             0.000012            0.000025              0.0              0.0  \n",
       "25             0.000012            0.000025              0.0              0.0  \n",
       "26             0.000012            0.000025              0.0              0.0  "
      ]
     },
     "execution_count": 4,
     "metadata": {},
     "output_type": "execute_result"
    }
   ],
   "source": [
    "feats"
   ]
  },
  {
   "cell_type": "code",
   "execution_count": null,
   "metadata": {},
   "outputs": [],
   "source": [
    ".000012 * MAX_DELAY['byr']"
   ]
  },
  {
   "cell_type": "code",
   "execution_count": null,
   "metadata": {},
   "outputs": [],
   "source": [
    "test = np.array([curr / MAX_DELAY['byr'] for curr in [5, 15, 50]])"
   ]
  },
  {
   "cell_type": "code",
   "execution_count": null,
   "metadata": {},
   "outputs": [],
   "source": [
    "np.nanquantile(test, q=.25, interpolation='lower')"
   ]
  },
  {
   "cell_type": "code",
   "execution_count": null,
   "metadata": {},
   "outputs": [],
   "source": [
    "events = setup_complex_lstg(None, meta=1, leaf=1)\n",
    "\n",
    "# add a group where there are 2 lstgs and no threads\n",
    "offer = {\n",
    "    'lstg': 23,\n",
    "    'clock': 300\n",
    "}\n",
    "events = add_event(events, offer, trigger_type=NEW_LSTG, meta=3, leaf=1)\n",
    "offer['clock'] = 325\n",
    "events = add_event(events, offer, trigger_type=EXPIRE_LSTG, meta=3, leaf=1)\n",
    "\n",
    "offer = {\n",
    "    'lstg': 24,\n",
    "    'clock': 350\n",
    "}\n",
    "events = add_event(events, offer, trigger_type=NEW_LSTG, meta=3, leaf=1)\n",
    "offer['clock'] = 355\n",
    "events = add_event(events, offer, trigger_type=EXPIRE_LSTG, meta=3, leaf=1)\n",
    "\n",
    "# add a group where there are 2 lstgs, several threads, and 1 bin\n",
    "offer = {\n",
    "    'lstg': 25,\n",
    "    'clock': 360\n",
    "}\n",
    "events = add_event(events, offer, trigger_type=NEW_LSTG, meta=4, leaf=1)\n",
    "offer['clock'] = 365\n",
    "offer['byr'] = True\n",
    "offer['price'] = 35\n",
    "offer['thread'] = 1\n",
    "events = add_event(events, offer, trigger_type=OFFER, meta=4, leaf=1)\n",
    "\n",
    "offer['price'] = 45\n",
    "offer['clock'] = 370\n",
    "offer['thread'] = 2\n",
    "events = add_event(events, offer, trigger_type=OFFER, meta=4, leaf=1)\n",
    "\n",
    "offer['price'] = 55\n",
    "offer['clock'] = 375\n",
    "offer['thread'] = 3\n",
    "events = add_event(events, offer, trigger_type=OFFER, meta=4, leaf=1)\n",
    "\n",
    "offer['price'] = 60\n",
    "offer['clock'] = 380\n",
    "offer['thread'] = 4\n",
    "events = add_event(events, offer, trigger_type=OFFER, meta=4, leaf=1)\n",
    "\n",
    "offer['clock'] = 385\n",
    "offer['lstg'] = 26\n",
    "events = add_event(events, offer, trigger_type=NEW_LSTG, meta=4, leaf=1)\n",
    "\n",
    "offer['thread'] = 1\n",
    "offer['price'] = 50\n",
    "offer['clock'] = 387\n",
    "offer['byr'] = True\n",
    "events = add_event(events, offer, trigger_type=OFFER, meta=4, leaf=1)\n",
    "\n",
    "offer['thread'] = 2\n",
    "offer['price'] = 100\n",
    "offer['clock'] = 389\n",
    "events = add_event(events, offer, trigger_type=ACCEPTANCE, meta=4, leaf=1)\n",
    "offer['thread'] = 1\n",
    "offer['byr'] = False\n",
    "events = add_event(events, offer, trigger_type=CENSORED, meta=4, leaf=1)\n",
    "\n",
    "offer['clock'] = 400\n",
    "offer['byr'] = False\n",
    "offer['lstg'] = 25\n",
    "offer['price'] = 60\n",
    "offer['thread'] = 4\n",
    "events = add_event(events, offer, trigger_type=ACCEPTANCE, meta=4, leaf=1)\n",
    "offer['thread'] = 3\n",
    "events = add_event(events, offer, trigger_type=CENSORED, meta=4, leaf=1)\n",
    "offer['thread'] = 2\n",
    "events = add_event(events, offer, trigger_type=CENSORED, meta=4, leaf=1)\n",
    "offer['thread'] = 1\n",
    "events = add_event(events, offer, trigger_type=CENSORED, meta=4, leaf=1)\n",
    "events.index = events.index.droplevel(['cndtn', 'leaf'])\n",
    "events.byr = events.byr.astype(bool)\n",
    "events.reject = events.reject.astype(bool)\n",
    "events.accept = events.accept.astype(bool)\n",
    "events.censored = events.censored.astype(bool)\n",
    "events.flag = events.flag.astype(bool)\n",
    "events.price = events.price.astype(np.int64)\n",
    "events.clock = events.clock.astype(np.int64)"
   ]
  },
  {
   "cell_type": "code",
   "execution_count": null,
   "metadata": {},
   "outputs": [],
   "source": [
    "clock_df = events.clock.unstack()\n",
    "delay = pd.DataFrame(index=clock_df.index)\n",
    "delay[0] = 0\n",
    "for i in range(1, 8):\n",
    "    if i in clock_df.columns:\n",
    "        delay[i] = clock_df[i] - clock_df[i-1]\n",
    "        if i in [2, 4, 6]:\n",
    "            max_delay = MAX_DELAY['slr']\n",
    "            censored = delay[i] > MAX_DELAY['slr']\n",
    "        elif i != 7:\n",
    "            censored = delay[i] > MAX_DELAY['byr']\n",
    "            max_delay = MAX_DELAY['byr']\n",
    "        else:\n",
    "            censored = delay.index\n",
    "            max_delay = 1\n",
    "        delay.loc[censored, i] = np.NaN\n",
    "        delay[i] = delay[i] / max_delay\n",
    "events['delay'] = delay.rename_axis('index', axis=1).stack()"
   ]
  },
  {
   "cell_type": "code",
   "execution_count": null,
   "metadata": {},
   "outputs": [],
   "source": [
    "with pd.option_context('display.max_rows', None, 'display.max_columns', None):  # more options can be specified also\n",
    "    print(events['delay'])"
   ]
  },
  {
   "cell_type": "code",
   "execution_count": null,
   "metadata": {},
   "outputs": [],
   "source": [
    "feats = processing.b_feats.util.get_cat_feats(events, levels=['meta'], feat_ind=3)\n",
    "feats.isna().any().any()"
   ]
  },
  {
   "cell_type": "code",
   "execution_count": null,
   "metadata": {},
   "outputs": [],
   "source": [
    "feats"
   ]
  },
  {
   "cell_type": "code",
   "execution_count": null,
   "metadata": {},
   "outputs": [],
   "source": [
    "actual"
   ]
  },
  {
   "cell_type": "code",
   "execution_count": null,
   "metadata": {},
   "outputs": [],
   "source": [
    "total_lstgs_index = pd.MultiIndex.from_tuples([(1, 2), (1, 1), (2, 3), (2, 1)], names=['meta','leaf'])\n",
    "total_lstgs = pd.DataFrame(index=total_lstgs_index, data={'tot': [4, 3, 1, 9]})\n",
    "lstg_index = pd.MultiIndex.from_tuples([(1, 2, 1), (1, 2, 2), (1, 2, 3), (1, 1, 6), (1, 1, 7), (1, 1, 8), (1, 1, 9), (2, 3, 1), (2, 1, 3), (2, 1, 2)], names=['meta', 'leaf', 'lstg'])\n",
    "lstg_index"
   ]
  },
  {
   "cell_type": "code",
   "execution_count": null,
   "metadata": {},
   "outputs": [],
   "source": [
    "total_lstgs.reindex(lstg_index)"
   ]
  },
  {
   "cell_type": "code",
   "execution_count": null,
   "metadata": {},
   "outputs": [],
   "source": [
    "total_lstgs_index = pd.Index([1, 2])\n",
    "total_lstgs = pd.DataFrame(index=total_lstgs_index, data={'tot': [4, 3]})\n",
    "lstg_index = pd.MultiIndex.from_tuples([(1, 1), (1, 2), (1, 3), (2, 3), (2, 2)], names=['meta', 'lstg'])\n",
    "lstg_index"
   ]
  },
  {
   "cell_type": "code",
   "execution_count": null,
   "metadata": {},
   "outputs": [],
   "source": [
    "total_lstgs.reindex(lstg_index, level='meta')"
   ]
  },
  {
   "cell_type": "code",
   "execution_count": null,
   "metadata": {},
   "outputs": [],
   "source": [
    "t = pd.Index([1, 2, 3, 4])\n",
    "p = pd.Index([2, 1, 3, 4])"
   ]
  },
  {
   "cell_type": "code",
   "execution_count": null,
   "metadata": {},
   "outputs": [],
   "source": [
    "t.equals(p)"
   ]
  },
  {
   "cell_type": "code",
   "execution_count": null,
   "metadata": {},
   "outputs": [],
   "source": [
    "t = pd.DataFrame(data={'clock': [4, 9, 11, 1, 2, 15, 15], 'censored': [2, 2, 2, 2, 2, 2, 1]})"
   ]
  },
  {
   "cell_type": "code",
   "execution_count": null,
   "metadata": {},
   "outputs": [],
   "source": [
    "t.sort_values(['clock', 'censored'])"
   ]
  },
  {
   "cell_type": "code",
   "execution_count": 5,
   "metadata": {},
   "outputs": [],
   "source": [
    "path = 'A:/ebay/data/chunks/m1.gz'\n",
    "d = load(path)\n",
    "L, T, O = [d[k] for k in ['listings', 'threads', 'offers']]"
   ]
  },
  {
   "cell_type": "code",
   "execution_count": 10,
   "metadata": {},
   "outputs": [],
   "source": [
    "def check_bounds(L, col):\n",
    "    print('max: {}'.format(L[col].max()))\n",
    "    print('min: {}'.format(L[col].min()))"
   ]
  },
  {
   "cell_type": "code",
   "execution_count": 11,
   "metadata": {},
   "outputs": [
    {
     "data": {
      "text/plain": [
       "Index(['meta', 'leaf', 'cndtn', 'start_date', 'end_time', 'start_price',\n",
       "       'arrival_rate', 'flag'],\n",
       "      dtype='object')"
      ]
     },
     "execution_count": 11,
     "metadata": {},
     "output_type": "execute_result"
    }
   ],
   "source": [
    "L.columns"
   ]
  },
  {
   "cell_type": "code",
   "execution_count": 12,
   "metadata": {},
   "outputs": [
    {
     "name": "stdout",
     "output_type": "stream",
     "text": [
      "max: 0.9999998982781346\n",
      "min: 1.0172186534179498e-08\n"
     ]
    }
   ],
   "source": [
    "check_bounds(L, 'arrival_rate')"
   ]
  },
  {
   "cell_type": "code",
   "execution_count": 13,
   "metadata": {},
   "outputs": [
    {
     "name": "stdout",
     "output_type": "stream",
     "text": [
      "max: 21000000.0\n",
      "min: 0.01\n"
     ]
    }
   ],
   "source": [
    "check_bounds(L, 'start_price')"
   ]
  },
  {
   "cell_type": "code",
   "execution_count": 14,
   "metadata": {},
   "outputs": [
    {
     "data": {
      "text/plain": [
       "Index(['clock', 'price', 'accept', 'reject', 'censored'], dtype='object')"
      ]
     },
     "execution_count": 14,
     "metadata": {},
     "output_type": "execute_result"
    }
   ],
   "source": [
    "O.columns"
   ]
  },
  {
   "cell_type": "code",
   "execution_count": 15,
   "metadata": {},
   "outputs": [
    {
     "data": {
      "text/plain": [
       "Index(['start_time', 'byr_hist', 'bin'], dtype='object')"
      ]
     },
     "execution_count": 15,
     "metadata": {},
     "output_type": "execute_result"
    }
   ],
   "source": [
    "T.columns"
   ]
  },
  {
   "cell_type": "code",
   "execution_count": 17,
   "metadata": {},
   "outputs": [
    {
     "name": "stdout",
     "output_type": "stream",
     "text": [
      "max: 0.9998214528123667\n",
      "min: 2.8399425422824846e-08\n"
     ]
    }
   ],
   "source": [
    "check_bounds(T, 'byr_hist')"
   ]
  },
  {
   "cell_type": "code",
   "execution_count": 24,
   "metadata": {},
   "outputs": [],
   "source": [
    "levels = ['meta', 'leaf', 'cndtn']\n",
    "events = processing.b_feats.util.create_events(L, T, O, levels)"
   ]
  },
  {
   "cell_type": "code",
   "execution_count": 19,
   "metadata": {},
   "outputs": [
    {
     "data": {
      "text/plain": [
       "Index(['accept', 'censored', 'clock', 'price', 'reject', 'byr', 'flag',\n",
       "       'start_price'],\n",
       "      dtype='object')"
      ]
     },
     "execution_count": 19,
     "metadata": {},
     "output_type": "execute_result"
    }
   ],
   "source": [
    "events.columns"
   ]
  },
  {
   "cell_type": "code",
   "execution_count": 23,
   "metadata": {},
   "outputs": [],
   "source": [
    "events = setup_complex_lstg(None, meta=1, leaf=1)\n",
    "events = setup_complex_lstg(events, meta=2, leaf=1, starter=11)\n",
    "events.index = events.index.droplevel(['cndtn', 'leaf'])\n",
    "feats = processing.b_feats.util.get_cat_feats(events, levels=['meta'], feat_ind=4)"
   ]
  },
  {
   "cell_type": "code",
   "execution_count": 26,
   "metadata": {},
   "outputs": [
    {
     "data": {
      "text/plain": [
       "accept          False\n",
       "byr_hist         True\n",
       "censored        False\n",
       "clock           False\n",
       "price            True\n",
       "reject          False\n",
       "byr             False\n",
       "flag            False\n",
       "start_price     False\n",
       "arrival_rate    False\n",
       "dtype: bool"
      ]
     },
     "execution_count": 26,
     "metadata": {},
     "output_type": "execute_result"
    }
   ],
   "source": [
    "events.isna().any()"
   ]
  },
  {
   "cell_type": "code",
   "execution_count": 28,
   "metadata": {},
   "outputs": [
    {
     "name": "stdout",
     "output_type": "stream",
     "text": [
      "False\n"
     ]
    }
   ],
   "source": [
    "print((events.loc[events.byr_hist.isna()].index.get_level_values('thread') != 0).any())"
   ]
  },
  {
   "cell_type": "code",
   "execution_count": 29,
   "metadata": {},
   "outputs": [
    {
     "name": "stdout",
     "output_type": "stream",
     "text": [
      "False\n"
     ]
    }
   ],
   "source": [
    "print((events.loc[events.price.isna()].index.get_level_values('thread') != 0).any())"
   ]
  },
  {
   "cell_type": "code",
   "execution_count": 30,
   "metadata": {},
   "outputs": [
    {
     "data": {
      "text/plain": [
       "0.4"
      ]
     },
     "execution_count": 30,
     "metadata": {},
     "output_type": "execute_result"
    }
   ],
   "source": [
    "np.nanquantile(np.array([.4, .3, .6, .65, .7, .45, .35, .55, .8, .9]), q=.25, interpolation='lower')"
   ]
  },
  {
   "cell_type": "code",
   "execution_count": null,
   "metadata": {},
   "outputs": [],
   "source": [
    "[0.35 0.4  0.4  0.35 0.35 0.35 0.35 0.4  0.35 0.35 0.35]"
   ]
  }
 ],
 "metadata": {
  "kernelspec": {
   "display_name": "Python 3",
   "language": "python",
   "name": "python3"
  },
  "language_info": {
   "codemirror_mode": {
    "name": "ipython",
    "version": 3
   },
   "file_extension": ".py",
   "mimetype": "text/x-python",
   "name": "python",
   "nbconvert_exporter": "python",
   "pygments_lexer": "ipython3",
   "version": "3.7.4"
  }
 },
 "nbformat": 4,
 "nbformat_minor": 4
}
