{
 "cells": [
  {
   "cell_type": "code",
   "execution_count": 53,
   "metadata": {},
   "outputs": [
    {
     "data": {
      "text/plain": [
       "<module 'utils' from 'A:\\\\Dropbox\\\\eBay\\\\repo\\\\utils.py'>"
      ]
     },
     "execution_count": 53,
     "metadata": {},
     "output_type": "execute_result"
    }
   ],
   "source": [
    "# imports\n",
    "import os\n",
    "import pickle\n",
    "import torch\n",
    "import importlib\n",
    "import constants\n",
    "import utils\n",
    "from simulator.nets import FeedForward\n",
    "importlib.reload(constants)\n",
    "importlib.reload(utils)"
   ]
  },
  {
   "cell_type": "markdown",
   "metadata": {},
   "source": [
    "### Attempting to load model"
   ]
  },
  {
   "cell_type": "code",
   "execution_count": 6,
   "metadata": {},
   "outputs": [],
   "source": [
    "path = 'data/models'\n",
    "os.chdir('A:/dropbox/ebay/') # BARRY'S Working directory"
   ]
  },
  {
   "cell_type": "code",
   "execution_count": 70,
   "metadata": {},
   "outputs": [],
   "source": [
    "# loads a model given its name\n",
    "def load_model(model_name):\n",
    "    file = '{}/{}_1.pkl'.format(path, model_name)\n",
    "    output = None\n",
    "    output = pickle.load(open(file, 'rb'))\n",
    "    return output\n",
    "# gets types of everything in dict\n",
    "def dict_types(input_dict):\n",
    "    for key, value in input_dict.items():\n",
    "        print('{}: {}'.format(key, type(value)))\n",
    "    "
   ]
  },
  {
   "cell_type": "code",
   "execution_count": 8,
   "metadata": {},
   "outputs": [],
   "source": [
    "# arrival bin\n",
    "arrival_bin = load_model('arrival_bin')"
   ]
  },
  {
   "cell_type": "code",
   "execution_count": 12,
   "metadata": {},
   "outputs": [
    {
     "name": "stdout",
     "output_type": "stream",
     "text": [
      "<class 'list'>\n",
      "3\n",
      "<class 'dict'>\n",
      "<class 'numpy.ndarray'>\n",
      "<class 'datetime.timedelta'>\n"
     ]
    }
   ],
   "source": [
    "print(type(arrival_bin))\n",
    "print(len(arrival_bin))\n",
    "for el in arrival_bin:\n",
    "    print(type(el))"
   ]
  },
  {
   "cell_type": "code",
   "execution_count": 16,
   "metadata": {},
   "outputs": [],
   "source": [
    "ab_dict = arrival_bin[0]\n",
    "ab_np = arrival_bin[1]\n",
    "ab_dt = arrival_bin[2]"
   ]
  },
  {
   "cell_type": "code",
   "execution_count": 22,
   "metadata": {},
   "outputs": [
    {
     "name": "stdout",
     "output_type": "stream",
     "text": [
      "1\n",
      "x_fixed\n"
     ]
    }
   ],
   "source": [
    "print(len(ab_dict))\n",
    "for key in ab_dict.keys():\n",
    "    print(key)"
   ]
  },
  {
   "cell_type": "code",
   "execution_count": 24,
   "metadata": {},
   "outputs": [
    {
     "data": {
      "text/plain": [
       "Index(['start_days', 'holiday', 'dow0', 'dow1', 'dow2', 'dow3', 'dow4', 'dow5',\n",
       "       'tf_slr_lstgs_open', 'tf_slr_lstgs',\n",
       "       ...\n",
       "       'focal_days', 'focal_holiday', 'focal_dow0', 'focal_dow1', 'focal_dow2',\n",
       "       'focal_dow3', 'focal_dow4', 'focal_dow5', 'byr_us', 'byr_hist'],\n",
       "      dtype='object', length=134)"
      ]
     },
     "execution_count": 24,
     "metadata": {},
     "output_type": "execute_result"
    }
   ],
   "source": [
    "ab_dict['x_fixed']"
   ]
  },
  {
   "cell_type": "code",
   "execution_count": 26,
   "metadata": {},
   "outputs": [
    {
     "name": "stdout",
     "output_type": "stream",
     "text": [
      "start_days\n",
      "holiday\n",
      "dow0\n",
      "dow1\n",
      "dow2\n",
      "dow3\n",
      "dow4\n",
      "dow5\n",
      "tf_slr_lstgs_open\n",
      "tf_slr_lstgs\n",
      "tf_slr_threads\n",
      "tf_slr_slr_offers\n",
      "tf_slr_byr_offers\n",
      "tf_slr_accepts\n",
      "tf_slr_accept_25\n",
      "tf_slr_accept_50\n",
      "tf_slr_accept_75\n",
      "tf_slr_accept_100\n",
      "tf_meta_lstgs_open\n",
      "tf_meta_lstgs\n",
      "tf_meta_threads\n",
      "tf_meta_slr_offers\n",
      "tf_meta_byr_offers\n",
      "tf_meta_accepts\n",
      "tf_meta_accept_25\n",
      "tf_meta_accept_50\n",
      "tf_meta_accept_75\n",
      "tf_meta_accept_100\n",
      "tf_leaf_lstgs_open\n",
      "tf_leaf_lstgs\n",
      "tf_leaf_threads\n",
      "tf_leaf_slr_offers\n",
      "tf_leaf_byr_offers\n",
      "tf_leaf_accepts\n",
      "tf_leaf_accept_25\n",
      "tf_leaf_accept_50\n",
      "tf_leaf_accept_75\n",
      "tf_leaf_accept_100\n",
      "tf_title_lstgs_open\n",
      "tf_title_lstgs\n",
      "tf_title_threads\n",
      "tf_title_slr_offers\n",
      "tf_title_byr_offers\n",
      "tf_title_accepts\n",
      "tf_title_accept_25\n",
      "tf_title_accept_50\n",
      "tf_title_accept_75\n",
      "tf_title_accept_100\n",
      "tf_cndtn_lstgs_open\n",
      "tf_cndtn_lstgs\n",
      "tf_cndtn_threads\n",
      "tf_cndtn_slr_offers\n",
      "tf_cndtn_byr_offers\n",
      "tf_cndtn_accepts\n",
      "tf_cndtn_accept_25\n",
      "tf_cndtn_accept_50\n",
      "tf_cndtn_accept_75\n",
      "tf_cndtn_accept_100\n",
      "relisted\n",
      "store\n",
      "slr_us\n",
      "fast\n",
      "photos\n",
      "slr_bos\n",
      "slr_lstgs\n",
      "fdbk_score\n",
      "fdbk_pstv\n",
      "fdbk_100\n",
      "start\n",
      "decline\n",
      "accept\n",
      "start_round\n",
      "start_nines\n",
      "decline_round\n",
      "decline_nines\n",
      "accept_round\n",
      "accept_nines\n",
      "has_decline\n",
      "has_accept\n",
      "auto_dist\n",
      "lda0\n",
      "lda1\n",
      "lda2\n",
      "lda3\n",
      "lda4\n",
      "lda5\n",
      "lda6\n",
      "meta1\n",
      "meta2\n",
      "meta3\n",
      "meta4\n",
      "meta5\n",
      "meta6\n",
      "meta7\n",
      "meta8\n",
      "meta9\n",
      "meta10\n",
      "meta11\n",
      "meta12\n",
      "meta13\n",
      "meta14\n",
      "meta15\n",
      "meta16\n",
      "meta17\n",
      "meta18\n",
      "meta20\n",
      "meta21\n",
      "meta22\n",
      "meta23\n",
      "meta24\n",
      "meta25\n",
      "meta26\n",
      "meta27\n",
      "meta28\n",
      "meta29\n",
      "meta30\n",
      "meta31\n",
      "meta32\n",
      "meta33\n",
      "meta34\n",
      "new\n",
      "used\n",
      "refurb\n",
      "wear\n",
      "focal_days\n",
      "focal_holiday\n",
      "focal_dow0\n",
      "focal_dow1\n",
      "focal_dow2\n",
      "focal_dow3\n",
      "focal_dow4\n",
      "focal_dow5\n",
      "byr_us\n",
      "byr_hist\n"
     ]
    }
   ],
   "source": [
    "for el in ab_dict['x_fixed']:\n",
    "    print(el)"
   ]
  },
  {
   "cell_type": "code",
   "execution_count": 38,
   "metadata": {},
   "outputs": [
    {
     "name": "stdout",
     "output_type": "stream",
     "text": [
      "hidden    1\n",
      "Name: 1, dtype: int64\n"
     ]
    }
   ],
   "source": [
    "ab_args = {\n",
    "    'id': 1,\n",
    "    'outcome': 'days'\n",
    "}\n",
    "ab_params = utils.parse_params(ab_args)\n",
    "print(ab_params)"
   ]
  },
  {
   "cell_type": "code",
   "execution_count": 40,
   "metadata": {},
   "outputs": [],
   "source": [
    "ab = FeedForward(len(ab_dict['x_fixed']), 1, 1)"
   ]
  },
  {
   "cell_type": "code",
   "execution_count": 64,
   "metadata": {},
   "outputs": [
    {
     "ename": "RuntimeError",
     "evalue": "Error(s) in loading state_dict for FeedForward:\n\tMissing key(s) in state_dict: \"seq.1.weight\", \"seq.1.bias\". \n\tUnexpected key(s) in state_dict: \"seq.5.weight\", \"seq.5.bias\". \n\tsize mismatch for seq.0.weight: copying a param with shape torch.Size([32, 134]) from checkpoint, the shape in current model is torch.Size([1, 134]).\n\tsize mismatch for seq.0.bias: copying a param with shape torch.Size([32]) from checkpoint, the shape in current model is torch.Size([1]).\n\tsize mismatch for seq.3.weight: copying a param with shape torch.Size([32, 32]) from checkpoint, the shape in current model is torch.Size([1, 1]).\n\tsize mismatch for seq.3.bias: copying a param with shape torch.Size([32]) from checkpoint, the shape in current model is torch.Size([1]).",
     "output_type": "error",
     "traceback": [
      "\u001b[1;31m---------------------------------------------------------------------------\u001b[0m",
      "\u001b[1;31mRuntimeError\u001b[0m                              Traceback (most recent call last)",
      "\u001b[1;32m<ipython-input-64-bfb41c4b06dc>\u001b[0m in \u001b[0;36m<module>\u001b[1;34m\u001b[0m\n\u001b[1;32m----> 1\u001b[1;33m \u001b[0mab\u001b[0m\u001b[1;33m.\u001b[0m\u001b[0mload_state_dict\u001b[0m\u001b[1;33m(\u001b[0m\u001b[0mtorch\u001b[0m\u001b[1;33m.\u001b[0m\u001b[0mload\u001b[0m\u001b[1;33m(\u001b[0m\u001b[1;34m'{}/{}_1.pt'\u001b[0m\u001b[1;33m.\u001b[0m\u001b[0mformat\u001b[0m\u001b[1;33m(\u001b[0m\u001b[0mpath\u001b[0m\u001b[1;33m,\u001b[0m \u001b[1;34m'arrival_bin'\u001b[0m\u001b[1;33m)\u001b[0m\u001b[1;33m)\u001b[0m\u001b[1;33m)\u001b[0m\u001b[1;33m\u001b[0m\u001b[1;33m\u001b[0m\u001b[0m\n\u001b[0m",
      "\u001b[1;32m~\\Anaconda3\\envs\\ebay\\lib\\site-packages\\torch\\nn\\modules\\module.py\u001b[0m in \u001b[0;36mload_state_dict\u001b[1;34m(self, state_dict, strict)\u001b[0m\n\u001b[0;32m    843\u001b[0m         \u001b[1;32mif\u001b[0m \u001b[0mlen\u001b[0m\u001b[1;33m(\u001b[0m\u001b[0merror_msgs\u001b[0m\u001b[1;33m)\u001b[0m \u001b[1;33m>\u001b[0m \u001b[1;36m0\u001b[0m\u001b[1;33m:\u001b[0m\u001b[1;33m\u001b[0m\u001b[1;33m\u001b[0m\u001b[0m\n\u001b[0;32m    844\u001b[0m             raise RuntimeError('Error(s) in loading state_dict for {}:\\n\\t{}'.format(\n\u001b[1;32m--> 845\u001b[1;33m                                self.__class__.__name__, \"\\n\\t\".join(error_msgs)))\n\u001b[0m\u001b[0;32m    846\u001b[0m         \u001b[1;32mreturn\u001b[0m \u001b[0m_IncompatibleKeys\u001b[0m\u001b[1;33m(\u001b[0m\u001b[0mmissing_keys\u001b[0m\u001b[1;33m,\u001b[0m \u001b[0munexpected_keys\u001b[0m\u001b[1;33m)\u001b[0m\u001b[1;33m\u001b[0m\u001b[1;33m\u001b[0m\u001b[0m\n\u001b[0;32m    847\u001b[0m \u001b[1;33m\u001b[0m\u001b[0m\n",
      "\u001b[1;31mRuntimeError\u001b[0m: Error(s) in loading state_dict for FeedForward:\n\tMissing key(s) in state_dict: \"seq.1.weight\", \"seq.1.bias\". \n\tUnexpected key(s) in state_dict: \"seq.5.weight\", \"seq.5.bias\". \n\tsize mismatch for seq.0.weight: copying a param with shape torch.Size([32, 134]) from checkpoint, the shape in current model is torch.Size([1, 134]).\n\tsize mismatch for seq.0.bias: copying a param with shape torch.Size([32]) from checkpoint, the shape in current model is torch.Size([1]).\n\tsize mismatch for seq.3.weight: copying a param with shape torch.Size([32, 32]) from checkpoint, the shape in current model is torch.Size([1, 1]).\n\tsize mismatch for seq.3.bias: copying a param with shape torch.Size([32]) from checkpoint, the shape in current model is torch.Size([1])."
     ]
    }
   ],
   "source": [
    "ab.load_state_dict(torch.load('{}/{}_1.pt'.format(path, 'arrival_bin')))"
   ]
  },
  {
   "cell_type": "markdown",
   "metadata": {},
   "source": [
    "### Exploring RL Inputs"
   ]
  },
  {
   "cell_type": "code",
   "execution_count": 51,
   "metadata": {},
   "outputs": [],
   "source": [
    "data_path = 'data/partitions/train_rl'\n",
    "x_path = '{}/x.pkl'.format(data_path)\n",
    "y_path = '{}/y.pkl'.format(data_path)\n",
    "z_path = '{}/z.pkl'.format(data_path)"
   ]
  },
  {
   "cell_type": "code",
   "execution_count": 56,
   "metadata": {},
   "outputs": [],
   "source": [
    "x = utils.unpickle(x_path)\n",
    "y = utils.unpickle(y_path)\n",
    "z = utils.unpickle(z_path)"
   ]
  },
  {
   "cell_type": "code",
   "execution_count": 58,
   "metadata": {},
   "outputs": [
    {
     "name": "stdout",
     "output_type": "stream",
     "text": [
      "<class 'dict'>\n",
      "<class 'dict'>\n",
      "<class 'dict'>\n"
     ]
    }
   ],
   "source": [
    "print(type(x))\n",
    "print(type(y))\n",
    "print(type(z))"
   ]
  },
  {
   "cell_type": "code",
   "execution_count": 61,
   "metadata": {},
   "outputs": [
    {
     "name": "stdout",
     "output_type": "stream",
     "text": [
      "New dict\n",
      "offer\n",
      "thread\n",
      "lstg\n",
      "New dict\n",
      "arrival\n",
      "slr\n",
      "byr\n",
      "New dict\n",
      "start\n",
      "slr\n",
      "byr\n"
     ]
    }
   ],
   "source": [
    "for input_dict in [x, y, z]:\n",
    "    print('New dict')\n",
    "    for el in input_dict:\n",
    "        print(el)"
   ]
  },
  {
   "cell_type": "code",
   "execution_count": 71,
   "metadata": {},
   "outputs": [
    {
     "name": "stdout",
     "output_type": "stream",
     "text": [
      "offer: <class 'pandas.core.frame.DataFrame'>\n",
      "thread: <class 'pandas.core.frame.DataFrame'>\n",
      "lstg: <class 'pandas.core.frame.DataFrame'>\n"
     ]
    }
   ],
   "source": [
    "dict_types(x)"
   ]
  },
  {
   "cell_type": "code",
   "execution_count": 72,
   "metadata": {},
   "outputs": [
    {
     "name": "stdout",
     "output_type": "stream",
     "text": [
      "arrival: <class 'dict'>\n",
      "slr: <class 'dict'>\n",
      "byr: <class 'dict'>\n"
     ]
    }
   ],
   "source": [
    "dict_types(y)"
   ]
  },
  {
   "cell_type": "code",
   "execution_count": 73,
   "metadata": {},
   "outputs": [
    {
     "name": "stdout",
     "output_type": "stream",
     "text": [
      "start: <class 'pandas.core.series.Series'>\n",
      "slr: <class 'pandas.core.frame.DataFrame'>\n",
      "byr: <class 'pandas.core.frame.DataFrame'>\n"
     ]
    }
   ],
   "source": [
    "dict_types(z)"
   ]
  },
  {
   "cell_type": "code",
   "execution_count": 75,
   "metadata": {},
   "outputs": [
    {
     "name": "stdout",
     "output_type": "stream",
     "text": [
      "offer\n",
      "(653416, 35)\n",
      "Index(['con', 'norm', 'reject', 'split', 'round', 'nines', 'msg', 'delay',\n",
      "       'auto', 'exp', 'days', 'holiday', 'dow0', 'dow1', 'dow2', 'dow3',\n",
      "       'dow4', 'dow5', 'minutes', 'slr_offers', 'slr_best', 'slr_offers_open',\n",
      "       'slr_best_open', 'byr_offers', 'byr_best', 'byr_offers_open',\n",
      "       'byr_best_open', 'slr_offers_diff', 'slr_best_diff',\n",
      "       'slr_offers_open_diff', 'slr_best_open_diff', 'byr_offers_diff',\n",
      "       'byr_best_diff', 'byr_offers_open_diff', 'byr_best_open_diff'],\n",
      "      dtype='object')\n",
      "thread\n",
      "(178387, 2)\n",
      "Index(['byr_us', 'byr_hist'], dtype='object')\n",
      "lstg\n",
      "(441457, 124)\n",
      "Index(['start_days', 'holiday', 'dow0', 'dow1', 'dow2', 'dow3', 'dow4', 'dow5',\n",
      "       'tf_slr_lstgs_open', 'tf_slr_lstgs',\n",
      "       ...\n",
      "       'meta29', 'meta30', 'meta31', 'meta32', 'meta33', 'meta34', 'new',\n",
      "       'used', 'refurb', 'wear'],\n",
      "      dtype='object', length=124)\n"
     ]
    }
   ],
   "source": [
    "for key, val in x.items():\n",
    "    print(key)\n",
    "    print(val.shape)\n",
    "    print(val.columns)"
   ]
  },
  {
   "cell_type": "code",
   "execution_count": 76,
   "metadata": {},
   "outputs": [
    {
     "name": "stdout",
     "output_type": "stream",
     "text": [
      "days: <class 'pandas.core.series.Series'>\n",
      "loc: <class 'pandas.core.series.Series'>\n",
      "hist: <class 'pandas.core.series.Series'>\n",
      "bin: <class 'pandas.core.series.Series'>\n",
      "sec: <class 'pandas.core.series.Series'>\n"
     ]
    }
   ],
   "source": [
    "dict_types(y['arrival'])"
   ]
  },
  {
   "cell_type": "code",
   "execution_count": 77,
   "metadata": {},
   "outputs": [
    {
     "name": "stdout",
     "output_type": "stream",
     "text": [
      "delay: <class 'pandas.core.series.Series'>\n",
      "accept: <class 'pandas.core.series.Series'>\n",
      "reject: <class 'pandas.core.series.Series'>\n",
      "con: <class 'pandas.core.series.Series'>\n",
      "msg: <class 'pandas.core.series.Series'>\n",
      "round: <class 'pandas.core.series.Series'>\n",
      "nines: <class 'pandas.core.series.Series'>\n"
     ]
    }
   ],
   "source": [
    "dict_types(y['slr'])"
   ]
  },
  {
   "cell_type": "code",
   "execution_count": 78,
   "metadata": {},
   "outputs": [
    {
     "name": "stdout",
     "output_type": "stream",
     "text": [
      "delay: <class 'pandas.core.series.Series'>\n",
      "accept: <class 'pandas.core.series.Series'>\n",
      "reject: <class 'pandas.core.series.Series'>\n",
      "con: <class 'pandas.core.series.Series'>\n",
      "msg: <class 'pandas.core.series.Series'>\n",
      "round: <class 'pandas.core.series.Series'>\n",
      "nines: <class 'pandas.core.series.Series'>\n"
     ]
    }
   ],
   "source": [
    "dict_types(y['byr'])"
   ]
  },
  {
   "cell_type": "code",
   "execution_count": 81,
   "metadata": {},
   "outputs": [
    {
     "data": {
      "text/plain": [
       "lstg  thread  index\n",
       "40    1       2        19646299\n",
       "541   1       2        21236068\n",
       "              3        21236070\n",
       "              4        21236135\n",
       "830   1       2        16672062\n",
       "Name: clock, dtype: int64"
      ]
     },
     "execution_count": 81,
     "metadata": {},
     "output_type": "execute_result"
    }
   ],
   "source": [
    "z['start'].head()"
   ]
  },
  {
   "cell_type": "code",
   "execution_count": 82,
   "metadata": {},
   "outputs": [
    {
     "name": "stdout",
     "output_type": "stream",
     "text": [
      "slr\n",
      "(373556, 8)\n",
      "Index(['slr_offers', 'slr_best', 'slr_offers_open', 'slr_best_open',\n",
      "       'byr_offers', 'byr_best', 'byr_offers_open', 'byr_best_open'],\n",
      "      dtype='object')\n",
      "byr\n",
      "(262207, 8)\n",
      "Index(['slr_offers', 'slr_best', 'slr_offers_open', 'slr_best_open',\n",
      "       'byr_offers', 'byr_best', 'byr_offers_open', 'byr_best_open'],\n",
      "      dtype='object')\n"
     ]
    }
   ],
   "source": [
    "for key in ['slr', 'byr']:\n",
    "    val = z[key]\n",
    "    print(key)\n",
    "    print(val.shape)\n",
    "    print(val.columns)"
   ]
  },
  {
   "cell_type": "code",
   "execution_count": null,
   "metadata": {},
   "outputs": [],
   "source": []
  }
 ],
 "metadata": {
  "kernelspec": {
   "display_name": "Python 3",
   "language": "python",
   "name": "python3"
  },
  "language_info": {
   "codemirror_mode": {
    "name": "ipython",
    "version": 3
   },
   "file_extension": ".py",
   "mimetype": "text/x-python",
   "name": "python",
   "nbconvert_exporter": "python",
   "pygments_lexer": "ipython3",
   "version": "3.7.4"
  }
 },
 "nbformat": 4,
 "nbformat_minor": 4
}
