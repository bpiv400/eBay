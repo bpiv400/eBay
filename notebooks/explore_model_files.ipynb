{
 "cells": [
  {
   "cell_type": "code",
   "execution_count": 3,
   "metadata": {},
   "outputs": [
    {
     "data": {
      "text/plain": [
       "<module 'rlenv.model_names' from 'A:\\\\Dropbox\\\\eBay\\\\repo\\\\rlenv\\\\model_names.py'>"
      ]
     },
     "execution_count": 3,
     "metadata": {},
     "output_type": "execute_result"
    }
   ],
   "source": [
    "# imports\n",
    "import os\n",
    "import pickle\n",
    "import torch\n",
    "import importlib\n",
    "import constants\n",
    "import utils\n",
    "import rlenv.env_consts as env_consts\n",
    "import rlenv.model_names as model_names\n",
    "import pandas as pd\n",
    "from simulator.nets import FeedForward\n",
    "importlib.reload(constants)\n",
    "importlib.reload(env_consts)\n",
    "importlib.reload(utils)\n",
    "importlib.reload(model_names)\n"
   ]
  },
  {
   "cell_type": "markdown",
   "metadata": {},
   "source": [
    "### Attempting to load model"
   ]
  },
  {
   "cell_type": "code",
   "execution_count": 2,
   "metadata": {},
   "outputs": [],
   "source": [
    "path = 'models'\n",
    "os.chdir('A:/dropbox/ebay/') # BARRY'S Working directory"
   ]
  },
  {
   "cell_type": "code",
   "execution_count": 4,
   "metadata": {},
   "outputs": [],
   "source": [
    "# loads a model given its name\n",
    "def load_model(model_type, model_name):\n",
    "    dir_path = '{}/{}/{}/'.format(path, model_type, model_name)\n",
    "    info_path = '{}featnames.pkl'.format(dir_path)\n",
    "    model_path = '{}1.pt'.format(dir_path )\n",
    "    info = pickle.load(open(info_path, 'rb'))\n",
    "    model = torch.load(model_path)\n",
    "    return info, model\n",
    "\n",
    "def load_params(model_type, model_name):\n",
    "    dir_path = '{}/{}/{}/'.format(path, model_type, model_name)\n",
    "    params_path = '{}params.csv'.format(dir_path)\n",
    "    sizes_path = '{}sizes.pkl'.format(dir_path)\n",
    "    params = pd.read_csv(params_path, index_col='id')\n",
    "    sizes = utils.unpickle(sizes_path)\n",
    "    return params, sizes\n",
    "\n",
    "def load_featnames(model_type, model_name):\n",
    "    dir_path = '{}/{}/{}/'.format(path, model_type, model_name)\n",
    "    featnames_path = '{}featnames.pkl'.format(dir_path)\n",
    "    featnames_dict = utils.unpickle(featnames_path)\n",
    "    return featnames_dict\n",
    "\n",
    "def load_sizes(model_type, model_name):\n",
    "    dir_path = '{}/{}/{}/'.format(path, model_type, model_name)\n",
    "    featnames_path = '{}sizes.pkl'.format(dir_path)\n",
    "    featnames_dict = utils.unpickle(featnames_path)\n",
    "    return featnames_dict\n",
    "\n",
    "# gets types of everything in dict\n",
    "def dict_types(input_dict):\n",
    "    for key, value in input_dict.items():\n",
    "        print('{}: {}'.format(key, type(value)))\n",
    "        \n",
    "        \n",
    "def print_model_fixed(model_type, model_name):\n",
    "    info, model = load_model(model_type, model_name)\n",
    "    for info_element in info:\n",
    "        for key, val in info_element.items():\n",
    "            print('feature type: {}'.format(key))\n",
    "            try:\n",
    "                for col in val:\n",
    "                    print(col)\n",
    "            except:\n",
    "                print(val)\n",
    "    return set([el for el in info[0]['x_fixed']])\n",
    "    "
   ]
  },
  {
   "cell_type": "code",
   "execution_count": null,
   "metadata": {},
   "outputs": [],
   "source": [
    "# arrival bin\n",
    "ab_info, ab_model = load_model('arrival', 'bin')"
   ]
  },
  {
   "cell_type": "code",
   "execution_count": null,
   "metadata": {},
   "outputs": [],
   "source": [
    "ab_info"
   ]
  },
  {
   "cell_type": "code",
   "execution_count": null,
   "metadata": {},
   "outputs": [],
   "source": [
    "ab_params, ab_sizes = load_params('arrival', 'bin')"
   ]
  },
  {
   "cell_type": "code",
   "execution_count": null,
   "metadata": {},
   "outputs": [],
   "source": [
    "ab_params"
   ]
  },
  {
   "cell_type": "code",
   "execution_count": null,
   "metadata": {},
   "outputs": [],
   "source": [
    "params = ab_params.loc[1].to_dict()"
   ]
  },
  {
   "cell_type": "code",
   "execution_count": null,
   "metadata": {},
   "outputs": [],
   "source": [
    "net = FeedForward(params, ab_sizes, toRNN=False)"
   ]
  },
  {
   "cell_type": "code",
   "execution_count": null,
   "metadata": {},
   "outputs": [],
   "source": [
    "params"
   ]
  },
  {
   "cell_type": "code",
   "execution_count": null,
   "metadata": {},
   "outputs": [],
   "source": [
    "ab_sizes"
   ]
  },
  {
   "cell_type": "code",
   "execution_count": null,
   "metadata": {},
   "outputs": [],
   "source": [
    "state_dict = torch.load('models/arrival/bin/1.pt')"
   ]
  },
  {
   "cell_type": "code",
   "execution_count": null,
   "metadata": {},
   "outputs": [],
   "source": [
    "for el in state_dict:\n",
    "    print(el)"
   ]
  },
  {
   "cell_type": "code",
   "execution_count": null,
   "metadata": {},
   "outputs": [],
   "source": [
    "for el in net.state_dict():\n",
    "    print(el)"
   ]
  },
  {
   "cell_type": "code",
   "execution_count": null,
   "metadata": {},
   "outputs": [],
   "source": [
    "net.load_state_dict(torch.load('models/arrival/bin/2.pt'))"
   ]
  },
  {
   "cell_type": "code",
   "execution_count": null,
   "metadata": {},
   "outputs": [],
   "source": [
    "def outer(n):\n",
    "    for i in range(n):\n",
    "        yield from inner(n, [i])\n",
    "        \n",
    "def inner(n, board):\n",
    "    if len(board) == n:\n",
    "        yield board\n",
    "    else:\n",
    "        for i in range(n):\n",
    "            if i not in board:\n",
    "                yield from inner(n, board + [i])\n",
    "            "
   ]
  },
  {
   "cell_type": "code",
   "execution_count": null,
   "metadata": {},
   "outputs": [],
   "source": [
    "k = outer(4)"
   ]
  },
  {
   "cell_type": "code",
   "execution_count": null,
   "metadata": {},
   "outputs": [],
   "source": [
    "for i, el in enumerate(k):\n",
    "    print(el)"
   ]
  },
  {
   "cell_type": "code",
   "execution_count": null,
   "metadata": {},
   "outputs": [],
   "source": []
  },
  {
   "cell_type": "code",
   "execution_count": null,
   "metadata": {},
   "outputs": [],
   "source": [
    "print(type(ab_info[0]))\n",
    "print(type(ab_info[1]))"
   ]
  },
  {
   "cell_type": "code",
   "execution_count": null,
   "metadata": {},
   "outputs": [],
   "source": [
    "print(ab_info[0])"
   ]
  },
  {
   "cell_type": "code",
   "execution_count": null,
   "metadata": {},
   "outputs": [],
   "source": [
    "for key, val in ab_info[0].items():\n",
    "    print('key:{}'.format(key))\n",
    "    for col in val:\n",
    "        print(col)\n",
    "        \n",
    "for key, val in ab_info[1].items():\n",
    "    print('key:{}'.format(key))\n",
    "    print(val)"
   ]
  },
  {
   "cell_type": "code",
   "execution_count": null,
   "metadata": {},
   "outputs": [],
   "source": [
    "print_model_fixed('arrival', 'hist')\n",
    "print_model_fixed('arrival', 'sec')\n",
    "print_model_fixed('arrival', 'bin')"
   ]
  },
  {
   "cell_type": "code",
   "execution_count": null,
   "metadata": {},
   "outputs": [],
   "source": [
    "ab.load_state_dict(torch.load('{}/{}_1.pt'.format(path, 'arrival_bin')))"
   ]
  },
  {
   "cell_type": "code",
   "execution_count": null,
   "metadata": {},
   "outputs": [],
   "source": []
  },
  {
   "cell_type": "code",
   "execution_count": null,
   "metadata": {},
   "outputs": [],
   "source": [
    "# bin exploration\n",
    "sm_info, sm_model = load_model('slr', 'msg')"
   ]
  },
  {
   "cell_type": "code",
   "execution_count": null,
   "metadata": {},
   "outputs": [],
   "source": [
    "print(sm_info)"
   ]
  },
  {
   "cell_type": "code",
   "execution_count": null,
   "metadata": {},
   "outputs": [],
   "source": [
    "days_featnames, days_model = load_model('arrival', 'days')"
   ]
  },
  {
   "cell_type": "code",
   "execution_count": null,
   "metadata": {},
   "outputs": [],
   "source": [
    "days_featnames"
   ]
  },
  {
   "cell_type": "code",
   "execution_count": null,
   "metadata": {},
   "outputs": [],
   "source": [
    "for feat in days_featnames['x_fixed']:\n",
    "    print(feat)"
   ]
  },
  {
   "cell_type": "code",
   "execution_count": null,
   "metadata": {},
   "outputs": [],
   "source": [
    "delay_featnames, delay_model = load_model('slr', 'delay')"
   ]
  },
  {
   "cell_type": "code",
   "execution_count": null,
   "metadata": {},
   "outputs": [],
   "source": [
    "print(len(delay_featnames['x_fixed']))\n",
    "for feat in delay_featnames['x_fixed']:\n",
    "    print(feat)"
   ]
  },
  {
   "cell_type": "markdown",
   "metadata": {},
   "source": [
    "### Exploring RL Inputs"
   ]
  },
  {
   "cell_type": "code",
   "execution_count": null,
   "metadata": {},
   "outputs": [],
   "source": [
    "data_path = 'data/partitions/train_rl'\n",
    "x_path = '{}/x_lstg_cols.pkl'.format(data_path)"
   ]
  },
  {
   "cell_type": "code",
   "execution_count": null,
   "metadata": {},
   "outputs": [],
   "source": [
    "x = utils.unpickle(x_path)"
   ]
  },
  {
   "cell_type": "code",
   "execution_count": null,
   "metadata": {},
   "outputs": [],
   "source": [
    "print(type(x))\n",
    "print(len(x))"
   ]
  },
  {
   "cell_type": "code",
   "execution_count": null,
   "metadata": {},
   "outputs": [],
   "source": [
    "x_lstg = [el for el in x]\n",
    "ab_info_inputs = [el for el in ab_info[0]['x_fixed']]\n",
    "x_lstg = set(x_lstg)\n",
    "ab_info_inputs = set(ab_info_inputs)"
   ]
  },
  {
   "cell_type": "code",
   "execution_count": null,
   "metadata": {},
   "outputs": [],
   "source": [
    "# elements in arrival bin model that aren't in the x_lstg object\n",
    "# significant that it includes dow0,...and focal_dow0\n",
    "print(ab_info_inputs.difference(x_lstg))"
   ]
  },
  {
   "cell_type": "code",
   "execution_count": null,
   "metadata": {},
   "outputs": [],
   "source": [
    "days = [el for el in ab_info_inputs if 'days' in el]\n",
    "days"
   ]
  },
  {
   "cell_type": "code",
   "execution_count": null,
   "metadata": {},
   "outputs": [],
   "source": [
    "# elements in x_lstg object that aren't in arrival bin model\n",
    "print(x_lstg.difference(ab_info_inputs))"
   ]
  },
  {
   "cell_type": "code",
   "execution_count": null,
   "metadata": {},
   "outputs": [],
   "source": [
    "for el in x:\n",
    "    print(el)"
   ]
  },
  {
   "cell_type": "code",
   "execution_count": null,
   "metadata": {},
   "outputs": [],
   "source": [
    "# prev_turn feature exploration\n",
    "meta_featnames = dict()\n",
    "for model in model_names.MODELS:\n",
    "    if model in model_names.ARRIVAL:\n",
    "        meta_featnames[model] = load_featnames('arrival', model)\n",
    "    else:\n",
    "        if model_names.SLR_PREFIX in model:\n",
    "            model_type = model_names.SLR_PREFIX\n",
    "        else:\n",
    "            model_type = model_names.BYR_PREFIX\n",
    "        meta_featnames[model] = load_featnames(model_type, model.replace('{}_'.format(model_type), ''))\n"
   ]
  },
  {
   "cell_type": "code",
   "execution_count": null,
   "metadata": {},
   "outputs": [],
   "source": [
    "len(meta_featnames)"
   ]
  },
  {
   "cell_type": "code",
   "execution_count": null,
   "metadata": {},
   "outputs": [],
   "source": [
    "other_feats = set()\n",
    "last_feats = set()\n",
    "for model_name, model in meta_featnames.items():\n",
    "    fixed = model['x_fixed']\n",
    "    for feat in fixed:\n",
    "        if '_other' in feat:\n",
    "            other_feats.add(feat)\n",
    "        elif '_last' in feat:\n",
    "            last_feats.add(feat)\n",
    "    if 'x_time' in model:\n",
    "        time = model['x_time']\n",
    "        for feat in time:\n",
    "            if '_other' in feat:\n",
    "                other_feats.add(feat)\n",
    "            elif '_last' in feat:\n",
    "                last_feats.add(feat)\n",
    "        "
   ]
  },
  {
   "cell_type": "code",
   "execution_count": null,
   "metadata": {},
   "outputs": [],
   "source": [
    "print(len(last_feats))\n",
    "last_feats"
   ]
  },
  {
   "cell_type": "code",
   "execution_count": null,
   "metadata": {},
   "outputs": [],
   "source": [
    "print(len(other_feats))\n",
    "other_feats"
   ]
  },
  {
   "cell_type": "code",
   "execution_count": null,
   "metadata": {},
   "outputs": [],
   "source": [
    "other_no_diffs = set([feat for feat in other_feats if 'diff' not in feat])\n",
    "print(len(other_no_diffs))\n",
    "other_no_diffs"
   ]
  },
  {
   "cell_type": "code",
   "execution_count": null,
   "metadata": {},
   "outputs": [],
   "source": [
    "other_no_diffs_prefix = set([feat.replace('_other', '') for feat in other_no_diffs])\n",
    "last_prefix = set([feat.replace('_last', '') for feat in last_feats])"
   ]
  },
  {
   "cell_type": "code",
   "execution_count": null,
   "metadata": {},
   "outputs": [],
   "source": [
    "print(other_no_diffs_prefix.difference(last_prefix))\n",
    "print(last_prefix.difference(other_no_diffs_prefix))"
   ]
  },
  {
   "cell_type": "code",
   "execution_count": null,
   "metadata": {},
   "outputs": [],
   "source": [
    "diffs = set()\n",
    "for model_name, model in meta_featnames.items():\n",
    "    fixed = model['x_fixed']\n",
    "    for feat in fixed:\n",
    "        if 'diff' in feat:\n",
    "            diffs.add(feat)\n",
    "    if 'x_time' in model:\n",
    "        time = model['x_time']\n",
    "        for feat in time:\n",
    "            if 'diff' in feat:\n",
    "                diffs.add(feat)"
   ]
  },
  {
   "cell_type": "code",
   "execution_count": null,
   "metadata": {},
   "outputs": [],
   "source": [
    "diffs"
   ]
  },
  {
   "cell_type": "code",
   "execution_count": null,
   "metadata": {},
   "outputs": [],
   "source": [
    " # find diff feats\n",
    "for model_name, model in meta_featnames.items():\n",
    "    print('diffs in fixed for {}'.format(model_name))\n",
    "    print('')\n",
    "    fixed = model['x_fixed']\n",
    "    for feat in fixed:\n",
    "        if 'diff' in feat:\n",
    "            print(feat)\n",
    "            diffs.add(feat)\n",
    "    if 'x_time' in model:\n",
    "        print('diffs in time for {}'.format(model_name))\n",
    "        print('')\n",
    "        time = model['x_time']\n",
    "        for feat in time:\n",
    "            if 'diff' in feat:\n",
    "                print(feat)\n",
    "                diffs.add(feat)\n",
    "    print('')\n",
    "    print('')"
   ]
  },
  {
   "cell_type": "code",
   "execution_count": null,
   "metadata": {},
   "outputs": [],
   "source": [
    "rej = load_featnames('slr', 'reject')"
   ]
  },
  {
   "cell_type": "code",
   "execution_count": null,
   "metadata": {},
   "outputs": [],
   "source": [
    "for feat in rej['x_time']:\n",
    "    print(feat)"
   ]
  },
  {
   "cell_type": "code",
   "execution_count": null,
   "metadata": {},
   "outputs": [],
   "source": [
    "# find time feats for last\n",
    "time_feats = ['best', 'best_open', 'offers', 'offers_open']\n",
    "byr_feats = ['byr_{}'.format(feat) for feat in time_feats]\n",
    "slr_feats = ['slr_{}'.format(feat) for feat in time_feats]\n",
    "time_feats = byr_feats + slr_feats\n",
    "for model_name, model in meta_featnames.items():\n",
    "    if 'x_time' in model:\n",
    "        print('last time feats for {}'.format(model_name))\n",
    "        print('')\n",
    "        time = model['x_time']\n",
    "        for feat in time:\n",
    "            if '_last' in feat:\n",
    "                generalized = feat.replace('_last', '')\n",
    "                if generalized in time_feats:\n",
    "                    print(generalized)\n",
    "    print('')\n",
    "    print('')"
   ]
  },
  {
   "cell_type": "code",
   "execution_count": null,
   "metadata": {},
   "outputs": [],
   "source": [
    "# search for period feats\n",
    "for model_name, model in meta_featnames.items():\n",
    "    if 'x_time' in model:\n",
    "        print('fixed period feats for {}'.format(model_name))\n",
    "        for feat in model['x_fixed']:\n",
    "            if 'period' in feat:\n",
    "                print(feat)\n",
    "        print('')\n",
    "        print('period feats for {}'.format(model_name))\n",
    "        if 'x_time' in model:\n",
    "            time = model['x_time']\n",
    "            for feat in time:\n",
    "                if 'period' in feat:\n",
    "                    print(feat)\n",
    "    print('')\n",
    "    print('')"
   ]
  },
  {
   "cell_type": "code",
   "execution_count": null,
   "metadata": {},
   "outputs": [],
   "source": [
    "fixed_sets = dict()\n",
    "for model_name, model in meta_featnames.items():\n",
    "    if ('slr' in model_name or 'byr' in model_name) and 'delay' not in model_name:\n",
    "        curr_set = set()\n",
    "        for feat in model['x_fixed']:\n",
    "            curr_set.add(feat)\n",
    "        fixed_sets[model_name] = curr_set"
   ]
  },
  {
   "cell_type": "code",
   "execution_count": null,
   "metadata": {},
   "outputs": [],
   "source": [
    "for i in fixed_sets.values():\n",
    "    print(len(i))"
   ]
  },
  {
   "cell_type": "code",
   "execution_count": null,
   "metadata": {},
   "outputs": [],
   "source": [
    "intersection = set()\n",
    "start = True\n",
    "for i in fixed_sets.values():\n",
    "    if start:\n",
    "        intersection = i\n",
    "        start = False\n",
    "    else:\n",
    "        intersection = intersection.intersection(i)\n",
    "print(len(intersection))"
   ]
  },
  {
   "cell_type": "code",
   "execution_count": null,
   "metadata": {},
   "outputs": [],
   "source": [
    "for feat in fixed_sets['slr_accept']:\n",
    "    if feat in ['days', 'dow0', 'dow1', 'dow2', 'dow3', 'dow4', 'dow5', 'holiday', 'minutes']:\n",
    "        print(feat)"
   ]
  },
  {
   "cell_type": "code",
   "execution_count": null,
   "metadata": {},
   "outputs": [],
   "source": [
    "fixed_sets['slr_accept']"
   ]
  },
  {
   "cell_type": "code",
   "execution_count": null,
   "metadata": {},
   "outputs": [],
   "source": [
    "time_sets = dict()\n",
    "for model_name, model in meta_featnames.items():\n",
    "    if ('slr' in model_name or 'byr' in model_name):\n",
    "        curr_set = set()\n",
    "        for feat in model['x_time']:\n",
    "            curr_set.add(feat)\n",
    "        time_sets[model_name] = curr_set"
   ]
  },
  {
   "cell_type": "code",
   "execution_count": null,
   "metadata": {},
   "outputs": [],
   "source": [
    "for i in time_sets.values():\n",
    "    print(len(i))"
   ]
  },
  {
   "cell_type": "code",
   "execution_count": null,
   "metadata": {},
   "outputs": [],
   "source": [
    "time = time_sets['slr_delay']\n",
    "time.remove('period')\n",
    "print(len(time))\n",
    "for set_vals in time_sets.values():\n",
    "    time = time.intersection(set_vals)\n",
    "print(len(time))"
   ]
  },
  {
   "cell_type": "code",
   "execution_count": null,
   "metadata": {},
   "outputs": [],
   "source": [
    "for key in time_sets.keys():\n",
    "    print(key)"
   ]
  },
  {
   "cell_type": "code",
   "execution_count": null,
   "metadata": {},
   "outputs": [],
   "source": [
    "slr_accept = time_sets['slr_accept']\n",
    "byr_accept = time_sets['byr_accept']\n",
    "print(len(slr_accept.intersection(byr_accept)))"
   ]
  },
  {
   "cell_type": "code",
   "execution_count": null,
   "metadata": {},
   "outputs": [],
   "source": [
    "slr_accept.difference(byr_accept)"
   ]
  },
  {
   "cell_type": "code",
   "execution_count": null,
   "metadata": {},
   "outputs": [],
   "source": [
    "byr_accept.difference(slr_accept)"
   ]
  },
  {
   "cell_type": "code",
   "execution_count": null,
   "metadata": {},
   "outputs": [],
   "source": [
    " for model_name, feats in time_sets.items():\n",
    "    if 'slr_' in model_name and 'delay' not in model_name:\n",
    "        acc_minus = slr_accept.difference(feats)\n",
    "        curr_minus = feats.difference(slr_accept)\n",
    "        print('In accept, not {}: {}'.format(model_name, acc_minus))\n",
    "        print('')\n",
    "        print('In {}, not accept: {}'.format(model_name, curr_minus))\n",
    "        print('')"
   ]
  },
  {
   "cell_type": "code",
   "execution_count": null,
   "metadata": {},
   "outputs": [],
   "source": [
    "for feat in meta_featnames['slr_accept']['x_time']:\n",
    "    print(feat)"
   ]
  },
  {
   "cell_type": "code",
   "execution_count": null,
   "metadata": {},
   "outputs": [],
   "source": [
    "# time feats\n",
    "time_feats = set()\n",
    "for model_name, model in meta_featnames.items():\n",
    "    if 'x_time' in model:\n",
    "        time = model['x_time']\n",
    "        for feat in time:\n",
    "            if '_other' not in feat and '_last' not in feat and feat in env_consts.TIME_FEATS:\n",
    "                time_feats.add(feat)\n",
    "                \n",
    "for model_name, model in meta_featnames.items():\n",
    "    if 'x_time' in model:\n",
    "        time = model['x_time']\n",
    "        curr_feats = set()\n",
    "        for feat in time:\n",
    "            if '_other' not in feat and '_last' not in feat and feat in env_consts.TIME_FEATS:\n",
    "                curr_feats.add(feat)\n",
    "        print(curr_feats.difference(time_feats))\n",
    "        print(time_feats.difference(curr_feats))"
   ]
  },
  {
   "cell_type": "code",
   "execution_count": null,
   "metadata": {},
   "outputs": [],
   "source": [
    "time_feats"
   ]
  },
  {
   "cell_type": "code",
   "execution_count": null,
   "metadata": {},
   "outputs": [],
   "source": [
    "from utils import unpickle"
   ]
  },
  {
   "cell_type": "code",
   "execution_count": null,
   "metadata": {},
   "outputs": [],
   "source": [
    "sizes = unpickle('models/slr/accept/sizes.pkl')"
   ]
  },
  {
   "cell_type": "code",
   "execution_count": null,
   "metadata": {},
   "outputs": [],
   "source": [
    "sizes"
   ]
  },
  {
   "cell_type": "code",
   "execution_count": null,
   "metadata": {},
   "outputs": [],
   "source": [
    "meta_featnames['slr_delay']['x_time']"
   ]
  },
  {
   "cell_type": "code",
   "execution_count": null,
   "metadata": {},
   "outputs": [],
   "source": [
    "delay_featnames = {\n",
    "    'slr_delay': meta_featnames['slr_delay'],\n",
    "    'byr_delay': meta_featnames['byr_delay']\n",
    "}\n",
    "print(delay_featnames)"
   ]
  },
  {
   "cell_type": "code",
   "execution_count": null,
   "metadata": {},
   "outputs": [],
   "source": [
    "time_feats = {\n",
    "    'slr': set(),\n",
    "    'byr': set()\n",
    "}\n",
    "fixed_feats = {\n",
    "    'slr': set(),\n",
    "    'byr': set()\n",
    "}\n",
    "for model_name, model in delay_featnames.items():\n",
    "    for feat in model['x_time']:\n",
    "        if 'byr' in model_name:\n",
    "            time_feats['byr'].add(feat)\n",
    "        else:\n",
    "            time_feats['slr'].add(feat)\n",
    "    for feat in model['x_fixed']:\n",
    "        if 'byr' in model_name:\n",
    "            fixed_feats['byr'].add(feat)\n",
    "        else:\n",
    "            fixed_feats['slr'].add(feat)\n",
    "    "
   ]
  },
  {
   "cell_type": "code",
   "execution_count": null,
   "metadata": {},
   "outputs": [],
   "source": [
    "time_feats['slr']"
   ]
  },
  {
   "cell_type": "code",
   "execution_count": null,
   "metadata": {},
   "outputs": [],
   "source": [
    "time_feats['byr']"
   ]
  },
  {
   "cell_type": "code",
   "execution_count": null,
   "metadata": {},
   "outputs": [],
   "source": [
    "print(time_feats['byr'].difference(time_feats['slr']))\n",
    "time_feats['slr'].difference(time_feats['byr'])"
   ]
  },
  {
   "cell_type": "code",
   "execution_count": null,
   "metadata": {},
   "outputs": [],
   "source": [
    "fixed_feats['byr'].difference(fixed_feats['slr'])\n",
    "\n",
    "for feat in fixed_feats['byr']:\n",
    "    if len(feat) == 2:\n",
    "        print(feat)"
   ]
  },
  {
   "cell_type": "code",
   "execution_count": null,
   "metadata": {},
   "outputs": [],
   "source": [
    "for feat in fixed_feats['slr']:\n",
    "    if 'other' in feat:\n",
    "        print(feat)"
   ]
  },
  {
   "cell_type": "code",
   "execution_count": null,
   "metadata": {},
   "outputs": [],
   "source": [
    "other_feats = [feat for feat in fixed_feats['slr'] if 'other' in feat]\n",
    "len(other_feats)"
   ]
  },
  {
   "cell_type": "code",
   "execution_count": null,
   "metadata": {},
   "outputs": [],
   "source": [
    "for feat in fixed_feats['byr']:\n",
    "    if feat in outcomes:\n",
    "        print(feat)"
   ]
  },
  {
   "cell_type": "code",
   "execution_count": null,
   "metadata": {},
   "outputs": [],
   "source": [
    "time_other = ['{}_other'.format(feat) for feat in env_consts.TIME_FEATS]\n",
    "clock_other = ['{}_other'.format(feat) for feat in env_consts.OFFER_CLOCK_FEATS]\n",
    "outcomes_other = ['{}_other'.format(feat) for feat in env_consts.OUTCOMES]\n",
    "for feat in fixed_feats['slr']:\n",
    "    if '_other' in feat and feat not in time_other and feat not in clock_other and feat not in outcomes_other:\n",
    "        print(feat)\n",
    "print('clock: {}'.format(len(clock_other)))\n",
    "print('time: {}'.format(len(time_other)))\n",
    "print('outcomes: {}'.format(len(outcomes_other)))"
   ]
  },
  {
   "cell_type": "code",
   "execution_count": null,
   "metadata": {},
   "outputs": [],
   "source": [
    "for i in meta_featnames:\n",
    "    print(i)"
   ]
  },
  {
   "cell_type": "code",
   "execution_count": null,
   "metadata": {},
   "outputs": [],
   "source": [
    "feats = load_featnames('slr', 'accept')\n",
    "time_feats = feats['x_time']\n",
    "time_feats = pd.DataFrame(index=time_feats, data={'to': np.arange(len(time_feats))})"
   ]
  },
  {
   "cell_type": "code",
   "execution_count": null,
   "metadata": {},
   "outputs": [],
   "source": [
    "import numpy as np"
   ]
  },
  {
   "cell_type": "code",
   "execution_count": null,
   "metadata": {},
   "outputs": [],
   "source": [
    "time_feats.index[time_feats['to'].isin(list(range(50, 58)))]"
   ]
  },
  {
   "cell_type": "code",
   "execution_count": null,
   "metadata": {},
   "outputs": [],
   "source": [
    "outcomes = ['{}_other'.format(feat) for feat in env_consts.OUTCOMES]\n",
    "outcomes = set(outcomes)\n",
    "contained = set()\n",
    "for feat in feats['x_time']:\n",
    "    if feat in outcomes:\n",
    "        contained.add(feat)"
   ]
  },
  {
   "cell_type": "code",
   "execution_count": null,
   "metadata": {},
   "outputs": [],
   "source": [
    "outcomes.difference(contained)"
   ]
  },
  {
   "cell_type": "code",
   "execution_count": null,
   "metadata": {},
   "outputs": [],
   "source": [
    "a = torch.tensor([ 1,  2,  3,  4,  5,  6,  7,  8,  9, 10, 14, 12, 16, 11, 15, 13, 17, 33,\n",
    "        34, 35, 36, 37, 38, 39, 40, 41, 18, 22, 20, 24, 19, 23, 21, 25, 50, 54,\n",
    "        52, 56, 51, 55, 53, 57, 32, 26, 27, 28, 29, 30, 31, 67, 68,  0, 65, 60,\n",
    "        66, 58, 59, 61, 62, 63, 64]).numpy()\n",
    "diff = np.setdiff1d(np.arange(len(time_feats)), a)"
   ]
  },
  {
   "cell_type": "code",
   "execution_count": null,
   "metadata": {},
   "outputs": [],
   "source": [
    "time_feats[time_feats['to'].isin(diff)]"
   ]
  },
  {
   "cell_type": "code",
   "execution_count": 140,
   "metadata": {},
   "outputs": [],
   "source": [
    "slr_delay = load_featnames('slr', 'delay')\n",
    "byr_delay = load_featnames('byr', 'delay')\n",
    "rm_slr = ['auto_other', 'exp_other', 'reject_other']\n",
    "rm_byr = ['auto_last', 'exp_last', 'reject_last']"
   ]
  },
  {
   "cell_type": "code",
   "execution_count": 141,
   "metadata": {},
   "outputs": [
    {
     "ename": "KeyError",
     "evalue": "\"['auto_other' 'exp_other' 'reject_other'] not found in axis\"",
     "output_type": "error",
     "traceback": [
      "\u001b[1;31m---------------------------------------------------------------------------\u001b[0m",
      "\u001b[1;31mKeyError\u001b[0m                                  Traceback (most recent call last)",
      "\u001b[1;32m<ipython-input-141-b67039b63cca>\u001b[0m in \u001b[0;36m<module>\u001b[1;34m\u001b[0m\n\u001b[1;32m----> 1\u001b[1;33m \u001b[0mnew_slr_delay\u001b[0m \u001b[1;33m=\u001b[0m \u001b[0mslr_delay\u001b[0m\u001b[1;33m[\u001b[0m\u001b[1;34m'x_fixed'\u001b[0m\u001b[1;33m]\u001b[0m\u001b[1;33m.\u001b[0m\u001b[0mdrop\u001b[0m\u001b[1;33m(\u001b[0m\u001b[0mrm_slr\u001b[0m\u001b[1;33m)\u001b[0m\u001b[1;33m\u001b[0m\u001b[1;33m\u001b[0m\u001b[0m\n\u001b[0m",
      "\u001b[1;32m~\\Anaconda3\\envs\\ebay\\lib\\site-packages\\pandas\\core\\indexes\\base.py\u001b[0m in \u001b[0;36mdrop\u001b[1;34m(self, labels, errors)\u001b[0m\n\u001b[0;32m   5338\u001b[0m         \u001b[1;32mif\u001b[0m \u001b[0mmask\u001b[0m\u001b[1;33m.\u001b[0m\u001b[0many\u001b[0m\u001b[1;33m(\u001b[0m\u001b[1;33m)\u001b[0m\u001b[1;33m:\u001b[0m\u001b[1;33m\u001b[0m\u001b[1;33m\u001b[0m\u001b[0m\n\u001b[0;32m   5339\u001b[0m             \u001b[1;32mif\u001b[0m \u001b[0merrors\u001b[0m \u001b[1;33m!=\u001b[0m \u001b[1;34m\"ignore\"\u001b[0m\u001b[1;33m:\u001b[0m\u001b[1;33m\u001b[0m\u001b[1;33m\u001b[0m\u001b[0m\n\u001b[1;32m-> 5340\u001b[1;33m                 \u001b[1;32mraise\u001b[0m \u001b[0mKeyError\u001b[0m\u001b[1;33m(\u001b[0m\u001b[1;34m\"{} not found in axis\"\u001b[0m\u001b[1;33m.\u001b[0m\u001b[0mformat\u001b[0m\u001b[1;33m(\u001b[0m\u001b[0mlabels\u001b[0m\u001b[1;33m[\u001b[0m\u001b[0mmask\u001b[0m\u001b[1;33m]\u001b[0m\u001b[1;33m)\u001b[0m\u001b[1;33m)\u001b[0m\u001b[1;33m\u001b[0m\u001b[1;33m\u001b[0m\u001b[0m\n\u001b[0m\u001b[0;32m   5341\u001b[0m             \u001b[0mindexer\u001b[0m \u001b[1;33m=\u001b[0m \u001b[0mindexer\u001b[0m\u001b[1;33m[\u001b[0m\u001b[1;33m~\u001b[0m\u001b[0mmask\u001b[0m\u001b[1;33m]\u001b[0m\u001b[1;33m\u001b[0m\u001b[1;33m\u001b[0m\u001b[0m\n\u001b[0;32m   5342\u001b[0m         \u001b[1;32mreturn\u001b[0m \u001b[0mself\u001b[0m\u001b[1;33m.\u001b[0m\u001b[0mdelete\u001b[0m\u001b[1;33m(\u001b[0m\u001b[0mindexer\u001b[0m\u001b[1;33m)\u001b[0m\u001b[1;33m\u001b[0m\u001b[1;33m\u001b[0m\u001b[0m\n",
      "\u001b[1;31mKeyError\u001b[0m: \"['auto_other' 'exp_other' 'reject_other'] not found in axis\""
     ]
    }
   ],
   "source": [
    "new_slr_delay = slr_delay['x_fixed'].drop(rm_slr)"
   ]
  },
  {
   "cell_type": "code",
   "execution_count": 138,
   "metadata": {},
   "outputs": [
    {
     "name": "stdout",
     "output_type": "stream",
     "text": [
      "179\n",
      "179\n"
     ]
    }
   ],
   "source": [
    "print(len(slr_delay['x_fixed']))\n",
    "print(len(new_slr_delay))"
   ]
  },
  {
   "cell_type": "code",
   "execution_count": 134,
   "metadata": {},
   "outputs": [],
   "source": [
    "new_byr_delay = byr_delay['x_fixed'].drop(rm_byr)"
   ]
  },
  {
   "cell_type": "code",
   "execution_count": 137,
   "metadata": {},
   "outputs": [
    {
     "name": "stdout",
     "output_type": "stream",
     "text": [
      "180\n",
      "180\n"
     ]
    }
   ],
   "source": [
    "print(len(byr_delay['x_fixed']))\n",
    "print(len(new_byr_delay))"
   ]
  },
  {
   "cell_type": "code",
   "execution_count": 136,
   "metadata": {},
   "outputs": [],
   "source": [
    "slr_delay['x_fixed'] = new_slr_delay\n",
    "byr_delay['x_fixed'] = new_byr_delay"
   ]
  },
  {
   "cell_type": "code",
   "execution_count": 139,
   "metadata": {},
   "outputs": [],
   "source": [
    "pickle.dump(slr_delay, open('models/slr/delay/featnames.pkl', 'wb'))\n",
    "pickle.dump(byr_delay, open('models/byr/delay/featnames.pkl', 'wb'))"
   ]
  },
  {
   "cell_type": "code",
   "execution_count": 142,
   "metadata": {},
   "outputs": [
    {
     "data": {
      "text/plain": [
       "Index(['period', 'holiday', 'dow0', 'dow1', 'dow2', 'dow3', 'dow4', 'dow5',\n",
       "       'minutes', 'slr_offers', 'slr_best', 'slr_offers_open', 'slr_best_open',\n",
       "       'byr_offers', 'byr_best', 'byr_offers_open', 'byr_best_open'],\n",
       "      dtype='object')"
      ]
     },
     "execution_count": 142,
     "metadata": {},
     "output_type": "execute_result"
    }
   ],
   "source": [
    "slr_delay['x_time']"
   ]
  },
  {
   "cell_type": "code",
   "execution_count": 143,
   "metadata": {},
   "outputs": [
    {
     "data": {
      "text/plain": [
       "Index(['period', 'holiday', 'dow0', 'dow1', 'dow2', 'dow3', 'dow4', 'dow5',\n",
       "       'minutes', 'slr_offers', 'slr_best', 'slr_offers_open', 'slr_best_open',\n",
       "       'byr_offers', 'byr_best', 'byr_offers_open', 'byr_best_open'],\n",
       "      dtype='object')"
      ]
     },
     "execution_count": 143,
     "metadata": {},
     "output_type": "execute_result"
    }
   ],
   "source": [
    "byr_delay['x_time']"
   ]
  },
  {
   "cell_type": "code",
   "execution_count": 146,
   "metadata": {},
   "outputs": [],
   "source": [
    "slr_sizes = load_sizes('slr', 'delay')\n",
    "byr_sizes = load_sizes('byr', 'delay')"
   ]
  },
  {
   "cell_type": "code",
   "execution_count": 148,
   "metadata": {},
   "outputs": [],
   "source": [
    "slr_sizes['fixed'] -= 3\n",
    "byr_sizes['fixed'] -= 3"
   ]
  },
  {
   "cell_type": "code",
   "execution_count": 149,
   "metadata": {},
   "outputs": [
    {
     "name": "stdout",
     "output_type": "stream",
     "text": [
      "{'fixed': 179, 'out': 1, 'steps': 193, 'time': 17}\n",
      "{'fixed': 180, 'out': 1, 'steps': 193, 'time': 17}\n"
     ]
    }
   ],
   "source": [
    "print(slr_sizes)\n",
    "print(byr_sizes)"
   ]
  },
  {
   "cell_type": "code",
   "execution_count": 150,
   "metadata": {},
   "outputs": [],
   "source": [
    "pickle.dump(slr_sizes, open('models/slr/delay/sizes.pkl', 'wb'))\n",
    "pickle.dump(byr_sizes, open('models/byr/delay/sizes.pkl', 'wb'))"
   ]
  },
  {
   "cell_type": "code",
   "execution_count": null,
   "metadata": {},
   "outputs": [],
   "source": []
  }
 ],
 "metadata": {
  "kernelspec": {
   "display_name": "Python 3",
   "language": "python",
   "name": "python3"
  },
  "language_info": {
   "codemirror_mode": {
    "name": "ipython",
    "version": 3
   },
   "file_extension": ".py",
   "mimetype": "text/x-python",
   "name": "python",
   "nbconvert_exporter": "python",
   "pygments_lexer": "ipython3",
   "version": "3.7.4"
  }
 },
 "nbformat": 4,
 "nbformat_minor": 4
}
