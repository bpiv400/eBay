{
 "cells": [
  {
   "cell_type": "code",
   "execution_count": 7,
   "metadata": {},
   "outputs": [],
   "source": [
    "class Dad:\n",
    "    def __init__(self):\n",
    "        self.a = 5\n",
    "        self.b = 10\n",
    "    \n",
    "    def pub(self):\n",
    "        self._protect()\n",
    "        self.invoked()\n",
    "        \n",
    "    def _protect(self):\n",
    "        print('dad')\n",
    "        \n",
    "    def invoked(self):\n",
    "        print('dad')\n",
    "        \n",
    "        \n",
    "class Child(Dad):\n",
    "    def __init__(self):\n",
    "        super(Dad, self).__init__()\n",
    "        self.a = 15\n",
    "    \n",
    "    def _protect(self):\n",
    "        print('child')\n",
    "        \n",
    "    def invoked(self):\n",
    "        print('child')\n",
    "\n",
    "\n",
    "\n",
    "def unpacked(a, b, c):\n",
    "    print(a)\n",
    "    print(b)\n",
    "    print(c)\n",
    "    "
   ]
  },
  {
   "cell_type": "code",
   "execution_count": 6,
   "metadata": {},
   "outputs": [
    {
     "name": "stdout",
     "output_type": "stream",
     "text": [
      "child\n",
      "child\n"
     ]
    }
   ],
   "source": [
    "c = Child()\n",
    "c.pub()"
   ]
  },
  {
   "cell_type": "code",
   "execution_count": 9,
   "metadata": {},
   "outputs": [
    {
     "data": {
      "text/plain": [
       "(False, 0, 1500)"
      ]
     },
     "execution_count": 9,
     "metadata": {},
     "output_type": "execute_result"
    }
   ],
   "source": [
    "outcome = False, 0, 1500\n",
    "outcome"
   ]
  },
  {
   "cell_type": "code",
   "execution_count": 11,
   "metadata": {},
   "outputs": [
    {
     "name": "stdout",
     "output_type": "stream",
     "text": [
      "False\n",
      "0\n",
      "1500\n"
     ]
    }
   ],
   "source": [
    "unpacked(*outcome)"
   ]
  },
  {
   "cell_type": "code",
   "execution_count": null,
   "metadata": {},
   "outputs": [],
   "source": []
  }
 ],
 "metadata": {
  "kernelspec": {
   "display_name": "Python 3",
   "language": "python",
   "name": "python3"
  },
  "language_info": {
   "codemirror_mode": {
    "name": "ipython",
    "version": 3
   },
   "file_extension": ".py",
   "mimetype": "text/x-python",
   "name": "python",
   "nbconvert_exporter": "python",
   "pygments_lexer": "ipython3",
   "version": "3.7.4"
  }
 },
 "nbformat": 4,
 "nbformat_minor": 4
}
