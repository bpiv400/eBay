{
 "cells": [
  {
   "cell_type": "code",
   "execution_count": 24,
   "metadata": {},
   "outputs": [],
   "source": [
    "import os"
   ]
  },
  {
   "cell_type": "code",
   "execution_count": 25,
   "metadata": {},
   "outputs": [],
   "source": [
    "os.chdir('A:/dropbox/ebay/') # BARRY'S Working directory"
   ]
  },
  {
   "cell_type": "code",
   "execution_count": 26,
   "metadata": {},
   "outputs": [],
   "source": [
    "import importlib\n",
    "import os\n",
    "import numpy as np\n",
    "import pandas as pd\n",
    "from utils import unpickle\n",
    "from rlenv.env_consts import *\n",
    "from rlenv.env_utils import *\n",
    "import torch"
   ]
  },
  {
   "cell_type": "code",
   "execution_count": 27,
   "metadata": {},
   "outputs": [
    {
     "name": "stdout",
     "output_type": "stream",
     "text": [
      "            const_value\n",
      "start_days            0\n",
      "holiday               1\n",
      "dow0                  2\n",
      "dow1                  3\n",
      "dow2                  4\n",
      "...                 ...\n",
      "meta34              119\n",
      "new                 120\n",
      "used                121\n",
      "refurb              122\n",
      "wear                123\n",
      "\n",
      "[124 rows x 1 columns]\n"
     ]
    }
   ],
   "source": [
    "lstg_cols = pd.DataFrame.from_dict(LSTG_COLS, orient='index')\n",
    "lstg_cols.rename(columns={0: 'const_value'}, inplace=True)\n",
    "print(lstg_cols)"
   ]
  },
  {
   "cell_type": "code",
   "execution_count": 32,
   "metadata": {},
   "outputs": [
    {
     "name": "stdout",
     "output_type": "stream",
     "text": [
      "                     value\n",
      "byr_us                   0\n",
      "byr_hist                 1\n",
      "start_days               2\n",
      "holiday                  3\n",
      "dow0                     4\n",
      "dow1                     5\n",
      "dow2                     6\n",
      "dow3                     7\n",
      "dow4                     8\n",
      "dow5                     9\n",
      "tf_slr_lstgs_open       10\n",
      "tf_slr_lstgs            11\n",
      "tf_slr_threads          12\n",
      "tf_slr_slr_offers       13\n",
      "tf_slr_byr_offers       14\n",
      "tf_slr_accepts          15\n",
      "tf_slr_accept_25        16\n",
      "tf_slr_accept_50        17\n",
      "tf_slr_accept_75        18\n",
      "tf_slr_accept_100       19\n",
      "tf_meta_lstgs_open      20\n",
      "tf_meta_lstgs           21\n",
      "tf_meta_threads         22\n",
      "tf_meta_slr_offers      23\n",
      "tf_meta_byr_offers      24\n",
      "tf_meta_accepts         25\n",
      "tf_meta_accept_25       26\n",
      "tf_meta_accept_50       27\n",
      "tf_meta_accept_75       28\n",
      "tf_meta_accept_100      29\n",
      "tf_leaf_lstgs_open      30\n",
      "tf_leaf_lstgs           31\n",
      "tf_leaf_threads         32\n",
      "tf_leaf_slr_offers      33\n",
      "tf_leaf_byr_offers      34\n",
      "tf_leaf_accepts         35\n",
      "tf_leaf_accept_25       36\n",
      "tf_leaf_accept_50       37\n",
      "tf_leaf_accept_75       38\n",
      "tf_leaf_accept_100      39\n",
      "tf_title_lstgs_open     40\n",
      "tf_title_lstgs          41\n",
      "tf_title_threads        42\n",
      "tf_title_slr_offers     43\n",
      "tf_title_byr_offers     44\n",
      "tf_title_accepts        45\n",
      "tf_title_accept_25      46\n",
      "tf_title_accept_50      47\n",
      "tf_title_accept_75      48\n",
      "tf_title_accept_100     49\n",
      "tf_cndtn_lstgs_open     50\n",
      "tf_cndtn_lstgs          51\n",
      "tf_cndtn_threads        52\n",
      "tf_cndtn_slr_offers     53\n",
      "tf_cndtn_byr_offers     54\n",
      "tf_cndtn_accepts        55\n",
      "tf_cndtn_accept_25      56\n",
      "tf_cndtn_accept_50      57\n",
      "tf_cndtn_accept_75      58\n",
      "tf_cndtn_accept_100     59\n",
      "relisted                60\n",
      "store                   61\n",
      "slr_us                  62\n",
      "fast                    63\n",
      "photos                  64\n",
      "slr_bos                 65\n",
      "slr_lstgs               66\n",
      "fdbk_score              67\n",
      "fdbk_pstv               68\n",
      "fdbk_100                69\n",
      "start                   70\n",
      "decline                 71\n",
      "accept                  72\n",
      "start_round             73\n",
      "start_nines             74\n",
      "decline_round           75\n",
      "decline_nines           76\n",
      "accept_round            77\n",
      "accept_nines            78\n",
      "has_decline             79\n",
      "has_accept              80\n",
      "auto_dist               81\n",
      "lda0                    82\n",
      "lda1                    83\n",
      "lda2                    84\n",
      "lda3                    85\n",
      "lda4                    86\n",
      "lda5                    87\n",
      "lda6                    88\n",
      "meta1                   89\n",
      "meta2                   90\n",
      "meta3                   91\n",
      "meta4                   92\n",
      "meta5                   93\n",
      "meta6                   94\n",
      "meta7                   95\n",
      "meta8                   96\n",
      "meta9                   97\n",
      "meta10                  98\n",
      "meta11                  99\n",
      "meta12                 100\n",
      "meta13                 101\n",
      "meta14                 102\n",
      "meta15                 103\n",
      "meta16                 104\n",
      "meta17                 105\n",
      "meta18                 106\n",
      "meta20                 107\n",
      "meta21                 108\n",
      "meta22                 109\n",
      "meta23                 110\n",
      "meta24                 111\n",
      "meta25                 112\n",
      "meta26                 113\n",
      "meta27                 114\n",
      "meta28                 115\n",
      "meta29                 116\n",
      "meta30                 117\n",
      "meta31                 118\n",
      "meta32                 119\n",
      "meta33                 120\n",
      "meta34                 121\n",
      "new                    122\n",
      "used                   123\n",
      "refurb                 124\n",
      "wear                   125\n"
     ]
    }
   ],
   "source": [
    "loc_feats = load_featnames('byr', 'accept')['x_fixed']\n",
    "loc_feats = pd.DataFrame(index=loc_feats, data={'value': np.arange(len(loc_feats))})\n",
    "with pd.option_context('display.max_rows', None, 'display.max_columns', None):  # more options can be specified also\n",
    "    print(loc_feats)"
   ]
  },
  {
   "cell_type": "code",
   "execution_count": 33,
   "metadata": {},
   "outputs": [
    {
     "data": {
      "text/plain": [
       "False"
      ]
     },
     "execution_count": 33,
     "metadata": {},
     "output_type": "execute_result"
    }
   ],
   "source": [
    "joined = loc_feats.merge(lstg_cols, left_index=True, right_index=True, how='inner')\n",
    "all(joined['value'] == joined['const_value'])"
   ]
  },
  {
   "cell_type": "code",
   "execution_count": 55,
   "metadata": {},
   "outputs": [
    {
     "name": "stdout",
     "output_type": "stream",
     "text": [
      "                 value\n",
      "period               0\n",
      "holiday              1\n",
      "dow0                 2\n",
      "dow1                 3\n",
      "dow2                 4\n",
      "dow3                 5\n",
      "dow4                 6\n",
      "dow5                 7\n",
      "minutes              8\n",
      "slr_offers           9\n",
      "slr_best            10\n",
      "slr_offers_open     11\n",
      "slr_best_open       12\n",
      "byr_offers          13\n",
      "byr_best            14\n",
      "byr_offers_open     15\n",
      "byr_best_open       16\n"
     ]
    }
   ],
   "source": [
    "time_feats = load_featnames('byr', 'delay')['x_time']\n",
    "time_feats = pd.DataFrame(index=time_feats, data={'value': np.arange(len(time_feats))})\n",
    "with pd.option_context('display.max_rows', None, 'display.max_columns', None):  # more options can be specified also\n",
    "    print(time_feats)"
   ]
  },
  {
   "cell_type": "code",
   "execution_count": null,
   "metadata": {},
   "outputs": [],
   "source": []
  }
 ],
 "metadata": {
  "kernelspec": {
   "display_name": "Python 3",
   "language": "python",
   "name": "python3"
  },
  "language_info": {
   "codemirror_mode": {
    "name": "ipython",
    "version": 3
   },
   "file_extension": ".py",
   "mimetype": "text/x-python",
   "name": "python",
   "nbconvert_exporter": "python",
   "pygments_lexer": "ipython3",
   "version": "3.7.4"
  }
 },
 "nbformat": 4,
 "nbformat_minor": 4
}
