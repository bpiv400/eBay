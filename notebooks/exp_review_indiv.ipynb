{
 "cells": [
  {
   "cell_type": "code",
   "execution_count": 3,
   "metadata": {},
   "outputs": [],
   "source": [
    "import matplotlib.pyplot as plt\n",
    "import numpy as np\n",
    "import pandas as pd\n",
    "import pickle\n",
    "import math\n",
    "import os\n",
    "import sys\n",
    "import torch\n",
    "import torch.autograd as autograd\n",
    "import torch.nn as nn\n",
    "import torch.nn.functional as F\n",
    "import torch.optim as optim\n",
    "from scipy.interpolate import BSpline\n",
    "from IPython.display import display, Markdown, Latex"
   ]
  },
  {
   "cell_type": "code",
   "execution_count": 1,
   "metadata": {},
   "outputs": [],
   "source": [
    "# parameters for experiments displayed\n",
    "# data types\n",
    "exp_name = 'crossent_simp_3'\n",
    "turns = ['b2']"
   ]
  },
  {
   "cell_type": "code",
   "execution_count": 4,
   "metadata": {},
   "outputs": [],
   "source": [
    "# complex expecation\n",
    "class Exp_comp(nn.Module):\n",
    "    def __init__(self, num_feat, num_units, num_classes, classes):\n",
    "        super(Exp_comp, self).__init__()\n",
    "        # print('feats %d' % num_feat)\n",
    "        # print('units %d' % num_units)\n",
    "        # print('num_classes %d' % num_classes)\n",
    "        self.fc1 = nn.Linear(num_feat, num_units)\n",
    "        self.fc2 = nn.Linear(num_units, num_units)\n",
    "        self.fc3 = nn.Linear(num_units, num_classes)\n",
    "        self.expect = torch.from_numpy(classes).float()\n",
    "        self.expect.requires_grad_(False)\n",
    "        self.expect = self.expect.view(-1, 1)\n",
    "\n",
    "    def forward(self, x):\n",
    "        x = self.fc1(x)\n",
    "        # print(x.size())\n",
    "        x = F.relu(x)\n",
    "        x = self.fc2(x)\n",
    "        # print(x.size())\n",
    "        x = F.relu(x)\n",
    "        x = self.fc3(x)\n",
    "        # print(x.size())\n",
    "        x = F.softmax(x, dim=1)\n",
    "        # print(x)\n",
    "        # print(x.size())\n",
    "        # print(self.expect.size())\n",
    "        x = torch.mm(x, self.expect)\n",
    "        return x"
   ]
  },
  {
   "cell_type": "code",
   "execution_count": 5,
   "metadata": {},
   "outputs": [],
   "source": [
    "# simple expectation model\n",
    "class Exp_simp(nn.Module):\n",
    "    def __init__(self, num_feat, num_units, num_classes, classes):\n",
    "        super(Exp_simp, self).__init__()\n",
    "        # print('feats %d' % num_feat)\n",
    "        # print('units %d' % num_units)\n",
    "        # print('num_classes %d' % num_classes)\n",
    "        self.fc1 = nn.Linear(num_feat, num_units)\n",
    "        self.fc2 = nn.Linear(num_units, num_classes)\n",
    "        self.expect = torch.from_numpy(classes).float()\n",
    "        self.expect.requires_grad_(False)\n",
    "        self.expect = self.expect.view(-1, 1)\n",
    "\n",
    "    def forward(self, x):\n",
    "        x = self.fc1(x)\n",
    "        # print(x.size())\n",
    "        x = F.relu(x)\n",
    "        x = self.fc2(x)\n",
    "        x = F.softmax(x, dim=1)\n",
    "        # print(x)\n",
    "        # print(x.size())\n",
    "        # print(self.expect.size())\n",
    "        x = torch.mm(x, self.expect)\n",
    "        return x"
   ]
  },
  {
   "cell_type": "code",
   "execution_count": 6,
   "metadata": {},
   "outputs": [],
   "source": [
    "# complex cross entropy model\n",
    "class Cross_comp(nn.Module):\n",
    "    def __init__(self, num_feat, num_units, num_classes):\n",
    "        super(Cross_comp, self).__init__()\n",
    "        # print('feats %d' % num_feat)\n",
    "        # print('units %d' % num_units)\n",
    "        # print('num_classes %d' % num_classes)\n",
    "        self.fc1 = nn.Linear(num_feat, num_units)\n",
    "        self.fc2 = nn.Linear(num_units, num_units)\n",
    "        self.fc3 = nn.Linear(num_units, num_classes)\n",
    "\n",
    "    def forward(self, x):\n",
    "        x = self.fc1(x)\n",
    "        # print(x.size())\n",
    "        x = F.relu(x)\n",
    "        x = self.fc2(x)\n",
    "\n",
    "        x = F.relu(x)\n",
    "        x = self.fc3(x)\n",
    "        # print(x)\n",
    "        # print(x.size())\n",
    "        # print(self.expect.size())\n",
    "        return x\n"
   ]
  },
  {
   "cell_type": "code",
   "execution_count": 7,
   "metadata": {},
   "outputs": [],
   "source": [
    "# simple cross entropy model\n",
    "class Cross_simp(nn.Module):\n",
    "    def __init__(self, num_feat, num_units, num_classes):\n",
    "        super(Cross_simp, self).__init__()\n",
    "        # print('feats %d' % num_feat)\n",
    "        # print('units %d' % num_units)\n",
    "        # print('num_classes %d' % num_classes)\n",
    "        self.fc1 = nn.Linear(num_feat, num_units)\n",
    "        self.fc2 = nn.Linear(num_units, num_classes)\n",
    "\n",
    "    def forward(self, x):\n",
    "        x = self.fc1(x)\n",
    "        # print(x.size())\n",
    "        x = F.relu(x)\n",
    "        x = self.fc2(x)\n",
    "        # print(x)\n",
    "        # print(x.size())\n",
    "        # print(self.expect.size())\n",
    "        return x"
   ]
  },
  {
   "cell_type": "code",
   "execution_count": 8,
   "metadata": {},
   "outputs": [],
   "source": [
    "def get_prep_type(exp_name):\n",
    "    '''\n",
    "    Description: uses the experiment name to determine\n",
    "    where to load data from\n",
    "    '''\n",
    "    prep_type = exp_name[len(exp_name) - 1]\n",
    "    if int(prep_type) == 1:\n",
    "        prep_type = 'mvp1'\n",
    "    elif int(prep_type) == 2:\n",
    "        prep_type = 'mvp2'\n",
    "    elif int(prep_type) == 3:\n",
    "        prep_type = 'mvp3'\n",
    "    elif int(prep_type) == 4:\n",
    "        prep_type = 'mvp4'\n",
    "    return prep_type"
   ]
  },
  {
   "cell_type": "code",
   "execution_count": 9,
   "metadata": {},
   "outputs": [],
   "source": [
    "def get_resp_turn(turn):\n",
    "    if len(turn) != 2:\n",
    "        raise ValueError('turn should be two 2 characters')\n",
    "    turn_num = turn[1]\n",
    "    turn_type = turn[0]\n",
    "    turn_num = int(turn_num)\n",
    "    if turn_type == 'b':\n",
    "        resp_turn = 's' + str(turn_num)\n",
    "    else:\n",
    "        resp_turn = 'b' + str(turn_num + 1)\n",
    "    resp_col = 'offr_' + resp_turn\n",
    "    return resp_col"
   ]
  },
  {
   "cell_type": "code",
   "execution_count": 10,
   "metadata": {},
   "outputs": [],
   "source": [
    "def get_prev_turn(turn):\n",
    "    turn_num = int(turn[1])\n",
    "    turn_type = turn[0]\n",
    "    if turn_type == 's':\n",
    "        prev_turn = 'b' + str(turn_num)\n",
    "    else:\n",
    "        if turn_num == 0:\n",
    "            prev_turn = 'start_price_usd'\n",
    "        else:\n",
    "            prev_turn = 's' + str(turn_num - 1)\n",
    "    if 'start_price_usd' not in prev_turn:\n",
    "        prev_turn = 'offr_' + prev_turn\n",
    "    return prev_turn"
   ]
  },
  {
   "cell_type": "code",
   "execution_count": 11,
   "metadata": {},
   "outputs": [],
   "source": [
    "def get_model_class(exp_name):\n",
    "    if 'cross' in exp_name:\n",
    "        if 'simp' in exp_name:\n",
    "            net = Cross_simp\n",
    "        else:\n",
    "            net = Cross_comp\n",
    "    else:\n",
    "        if 'simp' in exp_name:\n",
    "            net = Exp_simp\n",
    "        else:\n",
    "            net = Exp_comp\n",
    "    return net"
   ]
  },
  {
   "cell_type": "code",
   "execution_count": 12,
   "metadata": {},
   "outputs": [],
   "source": [
    "def get_num_units(exp_name):\n",
    "    if 'simp' in exp_name:\n",
    "        num_units = 30\n",
    "    else:\n",
    "        num_units = 100\n",
    "    return num_units"
   ]
  },
  {
   "cell_type": "code",
   "execution_count": 13,
   "metadata": {},
   "outputs": [],
   "source": [
    "def move_mass(output, ind_prev, ind_curr):\n",
    "    '''\n",
    "    output: n x c tensor where n gives number of examples and c gives number of classes\n",
    "    ind_prev: index of the column for the previous turn\n",
    "    ind_curr: index of the column for the current turn\n",
    "    '''\n",
    "    greater = max(ind_prev, ind_curr)\n",
    "    lower = min(ind_prev, ind_curr)\n",
    "    sum_greater = torch.sum(output[:, greater:], 1)\n",
    "    sum_lower = torch.sum(output[:, :(lower + 1)], 1)\n",
    "    output[:, greater:] = 0\n",
    "    output[:, :(lower + 1)] = 0\n",
    "    output[:, lower] = sum_lower\n",
    "    output[:, greater] = sum_greater\n",
    "    return output\n"
   ]
  },
  {
   "cell_type": "code",
   "execution_count": 14,
   "metadata": {},
   "outputs": [],
   "source": [
    "def get_feat_desc(exp_name):\n",
    "    data_type = int(exp_name[len(exp_name) - 1])\n",
    "    if data_type % 2 == 0:\n",
    "        return 'Only offer history and starting price included as features. Training stopped after drawing' + \\\n",
    "        'minibatches (with replacement) equivalent to 20 times the size of the data.'\n",
    "    else:\n",
    "        return 'Offer history, buyer feedback scores, fraction of auction remaining at time of offer,' + \\\n",
    "        ' time (in hours) each player took to make hitherto observed offers, number of previous threads ' + \\\n",
    "        'buyer and seller have engaged in, indicators for item category, and quality. Training stopped after' + \\\n",
    "        'drawing minibatches (with replacement) equivalent to 5 times the size of the data'\n",
    "def get_bin_desc(exp_name):\n",
    "    data_type = int(exp_name[len(exp_name) - 1])\n",
    "    if data_type <= 2:\n",
    "        return 'Offer values rounded to every even 50 cent [3, 1000] in symmetric 25 cent window around each ' + \\\n",
    "        'rounding target'\n",
    "    else:\n",
    "        return 'Offer values rounded to 1% of most common values observed for offer being predicted provided ' + \\\n",
    "        'that the center of each bin is at least 50 cents from the center of adjacent bins -- this requirement ' + \\\n",
    "        'reduces the number of bins to approximately 170 from about 500'\n",
    "def get_arc_desc(exp_name):\n",
    "    if 'cross' in exp_name:\n",
    "        return 'Standard multi-class prediction arcitecture, outputting scores over all possible bins, trained ' + \\\n",
    "        'using cross entropy loss, predicts the center of the bin with the highest score'\n",
    "    else:\n",
    "        return 'Hidden softmax layer after final non-linear activation layer constructs a distribution over bins ' + \\\n",
    "        'then output layer predicts the expectation of this distribution. Trained using squared loss.'\n",
    "def get_comp_desc(exp_name):\n",
    "    if 'simp' in exp_name:\n",
    "        return '1 non-linear activation layer containing 30 units'\n",
    "    else:\n",
    "        return '2 non-linear activation layers containing 100 units'"
   ]
  },
  {
   "cell_type": "code",
   "execution_count": 15,
   "metadata": {},
   "outputs": [],
   "source": [
    "def check_done(exp_name, turn):\n",
    "    return os.path.isfile('models/exps/%s/model_%s.pth.tar' % (exp_name, turn))"
   ]
  },
  {
   "cell_type": "code",
   "execution_count": 16,
   "metadata": {},
   "outputs": [],
   "source": [
    "def pandas_df_to_markdown_table(df):\n",
    "    fmt = ['---' for i in range(len(df.columns))]\n",
    "    df_fmt = pd.DataFrame([fmt], columns=df.columns)\n",
    "    df_formatted = pd.concat([df_fmt, df])\n",
    "    display(Markdown(df_formatted.to_csv(sep=\"|\", index=False)))"
   ]
  },
  {
   "cell_type": "code",
   "execution_count": 17,
   "metadata": {},
   "outputs": [],
   "source": [
    "def get_exp_data(exp_name, turn):\n",
    "    # prep type\n",
    "    prep_type = get_prep_type(exp_name)\n",
    "    # loss history\n",
    "    with open('models/exps/%s/loss_%s.pickle' % (exp_name, turn), 'rb') as f:\n",
    "        loss = pickle.load(f)\n",
    "    f.close()\n",
    "    if not isinstance(loss[0], torch.FloatTensor):\n",
    "        loss = loss[1:]\n",
    "    # class series\n",
    "    class_series = pd.read_csv('models/exps/%s/class_series_%s.csv' % (exp_name, turn), squeeze=True, index_col=0, header=None)\n",
    "    classes = class_series.index.values\n",
    "    \n",
    "    # feature dictionary\n",
    "    with open('models/exps/%s/featdict_%s.pickle' % (exp_name, turn), 'rb') as f:\n",
    "        feat_dict = pickle.load(f)\n",
    "    f.close()\n",
    "    reverse = {}\n",
    "    for col, ind in feat_dict.items():\n",
    "        reverse[ind] = col\n",
    "    \n",
    "    # column list...no idea why I used a dictionary for this tbh\n",
    "    col_list = []\n",
    "    for i in range(len(reverse)):\n",
    "        next_col = reverse[i]\n",
    "        col_list.append(next_col)\n",
    "\n",
    "    # normalization attributes\n",
    "    norm_df = pd.read_csv('data/exps/%s/%s/norm.csv' % (prep_type, turn))\n",
    "    \n",
    "    with open('data/exps/%s/%s/bins.pickle' % (prep_type, turn), 'rb') as f:\n",
    "        bin_dict = pickle.load(f)\n",
    "    f.close()\n",
    "    midpoints = bin_dict['midpoints']\n",
    "    bins = bin_dict['bins']\n",
    "    \n",
    "    # load model parameters\n",
    "    model_dict = torch.load('models/exps/%s/model_%s.pth.tar' % (exp_name, turn))\n",
    "    \n",
    "    # normalized test data for use in model\n",
    "    # load test data\n",
    "    test_df = pd.read_csv('data/exps/%s/normed/test_concat_%s.csv' % (prep_type, turn))\n",
    "    \n",
    "    # unnormalized test data for use in baseline\n",
    "    test_df_base = pd.read_csv('data/exps/%s/binned/test_concat_%s.csv' % (prep_type, turn))\n",
    "    first_off = test_df_base[get_prev_turn(turn)]\n",
    "    sec_off = test_df_base['offr_' + turn]\n",
    "    # initializing oracle\n",
    "    base_pred = (first_off + sec_off) / 2\n",
    "    oracle = base_pred.copy()\n",
    "    base_pred = base_pred.values\n",
    "    base_pred = torch.from_numpy(base_pred).float()\n",
    "    del test_df_base\n",
    "    \n",
    "    net = get_model_class(exp_name)\n",
    "    \n",
    "    num_units = get_num_units(exp_name)\n",
    "    num_features = len(col_list)\n",
    "    num_classes = len(classes)\n",
    "    \n",
    "    # load parameters into net\n",
    "    if 'cross' in exp_name:\n",
    "        model = net(num_features, num_units, num_classes)\n",
    "    else:\n",
    "        model = net(num_features, num_units, num_classes, classes)\n",
    "    \n",
    "    model.load_state_dict(model_dict)\n",
    "    \n",
    "    targ = test_df[get_resp_turn(turn)].values\n",
    "    \n",
    "    # creating oracle baseline -- guesses 50% if not not rejected / accepted, otherwise\n",
    "    # matches behavior\n",
    "    # find rejects \n",
    "    rejects = oracle[targ == first_off].index\n",
    "    # find accepted offers\n",
    "    accepts = oracle[targ == sec_off].index\n",
    "    \n",
    "    # reset oracle values to match accept offers\n",
    "    oracle.loc[accepts] = sec_off.loc[accepts].values\n",
    "    \n",
    "    # reset oracle values to match declined offers\n",
    "    oracle.loc[rejects] = first_off.loc[rejects].values\n",
    "    oracle_pred = torch.from_numpy(oracle.values).float()\n",
    "    \n",
    "    targ = torch.from_numpy(targ).float()\n",
    "    \n",
    "    test_df.drop(columns=[get_resp_turn(turn)], inplace=True)\n",
    "    test_df = test_df[col_list]\n",
    "    test_ten = torch.from_numpy(test_df.values).float()\n",
    "    mod_pred = model(test_ten)\n",
    "    \n",
    "    del test_df\n",
    "    del test_ten\n",
    "    \n",
    "    data_dict = {}\n",
    "    data_dict['loss'] = loss\n",
    "    data_dict['class_series'] = class_series\n",
    "    data_dict['mod_pred'] = mod_pred\n",
    "    data_dict['oracle_pred'] = oracle_pred\n",
    "    # potential source of bugs\n",
    "\n",
    "    data_dict['base_pred'] = base_pred\n",
    "    data_dict['targ'] = targ\n",
    "    \n",
    "    # for mass redistribution\n",
    "    data_dict['prev_turn'] = first_off\n",
    "    data_dict['curr_turn'] = sec_off\n",
    "    \n",
    "    #############################\n",
    "    # seem unncessary after\n",
    "    # data_dict['midpoints'] = midpoints\n",
    "    # data_dict['bins']= bins\n",
    "    # data_dict['model_dict'] = model_dict\n",
    "    # data_dict['norm_df'] = norm_df\n",
    "\n",
    "    return data_dict"
   ]
  },
  {
   "cell_type": "code",
   "execution_count": 18,
   "metadata": {},
   "outputs": [],
   "source": [
    "def show_loss_plots(loss):\n",
    "    display(Markdown('##### Raw Training Loss Curve'))\n",
    "    x = np.array(list(range(len(loss))))\n",
    "    loss = [float(curr_loss) for curr_loss in loss]\n",
    "    loss = np.array(loss)\n",
    "    plt.plot(x, loss)\n",
    "    plt.show()\n",
    "    \n",
    "    display(Markdown('##### Smoothed Training Loss Curve'))\n",
    "    xnew = np.linspace(x.min(), x.max(), 150)\n",
    "    avg = []\n",
    "    prev = 0\n",
    "    for currx in xnew:\n",
    "        portion = loss[int(prev):(int(currx) + 1)]\n",
    "        avg.append(portion.mean())\n",
    "        prev = int(currx)\n",
    "    avg = np.array(avg)\n",
    "    # final error is around 3k\n",
    "    plt.plot(xnew, avg)\n",
    "    plt.show()\n",
    "    \n",
    "    display(Markdown('##### Smoothed and Zoomed Training Loss Curve'))\n",
    "    xnew = np.linspace(x.min(), x.max(), 150)\n",
    "    avg = []\n",
    "    prev = 0\n",
    "    for currx in xnew:\n",
    "        portion = loss[int(prev):(int(currx) + 1)]\n",
    "        avg.append(portion.mean())\n",
    "        prev = int(currx)\n",
    "    avg = np.array(avg)\n",
    "    xnew = xnew[20:]\n",
    "    avg = avg[20:]\n",
    "    # final error is around 3k\n",
    "    plt.plot(xnew, avg)\n",
    "    plt.show()\n",
    "    "
   ]
  },
  {
   "cell_type": "code",
   "execution_count": 19,
   "metadata": {},
   "outputs": [],
   "source": [
    "def get_class_pred(mod_pred, class_series):\n",
    "    '''\n",
    "    Grab class associated with class index from cross entropy model or expecation model with last layer \n",
    "    stripped, for use in squared loss calculation rather than cross ent\n",
    "    '''\n",
    "    _, class_ind = mod_pred.max(1)\n",
    "    mod_pred = class_series.loc[class_ind.numpy().astype(np.int64)].values\n",
    "    mod_pred = torch.from_numpy(mod_pred).float()\n",
    "    \n",
    "    return mod_pred"
   ]
  },
  {
   "cell_type": "code",
   "execution_count": 20,
   "metadata": {},
   "outputs": [],
   "source": [
    "def main(exp_name):\n",
    "    all_resp_turns = [get_resp_turn(turn) for turn in turns]\n",
    "    summary_test_df = pd.DataFrame(0.0, index=all_resp_turns, columns=['base', 'oracle'])\n",
    "    results_series = pd.Series(np.NaN, index=all_resp_turns)\n",
    "    if 'cross' in exp_name:\n",
    "        print('')\n",
    "        # mm_results_series = pd.Series(np.NaN, index=all_resp_turns)\n",
    "    if not os.path.isfile('models/exps/%s/tbd.txt' % exp_name):\n",
    "        # experiment header\n",
    "        display(Markdown('## Experiment Summary: %s' % exp_name))\n",
    "        display(Markdown('### Characteristics'))\n",
    "        display(Markdown('* Bins: %s' % get_bin_desc(exp_name)))\n",
    "        display(Markdown('* Complexity: %s' % get_comp_desc(exp_name)))\n",
    "        display(Markdown('* Architecture: %s' % get_arc_desc(exp_name)))\n",
    "        display(Markdown('* Features: %s' % get_feat_desc(exp_name)))\n",
    "        for turn in turns:\n",
    "            if check_done(exp_name, turn):\n",
    "                data_dict = get_exp_data(exp_name, turn)\n",
    "                display(Markdown('### Analysis of Model for %s' % get_resp_turn(turn)))\n",
    "                display(Markdown('#### Training Curves'))\n",
    "                show_loss_plots(data_dict['loss'])\n",
    "\n",
    "                display(Markdown('#### Test Error'))\n",
    "                mod_pred = data_dict['mod_pred']\n",
    "                base_pred = data_dict['base_pred']\n",
    "                oracle_pred = data_dict['oracle_pred']\n",
    "\n",
    "                class_series = data_dict['class_series']\n",
    "                targ = data_dict['targ']\n",
    "                # series where index gives dllar value of class, and value gives location in class index array\n",
    "                class_locs = class_series.copy()\n",
    "                # series where index gives location in class index array and value gives dollar value of class\n",
    "                class_series = pd.Series(class_series.index.values)\n",
    "\n",
    "                criterion = nn.MSELoss(size_average=True, reduce=True)\n",
    "                loss = criterion\n",
    "\n",
    "                if 'cross' in exp_name:\n",
    "                    prev_turn = data_dict['prev_turn']\n",
    "                    curr_turn = data_dict['curr_turn']\n",
    "                    # find the index of the max value in each row\n",
    "                    prev_ind = class_locs.loc[prev_turn].values\n",
    "                    curr_ind =  class_locs.loc[curr_turn].values\n",
    "                    # moved_mass_pred = move_mass(mod_pred, prev_ind, curr_ind)\n",
    "                    # moved_mass_pred = get_class_pred(moved_mass_pred, class_series)\n",
    "                    mod_pred = get_class_pred(mod_pred, class_series)\n",
    "                    # moved_mass_pred = moved_mass_pred.view(-1)\n",
    "                    # moved_mass_loss = criterion(moved_mass_pred, targ)\n",
    "                    # mm_results_series.loc[get_resp_turn(turn)] = moved_mass_loss.detach().numpy()\n",
    "\n",
    "                mod_pred = mod_pred.view(-1)\n",
    "                base_pred = base_pred.view(-1)\n",
    "                oracle_pred = oracle_pred.view(-1)\n",
    "                targ = targ.view(-1)\n",
    "\n",
    "                base_loss = criterion(base_pred, targ)\n",
    "                oracle_loss = criterion(oracle_pred, targ)\n",
    "                mod_loss = criterion(mod_pred, targ)\n",
    "                results_series.loc[get_resp_turn(turn)] = mod_loss.detach().numpy()\n",
    "\n",
    "                oracle_col = 'oracle'\n",
    "                base_col = 'base'\n",
    "\n",
    "                curr_base_val = summary_test_df.at[get_resp_turn(turn), base_col]\n",
    "                if curr_base_val == 0:\n",
    "                    summary_test_df.at[get_resp_turn(turn), base_col] = base_loss\n",
    "\n",
    "                curr_oracle_val = summary_test_df.at[get_resp_turn(turn), oracle_col]\n",
    "                if curr_base_val == 0:\n",
    "                    summary_test_df.at[get_resp_turn(turn), oracle_col] = oracle_loss\n",
    "\n",
    "                display(Markdown('* Baseline Loss: %.2f' % base_loss))\n",
    "                display(Markdown('* Oracle Loss: %.2f' % oracle_loss))\n",
    "                display(Markdown('* Model Loss: %.2f' % mod_loss))\n",
    "            else:\n",
    "                display(Markdown('### Model for %s incomplete' % get_resp_turn(turn)))\n",
    "    summary_test_df[exp_name] = results_series\n",
    "    if 'cross' in exp_name:\n",
    "        summary_test_df['mm_' + exp_name] = mm_results_series\n",
    "    summary_test_df = summary_test_df.transpose()\n",
    "    model_series = pd.Series(summary_test_df.index.values, summary_test_df.index)\n",
    "    summary_test_df.insert(0, 'model', model_series)\n",
    "    pandas_df_to_markdown_table(summary_test_df)"
   ]
  },
  {
   "cell_type": "code",
   "execution_count": 21,
   "metadata": {},
   "outputs": [
    {
     "name": "stdout",
     "output_type": "stream",
     "text": [
      "\n"
     ]
    },
    {
     "data": {
      "text/markdown": [
       "## Experiment Summary: crossent_simp_3"
      ],
      "text/plain": [
       "<IPython.core.display.Markdown object>"
      ]
     },
     "metadata": {},
     "output_type": "display_data"
    },
    {
     "data": {
      "text/markdown": [
       "### Characteristics"
      ],
      "text/plain": [
       "<IPython.core.display.Markdown object>"
      ]
     },
     "metadata": {},
     "output_type": "display_data"
    },
    {
     "data": {
      "text/markdown": [
       "* Bins: Offer values rounded to 1% of most common values observed for offer being predicted provided that the center of each bin is at least 50 cents from the center of adjacent bins -- this requirement reduces the number of bins to approximately 170 from about 500"
      ],
      "text/plain": [
       "<IPython.core.display.Markdown object>"
      ]
     },
     "metadata": {},
     "output_type": "display_data"
    },
    {
     "data": {
      "text/markdown": [
       "* Complexity: 1 non-linear activation layer containing 30 units"
      ],
      "text/plain": [
       "<IPython.core.display.Markdown object>"
      ]
     },
     "metadata": {},
     "output_type": "display_data"
    },
    {
     "data": {
      "text/markdown": [
       "* Architecture: Standard multi-class prediction arcitecture, outputting scores over all possible bins, trained using cross entropy loss, predicts the center of the bin with the highest score"
      ],
      "text/plain": [
       "<IPython.core.display.Markdown object>"
      ]
     },
     "metadata": {},
     "output_type": "display_data"
    },
    {
     "data": {
      "text/markdown": [
       "* Features: Offer history, buyer feedback scores, fraction of auction remaining at time of offer, time (in hours) each player took to make hitherto observed offers, number of previous threads buyer and seller have engaged in, indicators for item category, and quality. Training stopped afterdrawing minibatches (with replacement) equivalent to 5 times the size of the data"
      ],
      "text/plain": [
       "<IPython.core.display.Markdown object>"
      ]
     },
     "metadata": {},
     "output_type": "display_data"
    },
    {
     "data": {
      "text/markdown": [
       "### Analysis of Model for offr_s2"
      ],
      "text/plain": [
       "<IPython.core.display.Markdown object>"
      ]
     },
     "metadata": {},
     "output_type": "display_data"
    },
    {
     "data": {
      "text/markdown": [
       "#### Training Curves"
      ],
      "text/plain": [
       "<IPython.core.display.Markdown object>"
      ]
     },
     "metadata": {},
     "output_type": "display_data"
    },
    {
     "data": {
      "text/markdown": [
       "##### Raw Training Loss Curve"
      ],
      "text/plain": [
       "<IPython.core.display.Markdown object>"
      ]
     },
     "metadata": {},
     "output_type": "display_data"
    },
    {
     "data": {
      "image/png": "[encoded data removed]",
      "text/plain": [
       "<Figure size 432x288 with 1 Axes>"
      ]
     },
     "metadata": {},
     "output_type": "display_data"
    },
    {
     "data": {
      "text/markdown": [
       "##### Smoothed Training Loss Curve"
      ],
      "text/plain": [
       "<IPython.core.display.Markdown object>"
      ]
     },
     "metadata": {},
     "output_type": "display_data"
    },
    {
     "data": {
      "image/png": "[encoded data removed]",
      "text/plain": [
       "<Figure size 432x288 with 1 Axes>"
      ]
     },
     "metadata": {},
     "output_type": "display_data"
    },
    {
     "data": {
      "text/markdown": [
       "##### Smoothed and Zoomed Training Loss Curve"
      ],
      "text/plain": [
       "<IPython.core.display.Markdown object>"
      ]
     },
     "metadata": {},
     "output_type": "display_data"
    },
    {
     "data": {
      "image/png": "[encoded data removed]",
      "text/plain": [
       "<Figure size 432x288 with 1 Axes>"
      ]
     },
     "metadata": {},
     "output_type": "display_data"
    },
    {
     "data": {
      "text/markdown": [
       "#### Test Error"
      ],
      "text/plain": [
       "<IPython.core.display.Markdown object>"
      ]
     },
     "metadata": {},
     "output_type": "display_data"
    },
    {
     "data": {
      "text/markdown": [
       "* Baseline Loss: 1481.63"
      ],
      "text/plain": [
       "<IPython.core.display.Markdown object>"
      ]
     },
     "metadata": {},
     "output_type": "display_data"
    },
    {
     "data": {
      "text/markdown": [
       "* Oracle Loss: 375.35"
      ],
      "text/plain": [
       "<IPython.core.display.Markdown object>"
      ]
     },
     "metadata": {},
     "output_type": "display_data"
    },
    {
     "data": {
      "text/markdown": [
       "* Model Loss: 518.93"
      ],
      "text/plain": [
       "<IPython.core.display.Markdown object>"
      ]
     },
     "metadata": {},
     "output_type": "display_data"
    },
    {
     "ename": "NameError",
     "evalue": "name 'mm_results_series' is not defined",
     "output_type": "error",
     "traceback": [
      "\u001b[0;31m---------------------------------------------------------------------------\u001b[0m",
      "\u001b[0;31mNameError\u001b[0m                                 Traceback (most recent call last)",
      "\u001b[0;32m<ipython-input-21-834abdb4d4d5>\u001b[0m in \u001b[0;36m<module>\u001b[0;34m()\u001b[0m\n\u001b[0;32m----> 1\u001b[0;31m \u001b[0mmain\u001b[0m\u001b[0;34m(\u001b[0m\u001b[0mexp_name\u001b[0m\u001b[0;34m)\u001b[0m\u001b[0;34m\u001b[0m\u001b[0m\n\u001b[0m",
      "\u001b[0;32m<ipython-input-20-d1046cc2dc19>\u001b[0m in \u001b[0;36mmain\u001b[0;34m(exp_name)\u001b[0m\n\u001b[1;32m     77\u001b[0m     \u001b[0msummary_test_df\u001b[0m\u001b[0;34m[\u001b[0m\u001b[0mexp_name\u001b[0m\u001b[0;34m]\u001b[0m \u001b[0;34m=\u001b[0m \u001b[0mresults_series\u001b[0m\u001b[0;34m\u001b[0m\u001b[0m\n\u001b[1;32m     78\u001b[0m     \u001b[0;32mif\u001b[0m \u001b[0;34m'cross'\u001b[0m \u001b[0;32min\u001b[0m \u001b[0mexp_name\u001b[0m\u001b[0;34m:\u001b[0m\u001b[0;34m\u001b[0m\u001b[0m\n\u001b[0;32m---> 79\u001b[0;31m         \u001b[0msummary_test_df\u001b[0m\u001b[0;34m[\u001b[0m\u001b[0;34m'mm_'\u001b[0m \u001b[0;34m+\u001b[0m \u001b[0mexp_name\u001b[0m\u001b[0;34m]\u001b[0m \u001b[0;34m=\u001b[0m \u001b[0mmm_results_series\u001b[0m\u001b[0;34m\u001b[0m\u001b[0m\n\u001b[0m\u001b[1;32m     80\u001b[0m     \u001b[0msummary_test_df\u001b[0m \u001b[0;34m=\u001b[0m \u001b[0msummary_test_df\u001b[0m\u001b[0;34m.\u001b[0m\u001b[0mtranspose\u001b[0m\u001b[0;34m(\u001b[0m\u001b[0;34m)\u001b[0m\u001b[0;34m\u001b[0m\u001b[0m\n\u001b[1;32m     81\u001b[0m     \u001b[0mmodel_series\u001b[0m \u001b[0;34m=\u001b[0m \u001b[0mpd\u001b[0m\u001b[0;34m.\u001b[0m\u001b[0mSeries\u001b[0m\u001b[0;34m(\u001b[0m\u001b[0msummary_test_df\u001b[0m\u001b[0;34m.\u001b[0m\u001b[0mindex\u001b[0m\u001b[0;34m.\u001b[0m\u001b[0mvalues\u001b[0m\u001b[0;34m,\u001b[0m \u001b[0msummary_test_df\u001b[0m\u001b[0;34m.\u001b[0m\u001b[0mindex\u001b[0m\u001b[0;34m)\u001b[0m\u001b[0;34m\u001b[0m\u001b[0m\n",
      "\u001b[0;31mNameError\u001b[0m: name 'mm_results_series' is not defined"
     ]
    }
   ],
   "source": [
    "main(exp_name)"
   ]
  },
  {
   "cell_type": "code",
   "execution_count": null,
   "metadata": {},
   "outputs": [],
   "source": []
  }
 ],
 "metadata": {
  "kernelspec": {
   "display_name": "Python 3",
   "language": "python",
   "name": "python3"
  },
  "language_info": {
   "codemirror_mode": {
    "name": "ipython",
    "version": 3
   },
   "file_extension": ".py",
   "mimetype": "text/x-python",
   "name": "python",
   "nbconvert_exporter": "python",
   "pygments_lexer": "ipython3",
   "version": "3.6.3"
  }
 },
 "nbformat": 4,
 "nbformat_minor": 2
}
