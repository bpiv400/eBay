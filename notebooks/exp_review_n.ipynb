{
 "cells": [
  {
   "cell_type": "code",
   "execution_count": 1,
   "metadata": {},
   "outputs": [],
   "source": [
    "import os\n",
    "import sys\n",
    "sys.path.append(os.path.abspath('repo/trans_probs/mvp/'))\n"
   ]
  },
  {
   "cell_type": "code",
   "execution_count": 2,
   "metadata": {},
   "outputs": [],
   "source": [
    "import matplotlib.pyplot as plt\n",
    "import numpy as np\n",
    "import pandas as pd\n",
    "import pickle\n",
    "import math\n",
    "import torch\n",
    "import torch.autograd as autograd\n",
    "import torch.nn as nn\n",
    "import torch.nn.functional as F\n",
    "import torch.optim as optim\n",
    "from scipy.interpolate import BSpline\n",
    "from IPython.display import display, Markdown, Latex\n",
    "import re\n",
    "import copy"
   ]
  },
  {
   "cell_type": "code",
   "execution_count": 3,
   "metadata": {},
   "outputs": [],
   "source": [
    "from models import *"
   ]
  },
  {
   "cell_type": "code",
   "execution_count": 52,
   "metadata": {},
   "outputs": [],
   "source": [
    "# parameters for experiments displayed\n",
    "# data types\n",
    "data_types = [1]\n",
    "# to be changed later\n",
    "experiments = ['norm2_crossent_comp_val', 'norm2_crossent_bet_val','norm2_crossent_simp_val', 'norm2_exp_comp_val', 'norm2_exp_bet_val', 'norm2_exp_simp_val']\n",
    "# experiments = ['crossent_simp']\n",
    "turns = ['b0', 'b1', 'b2']"
   ]
  },
  {
   "cell_type": "code",
   "execution_count": 5,
   "metadata": {},
   "outputs": [],
   "source": [
    "def get_prep_type(exp_name):\n",
    "    '''\n",
    "    Description: uses the experiment name to determine\n",
    "    where to load data from\n",
    "    '''\n",
    "    # grab prep type (the integer contained in the\n",
    "    # experiment name)\n",
    "    prep_type = re.findall(r'\\d+', exp_name)\n",
    "    prep_type = prep_type[0]\n",
    "    prep_type = int(prep_type)\n",
    "\n",
    "    if int(prep_type) == 1:\n",
    "        if 'norm' in exp_name:\n",
    "            prep_type = 'norm1'\n",
    "        else:\n",
    "            prep_type = 'mvp1'\n",
    "    elif int(prep_type) == 2:\n",
    "        if 'norm' in exp_name:\n",
    "            prep_type = 'norm2'\n",
    "        else:\n",
    "            prep_type = 'mvp2'\n",
    "    elif int(prep_type) == 3:\n",
    "        prep_type = 'mvp3'\n",
    "    elif int(prep_type) == 4:\n",
    "        prep_type = 'mvp4'\n",
    "    print('Prep type: %s' % prep_type)\n",
    "    return prep_type"
   ]
  },
  {
   "cell_type": "code",
   "execution_count": 6,
   "metadata": {},
   "outputs": [],
   "source": [
    "def get_resp_offr(turn):\n",
    "    '''\n",
    "    Description: Determines the name of the response column given the name of the last observed turn\n",
    "    '''\n",
    "    turn_num = turn[1]\n",
    "    turn_type = turn[0]\n",
    "    if turn != 'start_price_usd':\n",
    "        turn_num = int(turn_num)\n",
    "    if turn_type == 'b':\n",
    "        resp_turn = 's' + str(turn_num)\n",
    "    elif turn == 'start_price_usd':\n",
    "        resp_turn = 'b0'\n",
    "    elif turn_type == 's':\n",
    "        resp_turn = 'b' + str(turn_num + 1)\n",
    "    resp_col = 'offr_' + resp_turn\n",
    "    return resp_col"
   ]
  },
  {
   "cell_type": "code",
   "execution_count": 7,
   "metadata": {},
   "outputs": [],
   "source": [
    "def get_resp_time(turn):\n",
    "    '''\n",
    "    Description: Determines the name of the response column given the \n",
    "    name of the last observed turn\n",
    "    for time models\n",
    "    '''\n",
    "    turn_num = turn[1]\n",
    "    turn_type = turn[0]\n",
    "    turn_num = int(turn_num)\n",
    "    if turn_type == 'b':\n",
    "        resp_turn = 's' + str(turn_num)\n",
    "    elif turn == 'start_price_usd':\n",
    "        resp_turn = None\n",
    "    elif turn_type == 's':\n",
    "        resp_turn = 'b' + str(turn_num + 1)\n",
    "    resp_col = 'time_%s' % resp_turn\n",
    "    return resp_col"
   ]
  },
  {
   "cell_type": "code",
   "execution_count": 8,
   "metadata": {},
   "outputs": [],
   "source": [
    "def get_prev_offr(turn):\n",
    "    '''\n",
    "    Description: get the column name of the previous turn made \n",
    "    by the player for whom we're predicting the next\n",
    "    turn. If the current turn we're predicting is the seller's\n",
    "    first turn, return 'start_price_usd'. If the current \n",
    "    turn we're predicting is the buyer's first turn,  \n",
    "    '''\n",
    "    if turn == 'start_price_usd':\n",
    "        prev_turn = ''\n",
    "        return prev_turn\n",
    "    turn_num = int(turn[1])\n",
    "    turn_type = turn[0]\n",
    "    if turn_type == 's':\n",
    "        prev_turn = 'b' + str(turn_num)\n",
    "    elif turn_type == 'b':\n",
    "        if turn_num == 0:\n",
    "            prev_turn = 'start_price_usd'\n",
    "        else:\n",
    "            prev_turn = 's' + str(turn_num - 1)\n",
    "    if 'start_price_usd' not in prev_turn and prev_turn != '':\n",
    "        prev_turn = 'offr_' + prev_turn\n",
    "    return prev_turn"
   ]
  },
  {
   "cell_type": "code",
   "execution_count": 9,
   "metadata": {},
   "outputs": [],
   "source": [
    "def get_model_class(exp_name):\n",
    "    '''\n",
    "    Description: Uses experiment name to grab the associated model\n",
    "    from the models module and aliases it as net\n",
    "    Input: string giving experiment name\n",
    "    Output: class of model to be trained\n",
    "    '''\n",
    "    if 'cross' in exp_name:\n",
    "        if 'simp' in exp_name:\n",
    "            print('Model: Cross Simp')\n",
    "            net = Cross_simp\n",
    "        elif 'bet' in exp_name:\n",
    "            print('Model: Cross between')\n",
    "            net = Cross_simp\n",
    "        else:\n",
    "            net = Cross_comp\n",
    "            print('Model cross comp')\n",
    "    else:\n",
    "        if 'simp' in exp_name:\n",
    "            print('model exp simp')\n",
    "            net = Exp_simp\n",
    "        elif 'bet' in exp_name:\n",
    "            print('model exp between')\n",
    "            net = Exp_simp\n",
    "        else:\n",
    "            print('model exp comp')\n",
    "            net = Exp_comp\n",
    "    return net"
   ]
  },
  {
   "cell_type": "code",
   "execution_count": 10,
   "metadata": {},
   "outputs": [],
   "source": [
    "def get_num_units(exp_name):\n",
    "    '''\n",
    "    Description: gets the number of units in each\n",
    "    nonlinear activation layer using the experiment name\n",
    "    '''\n",
    "    if 'simp' in exp_name:\n",
    "        num_units = 30\n",
    "    elif 'bet' in exp_name:\n",
    "        num_units = 100\n",
    "    else:\n",
    "        num_units = 100\n",
    "    print('Num units: %s' % num_units)\n",
    "    return num_units"
   ]
  },
  {
   "cell_type": "code",
   "execution_count": 11,
   "metadata": {},
   "outputs": [],
   "source": [
    "########################################################\n",
    "# NOT IN USE CURRENTLY\n",
    "#########################################################\n",
    "def move_mass(output, ind_prev, ind_curr):\n",
    "    '''\n",
    "    output: n x c tensor where n gives number of examples and c gives number of classes\n",
    "    ind_prev: index of the column for the previous turn\n",
    "    ind_curr: index of the column for the current turn\n",
    "    '''\n",
    "    greater = np.maximum(ind_prev, ind_curr)\n",
    "    lower = np.minimum(ind_prev, ind_curr)\n",
    "    sum_greater = torch.sum(output[:, greater:], 1)\n",
    "    sum_lower = torch.sum(output[:, :(lower + 1)], 1)\n",
    "    output[:, greater:] = 0\n",
    "    output[:, :(lower + 1)] = 0\n",
    "    output[:, lower] = sum_lower\n",
    "    output[:, greater] = sum_greater\n",
    "    return output\n"
   ]
  },
  {
   "cell_type": "code",
   "execution_count": 12,
   "metadata": {},
   "outputs": [],
   "source": [
    "def get_feat_desc(exp_name):\n",
    "    '''\n",
    "    Description: Parses the name of the experiment to extract information about the features used in the model\n",
    "    '''\n",
    "    data_type = re.findall(r'\\d+', exp_name)[0]\n",
    "    data_type = int(data_type)\n",
    "    if 'norm' not in exp_name:\n",
    "        if data_type % 2 == 0:\n",
    "            return 'Only offer history and starting price included as features. Training stopped after drawing' + \\\n",
    "            'minibatches (with replacement) equivalent to 20 times the size of the data.'\n",
    "        else:\n",
    "            return 'Offer history, buyer feedback scores, fraction of auction remaining at time of offer,' + \\\n",
    "            ' time (in hours) each player took to make hitherto observed offers, number of previous threads ' + \\\n",
    "            'buyer and seller have engaged in, indicators for item category, and quality. Training stopped after' + \\\n",
    "            'drawing minibatches (with replacement) equivalent to 5 times the size of the data'\n",
    "    else:\n",
    "        if data_type == 1:\n",
    "            return 'Offer history normalized by difference between two most recent offers; no date or time features;' + \\\n",
    "            'number of previous threads and other experience features, rounding and slack features for 1, 5, 10, 25;' + \\\n",
    "            'indicators for item category and quality'\n",
    "        elif data_type == 2:\n",
    "            return 'Offer history normalized by difference between two most recent offers; fraction of time remaining,' + \\\n",
    "            'time to make offer for each offer, indicators for whether each offer was made in the morning, evening, night,' + \\\n",
    "            'or afternoon (1 excluded), and the time of day in hours for each observed offer,' + \\\n",
    "            'number of previous threads and other experience features, rounding and slack features for 1, 5, 10, 25;' + \\\n",
    "            'indicators for item category and quality'\n",
    "def get_bin_desc(exp_name):\n",
    "    if 'norm' not in exp_name:\n",
    "        data_type = int(exp_name[len(exp_name) - 1])\n",
    "        if data_type <= 2:\n",
    "            return 'Offer values rounded to every even 50 cent [3, 1000] in symmetric 25 cent window around each ' + \\\n",
    "            'rounding target'\n",
    "        else:\n",
    "            return 'Offer values rounded to 1% of most common values observed for offer being predicted provided ' + \\\n",
    "            'that the center of each bin is at least 50 cents from the center of adjacent bins -- this requirement ' + \\\n",
    "            'reduces the number of bins to approximately 170 from about 500'\n",
    "    else:\n",
    "        data_type = int(re.findall(r'\\d+', exp_name)[0])\n",
    "        if data_type == 1 or data_type == 2:\n",
    "            return 'Normalized offer values binned at every hundredth between 0 and 1'\n",
    "def get_arc_desc(exp_name):\n",
    "    if 'cross' in exp_name:\n",
    "        return 'Standard multi-class prediction arcitecture, outputting scores over all possible bins, trained ' + \\\n",
    "        'using cross entropy loss, predicts the center of the bin with the highest score'\n",
    "    else:\n",
    "        return 'Hidden softmax layer after final non-linear activation layer constructs a distribution over bins ' + \\\n",
    "        'then output layer predicts the expectation of this distribution. Trained using squared loss.'\n",
    "def get_comp_desc(exp_name):\n",
    "    if 'simp' in exp_name:\n",
    "        return '1 non-linear activation layer containing 30 units'\n",
    "    else:\n",
    "        return '2 non-linear activation layers containing 100 units'"
   ]
  },
  {
   "cell_type": "code",
   "execution_count": 13,
   "metadata": {},
   "outputs": [],
   "source": [
    "def check_done(exp_name, turn):\n",
    "    '''\n",
    "    Description: Checks whether an experiment is complete\n",
    "    '''\n",
    "    return os.path.isfile('models/exps/%s/model_%s.pth.tar' % (exp_name, turn))"
   ]
  },
  {
   "cell_type": "code",
   "execution_count": 14,
   "metadata": {},
   "outputs": [],
   "source": [
    "def pandas_df_to_markdown_table(df):\n",
    "    '''\n",
    "    Description: converts pandas data frame to markdown table\n",
    "    '''\n",
    "    fmt = ['---' for i in range(len(df.columns))]\n",
    "    df_fmt = pd.DataFrame([fmt], columns=df.columns)\n",
    "    df_formatted = pd.concat([df_fmt, df])\n",
    "    display(Markdown(df_formatted.to_csv(sep=\"|\", index=False)))"
   ]
  },
  {
   "cell_type": "code",
   "execution_count": 47,
   "metadata": {},
   "outputs": [],
   "source": [
    "def get_exp_data(exp_name, turn, offr_mod):\n",
    "    '''\n",
    "    Description: Loads all necessary test data and model specification files (bins, loss history, \n",
    "    feature dictionary, class series) and computes model predictions...Stores all data and predictions used later\n",
    "    in an output dictionary\n",
    "    '''\n",
    "    if not offr_mod and turn == 'start_price_usd':\n",
    "        raise ValueError('No time response to the listing')\n",
    "        \n",
    "    # prep type\n",
    "    prep_type = get_prep_type(exp_name)\n",
    "    # loss history\n",
    "    with open('models/exps/%s/loss_%s.pickle' % (exp_name, turn), 'rb') as f:\n",
    "        loss_dict = pickle.load(f)\n",
    "        # get training loss history\n",
    "        loss = loss_dict['train_loss']\n",
    "\n",
    "        # if a validation set was used, grab the validation set loss too\n",
    "        if 'val' in exp_name:\n",
    "            valid_loss = loss_dict['valid_loss']\n",
    "    \n",
    "    f.close()\n",
    "    if len(loss) > 0:\n",
    "        if not isinstance(loss[0], torch.FloatTensor):\n",
    "            loss = loss[1:]\n",
    "    # class series\n",
    "    class_series = pd.read_csv('models/exps/%s/class_series_%s.csv' % (exp_name, turn), squeeze=True, index_col=0, header=None)\n",
    "    classes = class_series.index.values\n",
    "    \n",
    "    # feature dictionary\n",
    "    with open('models/exps/%s/featdict_%s.pickle' % (exp_name, turn), 'rb') as f:\n",
    "        feat_dict = pickle.load(f)\n",
    "    f.close()\n",
    "    reverse = {}\n",
    "    for col, ind in feat_dict.items():\n",
    "        reverse[ind] = col\n",
    "    \n",
    "    # column list...no idea why I used a dictionary for this tbh\n",
    "    col_list = []\n",
    "    for i in range(len(reverse)):\n",
    "        next_col = reverse[i]\n",
    "        col_list.append(next_col)\n",
    "\n",
    "    # normalization attributes\n",
    "    norm_df = pd.read_csv('data/exps/%s/%s/norm.csv' % (prep_type, turn))\n",
    "    \n",
    "    # load bins and midpoints\n",
    "    if offr_mod:\n",
    "        with open('data/exps/%s/%s/bins.pickle' % (prep_type, turn), 'rb') as f:\n",
    "            bin_dict = pickle.load(f)\n",
    "        f.close()\n",
    "        midpoints = bin_dict['midpoints']\n",
    "        bins = bin_dict['bins']\n",
    "    else:\n",
    "        with open('data/exps/%s/%s/time_bins.pickle' % (prep_type, turn), 'rb') as f:\n",
    "            bin_dict = pickle.load(f)\n",
    "        f.close()\n",
    "        midpoints = bin_dict['time_midpoints']\n",
    "        bins = bin_dict['time_bins']\n",
    "    \n",
    "    # load model parameters\n",
    "    model_dict = torch.load('models/exps/%s/model_%s.pth.tar' % (exp_name, turn))\n",
    "    \n",
    "    # normalized test data for use in model\n",
    "    # load test data\n",
    "    test_df = pd.read_csv('data/exps/%s/normed/test_concat_%s.csv' % (prep_type, turn))\n",
    "    #############\n",
    "    # TEMPORARY FIX WHILE THIS PROBLEM REMAINS WITH THIS SUBSET OF DATA\n",
    "    ##############\n",
    "    if 'norm1' in exp_name:\n",
    "        binned_df = pd.read_csv('data/exps/%s/binned/test_concat_%s.csv' % (prep_type, turn))\n",
    "        test_df = test_df.loc[binned_df[binned_df['start_price_usd'] < 1000].index]\n",
    "    \n",
    "    if offr_mod:\n",
    "        # prep oracle and baseline for offer model\n",
    "        if turn != 'start_price_usd':\n",
    "            # grabbing most recent offer from the player for whom we're predicting the next offer (ref_old)\n",
    "            # and the most recent offer from the opposing player (ref_rec)\n",
    "            first_off = test_df['ref_old']\n",
    "            sec_off = test_df['ref_rec']\n",
    "\n",
    "            low_off = np.minimum(first_off.values, sec_off.values)\n",
    "            high_off = np.maximum(first_off.values, sec_off.values)\n",
    "\n",
    "            # initializing oracle and computing rough midpoint baseline\n",
    "            base_pred = (first_off + sec_off) / 2\n",
    "            oracle = base_pred.copy()\n",
    "            base_pred = base_pred.values\n",
    "            base_pred = torch.from_numpy(base_pred).float()\n",
    "        # create baseline for model where we're predicting b0\n",
    "        else:\n",
    "            # extract recent reference \n",
    "            sec_off = test_df['ref_rec']\n",
    "            base_pred = sec_off / 2\n",
    "            oracle = base_pred.values\n",
    "            base_pred = torch.from_numpy(base_pred).float()\n",
    "    else:\n",
    "        # prep baseline for time model\n",
    "        # baseline predicts all offer response take 24 hours\n",
    "        # oracle makes the same prediction except it predicts 0 when \n",
    "        # the offer is automatically rejected/accepted \n",
    "        # and 48 * 60 when the offer expires\n",
    "        base_pred = np.ones(len(test_df.index))\n",
    "        base_pred = base_pred * 24 * 60\n",
    "        base_pred = pd.Series(base_pred, index=test_df.index)\n",
    "        # establishing oracle\n",
    "        oracle = base_pred.copy()\n",
    "        # convert base pred back to simple numpy\n",
    "        base_pred = base_pred.values\n",
    "        base_pred = torch.from_numpy(base_pred).float()\n",
    "        \n",
    "        \n",
    "    # get model class using experiment name\n",
    "    net = get_model_class(exp_name)\n",
    "\n",
    "    # grab the number of units in an activation layer and other model features\n",
    "    num_units = get_num_units(exp_name)\n",
    "    num_features = len(col_list)\n",
    "    num_classes = len(classes)\n",
    "\n",
    "    # load parameters into net\n",
    "    if 'cross' in exp_name:\n",
    "        model = net(num_features, num_units, num_classes)\n",
    "    else:\n",
    "        classes = torch.from_numpy(classes).float()\n",
    "        model = net(num_features, num_units, num_classes, classes)\n",
    "\n",
    "    # load model weights\n",
    "    model.load_state_dict(model_dict)\n",
    "\n",
    "    # get target for model\n",
    "    if offr_mod:\n",
    "        targ = test_df[get_resp_offr(turn)].values\n",
    "        # get true value of target\n",
    "        true_targ = test_df['ref_resp'].values\n",
    "    else:\n",
    "        true_targ = test_df[get_resp_time(turn)].values\n",
    "    \n",
    "    if offr_mod:\n",
    "        if turn != 'start_price_usd':\n",
    "            # creating oracle baseline -- guesses 50% if not rejected / accepted, otherwise\n",
    "            # matches behavior\n",
    "            # find rejects \n",
    "            rejects = oracle[true_targ == first_off].index\n",
    "            # find accepted offers\n",
    "            accepts = oracle[true_targ == sec_off].index\n",
    "\n",
    "            # reset oracle values to match accept offers\n",
    "            oracle.loc[accepts] = sec_off.loc[accepts].values\n",
    "\n",
    "            # reset oracle values to match declined offers\n",
    "            oracle.loc[rejects] = first_off.loc[rejects].values\n",
    "        else:\n",
    "            # get turns where the buyer just paid the starting price\n",
    "            full_price = oracle[true_targ == sec_off].index\n",
    "\n",
    "            # for the oracle, set the predicted response to be equal to the true response in these instances\n",
    "            oracle.loc[full_price] = sec_off.loc[full_price]\n",
    "    else:\n",
    "        # create oracle -- guesses 24 hours if not automatically accepted/rejected or allowed\n",
    "        # to time out, otherwise matches this behavior\n",
    "        # find auto response offers\n",
    "        auto_ids = oracle[true_targ == 0].index\n",
    "        # find time out response offers\n",
    "        timeout_ids = oracle[true_targ == 48*60].index\n",
    "        # reset oracle values to match auto responses\n",
    "        oracle.loc[auto_ids] = 0\n",
    "        # reset oracle values to match timeout responses\n",
    "        oracle.loc[timeout_ids] = 48 * 60\n",
    "\n",
    "    # convert format to torch\n",
    "    true_targ = torch.from_numpy(true_targ).float()\n",
    "    oracle_pred = torch.from_numpy(oracle.values).float()\n",
    "\n",
    "    # drop response column and reference columns from test df\n",
    "    extra_cols = ['ref_old', 'ref_rec', 'ref_resp', get_resp_offr(turn), get_resp_time(turn)]\n",
    "    for col in extra_cols:\n",
    "        if col in test_df.columns:\n",
    "            test_df.drop(columns=col, inplace=True)\n",
    "\n",
    "    # rearrange columns to match model input from training\n",
    "    test_df = test_df[col_list]\n",
    "    test_ten = torch.from_numpy(test_df.values).float()\n",
    "    mod_pred = model(test_ten)\n",
    "    \n",
    "    if offr_mod:\n",
    "        sec_off = torch.from_numpy(sec_off.values).float()\n",
    "        if turn != 'start_price_usd':\n",
    "            # interpolate the model prediction to convert to dollars\n",
    "            # from normalized value\n",
    "            first_off = torch.from_numpy(first_off.values).float()\n",
    "            if 'cross' not in exp_name:\n",
    "                # print(mod_pred.size())\n",
    "                # print(sec_off.size())\n",
    "                # print(first_off.size())\n",
    "                mod_pred = mod_pred.view(-1)\n",
    "                mod_pred = mod_pred * sec_off + (1-mod_pred) * first_off\n",
    "\n",
    "        else:\n",
    "            # interpolate model prediction from starting price\n",
    "            if 'cross' not in exp_name:\n",
    "                mod_pred = mod_pred * sec_off\n",
    "                \n",
    "        # DEPRECATED MOVED MASS PREDICTION \n",
    "        ##############################################################################\n",
    "        # create moved mass prediction by predicting the lower of the two previous\n",
    "        # offers when our prediction is less than that low\n",
    "        # and predicting the higher of the two previous offers when our prediction\n",
    "        # is greater than that offer \n",
    "        \n",
    "        # numpy_mod_pred = mod_pred.detach().numpy()\n",
    "        # mm_pred = numpy_mod_pred\n",
    "        # find indices are out of bounds low\n",
    "        # oobl = low_off > numpy_mod_pred\n",
    "        # find indices which are out of bounds high\n",
    "        # oobh = high_off < numpy_mod_pred\n",
    "        # reset high indices to be equal to high previous turn\n",
    "        # mm_pred[oobh] = high_off[oobh]\n",
    "        # reset low indices to be equal to low from previous turns\n",
    "        # mm_pred[oobl] = low_off[oobl]\n",
    "        \n",
    "        # change format\n",
    "        # mm_pred = torch.from_numpy(mm_pred).float()\n",
    "        \n",
    "        # create moved mass prediction by predicting the start_price when our prediction is greater \n",
    "        # than the start price\n",
    "        # numpy_mod_pred = mod_pred.detach().numpy()\n",
    "        # mm_pred = numpy_mod_pred\n",
    "        # find indices where the model prediction is greater than the start price\n",
    "        # start_off_numpy = sec_off.numpy()\n",
    "        # oobh = numpy_mod_pred > start_off_numpy\n",
    "        # mm_pred[oobh] = start_off_numpy[oobh]\n",
    "        # mm_pred = torch.from_numpy(mm_pred).float()\n",
    "        ##################################################################\n",
    "\n",
    "    del test_df\n",
    "    del test_ten\n",
    "    \n",
    "    data_dict = {}\n",
    "    data_dict['loss'] = loss\n",
    "    data_dict['class_series'] = class_series\n",
    "    data_dict['mod_pred'] = mod_pred\n",
    "    data_dict['oracle_pred'] = oracle_pred\n",
    "    \n",
    "    # TEMP MOVE MASS\n",
    "    ########################################\n",
    "    # data_dict['mm_pred'] = mm_pred\n",
    "    ########################################\n",
    "    \n",
    "    data_dict['base_pred'] = base_pred\n",
    "    data_dict['targ'] = true_targ\n",
    "    # for reconstructing true predictionf from\n",
    "    # diff-norm prediction\n",
    "    if offr_mod:\n",
    "        data_dict['sec_off'] = sec_off\n",
    "        if turn != 'start_price_usd':\n",
    "            data_dict['first_off'] = first_off\n",
    "            \n",
    "    if 'val' in exp_name:\n",
    "        data_dict['valid_loss'] = valid_loss\n",
    "\n",
    "    return data_dict"
   ]
  },
  {
   "cell_type": "code",
   "execution_count": 48,
   "metadata": {},
   "outputs": [],
   "source": [
    "def show_loss_plots(loss, valid):\n",
    "    if not valid:\n",
    "        display(Markdown('##### Raw Training Loss Curve'))\n",
    "    else:\n",
    "        display(Markdown('##### Raw Validation Set Loss Curve'))\n",
    "        \n",
    "    x = np.array(list(range(len(loss))))\n",
    "    loss = [float(curr_loss) for curr_loss in loss]\n",
    "    loss = np.array(loss)\n",
    "    plt.plot(x, loss)\n",
    "    plt.show()\n",
    "    \n",
    "    if not valid:\n",
    "        display(Markdown('##### Smoothed Training Loss Curve'))\n",
    "    else:\n",
    "        display(Markdown('##### Smoothed Validation Set Loss Curve'))\n",
    "        \n",
    "    xnew = np.linspace(x.min(), x.max(), 150)\n",
    "    avg = []\n",
    "    prev = 0\n",
    "    for currx in xnew:\n",
    "        portion = loss[int(prev):(int(currx) + 1)]\n",
    "        avg.append(portion.mean())\n",
    "        prev = int(currx)\n",
    "    avg = np.array(avg)\n",
    "    # final error is around 3k\n",
    "    plt.plot(xnew, avg)\n",
    "    plt.show()\n",
    "    \n",
    "    if not valid:\n",
    "        display(Markdown('##### Smoothed and Zoomed Training Loss Curve'))\n",
    "    else:\n",
    "        display(Markdown('##### Smoothed and Zoomed Validation Set Loss Curve'))\n",
    "    xnew = np.linspace(x.min(), x.max(), 150)\n",
    "    avg = []\n",
    "    prev = 0\n",
    "    for currx in xnew:\n",
    "        portion = loss[int(prev):(int(currx) + 1)]\n",
    "        avg.append(portion.mean())\n",
    "        prev = int(currx)\n",
    "    avg = np.array(avg)\n",
    "    xnew = xnew[20:]\n",
    "    avg = avg[20:]\n",
    "    # final error is around 3k\n",
    "    plt.plot(xnew, avg)\n",
    "    plt.show()\n",
    "    "
   ]
  },
  {
   "cell_type": "code",
   "execution_count": 49,
   "metadata": {},
   "outputs": [],
   "source": [
    "def get_class_pred(mod_pred, class_series):\n",
    "    '''\n",
    "    Grab class associated with class index from cross entropy model or expecation model with last layer \n",
    "    stripped, for use in squared loss calculation rather than cross ent\n",
    "    '''\n",
    "    _, class_ind = mod_pred.max(1)\n",
    "    mod_pred = class_series.loc[class_ind.numpy().astype(np.int64)].values\n",
    "    na_flag = np.any(np.isnan(mod_pred))\n",
    "    if na_flag:\n",
    "        raise ValueError('Discovered NA prediction in crossentropy model')\n",
    "    mod_pred = torch.from_numpy(mod_pred).float()\n",
    "    \n",
    "    return mod_pred"
   ]
  },
  {
   "cell_type": "code",
   "execution_count": 50,
   "metadata": {},
   "outputs": [],
   "source": [
    "def main():\n",
    "    all_resp_turns = [get_resp_offr(turn) for turn in turns]\n",
    "    summary_test_df = pd.DataFrame(0.0, index=all_resp_turns, columns=['oracle', 'baseline'])\n",
    "    for exp in experiments:\n",
    "        for data_type in data_types:\n",
    "            exp_name = exp\n",
    "            offr_mod = 'time' not in exp_name\n",
    "            results_series = pd.Series(np.NaN, index=all_resp_turns)\n",
    "            if 'cross' in exp_name:\n",
    "                print('Add moved mass function after debugging bin script')\n",
    "                # mm_results_series = pd.Series(np.NaN, index=all_resp_turns)\n",
    "            if not os.path.isfile('models/exps/%s/tbd.txt' % exp_name):\n",
    "                # experiment header\n",
    "                display(Markdown('## Experiment Summary: %s' % exp_name))\n",
    "                display(Markdown('### Characteristics'))\n",
    "                display(Markdown('* Bins: %s' % get_bin_desc(exp_name)))\n",
    "                display(Markdown('* Complexity: %s' % get_comp_desc(exp_name)))\n",
    "                display(Markdown('* Architecture: %s' % get_arc_desc(exp_name)))\n",
    "                display(Markdown('* Features: %s' % get_feat_desc(exp_name)))\n",
    "                for turn in turns:\n",
    "                    if check_done(exp_name, turn):\n",
    "                        data_dict = get_exp_data(exp_name, turn, offr_mod)\n",
    "                        display(Markdown('### Analysis of Model for %s' % get_resp_offr(turn)))\n",
    "                        display(Markdown('#### Training Curves'))\n",
    "                        if len(data_dict['loss']) > 0:\n",
    "                            show_loss_plots(data_dict['loss'], False)\n",
    "                        else:\n",
    "                            display(Markdown('##### Problem with Loss Object'))\n",
    "                        if 'val' in exp_name:\n",
    "                            display(Markdown('#### Validation Loss Curve'))\n",
    "                            show_loss_plots(data_dict['valid_loss'], True)\n",
    "                            \n",
    "                        display(Markdown('#### Test Error'))\n",
    "                        mod_pred = data_dict['mod_pred']\n",
    "                        base_pred = data_dict['base_pred']\n",
    "                        oracle_pred = data_dict['oracle_pred']\n",
    "                        \n",
    "                        class_series = data_dict['class_series']\n",
    "                        targ = data_dict['targ']\n",
    "                        \n",
    "                        if offr_mod:\n",
    "                            sec_off = data_dict['sec_off']\n",
    "                            if turn != 'start_price_usd':\n",
    "                                first_off = data_dict['first_off']\n",
    "                        # series where index gives dllar value of class, and value gives location in class index array\n",
    "                        class_locs = class_series.copy()\n",
    "                        # series where index gives location in class index array and value gives dollar value of class\n",
    "                        class_series = pd.Series(class_series.index.values)\n",
    "                        \n",
    "                        criterion = nn.MSELoss(size_average=True, reduce=True)\n",
    "                        loss = criterion\n",
    "                        \n",
    "                        if 'cross' in exp_name:\n",
    "                            # TEMP FIX WHEN MOVED MASS IMPLEMENTED\n",
    "                            #################################################\n",
    "                            # find the index of the max value in each row\n",
    "                            # prev_ind = class_locs.loc[prev_turn]\n",
    "                            # curr_ind =  class_locs.loc[curr_turn]\n",
    "                            # print(class_locs)\n",
    "                            # print(class_locs.loc[663.5])\n",
    "                            # print(prev_turn[prev_ind[prev_ind.isna()].index])\n",
    "                            # print(curr_turn[curr_ind[curr_ind.isna()].index])\n",
    "                            # moved_mass_pred = move_mass(mod_pred, prev_ind.values, curr_ind.values)\n",
    "                            # moved_mass_pred = get_class_pred(moved_mass_pred, class_series)\n",
    "                            # moved_mass_pred = moved_mass_pred.view(-1)\n",
    "                            # moved_mass_loss = criterion(moved_mass_pred, targ)\n",
    "                            # mm_results_series.loc[get_resp_offr(turn)] = moved_mass_loss.detach().numpy()\n",
    "                            ############################################################\n",
    "                            mod_pred = get_class_pred(mod_pred, class_series)\n",
    "                            # print('norm offer pred')\n",
    "                            #  print(mod_pred)\n",
    "                            # interpolate predicted value of offer from nomralized difference prediction\n",
    "                            if offr_mod:\n",
    "                                if turn != 'start_price_usd':\n",
    "                                    mod_pred = mod_pred * sec_off + (1-mod_pred) * first_off\n",
    "                                else:\n",
    "                                    mod_pred = mod_pred * sec_off\n",
    "                                \n",
    "                        mod_pred = mod_pred.view(-1)\n",
    "                        base_pred = base_pred.view(-1)\n",
    "                        oracle_pred = oracle_pred.view(-1)\n",
    "                        targ = targ.view(-1)\n",
    "                        \n",
    "                        base_loss = criterion(base_pred, targ)\n",
    "                        oracle_loss = criterion(oracle_pred, targ)\n",
    "                        mod_loss = criterion(mod_pred, targ)\n",
    "                        results_series.loc[get_resp_offr(turn)] = mod_loss.detach().numpy()\n",
    "                        \n",
    "                        base_col = 'baseline'\n",
    "                        oracle_col = 'oracle'\n",
    "                        \n",
    "                        curr_base_val = summary_test_df.at[get_resp_offr(turn), base_col]\n",
    "                        if curr_base_val == 0:\n",
    "                            summary_test_df.at[get_resp_offr(turn), base_col] = base_loss\n",
    "                        \n",
    "                        curr_oracle_val = summary_test_df.at[get_resp_offr(turn), oracle_col]\n",
    "                        if curr_base_val == 0:\n",
    "                            summary_test_df.at[get_resp_offr(turn), oracle_col] = oracle_loss\n",
    "                        \n",
    "                        display(Markdown('* Baseline Loss: %.2f' % base_loss))\n",
    "                        display(Markdown('* Oracle Loss: %.2f' % oracle_loss))\n",
    "                        display(Markdown('* Model Loss: %.2f' % mod_loss))\n",
    "                    else:\n",
    "                        display(Markdown('### Model for %s incomplete' % get_resp_offr(turn)))\n",
    "            summary_test_df[exp_name] = results_series\n",
    "            # TEMP -- FIX WHEN MOVED MASS IMPLEMENTED\n",
    "            ##########################################################################\n",
    "            # if 'cross' in exp_name:\n",
    "                # summary_test_df['mm_' + exp_name] = mm_results_series\n",
    "            ############################################################################\n",
    "    summary_test_df = summary_test_df.transpose()\n",
    "    model_series = pd.Series(summary_test_df.index.values, summary_test_df.index)\n",
    "    summary_test_df.insert(0, 'model', model_series)\n",
    "    pandas_df_to_markdown_table(summary_test_df)"
   ]
  },
  {
   "cell_type": "code",
   "execution_count": 53,
   "metadata": {},
   "outputs": [
    {
     "name": "stdout",
     "output_type": "stream",
     "text": [
      "Add moved mass function after debugging bin script\n"
     ]
    },
    {
     "data": {
      "text/markdown": [
       "## Experiment Summary: norm2_crossent_comp_val"
      ],
      "text/plain": [
       "<IPython.core.display.Markdown object>"
      ]
     },
     "metadata": {},
     "output_type": "display_data"
    },
    {
     "data": {
      "text/markdown": [
       "### Characteristics"
      ],
      "text/plain": [
       "<IPython.core.display.Markdown object>"
      ]
     },
     "metadata": {},
     "output_type": "display_data"
    },
    {
     "data": {
      "text/markdown": [
       "* Bins: Normalized offer values binned at every hundredth between 0 and 1"
      ],
      "text/plain": [
       "<IPython.core.display.Markdown object>"
      ]
     },
     "metadata": {},
     "output_type": "display_data"
    },
    {
     "data": {
      "text/markdown": [
       "* Complexity: 2 non-linear activation layers containing 100 units"
      ],
      "text/plain": [
       "<IPython.core.display.Markdown object>"
      ]
     },
     "metadata": {},
     "output_type": "display_data"
    },
    {
     "data": {
      "text/markdown": [
       "* Architecture: Standard multi-class prediction arcitecture, outputting scores over all possible bins, trained using cross entropy loss, predicts the center of the bin with the highest score"
      ],
      "text/plain": [
       "<IPython.core.display.Markdown object>"
      ]
     },
     "metadata": {},
     "output_type": "display_data"
    },
    {
     "data": {
      "text/markdown": [
       "* Features: Offer history normalized by difference between two most recent offers; fraction of time remaining,time to make offer for each offer, indicators for whether each offer was made in the morning, evening, night,or afternoon (1 excluded), and the time of day in hours for each observed offer,number of previous threads and other experience features, rounding and slack features for 1, 5, 10, 25;indicators for item category and quality"
      ],
      "text/plain": [
       "<IPython.core.display.Markdown object>"
      ]
     },
     "metadata": {},
     "output_type": "display_data"
    },
    {
     "name": "stdout",
     "output_type": "stream",
     "text": [
      "Prep type: norm2\n",
      "Model cross comp\n",
      "Num units: 100\n"
     ]
    },
    {
     "data": {
      "text/markdown": [
       "### Analysis of Model for offr_s0"
      ],
      "text/plain": [
       "<IPython.core.display.Markdown object>"
      ]
     },
     "metadata": {},
     "output_type": "display_data"
    },
    {
     "data": {
      "text/markdown": [
       "#### Training Curves"
      ],
      "text/plain": [
       "<IPython.core.display.Markdown object>"
      ]
     },
     "metadata": {},
     "output_type": "display_data"
    },
    {
     "data": {
      "text/markdown": [
       "##### Problem with Loss Object"
      ],
      "text/plain": [
       "<IPython.core.display.Markdown object>"
      ]
     },
     "metadata": {},
     "output_type": "display_data"
    },
    {
     "data": {
      "text/markdown": [
       "#### Validation Loss Curve"
      ],
      "text/plain": [
       "<IPython.core.display.Markdown object>"
      ]
     },
     "metadata": {},
     "output_type": "display_data"
    },
    {
     "data": {
      "text/markdown": [
       "##### Raw Validation Set Loss Curve"
      ],
      "text/plain": [
       "<IPython.core.display.Markdown object>"
      ]
     },
     "metadata": {},
     "output_type": "display_data"
    },
    {
     "data": {
      "image/png": "[encoded data removed]",
      "text/plain": [
       "<Figure size 432x288 with 1 Axes>"
      ]
     },
     "metadata": {},
     "output_type": "display_data"
    },
    {
     "data": {
      "text/markdown": [
       "##### Smoothed Validation Set Loss Curve"
      ],
      "text/plain": [
       "<IPython.core.display.Markdown object>"
      ]
     },
     "metadata": {},
     "output_type": "display_data"
    },
    {
     "data": {
      "image/png": "[encoded data removed]",
      "text/plain": [
       "<Figure size 432x288 with 1 Axes>"
      ]
     },
     "metadata": {},
     "output_type": "display_data"
    },
    {
     "data": {
      "text/markdown": [
       "##### Smoothed and Zoomed Validation Set Loss Curve"
      ],
      "text/plain": [
       "<IPython.core.display.Markdown object>"
      ]
     },
     "metadata": {},
     "output_type": "display_data"
    },
    {
     "data": {
      "image/png": "[encoded data removed]",
      "text/plain": [
       "<Figure size 432x288 with 1 Axes>"
      ]
     },
     "metadata": {},
     "output_type": "display_data"
    },
    {
     "data": {
      "text/markdown": [
       "#### Test Error"
      ],
      "text/plain": [
       "<IPython.core.display.Markdown object>"
      ]
     },
     "metadata": {},
     "output_type": "display_data"
    },
    {
     "data": {
      "text/markdown": [
       "* Baseline Loss: 1808.21"
      ],
      "text/plain": [
       "<IPython.core.display.Markdown object>"
      ]
     },
     "metadata": {},
     "output_type": "display_data"
    },
    {
     "data": {
      "text/markdown": [
       "* Oracle Loss: 170.75"
      ],
      "text/plain": [
       "<IPython.core.display.Markdown object>"
      ]
     },
     "metadata": {},
     "output_type": "display_data"
    },
    {
     "data": {
      "text/markdown": [
       "* Model Loss: 679.32"
      ],
      "text/plain": [
       "<IPython.core.display.Markdown object>"
      ]
     },
     "metadata": {},
     "output_type": "display_data"
    },
    {
     "name": "stdout",
     "output_type": "stream",
     "text": [
      "Prep type: norm2\n",
      "Model cross comp\n",
      "Num units: 100\n"
     ]
    },
    {
     "data": {
      "text/markdown": [
       "### Analysis of Model for offr_s1"
      ],
      "text/plain": [
       "<IPython.core.display.Markdown object>"
      ]
     },
     "metadata": {},
     "output_type": "display_data"
    },
    {
     "data": {
      "text/markdown": [
       "#### Training Curves"
      ],
      "text/plain": [
       "<IPython.core.display.Markdown object>"
      ]
     },
     "metadata": {},
     "output_type": "display_data"
    },
    {
     "data": {
      "text/markdown": [
       "##### Problem with Loss Object"
      ],
      "text/plain": [
       "<IPython.core.display.Markdown object>"
      ]
     },
     "metadata": {},
     "output_type": "display_data"
    },
    {
     "data": {
      "text/markdown": [
       "#### Validation Loss Curve"
      ],
      "text/plain": [
       "<IPython.core.display.Markdown object>"
      ]
     },
     "metadata": {},
     "output_type": "display_data"
    },
    {
     "data": {
      "text/markdown": [
       "##### Raw Validation Set Loss Curve"
      ],
      "text/plain": [
       "<IPython.core.display.Markdown object>"
      ]
     },
     "metadata": {},
     "output_type": "display_data"
    },
    {
     "data": {
      "image/png": "[encoded data removed]",
      "text/plain": [
       "<Figure size 432x288 with 1 Axes>"
      ]
     },
     "metadata": {},
     "output_type": "display_data"
    },
    {
     "data": {
      "text/markdown": [
       "##### Smoothed Validation Set Loss Curve"
      ],
      "text/plain": [
       "<IPython.core.display.Markdown object>"
      ]
     },
     "metadata": {},
     "output_type": "display_data"
    },
    {
     "data": {
      "image/png": "[encoded data removed]",
      "text/plain": [
       "<Figure size 432x288 with 1 Axes>"
      ]
     },
     "metadata": {},
     "output_type": "display_data"
    },
    {
     "data": {
      "text/markdown": [
       "##### Smoothed and Zoomed Validation Set Loss Curve"
      ],
      "text/plain": [
       "<IPython.core.display.Markdown object>"
      ]
     },
     "metadata": {},
     "output_type": "display_data"
    },
    {
     "data": {
      "image/png": "[encoded data removed]",
      "text/plain": [
       "<Figure size 432x288 with 1 Axes>"
      ]
     },
     "metadata": {},
     "output_type": "display_data"
    },
    {
     "data": {
      "text/markdown": [
       "#### Test Error"
      ],
      "text/plain": [
       "<IPython.core.display.Markdown object>"
      ]
     },
     "metadata": {},
     "output_type": "display_data"
    },
    {
     "data": {
      "text/markdown": [
       "* Baseline Loss: 1605.91"
      ],
      "text/plain": [
       "<IPython.core.display.Markdown object>"
      ]
     },
     "metadata": {},
     "output_type": "display_data"
    },
    {
     "data": {
      "text/markdown": [
       "* Oracle Loss: 76.83"
      ],
      "text/plain": [
       "<IPython.core.display.Markdown object>"
      ]
     },
     "metadata": {},
     "output_type": "display_data"
    },
    {
     "data": {
      "text/markdown": [
       "* Model Loss: 350.20"
      ],
      "text/plain": [
       "<IPython.core.display.Markdown object>"
      ]
     },
     "metadata": {},
     "output_type": "display_data"
    },
    {
     "name": "stdout",
     "output_type": "stream",
     "text": [
      "Prep type: norm2\n",
      "Model cross comp\n",
      "Num units: 100\n"
     ]
    },
    {
     "data": {
      "text/markdown": [
       "### Analysis of Model for offr_s2"
      ],
      "text/plain": [
       "<IPython.core.display.Markdown object>"
      ]
     },
     "metadata": {},
     "output_type": "display_data"
    },
    {
     "data": {
      "text/markdown": [
       "#### Training Curves"
      ],
      "text/plain": [
       "<IPython.core.display.Markdown object>"
      ]
     },
     "metadata": {},
     "output_type": "display_data"
    },
    {
     "data": {
      "text/markdown": [
       "##### Problem with Loss Object"
      ],
      "text/plain": [
       "<IPython.core.display.Markdown object>"
      ]
     },
     "metadata": {},
     "output_type": "display_data"
    },
    {
     "data": {
      "text/markdown": [
       "#### Validation Loss Curve"
      ],
      "text/plain": [
       "<IPython.core.display.Markdown object>"
      ]
     },
     "metadata": {},
     "output_type": "display_data"
    },
    {
     "data": {
      "text/markdown": [
       "##### Raw Validation Set Loss Curve"
      ],
      "text/plain": [
       "<IPython.core.display.Markdown object>"
      ]
     },
     "metadata": {},
     "output_type": "display_data"
    },
    {
     "data": {
      "image/png": "[encoded data removed]",
      "text/plain": [
       "<Figure size 432x288 with 1 Axes>"
      ]
     },
     "metadata": {},
     "output_type": "display_data"
    },
    {
     "data": {
      "text/markdown": [
       "##### Smoothed Validation Set Loss Curve"
      ],
      "text/plain": [
       "<IPython.core.display.Markdown object>"
      ]
     },
     "metadata": {},
     "output_type": "display_data"
    },
    {
     "data": {
      "image/png": "[encoded data removed]",
      "text/plain": [
       "<Figure size 432x288 with 1 Axes>"
      ]
     },
     "metadata": {},
     "output_type": "display_data"
    },
    {
     "data": {
      "text/markdown": [
       "##### Smoothed and Zoomed Validation Set Loss Curve"
      ],
      "text/plain": [
       "<IPython.core.display.Markdown object>"
      ]
     },
     "metadata": {},
     "output_type": "display_data"
    },
    {
     "data": {
      "image/png": "[encoded data removed]",
      "text/plain": [
       "<Figure size 432x288 with 1 Axes>"
      ]
     },
     "metadata": {},
     "output_type": "display_data"
    },
    {
     "data": {
      "text/markdown": [
       "#### Test Error"
      ],
      "text/plain": [
       "<IPython.core.display.Markdown object>"
      ]
     },
     "metadata": {},
     "output_type": "display_data"
    },
    {
     "data": {
      "text/markdown": [
       "* Baseline Loss: 1444.54"
      ],
      "text/plain": [
       "<IPython.core.display.Markdown object>"
      ]
     },
     "metadata": {},
     "output_type": "display_data"
    },
    {
     "data": {
      "text/markdown": [
       "* Oracle Loss: 42.61"
      ],
      "text/plain": [
       "<IPython.core.display.Markdown object>"
      ]
     },
     "metadata": {},
     "output_type": "display_data"
    },
    {
     "data": {
      "text/markdown": [
       "* Model Loss: 250.76"
      ],
      "text/plain": [
       "<IPython.core.display.Markdown object>"
      ]
     },
     "metadata": {},
     "output_type": "display_data"
    },
    {
     "name": "stdout",
     "output_type": "stream",
     "text": [
      "Add moved mass function after debugging bin script\n"
     ]
    },
    {
     "data": {
      "text/markdown": [
       "## Experiment Summary: norm2_crossent_bet_val"
      ],
      "text/plain": [
       "<IPython.core.display.Markdown object>"
      ]
     },
     "metadata": {},
     "output_type": "display_data"
    },
    {
     "data": {
      "text/markdown": [
       "### Characteristics"
      ],
      "text/plain": [
       "<IPython.core.display.Markdown object>"
      ]
     },
     "metadata": {},
     "output_type": "display_data"
    },
    {
     "data": {
      "text/markdown": [
       "* Bins: Normalized offer values binned at every hundredth between 0 and 1"
      ],
      "text/plain": [
       "<IPython.core.display.Markdown object>"
      ]
     },
     "metadata": {},
     "output_type": "display_data"
    },
    {
     "data": {
      "text/markdown": [
       "* Complexity: 2 non-linear activation layers containing 100 units"
      ],
      "text/plain": [
       "<IPython.core.display.Markdown object>"
      ]
     },
     "metadata": {},
     "output_type": "display_data"
    },
    {
     "data": {
      "text/markdown": [
       "* Architecture: Standard multi-class prediction arcitecture, outputting scores over all possible bins, trained using cross entropy loss, predicts the center of the bin with the highest score"
      ],
      "text/plain": [
       "<IPython.core.display.Markdown object>"
      ]
     },
     "metadata": {},
     "output_type": "display_data"
    },
    {
     "data": {
      "text/markdown": [
       "* Features: Offer history normalized by difference between two most recent offers; fraction of time remaining,time to make offer for each offer, indicators for whether each offer was made in the morning, evening, night,or afternoon (1 excluded), and the time of day in hours for each observed offer,number of previous threads and other experience features, rounding and slack features for 1, 5, 10, 25;indicators for item category and quality"
      ],
      "text/plain": [
       "<IPython.core.display.Markdown object>"
      ]
     },
     "metadata": {},
     "output_type": "display_data"
    },
    {
     "name": "stdout",
     "output_type": "stream",
     "text": [
      "Prep type: norm2\n",
      "Model: Cross between\n",
      "Num units: 100\n"
     ]
    },
    {
     "data": {
      "text/markdown": [
       "### Analysis of Model for offr_s0"
      ],
      "text/plain": [
       "<IPython.core.display.Markdown object>"
      ]
     },
     "metadata": {},
     "output_type": "display_data"
    },
    {
     "data": {
      "text/markdown": [
       "#### Training Curves"
      ],
      "text/plain": [
       "<IPython.core.display.Markdown object>"
      ]
     },
     "metadata": {},
     "output_type": "display_data"
    },
    {
     "data": {
      "text/markdown": [
       "##### Problem with Loss Object"
      ],
      "text/plain": [
       "<IPython.core.display.Markdown object>"
      ]
     },
     "metadata": {},
     "output_type": "display_data"
    },
    {
     "data": {
      "text/markdown": [
       "#### Validation Loss Curve"
      ],
      "text/plain": [
       "<IPython.core.display.Markdown object>"
      ]
     },
     "metadata": {},
     "output_type": "display_data"
    },
    {
     "data": {
      "text/markdown": [
       "##### Raw Validation Set Loss Curve"
      ],
      "text/plain": [
       "<IPython.core.display.Markdown object>"
      ]
     },
     "metadata": {},
     "output_type": "display_data"
    },
    {
     "data": {
      "image/png": "[encoded data removed]",
      "text/plain": [
       "<Figure size 432x288 with 1 Axes>"
      ]
     },
     "metadata": {},
     "output_type": "display_data"
    },
    {
     "data": {
      "text/markdown": [
       "##### Smoothed Validation Set Loss Curve"
      ],
      "text/plain": [
       "<IPython.core.display.Markdown object>"
      ]
     },
     "metadata": {},
     "output_type": "display_data"
    },
    {
     "data": {
      "image/png": "[encoded data removed]",
      "text/plain": [
       "<Figure size 432x288 with 1 Axes>"
      ]
     },
     "metadata": {},
     "output_type": "display_data"
    },
    {
     "data": {
      "text/markdown": [
       "##### Smoothed and Zoomed Validation Set Loss Curve"
      ],
      "text/plain": [
       "<IPython.core.display.Markdown object>"
      ]
     },
     "metadata": {},
     "output_type": "display_data"
    },
    {
     "data": {
      "image/png": "[encoded data removed]",
      "text/plain": [
       "<Figure size 432x288 with 1 Axes>"
      ]
     },
     "metadata": {},
     "output_type": "display_data"
    },
    {
     "data": {
      "text/markdown": [
       "#### Test Error"
      ],
      "text/plain": [
       "<IPython.core.display.Markdown object>"
      ]
     },
     "metadata": {},
     "output_type": "display_data"
    },
    {
     "data": {
      "text/markdown": [
       "* Baseline Loss: 1808.21"
      ],
      "text/plain": [
       "<IPython.core.display.Markdown object>"
      ]
     },
     "metadata": {},
     "output_type": "display_data"
    },
    {
     "data": {
      "text/markdown": [
       "* Oracle Loss: 170.75"
      ],
      "text/plain": [
       "<IPython.core.display.Markdown object>"
      ]
     },
     "metadata": {},
     "output_type": "display_data"
    },
    {
     "data": {
      "text/markdown": [
       "* Model Loss: 655.76"
      ],
      "text/plain": [
       "<IPython.core.display.Markdown object>"
      ]
     },
     "metadata": {},
     "output_type": "display_data"
    },
    {
     "name": "stdout",
     "output_type": "stream",
     "text": [
      "Prep type: norm2\n",
      "Model: Cross between\n",
      "Num units: 100\n"
     ]
    },
    {
     "data": {
      "text/markdown": [
       "### Analysis of Model for offr_s1"
      ],
      "text/plain": [
       "<IPython.core.display.Markdown object>"
      ]
     },
     "metadata": {},
     "output_type": "display_data"
    },
    {
     "data": {
      "text/markdown": [
       "#### Training Curves"
      ],
      "text/plain": [
       "<IPython.core.display.Markdown object>"
      ]
     },
     "metadata": {},
     "output_type": "display_data"
    },
    {
     "data": {
      "text/markdown": [
       "##### Problem with Loss Object"
      ],
      "text/plain": [
       "<IPython.core.display.Markdown object>"
      ]
     },
     "metadata": {},
     "output_type": "display_data"
    },
    {
     "data": {
      "text/markdown": [
       "#### Validation Loss Curve"
      ],
      "text/plain": [
       "<IPython.core.display.Markdown object>"
      ]
     },
     "metadata": {},
     "output_type": "display_data"
    },
    {
     "data": {
      "text/markdown": [
       "##### Raw Validation Set Loss Curve"
      ],
      "text/plain": [
       "<IPython.core.display.Markdown object>"
      ]
     },
     "metadata": {},
     "output_type": "display_data"
    },
    {
     "data": {
      "image/png": "[encoded data removed]",
      "text/plain": [
       "<Figure size 432x288 with 1 Axes>"
      ]
     },
     "metadata": {},
     "output_type": "display_data"
    },
    {
     "data": {
      "text/markdown": [
       "##### Smoothed Validation Set Loss Curve"
      ],
      "text/plain": [
       "<IPython.core.display.Markdown object>"
      ]
     },
     "metadata": {},
     "output_type": "display_data"
    },
    {
     "data": {
      "image/png": "[encoded data removed]",
      "text/plain": [
       "<Figure size 432x288 with 1 Axes>"
      ]
     },
     "metadata": {},
     "output_type": "display_data"
    },
    {
     "data": {
      "text/markdown": [
       "##### Smoothed and Zoomed Validation Set Loss Curve"
      ],
      "text/plain": [
       "<IPython.core.display.Markdown object>"
      ]
     },
     "metadata": {},
     "output_type": "display_data"
    },
    {
     "data": {
      "image/png": "[encoded data removed]",
      "text/plain": [
       "<Figure size 432x288 with 1 Axes>"
      ]
     },
     "metadata": {},
     "output_type": "display_data"
    },
    {
     "data": {
      "text/markdown": [
       "#### Test Error"
      ],
      "text/plain": [
       "<IPython.core.display.Markdown object>"
      ]
     },
     "metadata": {},
     "output_type": "display_data"
    },
    {
     "data": {
      "text/markdown": [
       "* Baseline Loss: 1605.91"
      ],
      "text/plain": [
       "<IPython.core.display.Markdown object>"
      ]
     },
     "metadata": {},
     "output_type": "display_data"
    },
    {
     "data": {
      "text/markdown": [
       "* Oracle Loss: 76.83"
      ],
      "text/plain": [
       "<IPython.core.display.Markdown object>"
      ]
     },
     "metadata": {},
     "output_type": "display_data"
    },
    {
     "data": {
      "text/markdown": [
       "* Model Loss: 339.60"
      ],
      "text/plain": [
       "<IPython.core.display.Markdown object>"
      ]
     },
     "metadata": {},
     "output_type": "display_data"
    },
    {
     "name": "stdout",
     "output_type": "stream",
     "text": [
      "Prep type: norm2\n",
      "Model: Cross between\n",
      "Num units: 100\n"
     ]
    },
    {
     "data": {
      "text/markdown": [
       "### Analysis of Model for offr_s2"
      ],
      "text/plain": [
       "<IPython.core.display.Markdown object>"
      ]
     },
     "metadata": {},
     "output_type": "display_data"
    },
    {
     "data": {
      "text/markdown": [
       "#### Training Curves"
      ],
      "text/plain": [
       "<IPython.core.display.Markdown object>"
      ]
     },
     "metadata": {},
     "output_type": "display_data"
    },
    {
     "data": {
      "text/markdown": [
       "##### Problem with Loss Object"
      ],
      "text/plain": [
       "<IPython.core.display.Markdown object>"
      ]
     },
     "metadata": {},
     "output_type": "display_data"
    },
    {
     "data": {
      "text/markdown": [
       "#### Validation Loss Curve"
      ],
      "text/plain": [
       "<IPython.core.display.Markdown object>"
      ]
     },
     "metadata": {},
     "output_type": "display_data"
    },
    {
     "data": {
      "text/markdown": [
       "##### Raw Validation Set Loss Curve"
      ],
      "text/plain": [
       "<IPython.core.display.Markdown object>"
      ]
     },
     "metadata": {},
     "output_type": "display_data"
    },
    {
     "data": {
      "image/png": "[encoded data removed]",
      "text/plain": [
       "<Figure size 432x288 with 1 Axes>"
      ]
     },
     "metadata": {},
     "output_type": "display_data"
    },
    {
     "data": {
      "text/markdown": [
       "##### Smoothed Validation Set Loss Curve"
      ],
      "text/plain": [
       "<IPython.core.display.Markdown object>"
      ]
     },
     "metadata": {},
     "output_type": "display_data"
    },
    {
     "data": {
      "image/png": "[encoded data removed]",
      "text/plain": [
       "<Figure size 432x288 with 1 Axes>"
      ]
     },
     "metadata": {},
     "output_type": "display_data"
    },
    {
     "data": {
      "text/markdown": [
       "##### Smoothed and Zoomed Validation Set Loss Curve"
      ],
      "text/plain": [
       "<IPython.core.display.Markdown object>"
      ]
     },
     "metadata": {},
     "output_type": "display_data"
    },
    {
     "data": {
      "image/png": "[encoded data removed]",
      "text/plain": [
       "<Figure size 432x288 with 1 Axes>"
      ]
     },
     "metadata": {},
     "output_type": "display_data"
    },
    {
     "data": {
      "text/markdown": [
       "#### Test Error"
      ],
      "text/plain": [
       "<IPython.core.display.Markdown object>"
      ]
     },
     "metadata": {},
     "output_type": "display_data"
    },
    {
     "data": {
      "text/markdown": [
       "* Baseline Loss: 1444.54"
      ],
      "text/plain": [
       "<IPython.core.display.Markdown object>"
      ]
     },
     "metadata": {},
     "output_type": "display_data"
    },
    {
     "data": {
      "text/markdown": [
       "* Oracle Loss: 42.61"
      ],
      "text/plain": [
       "<IPython.core.display.Markdown object>"
      ]
     },
     "metadata": {},
     "output_type": "display_data"
    },
    {
     "data": {
      "text/markdown": [
       "* Model Loss: 307.08"
      ],
      "text/plain": [
       "<IPython.core.display.Markdown object>"
      ]
     },
     "metadata": {},
     "output_type": "display_data"
    },
    {
     "name": "stdout",
     "output_type": "stream",
     "text": [
      "Add moved mass function after debugging bin script\n"
     ]
    },
    {
     "data": {
      "text/markdown": [
       "## Experiment Summary: norm2_crossent_simp_val"
      ],
      "text/plain": [
       "<IPython.core.display.Markdown object>"
      ]
     },
     "metadata": {},
     "output_type": "display_data"
    },
    {
     "data": {
      "text/markdown": [
       "### Characteristics"
      ],
      "text/plain": [
       "<IPython.core.display.Markdown object>"
      ]
     },
     "metadata": {},
     "output_type": "display_data"
    },
    {
     "data": {
      "text/markdown": [
       "* Bins: Normalized offer values binned at every hundredth between 0 and 1"
      ],
      "text/plain": [
       "<IPython.core.display.Markdown object>"
      ]
     },
     "metadata": {},
     "output_type": "display_data"
    },
    {
     "data": {
      "text/markdown": [
       "* Complexity: 1 non-linear activation layer containing 30 units"
      ],
      "text/plain": [
       "<IPython.core.display.Markdown object>"
      ]
     },
     "metadata": {},
     "output_type": "display_data"
    },
    {
     "data": {
      "text/markdown": [
       "* Architecture: Standard multi-class prediction arcitecture, outputting scores over all possible bins, trained using cross entropy loss, predicts the center of the bin with the highest score"
      ],
      "text/plain": [
       "<IPython.core.display.Markdown object>"
      ]
     },
     "metadata": {},
     "output_type": "display_data"
    },
    {
     "data": {
      "text/markdown": [
       "* Features: Offer history normalized by difference between two most recent offers; fraction of time remaining,time to make offer for each offer, indicators for whether each offer was made in the morning, evening, night,or afternoon (1 excluded), and the time of day in hours for each observed offer,number of previous threads and other experience features, rounding and slack features for 1, 5, 10, 25;indicators for item category and quality"
      ],
      "text/plain": [
       "<IPython.core.display.Markdown object>"
      ]
     },
     "metadata": {},
     "output_type": "display_data"
    },
    {
     "name": "stdout",
     "output_type": "stream",
     "text": [
      "Prep type: norm2\n",
      "Model: Cross Simp\n",
      "Num units: 30\n"
     ]
    },
    {
     "data": {
      "text/markdown": [
       "### Analysis of Model for offr_s0"
      ],
      "text/plain": [
       "<IPython.core.display.Markdown object>"
      ]
     },
     "metadata": {},
     "output_type": "display_data"
    },
    {
     "data": {
      "text/markdown": [
       "#### Training Curves"
      ],
      "text/plain": [
       "<IPython.core.display.Markdown object>"
      ]
     },
     "metadata": {},
     "output_type": "display_data"
    },
    {
     "data": {
      "text/markdown": [
       "##### Problem with Loss Object"
      ],
      "text/plain": [
       "<IPython.core.display.Markdown object>"
      ]
     },
     "metadata": {},
     "output_type": "display_data"
    },
    {
     "data": {
      "text/markdown": [
       "#### Validation Loss Curve"
      ],
      "text/plain": [
       "<IPython.core.display.Markdown object>"
      ]
     },
     "metadata": {},
     "output_type": "display_data"
    },
    {
     "data": {
      "text/markdown": [
       "##### Raw Validation Set Loss Curve"
      ],
      "text/plain": [
       "<IPython.core.display.Markdown object>"
      ]
     },
     "metadata": {},
     "output_type": "display_data"
    },
    {
     "data": {
      "image/png": "[encoded data removed]",
      "text/plain": [
       "<Figure size 432x288 with 1 Axes>"
      ]
     },
     "metadata": {},
     "output_type": "display_data"
    },
    {
     "data": {
      "text/markdown": [
       "##### Smoothed Validation Set Loss Curve"
      ],
      "text/plain": [
       "<IPython.core.display.Markdown object>"
      ]
     },
     "metadata": {},
     "output_type": "display_data"
    },
    {
     "data": {
      "image/png": "[encoded data removed]",
      "text/plain": [
       "<Figure size 432x288 with 1 Axes>"
      ]
     },
     "metadata": {},
     "output_type": "display_data"
    },
    {
     "data": {
      "text/markdown": [
       "##### Smoothed and Zoomed Validation Set Loss Curve"
      ],
      "text/plain": [
       "<IPython.core.display.Markdown object>"
      ]
     },
     "metadata": {},
     "output_type": "display_data"
    },
    {
     "data": {
      "image/png": "[encoded data removed]",
      "text/plain": [
       "<Figure size 432x288 with 1 Axes>"
      ]
     },
     "metadata": {},
     "output_type": "display_data"
    },
    {
     "data": {
      "text/markdown": [
       "#### Test Error"
      ],
      "text/plain": [
       "<IPython.core.display.Markdown object>"
      ]
     },
     "metadata": {},
     "output_type": "display_data"
    },
    {
     "data": {
      "text/markdown": [
       "* Baseline Loss: 1808.21"
      ],
      "text/plain": [
       "<IPython.core.display.Markdown object>"
      ]
     },
     "metadata": {},
     "output_type": "display_data"
    },
    {
     "data": {
      "text/markdown": [
       "* Oracle Loss: 170.75"
      ],
      "text/plain": [
       "<IPython.core.display.Markdown object>"
      ]
     },
     "metadata": {},
     "output_type": "display_data"
    },
    {
     "data": {
      "text/markdown": [
       "* Model Loss: 681.01"
      ],
      "text/plain": [
       "<IPython.core.display.Markdown object>"
      ]
     },
     "metadata": {},
     "output_type": "display_data"
    },
    {
     "name": "stdout",
     "output_type": "stream",
     "text": [
      "Prep type: norm2\n",
      "Model: Cross Simp\n",
      "Num units: 30\n"
     ]
    },
    {
     "data": {
      "text/markdown": [
       "### Analysis of Model for offr_s1"
      ],
      "text/plain": [
       "<IPython.core.display.Markdown object>"
      ]
     },
     "metadata": {},
     "output_type": "display_data"
    },
    {
     "data": {
      "text/markdown": [
       "#### Training Curves"
      ],
      "text/plain": [
       "<IPython.core.display.Markdown object>"
      ]
     },
     "metadata": {},
     "output_type": "display_data"
    },
    {
     "data": {
      "text/markdown": [
       "##### Problem with Loss Object"
      ],
      "text/plain": [
       "<IPython.core.display.Markdown object>"
      ]
     },
     "metadata": {},
     "output_type": "display_data"
    },
    {
     "data": {
      "text/markdown": [
       "#### Validation Loss Curve"
      ],
      "text/plain": [
       "<IPython.core.display.Markdown object>"
      ]
     },
     "metadata": {},
     "output_type": "display_data"
    },
    {
     "data": {
      "text/markdown": [
       "##### Raw Validation Set Loss Curve"
      ],
      "text/plain": [
       "<IPython.core.display.Markdown object>"
      ]
     },
     "metadata": {},
     "output_type": "display_data"
    },
    {
     "data": {
      "image/png": "[encoded data removed]",
      "text/plain": [
       "<Figure size 432x288 with 1 Axes>"
      ]
     },
     "metadata": {},
     "output_type": "display_data"
    },
    {
     "data": {
      "text/markdown": [
       "##### Smoothed Validation Set Loss Curve"
      ],
      "text/plain": [
       "<IPython.core.display.Markdown object>"
      ]
     },
     "metadata": {},
     "output_type": "display_data"
    },
    {
     "data": {
      "image/png": "[encoded data removed]",
      "text/plain": [
       "<Figure size 432x288 with 1 Axes>"
      ]
     },
     "metadata": {},
     "output_type": "display_data"
    },
    {
     "data": {
      "text/markdown": [
       "##### Smoothed and Zoomed Validation Set Loss Curve"
      ],
      "text/plain": [
       "<IPython.core.display.Markdown object>"
      ]
     },
     "metadata": {},
     "output_type": "display_data"
    },
    {
     "data": {
      "image/png": "[encoded data removed]",
      "text/plain": [
       "<Figure size 432x288 with 1 Axes>"
      ]
     },
     "metadata": {},
     "output_type": "display_data"
    },
    {
     "data": {
      "text/markdown": [
       "#### Test Error"
      ],
      "text/plain": [
       "<IPython.core.display.Markdown object>"
      ]
     },
     "metadata": {},
     "output_type": "display_data"
    },
    {
     "data": {
      "text/markdown": [
       "* Baseline Loss: 1605.91"
      ],
      "text/plain": [
       "<IPython.core.display.Markdown object>"
      ]
     },
     "metadata": {},
     "output_type": "display_data"
    },
    {
     "data": {
      "text/markdown": [
       "* Oracle Loss: 76.83"
      ],
      "text/plain": [
       "<IPython.core.display.Markdown object>"
      ]
     },
     "metadata": {},
     "output_type": "display_data"
    },
    {
     "data": {
      "text/markdown": [
       "* Model Loss: 365.74"
      ],
      "text/plain": [
       "<IPython.core.display.Markdown object>"
      ]
     },
     "metadata": {},
     "output_type": "display_data"
    },
    {
     "name": "stdout",
     "output_type": "stream",
     "text": [
      "Prep type: norm2\n",
      "Model: Cross Simp\n",
      "Num units: 30\n"
     ]
    },
    {
     "data": {
      "text/markdown": [
       "### Analysis of Model for offr_s2"
      ],
      "text/plain": [
       "<IPython.core.display.Markdown object>"
      ]
     },
     "metadata": {},
     "output_type": "display_data"
    },
    {
     "data": {
      "text/markdown": [
       "#### Training Curves"
      ],
      "text/plain": [
       "<IPython.core.display.Markdown object>"
      ]
     },
     "metadata": {},
     "output_type": "display_data"
    },
    {
     "data": {
      "text/markdown": [
       "##### Problem with Loss Object"
      ],
      "text/plain": [
       "<IPython.core.display.Markdown object>"
      ]
     },
     "metadata": {},
     "output_type": "display_data"
    },
    {
     "data": {
      "text/markdown": [
       "#### Validation Loss Curve"
      ],
      "text/plain": [
       "<IPython.core.display.Markdown object>"
      ]
     },
     "metadata": {},
     "output_type": "display_data"
    },
    {
     "data": {
      "text/markdown": [
       "##### Raw Validation Set Loss Curve"
      ],
      "text/plain": [
       "<IPython.core.display.Markdown object>"
      ]
     },
     "metadata": {},
     "output_type": "display_data"
    },
    {
     "data": {
      "image/png": "[encoded data removed]",
      "text/plain": [
       "<Figure size 432x288 with 1 Axes>"
      ]
     },
     "metadata": {},
     "output_type": "display_data"
    },
    {
     "data": {
      "text/markdown": [
       "##### Smoothed Validation Set Loss Curve"
      ],
      "text/plain": [
       "<IPython.core.display.Markdown object>"
      ]
     },
     "metadata": {},
     "output_type": "display_data"
    },
    {
     "data": {
      "image/png": "[encoded data removed]",
      "text/plain": [
       "<Figure size 432x288 with 1 Axes>"
      ]
     },
     "metadata": {},
     "output_type": "display_data"
    },
    {
     "data": {
      "text/markdown": [
       "##### Smoothed and Zoomed Validation Set Loss Curve"
      ],
      "text/plain": [
       "<IPython.core.display.Markdown object>"
      ]
     },
     "metadata": {},
     "output_type": "display_data"
    },
    {
     "data": {
      "image/png": "[encoded data removed]",
      "text/plain": [
       "<Figure size 432x288 with 1 Axes>"
      ]
     },
     "metadata": {},
     "output_type": "display_data"
    },
    {
     "data": {
      "text/markdown": [
       "#### Test Error"
      ],
      "text/plain": [
       "<IPython.core.display.Markdown object>"
      ]
     },
     "metadata": {},
     "output_type": "display_data"
    },
    {
     "data": {
      "text/markdown": [
       "* Baseline Loss: 1444.54"
      ],
      "text/plain": [
       "<IPython.core.display.Markdown object>"
      ]
     },
     "metadata": {},
     "output_type": "display_data"
    },
    {
     "data": {
      "text/markdown": [
       "* Oracle Loss: 42.61"
      ],
      "text/plain": [
       "<IPython.core.display.Markdown object>"
      ]
     },
     "metadata": {},
     "output_type": "display_data"
    },
    {
     "data": {
      "text/markdown": [
       "* Model Loss: 299.76"
      ],
      "text/plain": [
       "<IPython.core.display.Markdown object>"
      ]
     },
     "metadata": {},
     "output_type": "display_data"
    },
    {
     "data": {
      "text/markdown": [
       "## Experiment Summary: norm2_exp_comp_val"
      ],
      "text/plain": [
       "<IPython.core.display.Markdown object>"
      ]
     },
     "metadata": {},
     "output_type": "display_data"
    },
    {
     "data": {
      "text/markdown": [
       "### Characteristics"
      ],
      "text/plain": [
       "<IPython.core.display.Markdown object>"
      ]
     },
     "metadata": {},
     "output_type": "display_data"
    },
    {
     "data": {
      "text/markdown": [
       "* Bins: Normalized offer values binned at every hundredth between 0 and 1"
      ],
      "text/plain": [
       "<IPython.core.display.Markdown object>"
      ]
     },
     "metadata": {},
     "output_type": "display_data"
    },
    {
     "data": {
      "text/markdown": [
       "* Complexity: 2 non-linear activation layers containing 100 units"
      ],
      "text/plain": [
       "<IPython.core.display.Markdown object>"
      ]
     },
     "metadata": {},
     "output_type": "display_data"
    },
    {
     "data": {
      "text/markdown": [
       "* Architecture: Hidden softmax layer after final non-linear activation layer constructs a distribution over bins then output layer predicts the expectation of this distribution. Trained using squared loss."
      ],
      "text/plain": [
       "<IPython.core.display.Markdown object>"
      ]
     },
     "metadata": {},
     "output_type": "display_data"
    },
    {
     "data": {
      "text/markdown": [
       "* Features: Offer history normalized by difference between two most recent offers; fraction of time remaining,time to make offer for each offer, indicators for whether each offer was made in the morning, evening, night,or afternoon (1 excluded), and the time of day in hours for each observed offer,number of previous threads and other experience features, rounding and slack features for 1, 5, 10, 25;indicators for item category and quality"
      ],
      "text/plain": [
       "<IPython.core.display.Markdown object>"
      ]
     },
     "metadata": {},
     "output_type": "display_data"
    },
    {
     "name": "stdout",
     "output_type": "stream",
     "text": [
      "Prep type: norm2\n",
      "model exp comp\n",
      "Num units: 100\n"
     ]
    },
    {
     "data": {
      "text/markdown": [
       "### Analysis of Model for offr_s0"
      ],
      "text/plain": [
       "<IPython.core.display.Markdown object>"
      ]
     },
     "metadata": {},
     "output_type": "display_data"
    },
    {
     "data": {
      "text/markdown": [
       "#### Training Curves"
      ],
      "text/plain": [
       "<IPython.core.display.Markdown object>"
      ]
     },
     "metadata": {},
     "output_type": "display_data"
    },
    {
     "data": {
      "text/markdown": [
       "##### Problem with Loss Object"
      ],
      "text/plain": [
       "<IPython.core.display.Markdown object>"
      ]
     },
     "metadata": {},
     "output_type": "display_data"
    },
    {
     "data": {
      "text/markdown": [
       "#### Validation Loss Curve"
      ],
      "text/plain": [
       "<IPython.core.display.Markdown object>"
      ]
     },
     "metadata": {},
     "output_type": "display_data"
    },
    {
     "data": {
      "text/markdown": [
       "##### Raw Validation Set Loss Curve"
      ],
      "text/plain": [
       "<IPython.core.display.Markdown object>"
      ]
     },
     "metadata": {},
     "output_type": "display_data"
    },
    {
     "data": {
      "image/png": "[encoded data removed]",
      "text/plain": [
       "<Figure size 432x288 with 1 Axes>"
      ]
     },
     "metadata": {},
     "output_type": "display_data"
    },
    {
     "data": {
      "text/markdown": [
       "##### Smoothed Validation Set Loss Curve"
      ],
      "text/plain": [
       "<IPython.core.display.Markdown object>"
      ]
     },
     "metadata": {},
     "output_type": "display_data"
    },
    {
     "data": {
      "image/png": "[encoded data removed]",
      "text/plain": [
       "<Figure size 432x288 with 1 Axes>"
      ]
     },
     "metadata": {},
     "output_type": "display_data"
    },
    {
     "data": {
      "text/markdown": [
       "##### Smoothed and Zoomed Validation Set Loss Curve"
      ],
      "text/plain": [
       "<IPython.core.display.Markdown object>"
      ]
     },
     "metadata": {},
     "output_type": "display_data"
    },
    {
     "data": {
      "image/png": "[encoded data removed]",
      "text/plain": [
       "<Figure size 432x288 with 1 Axes>"
      ]
     },
     "metadata": {},
     "output_type": "display_data"
    },
    {
     "data": {
      "text/markdown": [
       "#### Test Error"
      ],
      "text/plain": [
       "<IPython.core.display.Markdown object>"
      ]
     },
     "metadata": {},
     "output_type": "display_data"
    },
    {
     "data": {
      "text/markdown": [
       "* Baseline Loss: 1808.21"
      ],
      "text/plain": [
       "<IPython.core.display.Markdown object>"
      ]
     },
     "metadata": {},
     "output_type": "display_data"
    },
    {
     "data": {
      "text/markdown": [
       "* Oracle Loss: 170.75"
      ],
      "text/plain": [
       "<IPython.core.display.Markdown object>"
      ]
     },
     "metadata": {},
     "output_type": "display_data"
    },
    {
     "data": {
      "text/markdown": [
       "* Model Loss: 404.91"
      ],
      "text/plain": [
       "<IPython.core.display.Markdown object>"
      ]
     },
     "metadata": {},
     "output_type": "display_data"
    },
    {
     "name": "stdout",
     "output_type": "stream",
     "text": [
      "Prep type: norm2\n",
      "model exp comp\n",
      "Num units: 100\n"
     ]
    },
    {
     "data": {
      "text/markdown": [
       "### Analysis of Model for offr_s1"
      ],
      "text/plain": [
       "<IPython.core.display.Markdown object>"
      ]
     },
     "metadata": {},
     "output_type": "display_data"
    },
    {
     "data": {
      "text/markdown": [
       "#### Training Curves"
      ],
      "text/plain": [
       "<IPython.core.display.Markdown object>"
      ]
     },
     "metadata": {},
     "output_type": "display_data"
    },
    {
     "data": {
      "text/markdown": [
       "##### Problem with Loss Object"
      ],
      "text/plain": [
       "<IPython.core.display.Markdown object>"
      ]
     },
     "metadata": {},
     "output_type": "display_data"
    },
    {
     "data": {
      "text/markdown": [
       "#### Validation Loss Curve"
      ],
      "text/plain": [
       "<IPython.core.display.Markdown object>"
      ]
     },
     "metadata": {},
     "output_type": "display_data"
    },
    {
     "data": {
      "text/markdown": [
       "##### Raw Validation Set Loss Curve"
      ],
      "text/plain": [
       "<IPython.core.display.Markdown object>"
      ]
     },
     "metadata": {},
     "output_type": "display_data"
    },
    {
     "data": {
      "image/png": "[encoded data removed]",
      "text/plain": [
       "<Figure size 432x288 with 1 Axes>"
      ]
     },
     "metadata": {},
     "output_type": "display_data"
    },
    {
     "data": {
      "text/markdown": [
       "##### Smoothed Validation Set Loss Curve"
      ],
      "text/plain": [
       "<IPython.core.display.Markdown object>"
      ]
     },
     "metadata": {},
     "output_type": "display_data"
    },
    {
     "data": {
      "image/png": "[encoded data removed]",
      "text/plain": [
       "<Figure size 432x288 with 1 Axes>"
      ]
     },
     "metadata": {},
     "output_type": "display_data"
    },
    {
     "data": {
      "text/markdown": [
       "##### Smoothed and Zoomed Validation Set Loss Curve"
      ],
      "text/plain": [
       "<IPython.core.display.Markdown object>"
      ]
     },
     "metadata": {},
     "output_type": "display_data"
    },
    {
     "data": {
      "image/png": "[encoded data removed]",
      "text/plain": [
       "<Figure size 432x288 with 1 Axes>"
      ]
     },
     "metadata": {},
     "output_type": "display_data"
    },
    {
     "data": {
      "text/markdown": [
       "#### Test Error"
      ],
      "text/plain": [
       "<IPython.core.display.Markdown object>"
      ]
     },
     "metadata": {},
     "output_type": "display_data"
    },
    {
     "data": {
      "text/markdown": [
       "* Baseline Loss: 1605.91"
      ],
      "text/plain": [
       "<IPython.core.display.Markdown object>"
      ]
     },
     "metadata": {},
     "output_type": "display_data"
    },
    {
     "data": {
      "text/markdown": [
       "* Oracle Loss: 76.83"
      ],
      "text/plain": [
       "<IPython.core.display.Markdown object>"
      ]
     },
     "metadata": {},
     "output_type": "display_data"
    },
    {
     "data": {
      "text/markdown": [
       "* Model Loss: 217.03"
      ],
      "text/plain": [
       "<IPython.core.display.Markdown object>"
      ]
     },
     "metadata": {},
     "output_type": "display_data"
    },
    {
     "name": "stdout",
     "output_type": "stream",
     "text": [
      "Prep type: norm2\n",
      "model exp comp\n",
      "Num units: 100\n"
     ]
    },
    {
     "data": {
      "text/markdown": [
       "### Analysis of Model for offr_s2"
      ],
      "text/plain": [
       "<IPython.core.display.Markdown object>"
      ]
     },
     "metadata": {},
     "output_type": "display_data"
    },
    {
     "data": {
      "text/markdown": [
       "#### Training Curves"
      ],
      "text/plain": [
       "<IPython.core.display.Markdown object>"
      ]
     },
     "metadata": {},
     "output_type": "display_data"
    },
    {
     "data": {
      "text/markdown": [
       "##### Problem with Loss Object"
      ],
      "text/plain": [
       "<IPython.core.display.Markdown object>"
      ]
     },
     "metadata": {},
     "output_type": "display_data"
    },
    {
     "data": {
      "text/markdown": [
       "#### Validation Loss Curve"
      ],
      "text/plain": [
       "<IPython.core.display.Markdown object>"
      ]
     },
     "metadata": {},
     "output_type": "display_data"
    },
    {
     "data": {
      "text/markdown": [
       "##### Raw Validation Set Loss Curve"
      ],
      "text/plain": [
       "<IPython.core.display.Markdown object>"
      ]
     },
     "metadata": {},
     "output_type": "display_data"
    },
    {
     "data": {
      "image/png": "[encoded data removed]",
      "text/plain": [
       "<Figure size 432x288 with 1 Axes>"
      ]
     },
     "metadata": {},
     "output_type": "display_data"
    },
    {
     "data": {
      "text/markdown": [
       "##### Smoothed Validation Set Loss Curve"
      ],
      "text/plain": [
       "<IPython.core.display.Markdown object>"
      ]
     },
     "metadata": {},
     "output_type": "display_data"
    },
    {
     "data": {
      "image/png": "[encoded data removed]",
      "text/plain": [
       "<Figure size 432x288 with 1 Axes>"
      ]
     },
     "metadata": {},
     "output_type": "display_data"
    },
    {
     "data": {
      "text/markdown": [
       "##### Smoothed and Zoomed Validation Set Loss Curve"
      ],
      "text/plain": [
       "<IPython.core.display.Markdown object>"
      ]
     },
     "metadata": {},
     "output_type": "display_data"
    },
    {
     "data": {
      "image/png": "[encoded data removed]",
      "text/plain": [
       "<Figure size 432x288 with 1 Axes>"
      ]
     },
     "metadata": {},
     "output_type": "display_data"
    },
    {
     "data": {
      "text/markdown": [
       "#### Test Error"
      ],
      "text/plain": [
       "<IPython.core.display.Markdown object>"
      ]
     },
     "metadata": {},
     "output_type": "display_data"
    },
    {
     "data": {
      "text/markdown": [
       "* Baseline Loss: 1444.54"
      ],
      "text/plain": [
       "<IPython.core.display.Markdown object>"
      ]
     },
     "metadata": {},
     "output_type": "display_data"
    },
    {
     "data": {
      "text/markdown": [
       "* Oracle Loss: 42.61"
      ],
      "text/plain": [
       "<IPython.core.display.Markdown object>"
      ]
     },
     "metadata": {},
     "output_type": "display_data"
    },
    {
     "data": {
      "text/markdown": [
       "* Model Loss: 190.40"
      ],
      "text/plain": [
       "<IPython.core.display.Markdown object>"
      ]
     },
     "metadata": {},
     "output_type": "display_data"
    },
    {
     "data": {
      "text/markdown": [
       "## Experiment Summary: norm2_exp_bet_val"
      ],
      "text/plain": [
       "<IPython.core.display.Markdown object>"
      ]
     },
     "metadata": {},
     "output_type": "display_data"
    },
    {
     "data": {
      "text/markdown": [
       "### Characteristics"
      ],
      "text/plain": [
       "<IPython.core.display.Markdown object>"
      ]
     },
     "metadata": {},
     "output_type": "display_data"
    },
    {
     "data": {
      "text/markdown": [
       "* Bins: Normalized offer values binned at every hundredth between 0 and 1"
      ],
      "text/plain": [
       "<IPython.core.display.Markdown object>"
      ]
     },
     "metadata": {},
     "output_type": "display_data"
    },
    {
     "data": {
      "text/markdown": [
       "* Complexity: 2 non-linear activation layers containing 100 units"
      ],
      "text/plain": [
       "<IPython.core.display.Markdown object>"
      ]
     },
     "metadata": {},
     "output_type": "display_data"
    },
    {
     "data": {
      "text/markdown": [
       "* Architecture: Hidden softmax layer after final non-linear activation layer constructs a distribution over bins then output layer predicts the expectation of this distribution. Trained using squared loss."
      ],
      "text/plain": [
       "<IPython.core.display.Markdown object>"
      ]
     },
     "metadata": {},
     "output_type": "display_data"
    },
    {
     "data": {
      "text/markdown": [
       "* Features: Offer history normalized by difference between two most recent offers; fraction of time remaining,time to make offer for each offer, indicators for whether each offer was made in the morning, evening, night,or afternoon (1 excluded), and the time of day in hours for each observed offer,number of previous threads and other experience features, rounding and slack features for 1, 5, 10, 25;indicators for item category and quality"
      ],
      "text/plain": [
       "<IPython.core.display.Markdown object>"
      ]
     },
     "metadata": {},
     "output_type": "display_data"
    },
    {
     "name": "stdout",
     "output_type": "stream",
     "text": [
      "Prep type: norm2\n",
      "model exp between\n",
      "Num units: 100\n"
     ]
    },
    {
     "data": {
      "text/markdown": [
       "### Analysis of Model for offr_s0"
      ],
      "text/plain": [
       "<IPython.core.display.Markdown object>"
      ]
     },
     "metadata": {},
     "output_type": "display_data"
    },
    {
     "data": {
      "text/markdown": [
       "#### Training Curves"
      ],
      "text/plain": [
       "<IPython.core.display.Markdown object>"
      ]
     },
     "metadata": {},
     "output_type": "display_data"
    },
    {
     "data": {
      "text/markdown": [
       "##### Problem with Loss Object"
      ],
      "text/plain": [
       "<IPython.core.display.Markdown object>"
      ]
     },
     "metadata": {},
     "output_type": "display_data"
    },
    {
     "data": {
      "text/markdown": [
       "#### Validation Loss Curve"
      ],
      "text/plain": [
       "<IPython.core.display.Markdown object>"
      ]
     },
     "metadata": {},
     "output_type": "display_data"
    },
    {
     "data": {
      "text/markdown": [
       "##### Raw Validation Set Loss Curve"
      ],
      "text/plain": [
       "<IPython.core.display.Markdown object>"
      ]
     },
     "metadata": {},
     "output_type": "display_data"
    },
    {
     "data": {
      "image/png": "[encoded data removed]",
      "text/plain": [
       "<Figure size 432x288 with 1 Axes>"
      ]
     },
     "metadata": {},
     "output_type": "display_data"
    },
    {
     "data": {
      "text/markdown": [
       "##### Smoothed Validation Set Loss Curve"
      ],
      "text/plain": [
       "<IPython.core.display.Markdown object>"
      ]
     },
     "metadata": {},
     "output_type": "display_data"
    },
    {
     "data": {
      "image/png": "[encoded data removed]",
      "text/plain": [
       "<Figure size 432x288 with 1 Axes>"
      ]
     },
     "metadata": {},
     "output_type": "display_data"
    },
    {
     "data": {
      "text/markdown": [
       "##### Smoothed and Zoomed Validation Set Loss Curve"
      ],
      "text/plain": [
       "<IPython.core.display.Markdown object>"
      ]
     },
     "metadata": {},
     "output_type": "display_data"
    },
    {
     "data": {
      "image/png": "[encoded data removed]",
      "text/plain": [
       "<Figure size 432x288 with 1 Axes>"
      ]
     },
     "metadata": {},
     "output_type": "display_data"
    },
    {
     "data": {
      "text/markdown": [
       "#### Test Error"
      ],
      "text/plain": [
       "<IPython.core.display.Markdown object>"
      ]
     },
     "metadata": {},
     "output_type": "display_data"
    },
    {
     "data": {
      "text/markdown": [
       "* Baseline Loss: 1808.21"
      ],
      "text/plain": [
       "<IPython.core.display.Markdown object>"
      ]
     },
     "metadata": {},
     "output_type": "display_data"
    },
    {
     "data": {
      "text/markdown": [
       "* Oracle Loss: 170.75"
      ],
      "text/plain": [
       "<IPython.core.display.Markdown object>"
      ]
     },
     "metadata": {},
     "output_type": "display_data"
    },
    {
     "data": {
      "text/markdown": [
       "* Model Loss: 402.56"
      ],
      "text/plain": [
       "<IPython.core.display.Markdown object>"
      ]
     },
     "metadata": {},
     "output_type": "display_data"
    },
    {
     "name": "stdout",
     "output_type": "stream",
     "text": [
      "Prep type: norm2\n",
      "model exp between\n",
      "Num units: 100\n"
     ]
    },
    {
     "data": {
      "text/markdown": [
       "### Analysis of Model for offr_s1"
      ],
      "text/plain": [
       "<IPython.core.display.Markdown object>"
      ]
     },
     "metadata": {},
     "output_type": "display_data"
    },
    {
     "data": {
      "text/markdown": [
       "#### Training Curves"
      ],
      "text/plain": [
       "<IPython.core.display.Markdown object>"
      ]
     },
     "metadata": {},
     "output_type": "display_data"
    },
    {
     "data": {
      "text/markdown": [
       "##### Problem with Loss Object"
      ],
      "text/plain": [
       "<IPython.core.display.Markdown object>"
      ]
     },
     "metadata": {},
     "output_type": "display_data"
    },
    {
     "data": {
      "text/markdown": [
       "#### Validation Loss Curve"
      ],
      "text/plain": [
       "<IPython.core.display.Markdown object>"
      ]
     },
     "metadata": {},
     "output_type": "display_data"
    },
    {
     "data": {
      "text/markdown": [
       "##### Raw Validation Set Loss Curve"
      ],
      "text/plain": [
       "<IPython.core.display.Markdown object>"
      ]
     },
     "metadata": {},
     "output_type": "display_data"
    },
    {
     "data": {
      "image/png": "[encoded data removed]",
      "text/plain": [
       "<Figure size 432x288 with 1 Axes>"
      ]
     },
     "metadata": {},
     "output_type": "display_data"
    },
    {
     "data": {
      "text/markdown": [
       "##### Smoothed Validation Set Loss Curve"
      ],
      "text/plain": [
       "<IPython.core.display.Markdown object>"
      ]
     },
     "metadata": {},
     "output_type": "display_data"
    },
    {
     "data": {
      "image/png": "[encoded data removed]",
      "text/plain": [
       "<Figure size 432x288 with 1 Axes>"
      ]
     },
     "metadata": {},
     "output_type": "display_data"
    },
    {
     "data": {
      "text/markdown": [
       "##### Smoothed and Zoomed Validation Set Loss Curve"
      ],
      "text/plain": [
       "<IPython.core.display.Markdown object>"
      ]
     },
     "metadata": {},
     "output_type": "display_data"
    },
    {
     "data": {
      "image/png": "[encoded data removed]",
      "text/plain": [
       "<Figure size 432x288 with 1 Axes>"
      ]
     },
     "metadata": {},
     "output_type": "display_data"
    },
    {
     "data": {
      "text/markdown": [
       "#### Test Error"
      ],
      "text/plain": [
       "<IPython.core.display.Markdown object>"
      ]
     },
     "metadata": {},
     "output_type": "display_data"
    },
    {
     "data": {
      "text/markdown": [
       "* Baseline Loss: 1605.91"
      ],
      "text/plain": [
       "<IPython.core.display.Markdown object>"
      ]
     },
     "metadata": {},
     "output_type": "display_data"
    },
    {
     "data": {
      "text/markdown": [
       "* Oracle Loss: 76.83"
      ],
      "text/plain": [
       "<IPython.core.display.Markdown object>"
      ]
     },
     "metadata": {},
     "output_type": "display_data"
    },
    {
     "data": {
      "text/markdown": [
       "* Model Loss: 243.37"
      ],
      "text/plain": [
       "<IPython.core.display.Markdown object>"
      ]
     },
     "metadata": {},
     "output_type": "display_data"
    },
    {
     "name": "stdout",
     "output_type": "stream",
     "text": [
      "Prep type: norm2\n",
      "model exp between\n",
      "Num units: 100\n"
     ]
    },
    {
     "data": {
      "text/markdown": [
       "### Analysis of Model for offr_s2"
      ],
      "text/plain": [
       "<IPython.core.display.Markdown object>"
      ]
     },
     "metadata": {},
     "output_type": "display_data"
    },
    {
     "data": {
      "text/markdown": [
       "#### Training Curves"
      ],
      "text/plain": [
       "<IPython.core.display.Markdown object>"
      ]
     },
     "metadata": {},
     "output_type": "display_data"
    },
    {
     "data": {
      "text/markdown": [
       "##### Problem with Loss Object"
      ],
      "text/plain": [
       "<IPython.core.display.Markdown object>"
      ]
     },
     "metadata": {},
     "output_type": "display_data"
    },
    {
     "data": {
      "text/markdown": [
       "#### Validation Loss Curve"
      ],
      "text/plain": [
       "<IPython.core.display.Markdown object>"
      ]
     },
     "metadata": {},
     "output_type": "display_data"
    },
    {
     "data": {
      "text/markdown": [
       "##### Raw Validation Set Loss Curve"
      ],
      "text/plain": [
       "<IPython.core.display.Markdown object>"
      ]
     },
     "metadata": {},
     "output_type": "display_data"
    },
    {
     "data": {
      "image/png": "[encoded data removed]",
      "text/plain": [
       "<Figure size 432x288 with 1 Axes>"
      ]
     },
     "metadata": {},
     "output_type": "display_data"
    },
    {
     "data": {
      "text/markdown": [
       "##### Smoothed Validation Set Loss Curve"
      ],
      "text/plain": [
       "<IPython.core.display.Markdown object>"
      ]
     },
     "metadata": {},
     "output_type": "display_data"
    },
    {
     "data": {
      "image/png": "[encoded data removed]",
      "text/plain": [
       "<Figure size 432x288 with 1 Axes>"
      ]
     },
     "metadata": {},
     "output_type": "display_data"
    },
    {
     "data": {
      "text/markdown": [
       "##### Smoothed and Zoomed Validation Set Loss Curve"
      ],
      "text/plain": [
       "<IPython.core.display.Markdown object>"
      ]
     },
     "metadata": {},
     "output_type": "display_data"
    },
    {
     "data": {
      "image/png": "[encoded data removed]",
      "text/plain": [
       "<Figure size 432x288 with 1 Axes>"
      ]
     },
     "metadata": {},
     "output_type": "display_data"
    },
    {
     "data": {
      "text/markdown": [
       "#### Test Error"
      ],
      "text/plain": [
       "<IPython.core.display.Markdown object>"
      ]
     },
     "metadata": {},
     "output_type": "display_data"
    },
    {
     "data": {
      "text/markdown": [
       "* Baseline Loss: 1444.54"
      ],
      "text/plain": [
       "<IPython.core.display.Markdown object>"
      ]
     },
     "metadata": {},
     "output_type": "display_data"
    },
    {
     "data": {
      "text/markdown": [
       "* Oracle Loss: 42.61"
      ],
      "text/plain": [
       "<IPython.core.display.Markdown object>"
      ]
     },
     "metadata": {},
     "output_type": "display_data"
    },
    {
     "data": {
      "text/markdown": [
       "* Model Loss: 235.14"
      ],
      "text/plain": [
       "<IPython.core.display.Markdown object>"
      ]
     },
     "metadata": {},
     "output_type": "display_data"
    },
    {
     "data": {
      "text/markdown": [
       "## Experiment Summary: norm2_exp_simp_val"
      ],
      "text/plain": [
       "<IPython.core.display.Markdown object>"
      ]
     },
     "metadata": {},
     "output_type": "display_data"
    },
    {
     "data": {
      "text/markdown": [
       "### Characteristics"
      ],
      "text/plain": [
       "<IPython.core.display.Markdown object>"
      ]
     },
     "metadata": {},
     "output_type": "display_data"
    },
    {
     "data": {
      "text/markdown": [
       "* Bins: Normalized offer values binned at every hundredth between 0 and 1"
      ],
      "text/plain": [
       "<IPython.core.display.Markdown object>"
      ]
     },
     "metadata": {},
     "output_type": "display_data"
    },
    {
     "data": {
      "text/markdown": [
       "* Complexity: 1 non-linear activation layer containing 30 units"
      ],
      "text/plain": [
       "<IPython.core.display.Markdown object>"
      ]
     },
     "metadata": {},
     "output_type": "display_data"
    },
    {
     "data": {
      "text/markdown": [
       "* Architecture: Hidden softmax layer after final non-linear activation layer constructs a distribution over bins then output layer predicts the expectation of this distribution. Trained using squared loss."
      ],
      "text/plain": [
       "<IPython.core.display.Markdown object>"
      ]
     },
     "metadata": {},
     "output_type": "display_data"
    },
    {
     "data": {
      "text/markdown": [
       "* Features: Offer history normalized by difference between two most recent offers; fraction of time remaining,time to make offer for each offer, indicators for whether each offer was made in the morning, evening, night,or afternoon (1 excluded), and the time of day in hours for each observed offer,number of previous threads and other experience features, rounding and slack features for 1, 5, 10, 25;indicators for item category and quality"
      ],
      "text/plain": [
       "<IPython.core.display.Markdown object>"
      ]
     },
     "metadata": {},
     "output_type": "display_data"
    },
    {
     "name": "stdout",
     "output_type": "stream",
     "text": [
      "Prep type: norm2\n",
      "model exp simp\n",
      "Num units: 30\n"
     ]
    },
    {
     "data": {
      "text/markdown": [
       "### Analysis of Model for offr_s0"
      ],
      "text/plain": [
       "<IPython.core.display.Markdown object>"
      ]
     },
     "metadata": {},
     "output_type": "display_data"
    },
    {
     "data": {
      "text/markdown": [
       "#### Training Curves"
      ],
      "text/plain": [
       "<IPython.core.display.Markdown object>"
      ]
     },
     "metadata": {},
     "output_type": "display_data"
    },
    {
     "data": {
      "text/markdown": [
       "##### Problem with Loss Object"
      ],
      "text/plain": [
       "<IPython.core.display.Markdown object>"
      ]
     },
     "metadata": {},
     "output_type": "display_data"
    },
    {
     "data": {
      "text/markdown": [
       "#### Validation Loss Curve"
      ],
      "text/plain": [
       "<IPython.core.display.Markdown object>"
      ]
     },
     "metadata": {},
     "output_type": "display_data"
    },
    {
     "data": {
      "text/markdown": [
       "##### Raw Validation Set Loss Curve"
      ],
      "text/plain": [
       "<IPython.core.display.Markdown object>"
      ]
     },
     "metadata": {},
     "output_type": "display_data"
    },
    {
     "data": {
      "image/png": "[encoded data removed]",
      "text/plain": [
       "<Figure size 432x288 with 1 Axes>"
      ]
     },
     "metadata": {},
     "output_type": "display_data"
    },
    {
     "data": {
      "text/markdown": [
       "##### Smoothed Validation Set Loss Curve"
      ],
      "text/plain": [
       "<IPython.core.display.Markdown object>"
      ]
     },
     "metadata": {},
     "output_type": "display_data"
    },
    {
     "data": {
      "image/png": "[encoded data removed]",
      "text/plain": [
       "<Figure size 432x288 with 1 Axes>"
      ]
     },
     "metadata": {},
     "output_type": "display_data"
    },
    {
     "data": {
      "text/markdown": [
       "##### Smoothed and Zoomed Validation Set Loss Curve"
      ],
      "text/plain": [
       "<IPython.core.display.Markdown object>"
      ]
     },
     "metadata": {},
     "output_type": "display_data"
    },
    {
     "data": {
      "image/png": "[encoded data removed]",
      "text/plain": [
       "<Figure size 432x288 with 1 Axes>"
      ]
     },
     "metadata": {},
     "output_type": "display_data"
    },
    {
     "data": {
      "text/markdown": [
       "#### Test Error"
      ],
      "text/plain": [
       "<IPython.core.display.Markdown object>"
      ]
     },
     "metadata": {},
     "output_type": "display_data"
    },
    {
     "data": {
      "text/markdown": [
       "* Baseline Loss: 1808.21"
      ],
      "text/plain": [
       "<IPython.core.display.Markdown object>"
      ]
     },
     "metadata": {},
     "output_type": "display_data"
    },
    {
     "data": {
      "text/markdown": [
       "* Oracle Loss: 170.75"
      ],
      "text/plain": [
       "<IPython.core.display.Markdown object>"
      ]
     },
     "metadata": {},
     "output_type": "display_data"
    },
    {
     "data": {
      "text/markdown": [
       "* Model Loss: 426.69"
      ],
      "text/plain": [
       "<IPython.core.display.Markdown object>"
      ]
     },
     "metadata": {},
     "output_type": "display_data"
    },
    {
     "name": "stdout",
     "output_type": "stream",
     "text": [
      "Prep type: norm2\n",
      "model exp simp\n",
      "Num units: 30\n"
     ]
    },
    {
     "data": {
      "text/markdown": [
       "### Analysis of Model for offr_s1"
      ],
      "text/plain": [
       "<IPython.core.display.Markdown object>"
      ]
     },
     "metadata": {},
     "output_type": "display_data"
    },
    {
     "data": {
      "text/markdown": [
       "#### Training Curves"
      ],
      "text/plain": [
       "<IPython.core.display.Markdown object>"
      ]
     },
     "metadata": {},
     "output_type": "display_data"
    },
    {
     "data": {
      "text/markdown": [
       "##### Problem with Loss Object"
      ],
      "text/plain": [
       "<IPython.core.display.Markdown object>"
      ]
     },
     "metadata": {},
     "output_type": "display_data"
    },
    {
     "data": {
      "text/markdown": [
       "#### Validation Loss Curve"
      ],
      "text/plain": [
       "<IPython.core.display.Markdown object>"
      ]
     },
     "metadata": {},
     "output_type": "display_data"
    },
    {
     "data": {
      "text/markdown": [
       "##### Raw Validation Set Loss Curve"
      ],
      "text/plain": [
       "<IPython.core.display.Markdown object>"
      ]
     },
     "metadata": {},
     "output_type": "display_data"
    },
    {
     "data": {
      "image/png": "[encoded data removed]",
      "text/plain": [
       "<Figure size 432x288 with 1 Axes>"
      ]
     },
     "metadata": {},
     "output_type": "display_data"
    },
    {
     "data": {
      "text/markdown": [
       "##### Smoothed Validation Set Loss Curve"
      ],
      "text/plain": [
       "<IPython.core.display.Markdown object>"
      ]
     },
     "metadata": {},
     "output_type": "display_data"
    },
    {
     "data": {
      "image/png": "[encoded data removed]",
      "text/plain": [
       "<Figure size 432x288 with 1 Axes>"
      ]
     },
     "metadata": {},
     "output_type": "display_data"
    },
    {
     "data": {
      "text/markdown": [
       "##### Smoothed and Zoomed Validation Set Loss Curve"
      ],
      "text/plain": [
       "<IPython.core.display.Markdown object>"
      ]
     },
     "metadata": {},
     "output_type": "display_data"
    },
    {
     "data": {
      "image/png": "[encoded data removed]",
      "text/plain": [
       "<Figure size 432x288 with 1 Axes>"
      ]
     },
     "metadata": {},
     "output_type": "display_data"
    },
    {
     "data": {
      "text/markdown": [
       "#### Test Error"
      ],
      "text/plain": [
       "<IPython.core.display.Markdown object>"
      ]
     },
     "metadata": {},
     "output_type": "display_data"
    },
    {
     "data": {
      "text/markdown": [
       "* Baseline Loss: 1605.91"
      ],
      "text/plain": [
       "<IPython.core.display.Markdown object>"
      ]
     },
     "metadata": {},
     "output_type": "display_data"
    },
    {
     "data": {
      "text/markdown": [
       "* Oracle Loss: 76.83"
      ],
      "text/plain": [
       "<IPython.core.display.Markdown object>"
      ]
     },
     "metadata": {},
     "output_type": "display_data"
    },
    {
     "data": {
      "text/markdown": [
       "* Model Loss: 242.10"
      ],
      "text/plain": [
       "<IPython.core.display.Markdown object>"
      ]
     },
     "metadata": {},
     "output_type": "display_data"
    },
    {
     "name": "stdout",
     "output_type": "stream",
     "text": [
      "Prep type: norm2\n",
      "model exp simp\n",
      "Num units: 30\n"
     ]
    },
    {
     "data": {
      "text/markdown": [
       "### Analysis of Model for offr_s2"
      ],
      "text/plain": [
       "<IPython.core.display.Markdown object>"
      ]
     },
     "metadata": {},
     "output_type": "display_data"
    },
    {
     "data": {
      "text/markdown": [
       "#### Training Curves"
      ],
      "text/plain": [
       "<IPython.core.display.Markdown object>"
      ]
     },
     "metadata": {},
     "output_type": "display_data"
    },
    {
     "data": {
      "text/markdown": [
       "##### Problem with Loss Object"
      ],
      "text/plain": [
       "<IPython.core.display.Markdown object>"
      ]
     },
     "metadata": {},
     "output_type": "display_data"
    },
    {
     "data": {
      "text/markdown": [
       "#### Validation Loss Curve"
      ],
      "text/plain": [
       "<IPython.core.display.Markdown object>"
      ]
     },
     "metadata": {},
     "output_type": "display_data"
    },
    {
     "data": {
      "text/markdown": [
       "##### Raw Validation Set Loss Curve"
      ],
      "text/plain": [
       "<IPython.core.display.Markdown object>"
      ]
     },
     "metadata": {},
     "output_type": "display_data"
    },
    {
     "data": {
      "image/png": "[encoded data removed]",
      "text/plain": [
       "<Figure size 432x288 with 1 Axes>"
      ]
     },
     "metadata": {},
     "output_type": "display_data"
    },
    {
     "data": {
      "text/markdown": [
       "##### Smoothed Validation Set Loss Curve"
      ],
      "text/plain": [
       "<IPython.core.display.Markdown object>"
      ]
     },
     "metadata": {},
     "output_type": "display_data"
    },
    {
     "data": {
      "image/png": "[encoded data removed]",
      "text/plain": [
       "<Figure size 432x288 with 1 Axes>"
      ]
     },
     "metadata": {},
     "output_type": "display_data"
    },
    {
     "data": {
      "text/markdown": [
       "##### Smoothed and Zoomed Validation Set Loss Curve"
      ],
      "text/plain": [
       "<IPython.core.display.Markdown object>"
      ]
     },
     "metadata": {},
     "output_type": "display_data"
    },
    {
     "data": {
      "image/png": "[encoded data removed]",
      "text/plain": [
       "<Figure size 432x288 with 1 Axes>"
      ]
     },
     "metadata": {},
     "output_type": "display_data"
    },
    {
     "data": {
      "text/markdown": [
       "#### Test Error"
      ],
      "text/plain": [
       "<IPython.core.display.Markdown object>"
      ]
     },
     "metadata": {},
     "output_type": "display_data"
    },
    {
     "data": {
      "text/markdown": [
       "* Baseline Loss: 1444.54"
      ],
      "text/plain": [
       "<IPython.core.display.Markdown object>"
      ]
     },
     "metadata": {},
     "output_type": "display_data"
    },
    {
     "data": {
      "text/markdown": [
       "* Oracle Loss: 42.61"
      ],
      "text/plain": [
       "<IPython.core.display.Markdown object>"
      ]
     },
     "metadata": {},
     "output_type": "display_data"
    },
    {
     "data": {
      "text/markdown": [
       "* Model Loss: 200.51"
      ],
      "text/plain": [
       "<IPython.core.display.Markdown object>"
      ]
     },
     "metadata": {},
     "output_type": "display_data"
    },
    {
     "data": {
      "text/markdown": [
       "model|offr_s0|offr_s1|offr_s2\n",
       "---|---|---|---\n",
       "oracle|170.75027465820312|76.83033752441406|42.606651306152344\n",
       "baseline|1808.2117919921875|1605.911865234375|1444.5416259765625\n",
       "norm2_crossent_comp_val|679.3207397460938|350.2001647949219|250.76197814941406\n",
       "norm2_crossent_bet_val|655.75732421875|339.60247802734375|307.0777587890625\n",
       "norm2_crossent_simp_val|681.0051879882812|365.7404479980469|299.7566223144531\n",
       "norm2_exp_comp_val|404.90533447265625|217.0261993408203|190.4009246826172\n",
       "norm2_exp_bet_val|402.5577697753906|243.37245178222656|235.1417694091797\n",
       "norm2_exp_simp_val|426.68701171875|242.10223388671875|200.50906372070312\n"
      ],
      "text/plain": [
       "<IPython.core.display.Markdown object>"
      ]
     },
     "metadata": {},
     "output_type": "display_data"
    }
   ],
   "source": [
    "main()"
   ]
  },
  {
   "cell_type": "code",
   "execution_count": null,
   "metadata": {},
   "outputs": [],
   "source": []
  }
 ],
 "metadata": {
  "kernelspec": {
   "display_name": "Python 3",
   "language": "python",
   "name": "python3"
  },
  "language_info": {
   "codemirror_mode": {
    "name": "ipython",
    "version": 3
   },
   "file_extension": ".py",
   "mimetype": "text/x-python",
   "name": "python",
   "nbconvert_exporter": "python",
   "pygments_lexer": "ipython3",
   "version": "3.6.3"
  }
 },
 "nbformat": 4,
 "nbformat_minor": 2
}
