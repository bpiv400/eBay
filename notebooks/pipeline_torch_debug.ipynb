{
 "cells": [
  {
   "cell_type": "code",
   "execution_count": 1,
   "metadata": {},
   "outputs": [],
   "source": [
    "import torch\n",
    "import torch.autograd as autograd\n",
    "import torch.nn as nn\n",
    "import torch.nn.functional as F\n",
    "import torch.optim as optim\n",
    "import numpy as np\n",
    "import pandas as pd\n",
    "from torch import optim\n",
    "import numpy as np\n",
    "import math\n",
    "import random\n",
    "import sys\n",
    "import os\n",
    "import pickle"
   ]
  },
  {
   "cell_type": "code",
   "execution_count": 2,
   "metadata": {},
   "outputs": [],
   "source": [
    "df = pd.read_csv('data/exps/rnn1/toy-1.csv')\n",
    "df_binned = pd.read_csv('data/exps/rnn1/binned/toy.csv')"
   ]
  },
  {
   "cell_type": "code",
   "execution_count": 12,
   "metadata": {},
   "outputs": [],
   "source": [
    "concat = pd.read_csv('data/exps/rnn1/toy_concat.csv')"
   ]
  },
  {
   "cell_type": "code",
   "execution_count": 17,
   "metadata": {},
   "outputs": [
    {
     "name": "stdout",
     "output_type": "stream",
     "text": [
      "unique_thread_id\n",
      "fdbk_score_src\n",
      "fdbk_pstv_src\n",
      "offr_b0\n",
      "slr_hist\n",
      "byr_hist\n",
      "byr_us\n",
      "offr_s0\n",
      "fdbk_score_start\n",
      "fdbk_pstv_start\n",
      "start_price_usd\n",
      "photo_count\n",
      "to_lst_cnt\n",
      "bo_lst_cnt\n",
      "ref_price1\n",
      "view_item_count\n",
      "wtchr_count\n",
      "bin_rev\n",
      "lstg_gen_type_id\n",
      "store\n",
      "slr_us\n",
      "buyer_us\n",
      "99m\n",
      "220m\n",
      "237m\n",
      "260m\n",
      "267m\n",
      "281m\n",
      "293m\n",
      "316m\n",
      "550m\n",
      "619m\n",
      "625m\n",
      "870m\n",
      "888m\n",
      "1249m\n",
      "1281m\n",
      "1305m\n",
      "2984m\n",
      "3252m\n",
      "10542m\n",
      "11116m\n",
      "11232m\n",
      "11233m\n",
      "11450m\n",
      "11700m\n",
      "12576m\n",
      "14339m\n",
      "15032m\n",
      "20081m\n",
      "26395m\n",
      "45100m\n",
      "58058m\n",
      "64482m\n",
      "172008m\n",
      "1000c\n",
      "1500c\n",
      "1750c\n",
      "2000c\n",
      "2500c\n",
      "2750c\n",
      "3000c\n",
      "4000c\n",
      "5000c\n",
      "6000c\n",
      "7000c\n",
      "duration\n",
      "frac_remain_b0\n",
      "frac_passed_b0\n",
      "passed_b0\n",
      "remain_b0\n",
      "frac_remain_s0\n",
      "frac_passed_s0\n",
      "passed_s0\n",
      "remain_s0\n",
      "time_s0\n",
      "time_b0\n",
      "length\n",
      "frac_passed_b1\n",
      "frac_remain_b1\n",
      "passed_b1\n",
      "remain_b1\n",
      "offr_b1\n",
      "time_b1\n",
      "frac_passed_s1\n",
      "frac_remain_s1\n",
      "passed_s1\n",
      "remain_s1\n",
      "offr_s1\n",
      "time_s1\n",
      "frac_passed_b2\n",
      "frac_remain_b2\n",
      "passed_b2\n",
      "remain_b2\n",
      "offr_b2\n",
      "time_b2\n",
      "frac_passed_s2\n",
      "frac_remain_s2\n",
      "passed_s2\n",
      "remain_s2\n",
      "offr_s2\n",
      "time_s2\n",
      "frac_passed_b3\n",
      "frac_remain_b3\n",
      "passed_b3\n",
      "remain_b3\n",
      "offr_b3\n",
      "time_b3\n",
      "ref_offr_b0\n",
      "ref_offr_s0\n",
      "ref_offr_b1\n",
      "ref_offr_s1\n",
      "ref_offr_b2\n",
      "ref_offr_s2\n",
      "ref_offr_b3\n",
      "rnd_1_offr_b0\n",
      "rnd_5_offr_b0\n",
      "rnd_10_offr_b0\n",
      "rnd_25_offr_b0\n",
      "slk_offr_b0\n",
      "rnd_1_offr_s0\n",
      "rnd_5_offr_s0\n",
      "rnd_10_offr_s0\n",
      "rnd_25_offr_s0\n",
      "slk_offr_s0\n",
      "rnd_1_offr_b1\n",
      "rnd_5_offr_b1\n",
      "rnd_10_offr_b1\n",
      "rnd_25_offr_b1\n",
      "slk_offr_b1\n",
      "rnd_1_offr_s1\n",
      "rnd_5_offr_s1\n",
      "rnd_10_offr_s1\n",
      "rnd_25_offr_s1\n",
      "slk_offr_s1\n",
      "rnd_1_offr_b2\n",
      "rnd_5_offr_b2\n",
      "rnd_10_offr_b2\n",
      "rnd_25_offr_b2\n",
      "slk_offr_b2\n",
      "rnd_1_offr_s2\n",
      "rnd_5_offr_s2\n",
      "rnd_10_offr_s2\n",
      "rnd_25_offr_s2\n",
      "slk_offr_s2\n",
      "rnd_1_offr_b3\n",
      "rnd_5_offr_b3\n",
      "rnd_10_offr_b3\n",
      "rnd_25_offr_b3\n",
      "slk_offr_b3\n",
      "morn_b0\n",
      "aftn_b0\n",
      "eve_b0\n",
      "time_of_day_b0\n",
      "morn_s0\n",
      "aftn_s0\n",
      "eve_s0\n",
      "time_of_day_s0\n",
      "morn_b1\n",
      "aftn_b1\n",
      "eve_b1\n",
      "time_of_day_b1\n",
      "morn_s1\n",
      "aftn_s1\n",
      "eve_s1\n",
      "time_of_day_s1\n",
      "morn_b2\n",
      "aftn_b2\n",
      "eve_b2\n",
      "time_of_day_b2\n",
      "morn_s2\n",
      "aftn_s2\n",
      "eve_s2\n",
      "time_of_day_s2\n",
      "morn_b3\n",
      "aftn_b3\n",
      "eve_b3\n",
      "time_of_day_b3\n"
     ]
    }
   ],
   "source": [
    "for col in concat.columns:\n",
    "    print(col)"
   ]
  },
  {
   "cell_type": "code",
   "execution_count": 3,
   "metadata": {},
   "outputs": [],
   "source": [
    "t = torch.tensor([[[1, 2, 3], [4, 5, 6], [7, 8, 9], [10, 11, 12]], [[10, 20, 30], [40, 50, 60], [70, 80, 90], [100, 110, 120]]])"
   ]
  },
  {
   "cell_type": "code",
   "execution_count": 5,
   "metadata": {},
   "outputs": [
    {
     "data": {
      "text/plain": [
       "3"
      ]
     },
     "execution_count": 5,
     "metadata": {},
     "output_type": "execute_result"
    }
   ],
   "source": [
    "linear = torch.nn.Linear(3, 6)\n",
    "t.shape"
   ]
  },
  {
   "cell_type": "code",
   "execution_count": 6,
   "metadata": {},
   "outputs": [
    {
     "data": {
      "text/plain": [
       "tensor([[[   1,    2,    3],\n",
       "         [   4,    5,    6],\n",
       "         [   7,    8,    9],\n",
       "         [  10,   11,   12]],\n",
       "\n",
       "        [[  10,   20,   30],\n",
       "         [  40,   50,   60],\n",
       "         [  70,   80,   90],\n",
       "         [ 100,  110,  120]]])"
      ]
     },
     "execution_count": 6,
     "metadata": {},
     "output_type": "execute_result"
    }
   ],
   "source": [
    "t"
   ]
  },
  {
   "cell_type": "code",
   "execution_count": 9,
   "metadata": {},
   "outputs": [],
   "source": [
    "linear.weight\n",
    "t = t.float()\n",
    "lengths = [2, 2, 1, 1]\n"
   ]
  },
  {
   "cell_type": "code",
   "execution_count": 10,
   "metadata": {},
   "outputs": [],
   "source": [
    "p = linear(t)\n",
    "packed =  torch.nn.utils.rnn.pack_padded_sequence(t, torch.tensor([2, 2, 1, 1]))"
   ]
  },
  {
   "cell_type": "code",
   "execution_count": 11,
   "metadata": {},
   "outputs": [
    {
     "data": {
      "text/plain": [
       "tensor([ 0.0000,  0.0000,  0.0000,  0.0000,  0.0000,  1.0000])"
      ]
     },
     "execution_count": 11,
     "metadata": {},
     "output_type": "execute_result"
    }
   ],
   "source": [
    "l = torch.tensor([ 13.8407, -47.9710,  48.0697,  38.1333, -22.7242, 105.5340])\n",
    "F.softmax(l, dim=0)"
   ]
  },
  {
   "cell_type": "code",
   "execution_count": 12,
   "metadata": {},
   "outputs": [
    {
     "name": "stdout",
     "output_type": "stream",
     "text": [
      "torch.FloatTensor\n",
      "torch.FloatTensor\n",
      "torch.Size([128, 6])\n"
     ]
    }
   ],
   "source": [
    "input = torch.randn(128, 3)\n",
    "print(input.type())\n",
    "print(t.type())\n",
    "output = linear(input)\n",
    "print(output.size())"
   ]
  },
  {
   "cell_type": "code",
   "execution_count": 25,
   "metadata": {},
   "outputs": [
    {
     "data": {
      "text/plain": [
       "tensor([[  0.0131,  -0.9351,   1.0980,   0.9514,  -1.1260,   2.0702],\n",
       "        [  0.4343,  -2.2843,   2.3042,   1.8718,  -1.6210,   4.8225],\n",
       "        [  0.8555,  -3.6335,   3.5104,   2.7922,  -2.1161,   7.5748],\n",
       "        [  1.2767,  -4.9826,   4.7167,   3.7126,  -2.6111,  10.3271],\n",
       "        [  1.2047,  -7.4956,  11.8827,  10.5209,  -7.8729,  22.9651],\n",
       "        [  5.4167, -20.9874,  23.9450,  19.7250, -12.8233,  50.4881],\n",
       "        [  9.6287, -34.4792,  36.0073,  28.9292, -17.7737,  78.0111],\n",
       "        [ 13.8407, -47.9710,  48.0697,  38.1333, -22.7242, 105.5340]],\n",
       "       grad_fn=<ThAddmmBackward>)"
      ]
     },
     "execution_count": 25,
     "metadata": {},
     "output_type": "execute_result"
    }
   ],
   "source": [
    "linear(t.float().view(-1, 3))"
   ]
  },
  {
   "cell_type": "code",
   "execution_count": 99,
   "metadata": {},
   "outputs": [
    {
     "data": {
      "text/plain": [
       "tensor([[[  0.0131,  -0.9351,   1.0980,   0.9514,  -1.1260,   2.0702],\n",
       "         [  0.4343,  -2.2843,   2.3042,   1.8718,  -1.6210,   4.8225],\n",
       "         [  0.8555,  -3.6335,   3.5104,   2.7922,  -2.1161,   7.5748],\n",
       "         [  1.2767,  -4.9826,   4.7167,   3.7126,  -2.6111,  10.3271]],\n",
       "\n",
       "        [[  1.2047,  -7.4956,  11.8827,  10.5209,  -7.8729,  22.9651],\n",
       "         [  5.4167, -20.9874,  23.9450,  19.7250, -12.8233,  50.4881],\n",
       "         [  9.6287, -34.4792,  36.0073,  28.9292, -17.7737,  78.0111],\n",
       "         [ 13.8407, -47.9710,  48.0697,  38.1333, -22.7242, 105.5340]]],\n",
       "       grad_fn=<ThAddBackward>)"
      ]
     },
     "execution_count": 99,
     "metadata": {},
     "output_type": "execute_result"
    }
   ],
   "source": [
    "p"
   ]
  },
  {
   "cell_type": "code",
   "execution_count": 13,
   "metadata": {},
   "outputs": [],
   "source": [
    "max_length = 2\n",
    "lengths = [2, 2, 1, 1]\n",
    "lengths = np.array(lengths)\n",
    "short_seqs = np.nonzero(lengths != max_length)\n",
    "short_seqs = short_seqs[0]"
   ]
  },
  {
   "cell_type": "code",
   "execution_count": 14,
   "metadata": {},
   "outputs": [
    {
     "data": {
      "text/plain": [
       "torch.Size([2, 4, 6])"
      ]
     },
     "execution_count": 14,
     "metadata": {},
     "output_type": "execute_result"
    }
   ],
   "source": [
    "short_lengths = lengths[lengths != max_length]\n",
    "p.shape"
   ]
  },
  {
   "cell_type": "code",
   "execution_count": 82,
   "metadata": {},
   "outputs": [],
   "source": [
    "v = p.clone()\n",
    "v[short_lengths, short_seqs, :] = 0\n",
    "v[short_lengths, short_seqs, 0] = 1\n",
    "v"
   ]
  },
  {
   "cell_type": "code",
   "execution_count": 20,
   "metadata": {},
   "outputs": [],
   "source": [
    "crit =  torch.nn.CrossEntropyLoss(size_average=False, reduce=False, ignore_index=-100)"
   ]
  },
  {
   "cell_type": "code",
   "execution_count": 21,
   "metadata": {},
   "outputs": [],
   "source": [
    "p = p.transpose(1, 2)"
   ]
  },
  {
   "cell_type": "code",
   "execution_count": 22,
   "metadata": {},
   "outputs": [
    {
     "data": {
      "text/plain": [
       "tensor([[[ -1.2678,  -1.2858,  -1.3038,  -1.3218],\n",
       "         [  0.4821,   0.2824,   0.0826,  -0.1172],\n",
       "         [ -0.1439,   0.0521,   0.2481,   0.4441],\n",
       "         [ -1.4751,  -3.6797,  -5.8842,  -8.0888],\n",
       "         [  2.1710,   4.3369,   6.5029,   8.6689],\n",
       "         [ -1.4986,  -2.9875,  -4.4763,  -5.9652]],\n",
       "\n",
       "        [[ -9.0803,  -9.2605,  -9.4407,  -9.6210],\n",
       "         [  0.8929,  -1.1048,  -3.1025,  -5.1002],\n",
       "         [ -1.3992,   0.5607,   2.5205,   4.4803],\n",
       "         [-14.8788, -36.9243, -58.9699, -81.0154],\n",
       "         [ 18.9396,  40.5993,  62.2589,  83.9186],\n",
       "         [-15.1839, -30.0724, -44.9608, -59.8492]]])"
      ]
     },
     "execution_count": 22,
     "metadata": {},
     "output_type": "execute_result"
    }
   ],
   "source": [
    "p"
   ]
  },
  {
   "cell_type": "code",
   "execution_count": 23,
   "metadata": {},
   "outputs": [
    {
     "data": {
      "text/plain": [
       "torch.Size([2, 6, 4])"
      ]
     },
     "execution_count": 23,
     "metadata": {},
     "output_type": "execute_result"
    }
   ],
   "source": [
    "p.shape"
   ]
  },
  {
   "cell_type": "code",
   "execution_count": 24,
   "metadata": {},
   "outputs": [],
   "source": [
    "targ = torch.tensor([[2, 4, 3, 1], [2, 1, -100, -100]])"
   ]
  },
  {
   "cell_type": "code",
   "execution_count": 25,
   "metadata": {},
   "outputs": [],
   "source": [
    "loss = crit(p, targ)\n"
   ]
  },
  {
   "cell_type": "code",
   "execution_count": 26,
   "metadata": {},
   "outputs": [
    {
     "data": {
      "text/plain": [
       "tensor([[  2.6276,   0.0351,  12.3911,   8.7865],\n",
       "        [ 20.3388,  41.7041,   0.0000,   0.0000]])"
      ]
     },
     "execution_count": 26,
     "metadata": {},
     "output_type": "execute_result"
    }
   ],
   "source": [
    "loss"
   ]
  },
  {
   "cell_type": "code",
   "execution_count": 155,
   "metadata": {},
   "outputs": [],
   "source": [
    "lengths = np.array([2, 2, 1, 1])\n",
    "length_tens = torch.from_numpy(lengths).float()"
   ]
  },
  {
   "cell_type": "code",
   "execution_count": 156,
   "metadata": {},
   "outputs": [
    {
     "data": {
      "text/plain": [
       "<torch.utils.hooks.RemovableHandle at 0x2476fccc128>"
      ]
     },
     "execution_count": 156,
     "metadata": {},
     "output_type": "execute_result"
    }
   ],
   "source": [
    "myzero1 = autograd.Variable(loss[1, 2], requires_grad=True)\n",
    "myzeros2 = autograd.Variable(loss[1, 3], requires_grad=True)\n",
    "myzero1.register_hook(print)\n",
    "myzeros2.register_hook(print)"
   ]
  },
  {
   "cell_type": "code",
   "execution_count": 157,
   "metadata": {},
   "outputs": [
    {
     "data": {
      "text/plain": [
       "tensor([2., 2., 1., 1.])"
      ]
     },
     "execution_count": 157,
     "metadata": {},
     "output_type": "execute_result"
    }
   ],
   "source": [
    "length_tens"
   ]
  },
  {
   "cell_type": "code",
   "execution_count": 158,
   "metadata": {},
   "outputs": [],
   "source": [
    "loss = loss.sum(dim=0) / length_tens"
   ]
  },
  {
   "cell_type": "code",
   "execution_count": null,
   "metadata": {},
   "outputs": [
    {
     "data": {
      "text/plain": [
       "tensor([ 6.3544, 39.0284,  4.8090, 15.3148], grad_fn=<DivBackward1>)"
      ]
     },
     "execution_count": 160,
     "metadata": {},
     "output_type": "execute_result"
    }
   ],
   "source": [
    "loss"
   ]
  },
  {
   "cell_type": "code",
   "execution_count": 161,
   "metadata": {},
   "outputs": [
    {
     "ename": "RuntimeError",
     "evalue": "Trying to backward through the graph a second time, but the buffers have already been freed. Specify retain_graph=True when calling backward the first time.",
     "output_type": "error",
     "traceback": [
      "\u001b[1;31m---------------------------------------------------------------------------\u001b[0m",
      "\u001b[1;31mRuntimeError\u001b[0m                              Traceback (most recent call last)",
      "\u001b[1;32m<ipython-input-161-8507ab135f59>\u001b[0m in \u001b[0;36m<module>\u001b[1;34m()\u001b[0m\n\u001b[1;32m----> 1\u001b[1;33m \u001b[0mloss\u001b[0m\u001b[1;33m.\u001b[0m\u001b[0mmean\u001b[0m\u001b[1;33m(\u001b[0m\u001b[1;33m)\u001b[0m\u001b[1;33m.\u001b[0m\u001b[0mbackward\u001b[0m\u001b[1;33m(\u001b[0m\u001b[1;33m)\u001b[0m\u001b[1;33m\u001b[0m\u001b[0m\n\u001b[0m",
      "\u001b[1;32m~\\Anaconda3\\lib\\site-packages\\torch\\tensor.py\u001b[0m in \u001b[0;36mbackward\u001b[1;34m(self, gradient, retain_graph, create_graph)\u001b[0m\n\u001b[0;32m     91\u001b[0m                 \u001b[0mproducts\u001b[0m\u001b[1;33m.\u001b[0m \u001b[0mDefaults\u001b[0m \u001b[0mto\u001b[0m\u001b[0;31m \u001b[0m\u001b[0;31m`\u001b[0m\u001b[0;31m`\u001b[0m\u001b[1;32mFalse\u001b[0m\u001b[0;31m`\u001b[0m\u001b[0;31m`\u001b[0m\u001b[1;33m.\u001b[0m\u001b[1;33m\u001b[0m\u001b[0m\n\u001b[0;32m     92\u001b[0m         \"\"\"\n\u001b[1;32m---> 93\u001b[1;33m         \u001b[0mtorch\u001b[0m\u001b[1;33m.\u001b[0m\u001b[0mautograd\u001b[0m\u001b[1;33m.\u001b[0m\u001b[0mbackward\u001b[0m\u001b[1;33m(\u001b[0m\u001b[0mself\u001b[0m\u001b[1;33m,\u001b[0m \u001b[0mgradient\u001b[0m\u001b[1;33m,\u001b[0m \u001b[0mretain_graph\u001b[0m\u001b[1;33m,\u001b[0m \u001b[0mcreate_graph\u001b[0m\u001b[1;33m)\u001b[0m\u001b[1;33m\u001b[0m\u001b[0m\n\u001b[0m\u001b[0;32m     94\u001b[0m \u001b[1;33m\u001b[0m\u001b[0m\n\u001b[0;32m     95\u001b[0m     \u001b[1;32mdef\u001b[0m \u001b[0mregister_hook\u001b[0m\u001b[1;33m(\u001b[0m\u001b[0mself\u001b[0m\u001b[1;33m,\u001b[0m \u001b[0mhook\u001b[0m\u001b[1;33m)\u001b[0m\u001b[1;33m:\u001b[0m\u001b[1;33m\u001b[0m\u001b[0m\n",
      "\u001b[1;32m~\\Anaconda3\\lib\\site-packages\\torch\\autograd\\__init__.py\u001b[0m in \u001b[0;36mbackward\u001b[1;34m(tensors, grad_tensors, retain_graph, create_graph, grad_variables)\u001b[0m\n\u001b[0;32m     88\u001b[0m     Variable._execution_engine.run_backward(\n\u001b[0;32m     89\u001b[0m         \u001b[0mtensors\u001b[0m\u001b[1;33m,\u001b[0m \u001b[0mgrad_tensors\u001b[0m\u001b[1;33m,\u001b[0m \u001b[0mretain_graph\u001b[0m\u001b[1;33m,\u001b[0m \u001b[0mcreate_graph\u001b[0m\u001b[1;33m,\u001b[0m\u001b[1;33m\u001b[0m\u001b[0m\n\u001b[1;32m---> 90\u001b[1;33m         allow_unreachable=True)  # allow_unreachable flag\n\u001b[0m\u001b[0;32m     91\u001b[0m \u001b[1;33m\u001b[0m\u001b[0m\n\u001b[0;32m     92\u001b[0m \u001b[1;33m\u001b[0m\u001b[0m\n",
      "\u001b[1;31mRuntimeError\u001b[0m: Trying to backward through the graph a second time, but the buffers have already been freed. Specify retain_graph=True when calling backward the first time."
     ]
    }
   ],
   "source": [
    "loss.mean().backward()"
   ]
  }
 ],
 "metadata": {
  "kernelspec": {
   "display_name": "Python 3",
   "language": "python",
   "name": "python3"
  },
  "language_info": {
   "codemirror_mode": {
    "name": "ipython",
    "version": 3
   },
   "file_extension": ".py",
   "mimetype": "text/x-python",
   "name": "python",
   "nbconvert_exporter": "python",
   "pygments_lexer": "ipython3",
   "version": "3.6.3"
  }
 },
 "nbformat": 4,
 "nbformat_minor": 2
}
