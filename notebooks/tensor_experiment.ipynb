{
 "cells": [
  {
   "cell_type": "code",
   "execution_count": 2,
   "metadata": {},
   "outputs": [],
   "source": [
    "import tensorflow as tf\n",
    "import numpy as np"
   ]
  },
  {
   "cell_type": "code",
   "execution_count": 4,
   "metadata": {},
   "outputs": [],
   "source": [
    "test_lens = [2, 2, 3, 1, 1]\n",
    "test_offrs = (\n",
    "    [\n",
    "        [\n",
    "            [1, 2, 3, 4], [5, 6, 7, 8], [0, 0, 0, 0]\n",
    "        ],\n",
    "        [\n",
    "            [19, 11, 45, 76], [120, 42, 19, 19], [0, 0, 0, 0]\n",
    "        ],\n",
    "        [\n",
    "            [1, 2, 3, 4], [5, 6, 7, 8], [9, 10, 11, 12]\n",
    "        ],\n",
    "        [\n",
    "            [20, 22, 21, 24], [0, 0, 0, 0], [0, 0, 0, 0]\n",
    "        ],\n",
    "        [\n",
    "            [2, 2, 2, 2], [0, 0, 0, 0], [0, 0, 0, 0]\n",
    "        ]\n",
    "    ])\n",
    "test_labels = (\n",
    "[\n",
    "    [1, 2, 0],\n",
    "    [4, 5, 0],\n",
    "    [9, 9, 10],\n",
    "    [1, 0, 0],\n",
    "    [4, 0, 0]\n",
    "])"
   ]
  },
  {
   "cell_type": "code",
   "execution_count": 5,
   "metadata": {},
   "outputs": [],
   "source": [
    "test_lens = np.array(test_lens)\n",
    "test_offrs = np.array(test_offrs)\n",
    "test_labels = np.array(test_labels)"
   ]
  },
  {
   "cell_type": "code",
   "execution_count": 6,
   "metadata": {},
   "outputs": [
    {
     "data": {
      "text/plain": [
       "(5, 3, 4)"
      ]
     },
     "execution_count": 6,
     "metadata": {},
     "output_type": "execute_result"
    }
   ],
   "source": [
    "test_offrs.shape"
   ]
  },
  {
   "cell_type": "code",
   "execution_count": 7,
   "metadata": {},
   "outputs": [],
   "source": [
    "offrs = tf.placeholder(test_offrs.dtype, test_offrs.shape)\n",
    "lens = tf.placeholder(test_lens.dtype, test_lens.shape)\n",
    "lables = tf.placeholder(test_labels.dtype, test_labels.shape)"
   ]
  },
  {
   "cell_type": "code",
   "execution_count": 8,
   "metadata": {},
   "outputs": [],
   "source": [
    "features_dict = {}\n",
    "features_dict['offrs'] = offrs\n",
    "features_dict['lens'] = lens"
   ]
  },
  {
   "cell_type": "code",
   "execution_count": 9,
   "metadata": {},
   "outputs": [],
   "source": [
    "dataset = tf.data.Dataset.from_tensor_slices((features_dict, lables))"
   ]
  },
  {
   "cell_type": "code",
   "execution_count": 10,
   "metadata": {},
   "outputs": [],
   "source": [
    "dataset = dataset.repeat()\n",
    "dataset = dataset.batch(32)"
   ]
  },
  {
   "cell_type": "code",
   "execution_count": 11,
   "metadata": {},
   "outputs": [],
   "source": [
    "iterator = dataset.make_initializable_iterator()\n"
   ]
  },
  {
   "cell_type": "code",
   "execution_count": 18,
   "metadata": {},
   "outputs": [
    {
     "name": "stdout",
     "output_type": "stream",
     "text": [
      "[[[  1   2   3   4]\n",
      "  [  5   6   7   8]\n",
      "  [  0   0   0   0]]\n",
      "\n",
      " [[ 19  11  45  76]\n",
      "  [120  42  19  19]\n",
      "  [  0   0   0   0]]\n",
      "\n",
      " [[  1   2   3   4]\n",
      "  [  5   6   7   8]\n",
      "  [  9  10  11  12]]\n",
      "\n",
      " [[ 20  22  21  24]\n",
      "  [  0   0   0   0]\n",
      "  [  0   0   0   0]]\n",
      "\n",
      " [[  2   2   2   2]\n",
      "  [  0   0   0   0]\n",
      "  [  0   0   0   0]]\n",
      "\n",
      " [[  1   2   3   4]\n",
      "  [  5   6   7   8]\n",
      "  [  0   0   0   0]]\n",
      "\n",
      " [[ 19  11  45  76]\n",
      "  [120  42  19  19]\n",
      "  [  0   0   0   0]]\n",
      "\n",
      " [[  1   2   3   4]\n",
      "  [  5   6   7   8]\n",
      "  [  9  10  11  12]]\n",
      "\n",
      " [[ 20  22  21  24]\n",
      "  [  0   0   0   0]\n",
      "  [  0   0   0   0]]\n",
      "\n",
      " [[  2   2   2   2]\n",
      "  [  0   0   0   0]\n",
      "  [  0   0   0   0]]\n",
      "\n",
      " [[  1   2   3   4]\n",
      "  [  5   6   7   8]\n",
      "  [  0   0   0   0]]\n",
      "\n",
      " [[ 19  11  45  76]\n",
      "  [120  42  19  19]\n",
      "  [  0   0   0   0]]\n",
      "\n",
      " [[  1   2   3   4]\n",
      "  [  5   6   7   8]\n",
      "  [  9  10  11  12]]\n",
      "\n",
      " [[ 20  22  21  24]\n",
      "  [  0   0   0   0]\n",
      "  [  0   0   0   0]]\n",
      "\n",
      " [[  2   2   2   2]\n",
      "  [  0   0   0   0]\n",
      "  [  0   0   0   0]]\n",
      "\n",
      " [[  1   2   3   4]\n",
      "  [  5   6   7   8]\n",
      "  [  0   0   0   0]]\n",
      "\n",
      " [[ 19  11  45  76]\n",
      "  [120  42  19  19]\n",
      "  [  0   0   0   0]]\n",
      "\n",
      " [[  1   2   3   4]\n",
      "  [  5   6   7   8]\n",
      "  [  9  10  11  12]]\n",
      "\n",
      " [[ 20  22  21  24]\n",
      "  [  0   0   0   0]\n",
      "  [  0   0   0   0]]\n",
      "\n",
      " [[  2   2   2   2]\n",
      "  [  0   0   0   0]\n",
      "  [  0   0   0   0]]\n",
      "\n",
      " [[  1   2   3   4]\n",
      "  [  5   6   7   8]\n",
      "  [  0   0   0   0]]\n",
      "\n",
      " [[ 19  11  45  76]\n",
      "  [120  42  19  19]\n",
      "  [  0   0   0   0]]\n",
      "\n",
      " [[  1   2   3   4]\n",
      "  [  5   6   7   8]\n",
      "  [  9  10  11  12]]\n",
      "\n",
      " [[ 20  22  21  24]\n",
      "  [  0   0   0   0]\n",
      "  [  0   0   0   0]]\n",
      "\n",
      " [[  2   2   2   2]\n",
      "  [  0   0   0   0]\n",
      "  [  0   0   0   0]]\n",
      "\n",
      " [[  1   2   3   4]\n",
      "  [  5   6   7   8]\n",
      "  [  0   0   0   0]]\n",
      "\n",
      " [[ 19  11  45  76]\n",
      "  [120  42  19  19]\n",
      "  [  0   0   0   0]]\n",
      "\n",
      " [[  1   2   3   4]\n",
      "  [  5   6   7   8]\n",
      "  [  9  10  11  12]]\n",
      "\n",
      " [[ 20  22  21  24]\n",
      "  [  0   0   0   0]\n",
      "  [  0   0   0   0]]\n",
      "\n",
      " [[  2   2   2   2]\n",
      "  [  0   0   0   0]\n",
      "  [  0   0   0   0]]\n",
      "\n",
      " [[  1   2   3   4]\n",
      "  [  5   6   7   8]\n",
      "  [  0   0   0   0]]\n",
      "\n",
      " [[ 19  11  45  76]\n",
      "  [120  42  19  19]\n",
      "  [  0   0   0   0]]]\n",
      "[2 2 3 1 1 2 2 3 1 1 2 2 3 1 1 2 2 3 1 1 2 2 3 1 1 2 2 3 1 1 2 2]\n",
      "[[ 1  2  0]\n",
      " [ 4  5  0]\n",
      " [ 9  9 10]\n",
      " [ 1  0  0]\n",
      " [ 4  0  0]\n",
      " [ 1  2  0]\n",
      " [ 4  5  0]\n",
      " [ 9  9 10]\n",
      " [ 1  0  0]\n",
      " [ 4  0  0]\n",
      " [ 1  2  0]\n",
      " [ 4  5  0]\n",
      " [ 9  9 10]\n",
      " [ 1  0  0]\n",
      " [ 4  0  0]\n",
      " [ 1  2  0]\n",
      " [ 4  5  0]\n",
      " [ 9  9 10]\n",
      " [ 1  0  0]\n",
      " [ 4  0  0]\n",
      " [ 1  2  0]\n",
      " [ 4  5  0]\n",
      " [ 9  9 10]\n",
      " [ 1  0  0]\n",
      " [ 4  0  0]\n",
      " [ 1  2  0]\n",
      " [ 4  5  0]\n",
      " [ 9  9 10]\n",
      " [ 1  0  0]\n",
      " [ 4  0  0]\n",
      " [ 1  2  0]\n",
      " [ 4  5  0]]\n"
     ]
    }
   ],
   "source": [
    "sess = tf.Session()\n",
    "sess.run(iterator.initializer, feed_dict={lens: test_lens,\n",
    "                                         offrs: test_offrs,\n",
    "                                         lables: test_labels})\n",
    "data, curr_labels = sess.run(next_el)\n",
    "curr_offrs = data['offrs']\n",
    "curr_lens = data['lens']\n",
    "sess.close()\n",
    "print(curr_offrs)\n",
    "print(curr_lens)\n",
    "print(curr_labels)"
   ]
  },
  {
   "cell_type": "code",
   "execution_count": 15,
   "metadata": {},
   "outputs": [
    {
     "ename": "RuntimeError",
     "evalue": "Attempted to use a closed Session.",
     "output_type": "error",
     "traceback": [
      "\u001b[0;31m---------------------------------------------------------------------------\u001b[0m",
      "\u001b[0;31mRuntimeError\u001b[0m                              Traceback (most recent call last)",
      "\u001b[0;32m<ipython-input-15-e4494eb7596d>\u001b[0m in \u001b[0;36m<module>\u001b[0;34m()\u001b[0m\n\u001b[1;32m      1\u001b[0m \u001b[0mnext_el\u001b[0m \u001b[0;34m=\u001b[0m \u001b[0miterator\u001b[0m\u001b[0;34m.\u001b[0m\u001b[0mget_next\u001b[0m\u001b[0;34m(\u001b[0m\u001b[0;34m)\u001b[0m\u001b[0;34m\u001b[0m\u001b[0m\n\u001b[0;32m----> 2\u001b[0;31m \u001b[0mvalue\u001b[0m \u001b[0;34m=\u001b[0m \u001b[0msess\u001b[0m\u001b[0;34m.\u001b[0m\u001b[0mrun\u001b[0m\u001b[0;34m(\u001b[0m\u001b[0mnext_el\u001b[0m\u001b[0;34m)\u001b[0m\u001b[0;34m\u001b[0m\u001b[0m\n\u001b[0m\u001b[1;32m      3\u001b[0m \u001b[0mprint\u001b[0m\u001b[0;34m(\u001b[0m\u001b[0mvalue\u001b[0m\u001b[0;34m)\u001b[0m\u001b[0;34m\u001b[0m\u001b[0m\n",
      "\u001b[0;32m~/.virtualenvs/jupyterlab-py36/lib/python3.6/site-packages/tensorflow/python/client/session.py\u001b[0m in \u001b[0;36mrun\u001b[0;34m(self, fetches, feed_dict, options, run_metadata)\u001b[0m\n\u001b[1;32m    898\u001b[0m     \u001b[0;32mtry\u001b[0m\u001b[0;34m:\u001b[0m\u001b[0;34m\u001b[0m\u001b[0m\n\u001b[1;32m    899\u001b[0m       result = self._run(None, fetches, feed_dict, options_ptr,\n\u001b[0;32m--> 900\u001b[0;31m                          run_metadata_ptr)\n\u001b[0m\u001b[1;32m    901\u001b[0m       \u001b[0;32mif\u001b[0m \u001b[0mrun_metadata\u001b[0m\u001b[0;34m:\u001b[0m\u001b[0;34m\u001b[0m\u001b[0m\n\u001b[1;32m    902\u001b[0m         \u001b[0mproto_data\u001b[0m \u001b[0;34m=\u001b[0m \u001b[0mtf_session\u001b[0m\u001b[0;34m.\u001b[0m\u001b[0mTF_GetBuffer\u001b[0m\u001b[0;34m(\u001b[0m\u001b[0mrun_metadata_ptr\u001b[0m\u001b[0;34m)\u001b[0m\u001b[0;34m\u001b[0m\u001b[0m\n",
      "\u001b[0;32m~/.virtualenvs/jupyterlab-py36/lib/python3.6/site-packages/tensorflow/python/client/session.py\u001b[0m in \u001b[0;36m_run\u001b[0;34m(self, handle, fetches, feed_dict, options, run_metadata)\u001b[0m\n\u001b[1;32m   1056\u001b[0m     \u001b[0;31m# Check session.\u001b[0m\u001b[0;34m\u001b[0m\u001b[0;34m\u001b[0m\u001b[0m\n\u001b[1;32m   1057\u001b[0m     \u001b[0;32mif\u001b[0m \u001b[0mself\u001b[0m\u001b[0;34m.\u001b[0m\u001b[0m_closed\u001b[0m\u001b[0;34m:\u001b[0m\u001b[0;34m\u001b[0m\u001b[0m\n\u001b[0;32m-> 1058\u001b[0;31m       \u001b[0;32mraise\u001b[0m \u001b[0mRuntimeError\u001b[0m\u001b[0;34m(\u001b[0m\u001b[0;34m'Attempted to use a closed Session.'\u001b[0m\u001b[0;34m)\u001b[0m\u001b[0;34m\u001b[0m\u001b[0m\n\u001b[0m\u001b[1;32m   1059\u001b[0m     \u001b[0;32mif\u001b[0m \u001b[0mself\u001b[0m\u001b[0;34m.\u001b[0m\u001b[0mgraph\u001b[0m\u001b[0;34m.\u001b[0m\u001b[0mversion\u001b[0m \u001b[0;34m==\u001b[0m \u001b[0;36m0\u001b[0m\u001b[0;34m:\u001b[0m\u001b[0;34m\u001b[0m\u001b[0m\n\u001b[1;32m   1060\u001b[0m       raise RuntimeError('The Session graph is empty.  Add operations to the '\n",
      "\u001b[0;31mRuntimeError\u001b[0m: Attempted to use a closed Session."
     ]
    }
   ],
   "source": [
    "next_el = iterator.get_next()"
   ]
  },
  {
   "cell_type": "code",
   "execution_count": 16,
   "metadata": {},
   "outputs": [
    {
     "ename": "FailedPreconditionError",
     "evalue": "GetNext() failed because the iterator has not been initialized. Ensure that you have run the initializer operation for this iterator before getting the next element.\n\t [[Node: IteratorGetNext = IteratorGetNext[output_shapes=[[?], [?,3,4], [?,3]], output_types=[DT_INT64, DT_INT64, DT_INT64], _device=\"/job:localhost/replica:0/task:0/device:CPU:0\"](Iterator)]]\n\nCaused by op 'IteratorGetNext', defined at:\n  File \"/opt/rh/rh-python36/root/usr/lib64/python3.6/runpy.py\", line 193, in _run_module_as_main\n    \"__main__\", mod_spec)\n  File \"/opt/rh/rh-python36/root/usr/lib64/python3.6/runpy.py\", line 85, in _run_code\n    exec(code, run_globals)\n  File \"/home/opim/eplu/.virtualenvs/jupyterlab-py36/lib/python3.6/site-packages/ipykernel_launcher.py\", line 16, in <module>\n    app.launch_new_instance()\n  File \"/home/opim/eplu/.virtualenvs/jupyterlab-py36/lib/python3.6/site-packages/traitlets/config/application.py\", line 658, in launch_instance\n    app.start()\n  File \"/home/opim/eplu/.virtualenvs/jupyterlab-py36/lib/python3.6/site-packages/ipykernel/kernelapp.py\", line 486, in start\n    self.io_loop.start()\n  File \"/home/opim/eplu/.virtualenvs/jupyterlab-py36/lib/python3.6/site-packages/tornado/platform/asyncio.py\", line 127, in start\n    self.asyncio_loop.run_forever()\n  File \"/opt/rh/rh-python36/root/usr/lib64/python3.6/asyncio/base_events.py\", line 421, in run_forever\n    self._run_once()\n  File \"/opt/rh/rh-python36/root/usr/lib64/python3.6/asyncio/base_events.py\", line 1426, in _run_once\n    handle._run()\n  File \"/opt/rh/rh-python36/root/usr/lib64/python3.6/asyncio/events.py\", line 127, in _run\n    self._callback(*self._args)\n  File \"/home/opim/eplu/.virtualenvs/jupyterlab-py36/lib/python3.6/site-packages/tornado/platform/asyncio.py\", line 117, in _handle_events\n    handler_func(fileobj, events)\n  File \"/home/opim/eplu/.virtualenvs/jupyterlab-py36/lib/python3.6/site-packages/tornado/stack_context.py\", line 276, in null_wrapper\n    return fn(*args, **kwargs)\n  File \"/home/opim/eplu/.virtualenvs/jupyterlab-py36/lib/python3.6/site-packages/zmq/eventloop/zmqstream.py\", line 450, in _handle_events\n    self._handle_recv()\n  File \"/home/opim/eplu/.virtualenvs/jupyterlab-py36/lib/python3.6/site-packages/zmq/eventloop/zmqstream.py\", line 480, in _handle_recv\n    self._run_callback(callback, msg)\n  File \"/home/opim/eplu/.virtualenvs/jupyterlab-py36/lib/python3.6/site-packages/zmq/eventloop/zmqstream.py\", line 432, in _run_callback\n    callback(*args, **kwargs)\n  File \"/home/opim/eplu/.virtualenvs/jupyterlab-py36/lib/python3.6/site-packages/tornado/stack_context.py\", line 276, in null_wrapper\n    return fn(*args, **kwargs)\n  File \"/home/opim/eplu/.virtualenvs/jupyterlab-py36/lib/python3.6/site-packages/ipykernel/kernelbase.py\", line 283, in dispatcher\n    return self.dispatch_shell(stream, msg)\n  File \"/home/opim/eplu/.virtualenvs/jupyterlab-py36/lib/python3.6/site-packages/ipykernel/kernelbase.py\", line 233, in dispatch_shell\n    handler(stream, idents, msg)\n  File \"/home/opim/eplu/.virtualenvs/jupyterlab-py36/lib/python3.6/site-packages/ipykernel/kernelbase.py\", line 399, in execute_request\n    user_expressions, allow_stdin)\n  File \"/home/opim/eplu/.virtualenvs/jupyterlab-py36/lib/python3.6/site-packages/ipykernel/ipkernel.py\", line 208, in do_execute\n    res = shell.run_cell(code, store_history=store_history, silent=silent)\n  File \"/home/opim/eplu/.virtualenvs/jupyterlab-py36/lib/python3.6/site-packages/ipykernel/zmqshell.py\", line 537, in run_cell\n    return super(ZMQInteractiveShell, self).run_cell(*args, **kwargs)\n  File \"/home/opim/eplu/.virtualenvs/jupyterlab-py36/lib/python3.6/site-packages/IPython/core/interactiveshell.py\", line 2662, in run_cell\n    raw_cell, store_history, silent, shell_futures)\n  File \"/home/opim/eplu/.virtualenvs/jupyterlab-py36/lib/python3.6/site-packages/IPython/core/interactiveshell.py\", line 2785, in _run_cell\n    interactivity=interactivity, compiler=compiler, result=result)\n  File \"/home/opim/eplu/.virtualenvs/jupyterlab-py36/lib/python3.6/site-packages/IPython/core/interactiveshell.py\", line 2903, in run_ast_nodes\n    if self.run_code(code, result):\n  File \"/home/opim/eplu/.virtualenvs/jupyterlab-py36/lib/python3.6/site-packages/IPython/core/interactiveshell.py\", line 2963, in run_code\n    exec(code_obj, self.user_global_ns, self.user_ns)\n  File \"<ipython-input-15-e4494eb7596d>\", line 1, in <module>\n    next_el = iterator.get_next()\n  File \"/home/opim/eplu/.virtualenvs/jupyterlab-py36/lib/python3.6/site-packages/tensorflow/python/data/ops/iterator_ops.py\", line 370, in get_next\n    name=name)), self._output_types,\n  File \"/home/opim/eplu/.virtualenvs/jupyterlab-py36/lib/python3.6/site-packages/tensorflow/python/ops/gen_dataset_ops.py\", line 1466, in iterator_get_next\n    output_shapes=output_shapes, name=name)\n  File \"/home/opim/eplu/.virtualenvs/jupyterlab-py36/lib/python3.6/site-packages/tensorflow/python/framework/op_def_library.py\", line 787, in _apply_op_helper\n    op_def=op_def)\n  File \"/home/opim/eplu/.virtualenvs/jupyterlab-py36/lib/python3.6/site-packages/tensorflow/python/framework/ops.py\", line 3392, in create_op\n    op_def=op_def)\n  File \"/home/opim/eplu/.virtualenvs/jupyterlab-py36/lib/python3.6/site-packages/tensorflow/python/framework/ops.py\", line 1718, in __init__\n    self._traceback = self._graph._extract_stack()  # pylint: disable=protected-access\n\nFailedPreconditionError (see above for traceback): GetNext() failed because the iterator has not been initialized. Ensure that you have run the initializer operation for this iterator before getting the next element.\n\t [[Node: IteratorGetNext = IteratorGetNext[output_shapes=[[?], [?,3,4], [?,3]], output_types=[DT_INT64, DT_INT64, DT_INT64], _device=\"/job:localhost/replica:0/task:0/device:CPU:0\"](Iterator)]]\n",
     "output_type": "error",
     "traceback": [
      "\u001b[0;31m---------------------------------------------------------------------------\u001b[0m",
      "\u001b[0;31mFailedPreconditionError\u001b[0m                   Traceback (most recent call last)",
      "\u001b[0;32m~/.virtualenvs/jupyterlab-py36/lib/python3.6/site-packages/tensorflow/python/client/session.py\u001b[0m in \u001b[0;36m_do_call\u001b[0;34m(self, fn, *args)\u001b[0m\n\u001b[1;32m   1321\u001b[0m     \u001b[0;32mtry\u001b[0m\u001b[0;34m:\u001b[0m\u001b[0;34m\u001b[0m\u001b[0m\n\u001b[0;32m-> 1322\u001b[0;31m       \u001b[0;32mreturn\u001b[0m \u001b[0mfn\u001b[0m\u001b[0;34m(\u001b[0m\u001b[0;34m*\u001b[0m\u001b[0margs\u001b[0m\u001b[0;34m)\u001b[0m\u001b[0;34m\u001b[0m\u001b[0m\n\u001b[0m\u001b[1;32m   1323\u001b[0m     \u001b[0;32mexcept\u001b[0m \u001b[0merrors\u001b[0m\u001b[0;34m.\u001b[0m\u001b[0mOpError\u001b[0m \u001b[0;32mas\u001b[0m \u001b[0me\u001b[0m\u001b[0;34m:\u001b[0m\u001b[0;34m\u001b[0m\u001b[0m\n",
      "\u001b[0;32m~/.virtualenvs/jupyterlab-py36/lib/python3.6/site-packages/tensorflow/python/client/session.py\u001b[0m in \u001b[0;36m_run_fn\u001b[0;34m(feed_dict, fetch_list, target_list, options, run_metadata)\u001b[0m\n\u001b[1;32m   1306\u001b[0m       return self._call_tf_sessionrun(\n\u001b[0;32m-> 1307\u001b[0;31m           options, feed_dict, fetch_list, target_list, run_metadata)\n\u001b[0m\u001b[1;32m   1308\u001b[0m \u001b[0;34m\u001b[0m\u001b[0m\n",
      "\u001b[0;32m~/.virtualenvs/jupyterlab-py36/lib/python3.6/site-packages/tensorflow/python/client/session.py\u001b[0m in \u001b[0;36m_call_tf_sessionrun\u001b[0;34m(self, options, feed_dict, fetch_list, target_list, run_metadata)\u001b[0m\n\u001b[1;32m   1408\u001b[0m           \u001b[0mself\u001b[0m\u001b[0;34m.\u001b[0m\u001b[0m_session\u001b[0m\u001b[0;34m,\u001b[0m \u001b[0moptions\u001b[0m\u001b[0;34m,\u001b[0m \u001b[0mfeed_dict\u001b[0m\u001b[0;34m,\u001b[0m \u001b[0mfetch_list\u001b[0m\u001b[0;34m,\u001b[0m \u001b[0mtarget_list\u001b[0m\u001b[0;34m,\u001b[0m\u001b[0;34m\u001b[0m\u001b[0m\n\u001b[0;32m-> 1409\u001b[0;31m           run_metadata)\n\u001b[0m\u001b[1;32m   1410\u001b[0m     \u001b[0;32melse\u001b[0m\u001b[0;34m:\u001b[0m\u001b[0;34m\u001b[0m\u001b[0m\n",
      "\u001b[0;31mFailedPreconditionError\u001b[0m: GetNext() failed because the iterator has not been initialized. Ensure that you have run the initializer operation for this iterator before getting the next element.\n\t [[Node: IteratorGetNext = IteratorGetNext[output_shapes=[[?], [?,3,4], [?,3]], output_types=[DT_INT64, DT_INT64, DT_INT64], _device=\"/job:localhost/replica:0/task:0/device:CPU:0\"](Iterator)]]",
      "\nDuring handling of the above exception, another exception occurred:\n",
      "\u001b[0;31mFailedPreconditionError\u001b[0m                   Traceback (most recent call last)",
      "\u001b[0;32m<ipython-input-16-f8510a1afe97>\u001b[0m in \u001b[0;36m<module>\u001b[0;34m()\u001b[0m\n\u001b[1;32m      1\u001b[0m \u001b[0msess\u001b[0m \u001b[0;34m=\u001b[0m \u001b[0mtf\u001b[0m\u001b[0;34m.\u001b[0m\u001b[0mSession\u001b[0m\u001b[0;34m(\u001b[0m\u001b[0;34m)\u001b[0m\u001b[0;34m\u001b[0m\u001b[0m\n\u001b[0;32m----> 2\u001b[0;31m \u001b[0mvalue\u001b[0m \u001b[0;34m=\u001b[0m \u001b[0msess\u001b[0m\u001b[0;34m.\u001b[0m\u001b[0mrun\u001b[0m\u001b[0;34m(\u001b[0m\u001b[0mnext_el\u001b[0m\u001b[0;34m)\u001b[0m\u001b[0;34m\u001b[0m\u001b[0m\n\u001b[0m\u001b[1;32m      3\u001b[0m \u001b[0msess\u001b[0m\u001b[0;34m.\u001b[0m\u001b[0mclose\u001b[0m\u001b[0;34m(\u001b[0m\u001b[0;34m)\u001b[0m\u001b[0;34m\u001b[0m\u001b[0m\n\u001b[1;32m      4\u001b[0m \u001b[0mprint\u001b[0m\u001b[0;34m(\u001b[0m\u001b[0mvalue\u001b[0m\u001b[0;34m)\u001b[0m\u001b[0;34m\u001b[0m\u001b[0m\n",
      "\u001b[0;32m~/.virtualenvs/jupyterlab-py36/lib/python3.6/site-packages/tensorflow/python/client/session.py\u001b[0m in \u001b[0;36mrun\u001b[0;34m(self, fetches, feed_dict, options, run_metadata)\u001b[0m\n\u001b[1;32m    898\u001b[0m     \u001b[0;32mtry\u001b[0m\u001b[0;34m:\u001b[0m\u001b[0;34m\u001b[0m\u001b[0m\n\u001b[1;32m    899\u001b[0m       result = self._run(None, fetches, feed_dict, options_ptr,\n\u001b[0;32m--> 900\u001b[0;31m                          run_metadata_ptr)\n\u001b[0m\u001b[1;32m    901\u001b[0m       \u001b[0;32mif\u001b[0m \u001b[0mrun_metadata\u001b[0m\u001b[0;34m:\u001b[0m\u001b[0;34m\u001b[0m\u001b[0m\n\u001b[1;32m    902\u001b[0m         \u001b[0mproto_data\u001b[0m \u001b[0;34m=\u001b[0m \u001b[0mtf_session\u001b[0m\u001b[0;34m.\u001b[0m\u001b[0mTF_GetBuffer\u001b[0m\u001b[0;34m(\u001b[0m\u001b[0mrun_metadata_ptr\u001b[0m\u001b[0;34m)\u001b[0m\u001b[0;34m\u001b[0m\u001b[0m\n",
      "\u001b[0;32m~/.virtualenvs/jupyterlab-py36/lib/python3.6/site-packages/tensorflow/python/client/session.py\u001b[0m in \u001b[0;36m_run\u001b[0;34m(self, handle, fetches, feed_dict, options, run_metadata)\u001b[0m\n\u001b[1;32m   1133\u001b[0m     \u001b[0;32mif\u001b[0m \u001b[0mfinal_fetches\u001b[0m \u001b[0;32mor\u001b[0m \u001b[0mfinal_targets\u001b[0m \u001b[0;32mor\u001b[0m \u001b[0;34m(\u001b[0m\u001b[0mhandle\u001b[0m \u001b[0;32mand\u001b[0m \u001b[0mfeed_dict_tensor\u001b[0m\u001b[0;34m)\u001b[0m\u001b[0;34m:\u001b[0m\u001b[0;34m\u001b[0m\u001b[0m\n\u001b[1;32m   1134\u001b[0m       results = self._do_run(handle, final_targets, final_fetches,\n\u001b[0;32m-> 1135\u001b[0;31m                              feed_dict_tensor, options, run_metadata)\n\u001b[0m\u001b[1;32m   1136\u001b[0m     \u001b[0;32melse\u001b[0m\u001b[0;34m:\u001b[0m\u001b[0;34m\u001b[0m\u001b[0m\n\u001b[1;32m   1137\u001b[0m       \u001b[0mresults\u001b[0m \u001b[0;34m=\u001b[0m \u001b[0;34m[\u001b[0m\u001b[0;34m]\u001b[0m\u001b[0;34m\u001b[0m\u001b[0m\n",
      "\u001b[0;32m~/.virtualenvs/jupyterlab-py36/lib/python3.6/site-packages/tensorflow/python/client/session.py\u001b[0m in \u001b[0;36m_do_run\u001b[0;34m(self, handle, target_list, fetch_list, feed_dict, options, run_metadata)\u001b[0m\n\u001b[1;32m   1314\u001b[0m     \u001b[0;32mif\u001b[0m \u001b[0mhandle\u001b[0m \u001b[0;32mis\u001b[0m \u001b[0;32mNone\u001b[0m\u001b[0;34m:\u001b[0m\u001b[0;34m\u001b[0m\u001b[0m\n\u001b[1;32m   1315\u001b[0m       return self._do_call(_run_fn, feeds, fetches, targets, options,\n\u001b[0;32m-> 1316\u001b[0;31m                            run_metadata)\n\u001b[0m\u001b[1;32m   1317\u001b[0m     \u001b[0;32melse\u001b[0m\u001b[0;34m:\u001b[0m\u001b[0;34m\u001b[0m\u001b[0m\n\u001b[1;32m   1318\u001b[0m       \u001b[0;32mreturn\u001b[0m \u001b[0mself\u001b[0m\u001b[0;34m.\u001b[0m\u001b[0m_do_call\u001b[0m\u001b[0;34m(\u001b[0m\u001b[0m_prun_fn\u001b[0m\u001b[0;34m,\u001b[0m \u001b[0mhandle\u001b[0m\u001b[0;34m,\u001b[0m \u001b[0mfeeds\u001b[0m\u001b[0;34m,\u001b[0m \u001b[0mfetches\u001b[0m\u001b[0;34m)\u001b[0m\u001b[0;34m\u001b[0m\u001b[0m\n",
      "\u001b[0;32m~/.virtualenvs/jupyterlab-py36/lib/python3.6/site-packages/tensorflow/python/client/session.py\u001b[0m in \u001b[0;36m_do_call\u001b[0;34m(self, fn, *args)\u001b[0m\n\u001b[1;32m   1333\u001b[0m         \u001b[0;32mexcept\u001b[0m \u001b[0mKeyError\u001b[0m\u001b[0;34m:\u001b[0m\u001b[0;34m\u001b[0m\u001b[0m\n\u001b[1;32m   1334\u001b[0m           \u001b[0;32mpass\u001b[0m\u001b[0;34m\u001b[0m\u001b[0m\n\u001b[0;32m-> 1335\u001b[0;31m       \u001b[0;32mraise\u001b[0m \u001b[0mtype\u001b[0m\u001b[0;34m(\u001b[0m\u001b[0me\u001b[0m\u001b[0;34m)\u001b[0m\u001b[0;34m(\u001b[0m\u001b[0mnode_def\u001b[0m\u001b[0;34m,\u001b[0m \u001b[0mop\u001b[0m\u001b[0;34m,\u001b[0m \u001b[0mmessage\u001b[0m\u001b[0;34m)\u001b[0m\u001b[0;34m\u001b[0m\u001b[0m\n\u001b[0m\u001b[1;32m   1336\u001b[0m \u001b[0;34m\u001b[0m\u001b[0m\n\u001b[1;32m   1337\u001b[0m   \u001b[0;32mdef\u001b[0m \u001b[0m_extend_graph\u001b[0m\u001b[0;34m(\u001b[0m\u001b[0mself\u001b[0m\u001b[0;34m)\u001b[0m\u001b[0;34m:\u001b[0m\u001b[0;34m\u001b[0m\u001b[0m\n",
      "\u001b[0;31mFailedPreconditionError\u001b[0m: GetNext() failed because the iterator has not been initialized. Ensure that you have run the initializer operation for this iterator before getting the next element.\n\t [[Node: IteratorGetNext = IteratorGetNext[output_shapes=[[?], [?,3,4], [?,3]], output_types=[DT_INT64, DT_INT64, DT_INT64], _device=\"/job:localhost/replica:0/task:0/device:CPU:0\"](Iterator)]]\n\nCaused by op 'IteratorGetNext', defined at:\n  File \"/opt/rh/rh-python36/root/usr/lib64/python3.6/runpy.py\", line 193, in _run_module_as_main\n    \"__main__\", mod_spec)\n  File \"/opt/rh/rh-python36/root/usr/lib64/python3.6/runpy.py\", line 85, in _run_code\n    exec(code, run_globals)\n  File \"/home/opim/eplu/.virtualenvs/jupyterlab-py36/lib/python3.6/site-packages/ipykernel_launcher.py\", line 16, in <module>\n    app.launch_new_instance()\n  File \"/home/opim/eplu/.virtualenvs/jupyterlab-py36/lib/python3.6/site-packages/traitlets/config/application.py\", line 658, in launch_instance\n    app.start()\n  File \"/home/opim/eplu/.virtualenvs/jupyterlab-py36/lib/python3.6/site-packages/ipykernel/kernelapp.py\", line 486, in start\n    self.io_loop.start()\n  File \"/home/opim/eplu/.virtualenvs/jupyterlab-py36/lib/python3.6/site-packages/tornado/platform/asyncio.py\", line 127, in start\n    self.asyncio_loop.run_forever()\n  File \"/opt/rh/rh-python36/root/usr/lib64/python3.6/asyncio/base_events.py\", line 421, in run_forever\n    self._run_once()\n  File \"/opt/rh/rh-python36/root/usr/lib64/python3.6/asyncio/base_events.py\", line 1426, in _run_once\n    handle._run()\n  File \"/opt/rh/rh-python36/root/usr/lib64/python3.6/asyncio/events.py\", line 127, in _run\n    self._callback(*self._args)\n  File \"/home/opim/eplu/.virtualenvs/jupyterlab-py36/lib/python3.6/site-packages/tornado/platform/asyncio.py\", line 117, in _handle_events\n    handler_func(fileobj, events)\n  File \"/home/opim/eplu/.virtualenvs/jupyterlab-py36/lib/python3.6/site-packages/tornado/stack_context.py\", line 276, in null_wrapper\n    return fn(*args, **kwargs)\n  File \"/home/opim/eplu/.virtualenvs/jupyterlab-py36/lib/python3.6/site-packages/zmq/eventloop/zmqstream.py\", line 450, in _handle_events\n    self._handle_recv()\n  File \"/home/opim/eplu/.virtualenvs/jupyterlab-py36/lib/python3.6/site-packages/zmq/eventloop/zmqstream.py\", line 480, in _handle_recv\n    self._run_callback(callback, msg)\n  File \"/home/opim/eplu/.virtualenvs/jupyterlab-py36/lib/python3.6/site-packages/zmq/eventloop/zmqstream.py\", line 432, in _run_callback\n    callback(*args, **kwargs)\n  File \"/home/opim/eplu/.virtualenvs/jupyterlab-py36/lib/python3.6/site-packages/tornado/stack_context.py\", line 276, in null_wrapper\n    return fn(*args, **kwargs)\n  File \"/home/opim/eplu/.virtualenvs/jupyterlab-py36/lib/python3.6/site-packages/ipykernel/kernelbase.py\", line 283, in dispatcher\n    return self.dispatch_shell(stream, msg)\n  File \"/home/opim/eplu/.virtualenvs/jupyterlab-py36/lib/python3.6/site-packages/ipykernel/kernelbase.py\", line 233, in dispatch_shell\n    handler(stream, idents, msg)\n  File \"/home/opim/eplu/.virtualenvs/jupyterlab-py36/lib/python3.6/site-packages/ipykernel/kernelbase.py\", line 399, in execute_request\n    user_expressions, allow_stdin)\n  File \"/home/opim/eplu/.virtualenvs/jupyterlab-py36/lib/python3.6/site-packages/ipykernel/ipkernel.py\", line 208, in do_execute\n    res = shell.run_cell(code, store_history=store_history, silent=silent)\n  File \"/home/opim/eplu/.virtualenvs/jupyterlab-py36/lib/python3.6/site-packages/ipykernel/zmqshell.py\", line 537, in run_cell\n    return super(ZMQInteractiveShell, self).run_cell(*args, **kwargs)\n  File \"/home/opim/eplu/.virtualenvs/jupyterlab-py36/lib/python3.6/site-packages/IPython/core/interactiveshell.py\", line 2662, in run_cell\n    raw_cell, store_history, silent, shell_futures)\n  File \"/home/opim/eplu/.virtualenvs/jupyterlab-py36/lib/python3.6/site-packages/IPython/core/interactiveshell.py\", line 2785, in _run_cell\n    interactivity=interactivity, compiler=compiler, result=result)\n  File \"/home/opim/eplu/.virtualenvs/jupyterlab-py36/lib/python3.6/site-packages/IPython/core/interactiveshell.py\", line 2903, in run_ast_nodes\n    if self.run_code(code, result):\n  File \"/home/opim/eplu/.virtualenvs/jupyterlab-py36/lib/python3.6/site-packages/IPython/core/interactiveshell.py\", line 2963, in run_code\n    exec(code_obj, self.user_global_ns, self.user_ns)\n  File \"<ipython-input-15-e4494eb7596d>\", line 1, in <module>\n    next_el = iterator.get_next()\n  File \"/home/opim/eplu/.virtualenvs/jupyterlab-py36/lib/python3.6/site-packages/tensorflow/python/data/ops/iterator_ops.py\", line 370, in get_next\n    name=name)), self._output_types,\n  File \"/home/opim/eplu/.virtualenvs/jupyterlab-py36/lib/python3.6/site-packages/tensorflow/python/ops/gen_dataset_ops.py\", line 1466, in iterator_get_next\n    output_shapes=output_shapes, name=name)\n  File \"/home/opim/eplu/.virtualenvs/jupyterlab-py36/lib/python3.6/site-packages/tensorflow/python/framework/op_def_library.py\", line 787, in _apply_op_helper\n    op_def=op_def)\n  File \"/home/opim/eplu/.virtualenvs/jupyterlab-py36/lib/python3.6/site-packages/tensorflow/python/framework/ops.py\", line 3392, in create_op\n    op_def=op_def)\n  File \"/home/opim/eplu/.virtualenvs/jupyterlab-py36/lib/python3.6/site-packages/tensorflow/python/framework/ops.py\", line 1718, in __init__\n    self._traceback = self._graph._extract_stack()  # pylint: disable=protected-access\n\nFailedPreconditionError (see above for traceback): GetNext() failed because the iterator has not been initialized. Ensure that you have run the initializer operation for this iterator before getting the next element.\n\t [[Node: IteratorGetNext = IteratorGetNext[output_shapes=[[?], [?,3,4], [?,3]], output_types=[DT_INT64, DT_INT64, DT_INT64], _device=\"/job:localhost/replica:0/task:0/device:CPU:0\"](Iterator)]]\n"
     ]
    }
   ],
   "source": [
    "sess = tf.Session("
   ]
  },
  {
   "cell_type": "code",
   "execution_count": null,
   "metadata": {},
   "outputs": [],
   "source": []
  }
 ],
 "metadata": {
  "kernelspec": {
   "display_name": "Python 3",
   "language": "python",
   "name": "python3"
  },
  "language_info": {
   "codemirror_mode": {
    "name": "ipython",
    "version": 3
   },
   "file_extension": ".py",
   "mimetype": "text/x-python",
   "name": "python",
   "nbconvert_exporter": "python",
   "pygments_lexer": "ipython3",
   "version": "3.6.3"
  }
 },
 "nbformat": 4,
 "nbformat_minor": 2
}
