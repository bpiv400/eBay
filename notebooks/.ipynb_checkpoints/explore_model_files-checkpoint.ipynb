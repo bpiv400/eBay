{
 "cells": [
  {
   "cell_type": "code",
   "execution_count": 47,
   "metadata": {},
   "outputs": [
    {
     "data": {
      "text/plain": [
       "<module 'utils' from 'A:\\\\Dropbox\\\\eBay\\\\repo\\\\utils.py'>"
      ]
     },
     "execution_count": 47,
     "metadata": {},
     "output_type": "execute_result"
    }
   ],
   "source": [
    "# imports\n",
    "import os\n",
    "import pickle\n",
    "import torch\n",
    "import importlib\n",
    "import constants\n",
    "import utils\n",
    "from rlenv.model_names import *\n",
    "import pandas as pd\n",
    "from simulator.nets import FeedForward\n",
    "importlib.reload(constants)\n",
    "importlib.reload(utils)"
   ]
  },
  {
   "cell_type": "markdown",
   "metadata": {},
   "source": [
    "### Attempting to load model"
   ]
  },
  {
   "cell_type": "code",
   "execution_count": 2,
   "metadata": {},
   "outputs": [],
   "source": [
    "path = 'models'\n",
    "os.chdir('A:/dropbox/ebay/') # BARRY'S Working directory"
   ]
  },
  {
   "cell_type": "code",
   "execution_count": 50,
   "metadata": {},
   "outputs": [],
   "source": [
    "# loads a model given its name\n",
    "def load_model(model_type, model_name):\n",
    "    dir_path = '{}/{}/{}/'.format(path, model_type, model_name)\n",
    "    info_path = '{}featnames.pkl'.format(dir_path)\n",
    "    model_path = '{}1.pt'.format(dir_path )\n",
    "    info = pickle.load(open(info_path, 'rb'))\n",
    "    model = torch.load(model_path)\n",
    "    return info, model\n",
    "\n",
    "def load_params(model_type, model_name):\n",
    "    dir_path = '{}/{}/{}/'.format(path, model_type, model_name)\n",
    "    params_path = '{}params.csv'.format(dir_path)\n",
    "    sizes_path = '{}sizes.pkl'.format(dir_path)\n",
    "    params = pd.read_csv(params_path, index_col='id')\n",
    "    sizes = utils.unpickle(sizes_path)\n",
    "    return params, sizes\n",
    "\n",
    "def load_featnames(model_type, model_name):\n",
    "    dir_path = '{}/{}/{}/'.format(path, model_type, model_name)\n",
    "    featnames_path = '{}featnames.pkl'.format(dir_path)\n",
    "    featnames_dict = utils.unpickle(featnames_path)\n",
    "    return featnames_dict\n",
    "\n",
    "# gets types of everything in dict\n",
    "def dict_types(input_dict):\n",
    "    for key, value in input_dict.items():\n",
    "        print('{}: {}'.format(key, type(value)))\n",
    "        \n",
    "        \n",
    "def print_model_fixed(model_type, model_name):\n",
    "    info, model = load_model(model_type, model_name)\n",
    "    for info_element in info:\n",
    "        for key, val in info_element.items():\n",
    "            print('feature type: {}'.format(key))\n",
    "            try:\n",
    "                for col in val:\n",
    "                    print(col)\n",
    "            except:\n",
    "                print(val)\n",
    "    return set([el for el in info[0]['x_fixed']])\n",
    "    "
   ]
  },
  {
   "cell_type": "code",
   "execution_count": 21,
   "metadata": {},
   "outputs": [],
   "source": [
    "# arrival bin\n",
    "ab_info, ab_model = load_model('arrival', 'bin')"
   ]
  },
  {
   "cell_type": "code",
   "execution_count": 22,
   "metadata": {},
   "outputs": [
    {
     "data": {
      "text/plain": [
       "{'x_fixed': Index(['start_days', 'holiday', 'dow0', 'dow1', 'dow2', 'dow3', 'dow4', 'dow5',\n",
       "        'tf_slr_lstgs_open', 'tf_slr_lstgs',\n",
       "        ...\n",
       "        'focal_days', 'focal_holiday', 'focal_dow0', 'focal_dow1', 'focal_dow2',\n",
       "        'focal_dow3', 'focal_dow4', 'focal_dow5', 'byr_us', 'byr_hist'],\n",
       "       dtype='object', length=134)}"
      ]
     },
     "execution_count": 22,
     "metadata": {},
     "output_type": "execute_result"
    }
   ],
   "source": [
    "ab_info"
   ]
  },
  {
   "cell_type": "code",
   "execution_count": 17,
   "metadata": {},
   "outputs": [],
   "source": [
    "ab_params, ab_sizes = load_params('arrival', 'bin')"
   ]
  },
  {
   "cell_type": "code",
   "execution_count": 18,
   "metadata": {},
   "outputs": [
    {
     "data": {
      "text/html": [
       "<div>\n",
       "<style scoped>\n",
       "    .dataframe tbody tr th:only-of-type {\n",
       "        vertical-align: middle;\n",
       "    }\n",
       "\n",
       "    .dataframe tbody tr th {\n",
       "        vertical-align: top;\n",
       "    }\n",
       "\n",
       "    .dataframe thead th {\n",
       "        text-align: right;\n",
       "    }\n",
       "</style>\n",
       "<table border=\"1\" class=\"dataframe\">\n",
       "  <thead>\n",
       "    <tr style=\"text-align: right;\">\n",
       "      <th></th>\n",
       "      <th>ff_hidden</th>\n",
       "      <th>ff_layers</th>\n",
       "    </tr>\n",
       "    <tr>\n",
       "      <th>id</th>\n",
       "      <th></th>\n",
       "      <th></th>\n",
       "    </tr>\n",
       "  </thead>\n",
       "  <tbody>\n",
       "    <tr>\n",
       "      <td>1</td>\n",
       "      <td>16</td>\n",
       "      <td>2</td>\n",
       "    </tr>\n",
       "    <tr>\n",
       "      <td>2</td>\n",
       "      <td>16</td>\n",
       "      <td>3</td>\n",
       "    </tr>\n",
       "    <tr>\n",
       "      <td>3</td>\n",
       "      <td>16</td>\n",
       "      <td>4</td>\n",
       "    </tr>\n",
       "    <tr>\n",
       "      <td>4</td>\n",
       "      <td>16</td>\n",
       "      <td>5</td>\n",
       "    </tr>\n",
       "    <tr>\n",
       "      <td>5</td>\n",
       "      <td>32</td>\n",
       "      <td>2</td>\n",
       "    </tr>\n",
       "    <tr>\n",
       "      <td>6</td>\n",
       "      <td>32</td>\n",
       "      <td>3</td>\n",
       "    </tr>\n",
       "    <tr>\n",
       "      <td>7</td>\n",
       "      <td>32</td>\n",
       "      <td>4</td>\n",
       "    </tr>\n",
       "    <tr>\n",
       "      <td>8</td>\n",
       "      <td>32</td>\n",
       "      <td>5</td>\n",
       "    </tr>\n",
       "    <tr>\n",
       "      <td>9</td>\n",
       "      <td>64</td>\n",
       "      <td>2</td>\n",
       "    </tr>\n",
       "    <tr>\n",
       "      <td>10</td>\n",
       "      <td>64</td>\n",
       "      <td>3</td>\n",
       "    </tr>\n",
       "    <tr>\n",
       "      <td>11</td>\n",
       "      <td>64</td>\n",
       "      <td>4</td>\n",
       "    </tr>\n",
       "    <tr>\n",
       "      <td>12</td>\n",
       "      <td>64</td>\n",
       "      <td>5</td>\n",
       "    </tr>\n",
       "    <tr>\n",
       "      <td>13</td>\n",
       "      <td>128</td>\n",
       "      <td>2</td>\n",
       "    </tr>\n",
       "    <tr>\n",
       "      <td>14</td>\n",
       "      <td>128</td>\n",
       "      <td>3</td>\n",
       "    </tr>\n",
       "    <tr>\n",
       "      <td>15</td>\n",
       "      <td>128</td>\n",
       "      <td>4</td>\n",
       "    </tr>\n",
       "    <tr>\n",
       "      <td>16</td>\n",
       "      <td>128</td>\n",
       "      <td>5</td>\n",
       "    </tr>\n",
       "    <tr>\n",
       "      <td>17</td>\n",
       "      <td>256</td>\n",
       "      <td>2</td>\n",
       "    </tr>\n",
       "    <tr>\n",
       "      <td>18</td>\n",
       "      <td>256</td>\n",
       "      <td>3</td>\n",
       "    </tr>\n",
       "    <tr>\n",
       "      <td>19</td>\n",
       "      <td>256</td>\n",
       "      <td>4</td>\n",
       "    </tr>\n",
       "    <tr>\n",
       "      <td>20</td>\n",
       "      <td>256</td>\n",
       "      <td>5</td>\n",
       "    </tr>\n",
       "    <tr>\n",
       "      <td>21</td>\n",
       "      <td>512</td>\n",
       "      <td>2</td>\n",
       "    </tr>\n",
       "    <tr>\n",
       "      <td>22</td>\n",
       "      <td>512</td>\n",
       "      <td>3</td>\n",
       "    </tr>\n",
       "    <tr>\n",
       "      <td>23</td>\n",
       "      <td>512</td>\n",
       "      <td>4</td>\n",
       "    </tr>\n",
       "    <tr>\n",
       "      <td>24</td>\n",
       "      <td>512</td>\n",
       "      <td>5</td>\n",
       "    </tr>\n",
       "    <tr>\n",
       "      <td>25</td>\n",
       "      <td>1024</td>\n",
       "      <td>2</td>\n",
       "    </tr>\n",
       "    <tr>\n",
       "      <td>26</td>\n",
       "      <td>1024</td>\n",
       "      <td>3</td>\n",
       "    </tr>\n",
       "    <tr>\n",
       "      <td>27</td>\n",
       "      <td>1024</td>\n",
       "      <td>4</td>\n",
       "    </tr>\n",
       "    <tr>\n",
       "      <td>28</td>\n",
       "      <td>1024</td>\n",
       "      <td>5</td>\n",
       "    </tr>\n",
       "  </tbody>\n",
       "</table>\n",
       "</div>"
      ],
      "text/plain": [
       "    ff_hidden  ff_layers\n",
       "id                      \n",
       "1          16          2\n",
       "2          16          3\n",
       "3          16          4\n",
       "4          16          5\n",
       "5          32          2\n",
       "6          32          3\n",
       "7          32          4\n",
       "8          32          5\n",
       "9          64          2\n",
       "10         64          3\n",
       "11         64          4\n",
       "12         64          5\n",
       "13        128          2\n",
       "14        128          3\n",
       "15        128          4\n",
       "16        128          5\n",
       "17        256          2\n",
       "18        256          3\n",
       "19        256          4\n",
       "20        256          5\n",
       "21        512          2\n",
       "22        512          3\n",
       "23        512          4\n",
       "24        512          5\n",
       "25       1024          2\n",
       "26       1024          3\n",
       "27       1024          4\n",
       "28       1024          5"
      ]
     },
     "execution_count": 18,
     "metadata": {},
     "output_type": "execute_result"
    }
   ],
   "source": [
    "ab_params"
   ]
  },
  {
   "cell_type": "code",
   "execution_count": 30,
   "metadata": {},
   "outputs": [],
   "source": [
    "params = ab_params.loc[1].to_dict()"
   ]
  },
  {
   "cell_type": "code",
   "execution_count": 31,
   "metadata": {},
   "outputs": [],
   "source": [
    "net = FeedForward(params, ab_sizes, toRNN=False)"
   ]
  },
  {
   "cell_type": "code",
   "execution_count": 32,
   "metadata": {},
   "outputs": [
    {
     "data": {
      "text/plain": [
       "{'ff_hidden': 16, 'ff_layers': 2}"
      ]
     },
     "execution_count": 32,
     "metadata": {},
     "output_type": "execute_result"
    }
   ],
   "source": [
    "params"
   ]
  },
  {
   "cell_type": "code",
   "execution_count": 33,
   "metadata": {},
   "outputs": [
    {
     "data": {
      "text/plain": [
       "{'fixed': 134, 'out': 1}"
      ]
     },
     "execution_count": 33,
     "metadata": {},
     "output_type": "execute_result"
    }
   ],
   "source": [
    "ab_sizes"
   ]
  },
  {
   "cell_type": "code",
   "execution_count": 43,
   "metadata": {},
   "outputs": [],
   "source": [
    "state_dict = torch.load('models/arrival/bin/1.pt')"
   ]
  },
  {
   "cell_type": "code",
   "execution_count": 44,
   "metadata": {},
   "outputs": [
    {
     "name": "stdout",
     "output_type": "stream",
     "text": [
      "seq.0.weight\n",
      "seq.0.bias\n",
      "seq.3.weight\n",
      "seq.3.bias\n"
     ]
    }
   ],
   "source": [
    "for el in state_dict:\n",
    "    print(el)"
   ]
  },
  {
   "cell_type": "code",
   "execution_count": 45,
   "metadata": {},
   "outputs": [
    {
     "name": "stdout",
     "output_type": "stream",
     "text": [
      "seq.0.weight\n",
      "seq.0.bias\n",
      "seq.3.weight\n",
      "seq.3.bias\n",
      "seq.5.weight\n",
      "seq.5.bias\n"
     ]
    }
   ],
   "source": [
    "for el in net.state_dict():\n",
    "    print(el)"
   ]
  },
  {
   "cell_type": "code",
   "execution_count": 46,
   "metadata": {},
   "outputs": [
    {
     "ename": "RuntimeError",
     "evalue": "Error(s) in loading state_dict for FeedForward:\n\tMissing key(s) in state_dict: \"seq.5.weight\", \"seq.5.bias\". \n\tsize mismatch for seq.3.weight: copying a param with shape torch.Size([1, 16]) from checkpoint, the shape in current model is torch.Size([16, 16]).\n\tsize mismatch for seq.3.bias: copying a param with shape torch.Size([1]) from checkpoint, the shape in current model is torch.Size([16]).",
     "output_type": "error",
     "traceback": [
      "\u001b[1;31m---------------------------------------------------------------------------\u001b[0m",
      "\u001b[1;31mRuntimeError\u001b[0m                              Traceback (most recent call last)",
      "\u001b[1;32m<ipython-input-46-058f43eee344>\u001b[0m in \u001b[0;36m<module>\u001b[1;34m\u001b[0m\n\u001b[1;32m----> 1\u001b[1;33m \u001b[0mnet\u001b[0m\u001b[1;33m.\u001b[0m\u001b[0mload_state_dict\u001b[0m\u001b[1;33m(\u001b[0m\u001b[0mtorch\u001b[0m\u001b[1;33m.\u001b[0m\u001b[0mload\u001b[0m\u001b[1;33m(\u001b[0m\u001b[1;34m'models/arrival/bin/2.pt'\u001b[0m\u001b[1;33m)\u001b[0m\u001b[1;33m)\u001b[0m\u001b[1;33m\u001b[0m\u001b[1;33m\u001b[0m\u001b[0m\n\u001b[0m",
      "\u001b[1;32m~\\Anaconda3\\envs\\ebay\\lib\\site-packages\\torch\\nn\\modules\\module.py\u001b[0m in \u001b[0;36mload_state_dict\u001b[1;34m(self, state_dict, strict)\u001b[0m\n\u001b[0;32m    843\u001b[0m         \u001b[1;32mif\u001b[0m \u001b[0mlen\u001b[0m\u001b[1;33m(\u001b[0m\u001b[0merror_msgs\u001b[0m\u001b[1;33m)\u001b[0m \u001b[1;33m>\u001b[0m \u001b[1;36m0\u001b[0m\u001b[1;33m:\u001b[0m\u001b[1;33m\u001b[0m\u001b[1;33m\u001b[0m\u001b[0m\n\u001b[0;32m    844\u001b[0m             raise RuntimeError('Error(s) in loading state_dict for {}:\\n\\t{}'.format(\n\u001b[1;32m--> 845\u001b[1;33m                                self.__class__.__name__, \"\\n\\t\".join(error_msgs)))\n\u001b[0m\u001b[0;32m    846\u001b[0m         \u001b[1;32mreturn\u001b[0m \u001b[0m_IncompatibleKeys\u001b[0m\u001b[1;33m(\u001b[0m\u001b[0mmissing_keys\u001b[0m\u001b[1;33m,\u001b[0m \u001b[0munexpected_keys\u001b[0m\u001b[1;33m)\u001b[0m\u001b[1;33m\u001b[0m\u001b[1;33m\u001b[0m\u001b[0m\n\u001b[0;32m    847\u001b[0m \u001b[1;33m\u001b[0m\u001b[0m\n",
      "\u001b[1;31mRuntimeError\u001b[0m: Error(s) in loading state_dict for FeedForward:\n\tMissing key(s) in state_dict: \"seq.5.weight\", \"seq.5.bias\". \n\tsize mismatch for seq.3.weight: copying a param with shape torch.Size([1, 16]) from checkpoint, the shape in current model is torch.Size([16, 16]).\n\tsize mismatch for seq.3.bias: copying a param with shape torch.Size([1]) from checkpoint, the shape in current model is torch.Size([16])."
     ]
    }
   ],
   "source": [
    "net.load_state_dict(torch.load('models/arrival/bin/2.pt'))"
   ]
  },
  {
   "cell_type": "code",
   "execution_count": 71,
   "metadata": {},
   "outputs": [],
   "source": [
    "def outer(n):\n",
    "    for i in range(n):\n",
    "        yield from inner(n, [i])\n",
    "        \n",
    "def inner(n, board):\n",
    "    if len(board) == n:\n",
    "        yield board\n",
    "    else:\n",
    "        for i in range(n):\n",
    "            if i not in board:\n",
    "                yield from inner(n, board + [i])\n",
    "            "
   ]
  },
  {
   "cell_type": "code",
   "execution_count": 85,
   "metadata": {},
   "outputs": [],
   "source": [
    "k = outer(4)"
   ]
  },
  {
   "cell_type": "code",
   "execution_count": 86,
   "metadata": {},
   "outputs": [
    {
     "name": "stdout",
     "output_type": "stream",
     "text": [
      "[0, 1, 2, 3]\n",
      "[0, 1, 3, 2]\n",
      "[0, 2, 1, 3]\n",
      "[0, 2, 3, 1]\n",
      "[0, 3, 1, 2]\n",
      "[0, 3, 2, 1]\n",
      "[1, 0, 2, 3]\n",
      "[1, 0, 3, 2]\n",
      "[1, 2, 0, 3]\n",
      "[1, 2, 3, 0]\n",
      "[1, 3, 0, 2]\n",
      "[1, 3, 2, 0]\n",
      "[2, 0, 1, 3]\n",
      "[2, 0, 3, 1]\n",
      "[2, 1, 0, 3]\n",
      "[2, 1, 3, 0]\n",
      "[2, 3, 0, 1]\n",
      "[2, 3, 1, 0]\n",
      "[3, 0, 1, 2]\n",
      "[3, 0, 2, 1]\n",
      "[3, 1, 0, 2]\n",
      "[3, 1, 2, 0]\n",
      "[3, 2, 0, 1]\n",
      "[3, 2, 1, 0]\n"
     ]
    }
   ],
   "source": [
    "for i, el in enumerate(k):\n",
    "    print(el)"
   ]
  },
  {
   "cell_type": "code",
   "execution_count": null,
   "metadata": {},
   "outputs": [],
   "source": []
  },
  {
   "cell_type": "code",
   "execution_count": null,
   "metadata": {},
   "outputs": [],
   "source": [
    "print(type(ab_info[0]))\n",
    "print(type(ab_info[1]))"
   ]
  },
  {
   "cell_type": "code",
   "execution_count": null,
   "metadata": {},
   "outputs": [],
   "source": [
    "print(ab_info[0])"
   ]
  },
  {
   "cell_type": "code",
   "execution_count": null,
   "metadata": {},
   "outputs": [],
   "source": [
    "for key, val in ab_info[0].items():\n",
    "    print('key:{}'.format(key))\n",
    "    for col in val:\n",
    "        print(col)\n",
    "        \n",
    "for key, val in ab_info[1].items():\n",
    "    print('key:{}'.format(key))\n",
    "    print(val)"
   ]
  },
  {
   "cell_type": "code",
   "execution_count": 11,
   "metadata": {},
   "outputs": [
    {
     "ename": "AttributeError",
     "evalue": "'str' object has no attribute 'items'",
     "output_type": "error",
     "traceback": [
      "\u001b[1;31m---------------------------------------------------------------------------\u001b[0m",
      "\u001b[1;31mAttributeError\u001b[0m                            Traceback (most recent call last)",
      "\u001b[1;32m<ipython-input-11-c54ffa678db5>\u001b[0m in \u001b[0;36m<module>\u001b[1;34m\u001b[0m\n\u001b[1;32m----> 1\u001b[1;33m \u001b[0mprint_model_fixed\u001b[0m\u001b[1;33m(\u001b[0m\u001b[1;34m'arrival'\u001b[0m\u001b[1;33m,\u001b[0m \u001b[1;34m'hist'\u001b[0m\u001b[1;33m)\u001b[0m\u001b[1;33m\u001b[0m\u001b[1;33m\u001b[0m\u001b[0m\n\u001b[0m\u001b[0;32m      2\u001b[0m \u001b[0mprint_model_fixed\u001b[0m\u001b[1;33m(\u001b[0m\u001b[1;34m'arrival'\u001b[0m\u001b[1;33m,\u001b[0m \u001b[1;34m'sec'\u001b[0m\u001b[1;33m)\u001b[0m\u001b[1;33m\u001b[0m\u001b[1;33m\u001b[0m\u001b[0m\n\u001b[0;32m      3\u001b[0m \u001b[0mprint_model_fixed\u001b[0m\u001b[1;33m(\u001b[0m\u001b[1;34m'arrival'\u001b[0m\u001b[1;33m,\u001b[0m \u001b[1;34m'bin'\u001b[0m\u001b[1;33m)\u001b[0m\u001b[1;33m\u001b[0m\u001b[1;33m\u001b[0m\u001b[0m\n",
      "\u001b[1;32m<ipython-input-7-ee211dd800ba>\u001b[0m in \u001b[0;36mprint_model_fixed\u001b[1;34m(model_type, model_name)\u001b[0m\n\u001b[0;32m     16\u001b[0m     \u001b[0minfo\u001b[0m\u001b[1;33m,\u001b[0m \u001b[0mmodel\u001b[0m \u001b[1;33m=\u001b[0m \u001b[0mload_model\u001b[0m\u001b[1;33m(\u001b[0m\u001b[0mmodel_type\u001b[0m\u001b[1;33m,\u001b[0m \u001b[0mmodel_name\u001b[0m\u001b[1;33m)\u001b[0m\u001b[1;33m\u001b[0m\u001b[1;33m\u001b[0m\u001b[0m\n\u001b[0;32m     17\u001b[0m     \u001b[1;32mfor\u001b[0m \u001b[0minfo_element\u001b[0m \u001b[1;32min\u001b[0m \u001b[0minfo\u001b[0m\u001b[1;33m:\u001b[0m\u001b[1;33m\u001b[0m\u001b[1;33m\u001b[0m\u001b[0m\n\u001b[1;32m---> 18\u001b[1;33m         \u001b[1;32mfor\u001b[0m \u001b[0mkey\u001b[0m\u001b[1;33m,\u001b[0m \u001b[0mval\u001b[0m \u001b[1;32min\u001b[0m \u001b[0minfo_element\u001b[0m\u001b[1;33m.\u001b[0m\u001b[0mitems\u001b[0m\u001b[1;33m(\u001b[0m\u001b[1;33m)\u001b[0m\u001b[1;33m:\u001b[0m\u001b[1;33m\u001b[0m\u001b[1;33m\u001b[0m\u001b[0m\n\u001b[0m\u001b[0;32m     19\u001b[0m             \u001b[0mprint\u001b[0m\u001b[1;33m(\u001b[0m\u001b[1;34m'feature type: {}'\u001b[0m\u001b[1;33m.\u001b[0m\u001b[0mformat\u001b[0m\u001b[1;33m(\u001b[0m\u001b[0mkey\u001b[0m\u001b[1;33m)\u001b[0m\u001b[1;33m)\u001b[0m\u001b[1;33m\u001b[0m\u001b[1;33m\u001b[0m\u001b[0m\n\u001b[0;32m     20\u001b[0m             \u001b[1;32mtry\u001b[0m\u001b[1;33m:\u001b[0m\u001b[1;33m\u001b[0m\u001b[1;33m\u001b[0m\u001b[0m\n",
      "\u001b[1;31mAttributeError\u001b[0m: 'str' object has no attribute 'items'"
     ]
    }
   ],
   "source": [
    "print_model_fixed('arrival', 'hist')\n",
    "print_model_fixed('arrival', 'sec')\n",
    "print_model_fixed('arrival', 'bin')"
   ]
  },
  {
   "cell_type": "code",
   "execution_count": null,
   "metadata": {},
   "outputs": [],
   "source": [
    "ab.load_state_dict(torch.load('{}/{}_1.pt'.format(path, 'arrival_bin')))"
   ]
  },
  {
   "cell_type": "code",
   "execution_count": null,
   "metadata": {},
   "outputs": [],
   "source": []
  },
  {
   "cell_type": "code",
   "execution_count": null,
   "metadata": {},
   "outputs": [],
   "source": [
    "# bin exploration\n",
    "sm_info, sm_model = load_model('slr', 'msg')"
   ]
  },
  {
   "cell_type": "code",
   "execution_count": null,
   "metadata": {},
   "outputs": [],
   "source": [
    "print(sm_info)"
   ]
  },
  {
   "cell_type": "code",
   "execution_count": 14,
   "metadata": {},
   "outputs": [],
   "source": [
    "days_featnames, days_model = load_model('arrival', 'days')"
   ]
  },
  {
   "cell_type": "code",
   "execution_count": 15,
   "metadata": {},
   "outputs": [
    {
     "data": {
      "text/plain": [
       "{'x_fixed': Index(['start_days', 'holiday', 'dow0', 'dow1', 'dow2', 'dow3', 'dow4', 'dow5',\n",
       "        'tf_slr_lstgs_open', 'tf_slr_lstgs',\n",
       "        ...\n",
       "        'meta29', 'meta30', 'meta31', 'meta32', 'meta33', 'meta34', 'new',\n",
       "        'used', 'refurb', 'wear'],\n",
       "       dtype='object', length=124),\n",
       " 'x_time': Index(['days', 'holiday', 'dow0', 'dow1', 'dow2', 'dow3', 'dow4', 'dow5'], dtype='object')}"
      ]
     },
     "execution_count": 15,
     "metadata": {},
     "output_type": "execute_result"
    }
   ],
   "source": [
    "days_featnames"
   ]
  },
  {
   "cell_type": "code",
   "execution_count": null,
   "metadata": {},
   "outputs": [],
   "source": [
    "for feat in days_featnames['x_fixed']:\n",
    "    print(feat)"
   ]
  },
  {
   "cell_type": "code",
   "execution_count": 19,
   "metadata": {},
   "outputs": [],
   "source": [
    "delay_featnames, delay_model = load_model('slr', 'delay')"
   ]
  },
  {
   "cell_type": "code",
   "execution_count": 20,
   "metadata": {},
   "outputs": [
    {
     "name": "stdout",
     "output_type": "stream",
     "text": [
      "182\n",
      "t1\n",
      "t2\n",
      "start_days\n",
      "holiday\n",
      "dow0\n",
      "dow1\n",
      "dow2\n",
      "dow3\n",
      "dow4\n",
      "dow5\n",
      "tf_slr_lstgs_open\n",
      "tf_slr_lstgs\n",
      "tf_slr_threads\n",
      "tf_slr_slr_offers\n",
      "tf_slr_byr_offers\n",
      "tf_slr_accepts\n",
      "tf_slr_accept_25\n",
      "tf_slr_accept_50\n",
      "tf_slr_accept_75\n",
      "tf_slr_accept_100\n",
      "tf_meta_lstgs_open\n",
      "tf_meta_lstgs\n",
      "tf_meta_threads\n",
      "tf_meta_slr_offers\n",
      "tf_meta_byr_offers\n",
      "tf_meta_accepts\n",
      "tf_meta_accept_25\n",
      "tf_meta_accept_50\n",
      "tf_meta_accept_75\n",
      "tf_meta_accept_100\n",
      "tf_leaf_lstgs_open\n",
      "tf_leaf_lstgs\n",
      "tf_leaf_threads\n",
      "tf_leaf_slr_offers\n",
      "tf_leaf_byr_offers\n",
      "tf_leaf_accepts\n",
      "tf_leaf_accept_25\n",
      "tf_leaf_accept_50\n",
      "tf_leaf_accept_75\n",
      "tf_leaf_accept_100\n",
      "tf_title_lstgs_open\n",
      "tf_title_lstgs\n",
      "tf_title_threads\n",
      "tf_title_slr_offers\n",
      "tf_title_byr_offers\n",
      "tf_title_accepts\n",
      "tf_title_accept_25\n",
      "tf_title_accept_50\n",
      "tf_title_accept_75\n",
      "tf_title_accept_100\n",
      "tf_cndtn_lstgs_open\n",
      "tf_cndtn_lstgs\n",
      "tf_cndtn_threads\n",
      "tf_cndtn_slr_offers\n",
      "tf_cndtn_byr_offers\n",
      "tf_cndtn_accepts\n",
      "tf_cndtn_accept_25\n",
      "tf_cndtn_accept_50\n",
      "tf_cndtn_accept_75\n",
      "tf_cndtn_accept_100\n",
      "relisted\n",
      "store\n",
      "slr_us\n",
      "fast\n",
      "photos\n",
      "slr_bos\n",
      "slr_lstgs\n",
      "fdbk_score\n",
      "fdbk_pstv\n",
      "fdbk_100\n",
      "start\n",
      "decline\n",
      "accept\n",
      "start_round\n",
      "start_nines\n",
      "decline_round\n",
      "decline_nines\n",
      "accept_round\n",
      "accept_nines\n",
      "has_decline\n",
      "has_accept\n",
      "auto_dist\n",
      "lda0\n",
      "lda1\n",
      "lda2\n",
      "lda3\n",
      "lda4\n",
      "lda5\n",
      "lda6\n",
      "meta1\n",
      "meta2\n",
      "meta3\n",
      "meta4\n",
      "meta5\n",
      "meta6\n",
      "meta7\n",
      "meta8\n",
      "meta9\n",
      "meta10\n",
      "meta11\n",
      "meta12\n",
      "meta13\n",
      "meta14\n",
      "meta15\n",
      "meta16\n",
      "meta17\n",
      "meta18\n",
      "meta20\n",
      "meta21\n",
      "meta22\n",
      "meta23\n",
      "meta24\n",
      "meta25\n",
      "meta26\n",
      "meta27\n",
      "meta28\n",
      "meta29\n",
      "meta30\n",
      "meta31\n",
      "meta32\n",
      "meta33\n",
      "meta34\n",
      "new\n",
      "used\n",
      "refurb\n",
      "wear\n",
      "byr_us\n",
      "byr_hist\n",
      "con_other\n",
      "norm_other\n",
      "reject_other\n",
      "split_other\n",
      "round_other\n",
      "nines_other\n",
      "msg_other\n",
      "delay_other\n",
      "auto_other\n",
      "exp_other\n",
      "days_other\n",
      "holiday_other\n",
      "dow0_other\n",
      "dow1_other\n",
      "dow2_other\n",
      "dow3_other\n",
      "dow4_other\n",
      "dow5_other\n",
      "minutes_other\n",
      "slr_offers_other\n",
      "slr_best_other\n",
      "slr_offers_open_other\n",
      "slr_best_open_other\n",
      "byr_offers_other\n",
      "byr_best_other\n",
      "byr_offers_open_other\n",
      "byr_best_open_other\n",
      "con_last\n",
      "norm_last\n",
      "reject_last\n",
      "split_last\n",
      "round_last\n",
      "nines_last\n",
      "msg_last\n",
      "delay_last\n",
      "auto_last\n",
      "exp_last\n",
      "days_last\n",
      "holiday_last\n",
      "dow0_last\n",
      "dow1_last\n",
      "dow2_last\n",
      "dow3_last\n",
      "dow4_last\n",
      "dow5_last\n",
      "minutes_last\n",
      "slr_offers_last\n",
      "slr_best_last\n",
      "slr_offers_open_last\n",
      "slr_best_open_last\n",
      "byr_offers_last\n",
      "byr_best_last\n",
      "byr_offers_open_last\n",
      "byr_best_open_last\n"
     ]
    }
   ],
   "source": [
    "print(len(delay_featnames['x_fixed']))\n",
    "for feat in delay_featnames['x_fixed']:\n",
    "    print(feat)"
   ]
  },
  {
   "cell_type": "markdown",
   "metadata": {},
   "source": [
    "### Exploring RL Inputs"
   ]
  },
  {
   "cell_type": "code",
   "execution_count": null,
   "metadata": {},
   "outputs": [],
   "source": [
    "data_path = 'data/partitions/train_rl'\n",
    "x_path = '{}/x_lstg_cols.pkl'.format(data_path)"
   ]
  },
  {
   "cell_type": "code",
   "execution_count": null,
   "metadata": {},
   "outputs": [],
   "source": [
    "x = utils.unpickle(x_path)"
   ]
  },
  {
   "cell_type": "code",
   "execution_count": null,
   "metadata": {},
   "outputs": [],
   "source": [
    "print(type(x))\n",
    "print(len(x))"
   ]
  },
  {
   "cell_type": "code",
   "execution_count": null,
   "metadata": {},
   "outputs": [],
   "source": [
    "x_lstg = [el for el in x]\n",
    "ab_info_inputs = [el for el in ab_info[0]['x_fixed']]\n",
    "x_lstg = set(x_lstg)\n",
    "ab_info_inputs = set(ab_info_inputs)"
   ]
  },
  {
   "cell_type": "code",
   "execution_count": null,
   "metadata": {},
   "outputs": [],
   "source": [
    "# elements in arrival bin model that aren't in the x_lstg object\n",
    "# significant that it includes dow0,...and focal_dow0\n",
    "print(ab_info_inputs.difference(x_lstg))"
   ]
  },
  {
   "cell_type": "code",
   "execution_count": null,
   "metadata": {},
   "outputs": [],
   "source": [
    "days = [el for el in ab_info_inputs if 'days' in el]\n",
    "days"
   ]
  },
  {
   "cell_type": "code",
   "execution_count": null,
   "metadata": {},
   "outputs": [],
   "source": [
    "# elements in x_lstg object that aren't in arrival bin model\n",
    "print(x_lstg.difference(ab_info_inputs))"
   ]
  },
  {
   "cell_type": "code",
   "execution_count": null,
   "metadata": {},
   "outputs": [],
   "source": [
    "for el in x:\n",
    "    print(el)"
   ]
  },
  {
   "cell_type": "code",
   "execution_count": 51,
   "metadata": {},
   "outputs": [
    {
     "ename": "FileNotFoundError",
     "evalue": "[Errno 2] No such file or directory: 'models/days/arrival/featnames.pkl'",
     "output_type": "error",
     "traceback": [
      "\u001b[1;31m---------------------------------------------------------------------------\u001b[0m",
      "\u001b[1;31mFileNotFoundError\u001b[0m                         Traceback (most recent call last)",
      "\u001b[1;32m<ipython-input-51-78037b28cfdf>\u001b[0m in \u001b[0;36m<module>\u001b[1;34m\u001b[0m\n\u001b[0;32m      3\u001b[0m \u001b[1;32mfor\u001b[0m \u001b[0mmodel\u001b[0m \u001b[1;32min\u001b[0m \u001b[0mMODELS\u001b[0m\u001b[1;33m:\u001b[0m\u001b[1;33m\u001b[0m\u001b[1;33m\u001b[0m\u001b[0m\n\u001b[0;32m      4\u001b[0m     \u001b[1;32mif\u001b[0m \u001b[0mmodel\u001b[0m \u001b[1;32min\u001b[0m \u001b[0mARRIVAL\u001b[0m\u001b[1;33m:\u001b[0m\u001b[1;33m\u001b[0m\u001b[1;33m\u001b[0m\u001b[0m\n\u001b[1;32m----> 5\u001b[1;33m         \u001b[0mmeta_featnames\u001b[0m\u001b[1;33m[\u001b[0m\u001b[0mmodel\u001b[0m\u001b[1;33m]\u001b[0m \u001b[1;33m=\u001b[0m \u001b[0mload_featnames\u001b[0m\u001b[1;33m(\u001b[0m\u001b[0mmodel\u001b[0m\u001b[1;33m,\u001b[0m \u001b[1;34m'arrival'\u001b[0m\u001b[1;33m)\u001b[0m\u001b[1;33m\u001b[0m\u001b[1;33m\u001b[0m\u001b[0m\n\u001b[0m\u001b[0;32m      6\u001b[0m     \u001b[1;32melse\u001b[0m\u001b[1;33m:\u001b[0m\u001b[1;33m\u001b[0m\u001b[1;33m\u001b[0m\u001b[0m\n\u001b[0;32m      7\u001b[0m         \u001b[0mslr_model\u001b[0m \u001b[1;33m=\u001b[0m \u001b[1;34m'slr_{}'\u001b[0m\u001b[1;33m.\u001b[0m\u001b[0mformat\u001b[0m\u001b[1;33m(\u001b[0m\u001b[0mmodel\u001b[0m\u001b[1;33m)\u001b[0m\u001b[1;33m\u001b[0m\u001b[1;33m\u001b[0m\u001b[0m\n",
      "\u001b[1;32m<ipython-input-50-8cc5bb910504>\u001b[0m in \u001b[0;36mload_featnames\u001b[1;34m(model_type, model_name)\u001b[0m\n\u001b[0;32m     19\u001b[0m     \u001b[0mdir_path\u001b[0m \u001b[1;33m=\u001b[0m \u001b[1;34m'{}/{}/{}/'\u001b[0m\u001b[1;33m.\u001b[0m\u001b[0mformat\u001b[0m\u001b[1;33m(\u001b[0m\u001b[0mpath\u001b[0m\u001b[1;33m,\u001b[0m \u001b[0mmodel_type\u001b[0m\u001b[1;33m,\u001b[0m \u001b[0mmodel_name\u001b[0m\u001b[1;33m)\u001b[0m\u001b[1;33m\u001b[0m\u001b[1;33m\u001b[0m\u001b[0m\n\u001b[0;32m     20\u001b[0m     \u001b[0mfeatnames_path\u001b[0m \u001b[1;33m=\u001b[0m \u001b[1;34m'{}featnames.pkl'\u001b[0m\u001b[1;33m.\u001b[0m\u001b[0mformat\u001b[0m\u001b[1;33m(\u001b[0m\u001b[0mdir_path\u001b[0m\u001b[1;33m)\u001b[0m\u001b[1;33m\u001b[0m\u001b[1;33m\u001b[0m\u001b[0m\n\u001b[1;32m---> 21\u001b[1;33m     \u001b[0mfeatnames_dict\u001b[0m \u001b[1;33m=\u001b[0m \u001b[0mutils\u001b[0m\u001b[1;33m.\u001b[0m\u001b[0munpickle\u001b[0m\u001b[1;33m(\u001b[0m\u001b[0mfeatnames_path\u001b[0m\u001b[1;33m)\u001b[0m\u001b[1;33m\u001b[0m\u001b[1;33m\u001b[0m\u001b[0m\n\u001b[0m\u001b[0;32m     22\u001b[0m     \u001b[1;32mreturn\u001b[0m \u001b[0mfeatnames_dict\u001b[0m\u001b[1;33m\u001b[0m\u001b[1;33m\u001b[0m\u001b[0m\n\u001b[0;32m     23\u001b[0m \u001b[1;33m\u001b[0m\u001b[0m\n",
      "\u001b[1;32mA:\\Dropbox\\eBay\\repo\\utils.py\u001b[0m in \u001b[0;36munpickle\u001b[1;34m(file)\u001b[0m\n\u001b[0;32m    228\u001b[0m     \u001b[1;33m:\u001b[0m\u001b[1;32mreturn\u001b[0m\u001b[1;33m:\u001b[0m \u001b[0mcontents\u001b[0m \u001b[0mof\u001b[0m \u001b[0mfile\u001b[0m\u001b[1;33m\u001b[0m\u001b[1;33m\u001b[0m\u001b[0m\n\u001b[0;32m    229\u001b[0m     \"\"\"\n\u001b[1;32m--> 230\u001b[1;33m     \u001b[1;32mreturn\u001b[0m \u001b[0mpickle\u001b[0m\u001b[1;33m.\u001b[0m\u001b[0mload\u001b[0m\u001b[1;33m(\u001b[0m\u001b[0mopen\u001b[0m\u001b[1;33m(\u001b[0m\u001b[0mfile\u001b[0m\u001b[1;33m,\u001b[0m \u001b[1;34m\"rb\"\u001b[0m\u001b[1;33m)\u001b[0m\u001b[1;33m)\u001b[0m\u001b[1;33m\u001b[0m\u001b[1;33m\u001b[0m\u001b[0m\n\u001b[0m\u001b[0;32m    231\u001b[0m \u001b[1;33m\u001b[0m\u001b[0m\n\u001b[0;32m    232\u001b[0m \u001b[1;31m# creates fixed input features for days arrival model\u001b[0m\u001b[1;33m\u001b[0m\u001b[1;33m\u001b[0m\u001b[1;33m\u001b[0m\u001b[0m\n",
      "\u001b[1;31mFileNotFoundError\u001b[0m: [Errno 2] No such file or directory: 'models/days/arrival/featnames.pkl'"
     ]
    }
   ],
   "source": [
    "# prev_turn feature exploration\n",
    "meta_featnames = dict()\n",
    "for model in MODELS:\n",
    "    if model in ARRIVAL:\n",
    "        meta_featnames[model] = load_featnames('arrival', model)\n",
    "    else:\n",
    "        slr_model = 'slr_{}'.format(model)\n",
    "        byr_model = 'byr_{}'.format(model)\n",
    "        meta_featnames[slr_model] = load_featnames('slr', model)\n",
    "        meta_featnames[byr_model] = load_featnames('byr', model)\n"
   ]
  },
  {
   "cell_type": "code",
   "execution_count": null,
   "metadata": {},
   "outputs": [],
   "source": []
  }
 ],
 "metadata": {
  "kernelspec": {
   "display_name": "Python 3",
   "language": "python",
   "name": "python3"
  },
  "language_info": {
   "codemirror_mode": {
    "name": "ipython",
    "version": 3
   },
   "file_extension": ".py",
   "mimetype": "text/x-python",
   "name": "python",
   "nbconvert_exporter": "python",
   "pygments_lexer": "ipython3",
   "version": "3.7.4"
  }
 },
 "nbformat": 4,
 "nbformat_minor": 4
}
